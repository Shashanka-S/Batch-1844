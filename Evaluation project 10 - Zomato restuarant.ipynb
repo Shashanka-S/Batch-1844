{
 "cells": [
  {
   "cell_type": "code",
   "execution_count": 1,
   "id": "1e81c5d9",
   "metadata": {},
   "outputs": [],
   "source": [
    "#importing required libraries\n",
    "import pandas as pd\n",
    "import numpy as np\n",
    "import seaborn as sns\n",
    "import matplotlib.pyplot as plt\n",
    "\n",
    "import warnings\n",
    "warnings.filterwarnings('ignore')"
   ]
  },
  {
   "cell_type": "markdown",
   "id": "7e5a593f",
   "metadata": {},
   "source": [
    "Problem Statement:\n",
    "\n",
    "Zomato Data Analysis is one of the most useful analysis for foodies who want to taste the best\n",
    "cuisines of every part of the world which lies in their budget. This analysis is also for those who\n",
    "want to find the value for money restaurants in various parts of the country for the cuisines.\n",
    "Additionally, this analysis caters the needs of people who are striving to get the best cuisine of\n",
    "the country and which locality of that country serves that cuisines with maximum number of\n",
    "restaurants.\n",
    "\n",
    "This problem statement contains two datasets- Zomato.csv and country_code.csv.\n",
    "\n",
    "Country_code.csv contains two variables:\n",
    "\n",
    "1. Country code\n",
    "\n",
    "2. Country name"
   ]
  },
  {
   "cell_type": "code",
   "execution_count": 2,
   "id": "3eab1657",
   "metadata": {},
   "outputs": [],
   "source": [
    "#importing or loading the dataset\n",
    "df1 = pd.read_excel('C:/Users/Shashanka S/Desktop/evaluation projects/Country-Code.xlsx')\n",
    "df2 = pd.read_csv('zomato2.csv')"
   ]
  },
  {
   "cell_type": "markdown",
   "id": "0846ef44",
   "metadata": {},
   "source": [
    "The collected data has been stored in the Comma Separated Value file Zomato.csv. \n",
    "\n",
    "Each restaurant in the dataset is uniquely identified by its Restaurant Id. Every Restaurant contains the following variables:\n",
    "\n",
    "• Restaurant Id: Unique id of every restaurant across various cities of the world\n",
    "\n",
    "• Restaurant Name: Name of the restaurant\n",
    "\n",
    "• Country Code: Country in which restaurant is located\n",
    "\n",
    "• City: City in which restaurant is located\n",
    "\n",
    "• Address: Address of the restaurant\n",
    "\n",
    "• Locality: Location in the city\n",
    "\n",
    "• Locality Verbose: Detailed description of the locality\n",
    "\n",
    "• Longitude: Longitude coordinate of the restaurant&#39;s location\n",
    "\n",
    "• Latitude: Latitude coordinate of the restaurant&#39;s location\n",
    "\n",
    "• Cuisines: Cuisines offered by the restaurant\n",
    "\n",
    "• Average Cost for two: Cost for two people in different currencies \n",
    "\n",
    "• Currency: Currency of the country\n",
    "\n",
    "• Has Table booking: yes/no\n",
    "\n",
    "• Has Online delivery: yes/ no\n",
    "\n",
    "• Is delivering: yes/ no\n",
    "\n",
    "• Switch to order menu: yes/no\n",
    "\n",
    "• Price range: range of price of food\n",
    "\n",
    "• Aggregate Rating: Average rating out of 5\n",
    "\n",
    "• Rating color: depending upon the average rating color\n",
    "\n",
    "• Rating text: text on the basis of rating of rating\n",
    "\n",
    "• Votes: Number of ratings casted by people\n",
    "\n",
    "Problem statement : In this dataset predict 2 things:\n",
    "\n",
    "1) Average Cost for two\n",
    "\n",
    "2) Price range"
   ]
  },
  {
   "cell_type": "code",
   "execution_count": 3,
   "id": "e24d0217",
   "metadata": {},
   "outputs": [
    {
     "data": {
      "text/html": [
       "<div>\n",
       "<style scoped>\n",
       "    .dataframe tbody tr th:only-of-type {\n",
       "        vertical-align: middle;\n",
       "    }\n",
       "\n",
       "    .dataframe tbody tr th {\n",
       "        vertical-align: top;\n",
       "    }\n",
       "\n",
       "    .dataframe thead th {\n",
       "        text-align: right;\n",
       "    }\n",
       "</style>\n",
       "<table border=\"1\" class=\"dataframe\">\n",
       "  <thead>\n",
       "    <tr style=\"text-align: right;\">\n",
       "      <th></th>\n",
       "      <th>Country Code</th>\n",
       "      <th>Country</th>\n",
       "    </tr>\n",
       "  </thead>\n",
       "  <tbody>\n",
       "    <tr>\n",
       "      <th>0</th>\n",
       "      <td>1</td>\n",
       "      <td>India</td>\n",
       "    </tr>\n",
       "    <tr>\n",
       "      <th>1</th>\n",
       "      <td>14</td>\n",
       "      <td>Australia</td>\n",
       "    </tr>\n",
       "    <tr>\n",
       "      <th>2</th>\n",
       "      <td>30</td>\n",
       "      <td>Brazil</td>\n",
       "    </tr>\n",
       "    <tr>\n",
       "      <th>3</th>\n",
       "      <td>37</td>\n",
       "      <td>Canada</td>\n",
       "    </tr>\n",
       "    <tr>\n",
       "      <th>4</th>\n",
       "      <td>94</td>\n",
       "      <td>Indonesia</td>\n",
       "    </tr>\n",
       "  </tbody>\n",
       "</table>\n",
       "</div>"
      ],
      "text/plain": [
       "   Country Code    Country\n",
       "0             1      India\n",
       "1            14  Australia\n",
       "2            30     Brazil\n",
       "3            37     Canada\n",
       "4            94  Indonesia"
      ]
     },
     "execution_count": 3,
     "metadata": {},
     "output_type": "execute_result"
    }
   ],
   "source": [
    "df1.head()"
   ]
  },
  {
   "cell_type": "code",
   "execution_count": 4,
   "id": "fa67e0a2",
   "metadata": {},
   "outputs": [
    {
     "data": {
      "text/html": [
       "<div>\n",
       "<style scoped>\n",
       "    .dataframe tbody tr th:only-of-type {\n",
       "        vertical-align: middle;\n",
       "    }\n",
       "\n",
       "    .dataframe tbody tr th {\n",
       "        vertical-align: top;\n",
       "    }\n",
       "\n",
       "    .dataframe thead th {\n",
       "        text-align: right;\n",
       "    }\n",
       "</style>\n",
       "<table border=\"1\" class=\"dataframe\">\n",
       "  <thead>\n",
       "    <tr style=\"text-align: right;\">\n",
       "      <th></th>\n",
       "      <th>Restaurant ID</th>\n",
       "      <th>Restaurant Name</th>\n",
       "      <th>Country Code</th>\n",
       "      <th>City</th>\n",
       "      <th>Address</th>\n",
       "      <th>Locality</th>\n",
       "      <th>Locality Verbose</th>\n",
       "      <th>Longitude</th>\n",
       "      <th>Latitude</th>\n",
       "      <th>Cuisines</th>\n",
       "      <th>...</th>\n",
       "      <th>Currency</th>\n",
       "      <th>Has Table booking</th>\n",
       "      <th>Has Online delivery</th>\n",
       "      <th>Is delivering now</th>\n",
       "      <th>Switch to order menu</th>\n",
       "      <th>Price range</th>\n",
       "      <th>Aggregate rating</th>\n",
       "      <th>Rating color</th>\n",
       "      <th>Rating text</th>\n",
       "      <th>Votes</th>\n",
       "    </tr>\n",
       "  </thead>\n",
       "  <tbody>\n",
       "    <tr>\n",
       "      <th>0</th>\n",
       "      <td>6317637</td>\n",
       "      <td>Le Petit Souffle</td>\n",
       "      <td>162</td>\n",
       "      <td>Makati City</td>\n",
       "      <td>Third Floor, Century City Mall, Kalayaan Avenu...</td>\n",
       "      <td>Century City Mall, Poblacion, Makati City</td>\n",
       "      <td>Century City Mall, Poblacion, Makati City, Mak...</td>\n",
       "      <td>121.027535</td>\n",
       "      <td>14.565443</td>\n",
       "      <td>French, Japanese, Desserts</td>\n",
       "      <td>...</td>\n",
       "      <td>Botswana Pula(P)</td>\n",
       "      <td>Yes</td>\n",
       "      <td>No</td>\n",
       "      <td>No</td>\n",
       "      <td>No</td>\n",
       "      <td>3</td>\n",
       "      <td>4.8</td>\n",
       "      <td>Dark Green</td>\n",
       "      <td>Excellent</td>\n",
       "      <td>314</td>\n",
       "    </tr>\n",
       "    <tr>\n",
       "      <th>1</th>\n",
       "      <td>6304287</td>\n",
       "      <td>Izakaya Kikufuji</td>\n",
       "      <td>162</td>\n",
       "      <td>Makati City</td>\n",
       "      <td>Little Tokyo, 2277 Chino Roces Avenue, Legaspi...</td>\n",
       "      <td>Little Tokyo, Legaspi Village, Makati City</td>\n",
       "      <td>Little Tokyo, Legaspi Village, Makati City, Ma...</td>\n",
       "      <td>121.014101</td>\n",
       "      <td>14.553708</td>\n",
       "      <td>Japanese</td>\n",
       "      <td>...</td>\n",
       "      <td>Botswana Pula(P)</td>\n",
       "      <td>Yes</td>\n",
       "      <td>No</td>\n",
       "      <td>No</td>\n",
       "      <td>No</td>\n",
       "      <td>3</td>\n",
       "      <td>4.5</td>\n",
       "      <td>Dark Green</td>\n",
       "      <td>Excellent</td>\n",
       "      <td>591</td>\n",
       "    </tr>\n",
       "    <tr>\n",
       "      <th>2</th>\n",
       "      <td>6300002</td>\n",
       "      <td>Heat - Edsa Shangri-La</td>\n",
       "      <td>162</td>\n",
       "      <td>Mandaluyong City</td>\n",
       "      <td>Edsa Shangri-La, 1 Garden Way, Ortigas, Mandal...</td>\n",
       "      <td>Edsa Shangri-La, Ortigas, Mandaluyong City</td>\n",
       "      <td>Edsa Shangri-La, Ortigas, Mandaluyong City, Ma...</td>\n",
       "      <td>121.056831</td>\n",
       "      <td>14.581404</td>\n",
       "      <td>Seafood, Asian, Filipino, Indian</td>\n",
       "      <td>...</td>\n",
       "      <td>Botswana Pula(P)</td>\n",
       "      <td>Yes</td>\n",
       "      <td>No</td>\n",
       "      <td>No</td>\n",
       "      <td>No</td>\n",
       "      <td>4</td>\n",
       "      <td>4.4</td>\n",
       "      <td>Green</td>\n",
       "      <td>Very Good</td>\n",
       "      <td>270</td>\n",
       "    </tr>\n",
       "    <tr>\n",
       "      <th>3</th>\n",
       "      <td>6318506</td>\n",
       "      <td>Ooma</td>\n",
       "      <td>162</td>\n",
       "      <td>Mandaluyong City</td>\n",
       "      <td>Third Floor, Mega Fashion Hall, SM Megamall, O...</td>\n",
       "      <td>SM Megamall, Ortigas, Mandaluyong City</td>\n",
       "      <td>SM Megamall, Ortigas, Mandaluyong City, Mandal...</td>\n",
       "      <td>121.056475</td>\n",
       "      <td>14.585318</td>\n",
       "      <td>Japanese, Sushi</td>\n",
       "      <td>...</td>\n",
       "      <td>Botswana Pula(P)</td>\n",
       "      <td>No</td>\n",
       "      <td>No</td>\n",
       "      <td>No</td>\n",
       "      <td>No</td>\n",
       "      <td>4</td>\n",
       "      <td>4.9</td>\n",
       "      <td>Dark Green</td>\n",
       "      <td>Excellent</td>\n",
       "      <td>365</td>\n",
       "    </tr>\n",
       "    <tr>\n",
       "      <th>4</th>\n",
       "      <td>6314302</td>\n",
       "      <td>Sambo Kojin</td>\n",
       "      <td>162</td>\n",
       "      <td>Mandaluyong City</td>\n",
       "      <td>Third Floor, Mega Atrium, SM Megamall, Ortigas...</td>\n",
       "      <td>SM Megamall, Ortigas, Mandaluyong City</td>\n",
       "      <td>SM Megamall, Ortigas, Mandaluyong City, Mandal...</td>\n",
       "      <td>121.057508</td>\n",
       "      <td>14.584450</td>\n",
       "      <td>Japanese, Korean</td>\n",
       "      <td>...</td>\n",
       "      <td>Botswana Pula(P)</td>\n",
       "      <td>Yes</td>\n",
       "      <td>No</td>\n",
       "      <td>No</td>\n",
       "      <td>No</td>\n",
       "      <td>4</td>\n",
       "      <td>4.8</td>\n",
       "      <td>Dark Green</td>\n",
       "      <td>Excellent</td>\n",
       "      <td>229</td>\n",
       "    </tr>\n",
       "  </tbody>\n",
       "</table>\n",
       "<p>5 rows × 21 columns</p>\n",
       "</div>"
      ],
      "text/plain": [
       "   Restaurant ID         Restaurant Name  Country Code              City  \\\n",
       "0        6317637        Le Petit Souffle           162       Makati City   \n",
       "1        6304287        Izakaya Kikufuji           162       Makati City   \n",
       "2        6300002  Heat - Edsa Shangri-La           162  Mandaluyong City   \n",
       "3        6318506                    Ooma           162  Mandaluyong City   \n",
       "4        6314302             Sambo Kojin           162  Mandaluyong City   \n",
       "\n",
       "                                             Address  \\\n",
       "0  Third Floor, Century City Mall, Kalayaan Avenu...   \n",
       "1  Little Tokyo, 2277 Chino Roces Avenue, Legaspi...   \n",
       "2  Edsa Shangri-La, 1 Garden Way, Ortigas, Mandal...   \n",
       "3  Third Floor, Mega Fashion Hall, SM Megamall, O...   \n",
       "4  Third Floor, Mega Atrium, SM Megamall, Ortigas...   \n",
       "\n",
       "                                     Locality  \\\n",
       "0   Century City Mall, Poblacion, Makati City   \n",
       "1  Little Tokyo, Legaspi Village, Makati City   \n",
       "2  Edsa Shangri-La, Ortigas, Mandaluyong City   \n",
       "3      SM Megamall, Ortigas, Mandaluyong City   \n",
       "4      SM Megamall, Ortigas, Mandaluyong City   \n",
       "\n",
       "                                    Locality Verbose   Longitude   Latitude  \\\n",
       "0  Century City Mall, Poblacion, Makati City, Mak...  121.027535  14.565443   \n",
       "1  Little Tokyo, Legaspi Village, Makati City, Ma...  121.014101  14.553708   \n",
       "2  Edsa Shangri-La, Ortigas, Mandaluyong City, Ma...  121.056831  14.581404   \n",
       "3  SM Megamall, Ortigas, Mandaluyong City, Mandal...  121.056475  14.585318   \n",
       "4  SM Megamall, Ortigas, Mandaluyong City, Mandal...  121.057508  14.584450   \n",
       "\n",
       "                           Cuisines  ...          Currency Has Table booking  \\\n",
       "0        French, Japanese, Desserts  ...  Botswana Pula(P)               Yes   \n",
       "1                          Japanese  ...  Botswana Pula(P)               Yes   \n",
       "2  Seafood, Asian, Filipino, Indian  ...  Botswana Pula(P)               Yes   \n",
       "3                   Japanese, Sushi  ...  Botswana Pula(P)                No   \n",
       "4                  Japanese, Korean  ...  Botswana Pula(P)               Yes   \n",
       "\n",
       "  Has Online delivery Is delivering now Switch to order menu Price range  \\\n",
       "0                  No                No                   No           3   \n",
       "1                  No                No                   No           3   \n",
       "2                  No                No                   No           4   \n",
       "3                  No                No                   No           4   \n",
       "4                  No                No                   No           4   \n",
       "\n",
       "   Aggregate rating  Rating color Rating text Votes  \n",
       "0               4.8    Dark Green   Excellent   314  \n",
       "1               4.5    Dark Green   Excellent   591  \n",
       "2               4.4         Green   Very Good   270  \n",
       "3               4.9    Dark Green   Excellent   365  \n",
       "4               4.8    Dark Green   Excellent   229  \n",
       "\n",
       "[5 rows x 21 columns]"
      ]
     },
     "execution_count": 4,
     "metadata": {},
     "output_type": "execute_result"
    }
   ],
   "source": [
    "df2.head()"
   ]
  },
  {
   "cell_type": "code",
   "execution_count": 5,
   "id": "86e1bb6f",
   "metadata": {},
   "outputs": [],
   "source": [
    "#Dataset to be analysed\n",
    "df = df2"
   ]
  },
  {
   "cell_type": "code",
   "execution_count": 6,
   "id": "07cdebb3",
   "metadata": {},
   "outputs": [
    {
     "data": {
      "text/plain": [
       "Index(['Restaurant ID', 'Restaurant Name', 'Country Code', 'City', 'Address',\n",
       "       'Locality', 'Locality Verbose', 'Longitude', 'Latitude', 'Cuisines',\n",
       "       'Average Cost for two', 'Currency', 'Has Table booking',\n",
       "       'Has Online delivery', 'Is delivering now', 'Switch to order menu',\n",
       "       'Price range', 'Aggregate rating', 'Rating color', 'Rating text',\n",
       "       'Votes'],\n",
       "      dtype='object')"
      ]
     },
     "execution_count": 6,
     "metadata": {},
     "output_type": "execute_result"
    }
   ],
   "source": [
    "#Checking of column names\n",
    "df.columns"
   ]
  },
  {
   "cell_type": "code",
   "execution_count": 7,
   "id": "f52b8c0a",
   "metadata": {},
   "outputs": [
    {
     "data": {
      "text/plain": [
       "(9551, 21)"
      ]
     },
     "execution_count": 7,
     "metadata": {},
     "output_type": "execute_result"
    }
   ],
   "source": [
    "#Checking for data shape\n",
    "df.shape"
   ]
  },
  {
   "cell_type": "code",
   "execution_count": 8,
   "id": "c596ce4b",
   "metadata": {},
   "outputs": [
    {
     "data": {
      "text/plain": [
       "Restaurant ID             int64\n",
       "Restaurant Name          object\n",
       "Country Code              int64\n",
       "City                     object\n",
       "Address                  object\n",
       "Locality                 object\n",
       "Locality Verbose         object\n",
       "Longitude               float64\n",
       "Latitude                float64\n",
       "Cuisines                 object\n",
       "Average Cost for two      int64\n",
       "Currency                 object\n",
       "Has Table booking        object\n",
       "Has Online delivery      object\n",
       "Is delivering now        object\n",
       "Switch to order menu     object\n",
       "Price range               int64\n",
       "Aggregate rating        float64\n",
       "Rating color             object\n",
       "Rating text              object\n",
       "Votes                     int64\n",
       "dtype: object"
      ]
     },
     "execution_count": 8,
     "metadata": {},
     "output_type": "execute_result"
    }
   ],
   "source": [
    "#Checking data types\n",
    "df.dtypes"
   ]
  },
  {
   "cell_type": "code",
   "execution_count": 9,
   "id": "1b170b4d",
   "metadata": {},
   "outputs": [
    {
     "data": {
      "text/plain": [
       "Restaurant ID           0\n",
       "Restaurant Name         0\n",
       "Country Code            0\n",
       "City                    0\n",
       "Address                 0\n",
       "Locality                0\n",
       "Locality Verbose        0\n",
       "Longitude               0\n",
       "Latitude                0\n",
       "Cuisines                9\n",
       "Average Cost for two    0\n",
       "Currency                0\n",
       "Has Table booking       0\n",
       "Has Online delivery     0\n",
       "Is delivering now       0\n",
       "Switch to order menu    0\n",
       "Price range             0\n",
       "Aggregate rating        0\n",
       "Rating color            0\n",
       "Rating text             0\n",
       "Votes                   0\n",
       "dtype: int64"
      ]
     },
     "execution_count": 9,
     "metadata": {},
     "output_type": "execute_result"
    }
   ],
   "source": [
    "#Checking any null values\n",
    "df.isnull().sum()"
   ]
  },
  {
   "cell_type": "code",
   "execution_count": 10,
   "id": "6a757f4a",
   "metadata": {},
   "outputs": [
    {
     "data": {
      "text/plain": [
       "(array([], dtype=int64), array([], dtype=int64))"
      ]
     },
     "execution_count": 10,
     "metadata": {},
     "output_type": "execute_result"
    }
   ],
   "source": [
    "#Checking any blank or white spaces\n",
    "np.where(df.applymap(lambda x: x == ' '))"
   ]
  },
  {
   "cell_type": "code",
   "execution_count": 11,
   "id": "394b7696",
   "metadata": {},
   "outputs": [
    {
     "name": "stdout",
     "output_type": "stream",
     "text": [
      "For column of Restaurant ID : True\n",
      "For column of Restaurant Name : False\n",
      "For column of Country Code : False\n",
      "For column of City : False\n",
      "For column of Address : False\n",
      "For column of Locality : False\n",
      "For column of Locality Verbose : False\n",
      "For column of Longitude : False\n",
      "For column of Latitude : False\n",
      "For column of Cuisines : False\n",
      "For column of Average Cost for two : False\n",
      "For column of Currency : False\n",
      "For column of Has Table booking : False\n",
      "For column of Has Online delivery : False\n",
      "For column of Is delivering now : False\n",
      "For column of Switch to order menu : False\n",
      "For column of Price range : False\n",
      "For column of Aggregate rating : False\n",
      "For column of Rating color : False\n",
      "For column of Rating text : False\n",
      "For column of Votes : False\n"
     ]
    }
   ],
   "source": [
    "#Checking if all entries of a column is unique or not\n",
    "for i in df.columns:\n",
    "    print('For column of {} :'.format(i),(len(df[i].unique())==len(df[i])))"
   ]
  },
  {
   "cell_type": "markdown",
   "id": "4d2bd1bf",
   "metadata": {},
   "source": [
    "Restaurant ID is having all unique entries and act just like indexing column\n",
    "\n",
    "Lets us drop this column"
   ]
  },
  {
   "cell_type": "code",
   "execution_count": 12,
   "id": "d38368bb",
   "metadata": {},
   "outputs": [],
   "source": [
    "#Dropping that column\n",
    "df = df.drop(['Restaurant ID'], axis=1)"
   ]
  },
  {
   "cell_type": "code",
   "execution_count": 13,
   "id": "976a8560",
   "metadata": {},
   "outputs": [
    {
     "name": "stdout",
     "output_type": "stream",
     "text": [
      "Size before:  (9551, 20)\n",
      "Size after:  (9551, 20)\n"
     ]
    }
   ],
   "source": [
    "#Removing duplicate rows if any\n",
    "print('Size before: ',df.shape)\n",
    "df.drop_duplicates()\n",
    "print('Size after: ',df.shape)"
   ]
  },
  {
   "cell_type": "code",
   "execution_count": 14,
   "id": "f1c6d2ac",
   "metadata": {},
   "outputs": [
    {
     "name": "stdout",
     "output_type": "stream",
     "text": [
      "<class 'pandas.core.frame.DataFrame'>\n",
      "RangeIndex: 9551 entries, 0 to 9550\n",
      "Data columns (total 20 columns):\n",
      " #   Column                Non-Null Count  Dtype  \n",
      "---  ------                --------------  -----  \n",
      " 0   Restaurant Name       9551 non-null   object \n",
      " 1   Country Code          9551 non-null   int64  \n",
      " 2   City                  9551 non-null   object \n",
      " 3   Address               9551 non-null   object \n",
      " 4   Locality              9551 non-null   object \n",
      " 5   Locality Verbose      9551 non-null   object \n",
      " 6   Longitude             9551 non-null   float64\n",
      " 7   Latitude              9551 non-null   float64\n",
      " 8   Cuisines              9542 non-null   object \n",
      " 9   Average Cost for two  9551 non-null   int64  \n",
      " 10  Currency              9551 non-null   object \n",
      " 11  Has Table booking     9551 non-null   object \n",
      " 12  Has Online delivery   9551 non-null   object \n",
      " 13  Is delivering now     9551 non-null   object \n",
      " 14  Switch to order menu  9551 non-null   object \n",
      " 15  Price range           9551 non-null   int64  \n",
      " 16  Aggregate rating      9551 non-null   float64\n",
      " 17  Rating color          9551 non-null   object \n",
      " 18  Rating text           9551 non-null   object \n",
      " 19  Votes                 9551 non-null   int64  \n",
      "dtypes: float64(3), int64(4), object(13)\n",
      "memory usage: 1.5+ MB\n"
     ]
    }
   ],
   "source": [
    "#General information of dataset\n",
    "df.info()"
   ]
  },
  {
   "cell_type": "code",
   "execution_count": 15,
   "id": "050e4102",
   "metadata": {},
   "outputs": [],
   "source": [
    "#Seperating categorical and numerical data data columns\n",
    "categorical = ['Restaurant Name','City', 'Address','Locality', 'Locality Verbose','Cuisines',\n",
    "              'Currency', 'Has Table booking','Has Online delivery', \n",
    "              'Is delivering now', 'Switch to order menu','Rating color', \n",
    "              'Rating text']\n",
    "numerical = ['Country Code',  'Longitude', 'Latitude', 'Average Cost for two', \n",
    "             'Price range', 'Aggregate rating','Votes']"
   ]
  },
  {
   "cell_type": "code",
   "execution_count": 16,
   "id": "13a4304b",
   "metadata": {},
   "outputs": [
    {
     "data": {
      "text/plain": [
       "0"
      ]
     },
     "execution_count": 16,
     "metadata": {},
     "output_type": "execute_result"
    }
   ],
   "source": [
    "#NaN handling Imputing mode/most frequent values\n",
    "df['Cuisines'] = df['Cuisines'].fillna(df['Cuisines'].mode()[0])\n",
    "df.isnull().sum().sum()"
   ]
  },
  {
   "cell_type": "code",
   "execution_count": 17,
   "id": "01e7e71b",
   "metadata": {},
   "outputs": [
    {
     "name": "stdout",
     "output_type": "stream",
     "text": [
      "Cafe Coffee Day            83\n",
      "Domino's Pizza             79\n",
      "Subway                     63\n",
      "Green Chick Chop           51\n",
      "McDonald's                 48\n",
      "                           ..\n",
      "Chakna                      1\n",
      "Villa Shanti                1\n",
      "De Royale Food's            1\n",
      "Old Delhi Food Factory      1\n",
      "Taoji Ke Amratsari Naan     1\n",
      "Name: Restaurant Name, Length: 7446, dtype: int64 \n",
      "\n",
      "New Delhi    5473\n",
      "Gurgaon      1118\n",
      "Noida        1080\n",
      "Faridabad     251\n",
      "Ghaziabad      25\n",
      "             ... \n",
      "Princeton       1\n",
      "Cochrane        1\n",
      "Monroe          1\n",
      "Balingup        1\n",
      "Lorn            1\n",
      "Name: City, Length: 141, dtype: int64 \n",
      "\n",
      "Sector 41, Noida                                                              11\n",
      "Dilli Haat, INA, New Delhi                                                    11\n",
      "Greater Kailash (GK) 1, New Delhi                                             10\n",
      "The Imperial, Janpath, New Delhi                                               9\n",
      "Food Court, 3rd Floor, Logix City Centre, Sector 32, Near Sector 34, Noida     8\n",
      "                                                                              ..\n",
      "17, Jalvayu Vihar Shopping Complex, Sector 25, Noida                           1\n",
      "Flat 22, RU Block, Opposite Power House, Pitampura, New Delhi                  1\n",
      "Shop 2, Guru Nanak Market, Hospital Road, Jangpura, New Delhi                  1\n",
      "15, Gyandeep, Main Market, Defence Colony, New Delhi                           1\n",
      "BR 38, Sector 116, Near Sector 72, Noida                                       1\n",
      "Name: Address, Length: 8918, dtype: int64 \n",
      "\n",
      "Connaught Place                   122\n",
      "Rajouri Garden                     99\n",
      "Shahdara                           87\n",
      "Defence Colony                     86\n",
      "Pitampura                          85\n",
      "                                 ... \n",
      "M Cube Mall, Vadiwadi               1\n",
      "SRS Mall, Sector 12, Faridabad      1\n",
      "Henderson                           1\n",
      "Six Mile                            1\n",
      "JMD Megapolis Mall, Sohna Road      1\n",
      "Name: Locality, Length: 1208, dtype: int64 \n",
      "\n",
      "Connaught Place, New Delhi                 122\n",
      "Rajouri Garden, New Delhi                   99\n",
      "Shahdara, New Delhi                         87\n",
      "Defence Colony, New Delhi                   86\n",
      "Pitampura, New Delhi                        85\n",
      "                                          ... \n",
      "Podanur, Coimbatore                          1\n",
      "Rakabganj, Agra                              1\n",
      "Festival City, Dubai                         1\n",
      "Nelson Mandela Square, Sandown, Sandton      1\n",
      "Archer Street, Soho, London                  1\n",
      "Name: Locality Verbose, Length: 1265, dtype: int64 \n",
      "\n",
      "North Indian                                945\n",
      "North Indian, Chinese                       511\n",
      "Chinese                                     354\n",
      "Fast Food                                   354\n",
      "North Indian, Mughlai                       334\n",
      "                                           ... \n",
      "Cafe, Italian, Continental, Desserts          1\n",
      "North Indian, Fast Food, Mithai               1\n",
      "North Indian, Mughlai, Armenian               1\n",
      "Mediterranean, Seafood                        1\n",
      "Chinese, Mexican, Fast Food, Continental      1\n",
      "Name: Cuisines, Length: 1825, dtype: int64 \n",
      "\n",
      "Indian Rupees(Rs.)        8652\n",
      "Dollar($)                  482\n",
      "Pounds(��)                  80\n",
      "Rand(R)                     60\n",
      "Brazilian Real(R$)          60\n",
      "Emirati Diram(AED)          60\n",
      "NewZealand($)               40\n",
      "Turkish Lira(TL)            34\n",
      "Botswana Pula(P)            22\n",
      "Indonesian Rupiah(IDR)      21\n",
      "Qatari Rial(QR)             20\n",
      "Sri Lankan Rupee(LKR)       20\n",
      "Name: Currency, dtype: int64 \n",
      "\n",
      "No     8393\n",
      "Yes    1158\n",
      "Name: Has Table booking, dtype: int64 \n",
      "\n",
      "No     7100\n",
      "Yes    2451\n",
      "Name: Has Online delivery, dtype: int64 \n",
      "\n",
      "No     9517\n",
      "Yes      34\n",
      "Name: Is delivering now, dtype: int64 \n",
      "\n",
      "No    9551\n",
      "Name: Switch to order menu, dtype: int64 \n",
      "\n",
      "Orange        3737\n",
      "White         2148\n",
      "Yellow        2100\n",
      "Green         1079\n",
      "Dark Green     301\n",
      "Red            186\n",
      "Name: Rating color, dtype: int64 \n",
      "\n",
      "Average      3737\n",
      "Not rated    2148\n",
      "Good         2100\n",
      "Very Good    1079\n",
      "Excellent     301\n",
      "Poor          186\n",
      "Name: Rating text, dtype: int64 \n",
      "\n"
     ]
    }
   ],
   "source": [
    "#Checking of value counts in each columns categorical data\n",
    "for i in categorical:\n",
    "    print(df[i].value_counts(),'\\n')"
   ]
  },
  {
   "cell_type": "code",
   "execution_count": 18,
   "id": "641b2075",
   "metadata": {},
   "outputs": [
    {
     "name": "stdout",
     "output_type": "stream",
     "text": [
      "1      8652\n",
      "216     434\n",
      "215      80\n",
      "189      60\n",
      "30       60\n",
      "214      60\n",
      "148      40\n",
      "208      34\n",
      "14       24\n",
      "162      22\n",
      "94       21\n",
      "184      20\n",
      "166      20\n",
      "191      20\n",
      "37        4\n",
      "Name: Country Code, dtype: int64 \n",
      "\n",
      "0.000000     498\n",
      "77.353663     19\n",
      "77.230412     12\n",
      "77.088688     10\n",
      "77.353574      9\n",
      "            ... \n",
      "77.280266      1\n",
      "74.874619      1\n",
      "72.772629      1\n",
      "77.315309      1\n",
      "77.177358      1\n",
      "Name: Longitude, Length: 8120, dtype: int64 \n",
      "\n",
      "0.000000     498\n",
      "28.574309     16\n",
      "28.574300      9\n",
      "28.551456      9\n",
      "28.597103      8\n",
      "            ... \n",
      "28.700426      1\n",
      "28.627976      1\n",
      "28.600257      1\n",
      "28.533091      1\n",
      "28.592512      1\n",
      "Name: Latitude, Length: 8677, dtype: int64 \n",
      "\n",
      "500       900\n",
      "300       897\n",
      "400       857\n",
      "200       687\n",
      "600       652\n",
      "         ... \n",
      "500000      1\n",
      "1540        1\n",
      "125         1\n",
      "445         1\n",
      "535         1\n",
      "Name: Average Cost for two, Length: 140, dtype: int64 \n",
      "\n",
      "1    4444\n",
      "2    3113\n",
      "3    1408\n",
      "4     586\n",
      "Name: Price range, dtype: int64 \n",
      "\n",
      "0.0    2148\n",
      "3.2     522\n",
      "3.1     519\n",
      "3.4     498\n",
      "3.3     483\n",
      "3.5     480\n",
      "3.0     468\n",
      "3.6     458\n",
      "3.7     427\n",
      "3.8     400\n",
      "2.9     381\n",
      "3.9     335\n",
      "2.8     315\n",
      "4.1     274\n",
      "4.0     266\n",
      "2.7     250\n",
      "4.2     221\n",
      "2.6     191\n",
      "4.3     174\n",
      "4.4     144\n",
      "2.5     110\n",
      "4.5      95\n",
      "2.4      87\n",
      "4.6      78\n",
      "4.9      61\n",
      "2.3      47\n",
      "4.7      42\n",
      "2.2      27\n",
      "4.8      25\n",
      "2.1      15\n",
      "2.0       7\n",
      "1.9       2\n",
      "1.8       1\n",
      "Name: Aggregate rating, dtype: int64 \n",
      "\n",
      "0       1094\n",
      "1        483\n",
      "2        327\n",
      "3        244\n",
      "4        207\n",
      "        ... \n",
      "2185       1\n",
      "4085       1\n",
      "1980       1\n",
      "1932       1\n",
      "1959       1\n",
      "Name: Votes, Length: 1012, dtype: int64 \n",
      "\n"
     ]
    }
   ],
   "source": [
    "#Checking of value counts in each columns numerical data\n",
    "for i in numerical:\n",
    "    print(df[i].value_counts(),'\\n')"
   ]
  },
  {
   "cell_type": "code",
   "execution_count": 20,
   "id": "2283a1bd",
   "metadata": {},
   "outputs": [
    {
     "data": {
      "image/png": "[encoded data removed]",
      "text/plain": [
       "<Figure size 720x1440 with 7 Axes>"
      ]
     },
     "metadata": {
      "needs_background": "light"
     },
     "output_type": "display_data"
    }
   ],
   "source": [
    "#Checking of distribution plot of each columns having numerical data\n",
    "plt.figure(figsize=(10,20))\n",
    "pltno = 1\n",
    "for columns in numerical:\n",
    "    if pltno <=7:\n",
    "        ax = plt.subplot(4,2,pltno)\n",
    "        sns.distplot(df[columns])\n",
    "        plt.xlabel(columns, fontsize=12)       \n",
    "    pltno += 1\n",
    "plt.show()"
   ]
  },
  {
   "cell_type": "markdown",
   "id": "fd5b4813",
   "metadata": {},
   "source": [
    "We can observe most of the country code is 1, which is India\n",
    "\n",
    "Correspondingly Latitude and longitude locations points out Indian restuarants co-ordinates\n",
    "\n",
    "Majorly average cost for 2 lies within range of 1500 INR correspondingly withing price range of 1 & 2 most of restuarants are there\n",
    "\n",
    "The data are highly skewed, needs outliers handling and proper transformation before training the model"
   ]
  },
  {
   "cell_type": "code",
   "execution_count": 28,
   "id": "286de11c",
   "metadata": {},
   "outputs": [
    {
     "data": {
      "image/png": "[encoded data removed]",
      "text/plain": [
       "<Figure size 1440x3960 with 7 Axes>"
      ]
     },
     "metadata": {
      "needs_background": "light"
     },
     "output_type": "display_data"
    }
   ],
   "source": [
    "#Categorical\n",
    "#Checking of value counts in each columns having categorical data\n",
    "plt.figure(figsize=(20,55))\n",
    "pltno = 1\n",
    "for columns in categorical[6:]:\n",
    "    if pltno <=13:\n",
    "        ax = plt.subplot(5,3,pltno)\n",
    "        sns.countplot(df[columns])\n",
    "        plt.xlabel(columns, fontsize=13) \n",
    "        plt.xticks(rotation = 45)\n",
    "    pltno += 1\n",
    "plt.show()"
   ]
  },
  {
   "cell_type": "markdown",
   "id": "2c53d3d0",
   "metadata": {},
   "source": [
    "We can observe that majority of currency is INR\n",
    "\n",
    "Majority of restuarants has no table booking and has online delivery"
   ]
  },
  {
   "cell_type": "markdown",
   "id": "fea28004",
   "metadata": {},
   "source": [
    "'Switch to order menu' is having all single entries as 'No', this wonts help in predictions\n",
    "\n",
    "'Is delivering now' is having highly imbalanced class having very less proportion of 'Yes' \n",
    "\n",
    "So let us drop these columns\n",
    "\n",
    "'Address' can be dropped as this carry almost all unique entries and location information can be obtained by co-ordinates also\n",
    "\n",
    "'Locality Verbose' convey almost similar information as that of 'Locality'\n",
    "\n",
    "So let us drop these 2 columns\n",
    "\n",
    "Rating color and text conveying same information, let us drop the first column"
   ]
  },
  {
   "cell_type": "code",
   "execution_count": 41,
   "id": "4c7934b5",
   "metadata": {},
   "outputs": [],
   "source": [
    "df = df.drop(['Is delivering now','Switch to order menu','Locality Verbose','Address', 'Rating color'], axis=1)\n",
    "\n",
    "categorical = ['Restaurant Name','City', 'Locality', 'Cuisines','Currency', \n",
    "               'Has Table booking','Has Online delivery', 'Rating text']"
   ]
  },
  {
   "cell_type": "code",
   "execution_count": 42,
   "id": "e1688529",
   "metadata": {},
   "outputs": [
    {
     "data": {
      "image/png": "[encoded data removed]",
      "text/plain": [
       "<Figure size 432x288 with 1 Axes>"
      ]
     },
     "metadata": {
      "needs_background": "light"
     },
     "output_type": "display_data"
    },
    {
     "data": {
      "image/png": "[encoded data removed]",
      "text/plain": [
       "<Figure size 360x360 with 1 Axes>"
      ]
     },
     "metadata": {},
     "output_type": "display_data"
    }
   ],
   "source": [
    "#Checking of value counts in target variable\n",
    "sns.countplot(df['Price range'])\n",
    "plt.show()\n",
    "\n",
    "var = 'Price range'\n",
    "plt.figure(figsize=(5,5))\n",
    "data = list(df[var].value_counts())\n",
    "plt.pie(data, labels= [1,2,3,4], autopct='%1.1f%%', explode=[0.1,0.1,0.1,0.1], shadow=True)\n",
    "plt.axis('equal')\n",
    "plt.title(var)\n",
    "plt.show()"
   ]
  },
  {
   "cell_type": "code",
   "execution_count": 47,
   "id": "688abf6f",
   "metadata": {},
   "outputs": [
    {
     "data": {
      "image/png": "[encoded data removed]",
      "text/plain": [
       "<Figure size 432x288 with 1 Axes>"
      ]
     },
     "metadata": {
      "needs_background": "light"
     },
     "output_type": "display_data"
    },
    {
     "data": {
      "image/png": "[encoded data removed]",
      "text/plain": [
       "<Figure size 432x288 with 1 Axes>"
      ]
     },
     "metadata": {
      "needs_background": "light"
     },
     "output_type": "display_data"
    },
    {
     "data": {
      "image/png": "[encoded data removed]",
      "text/plain": [
       "<Figure size 432x288 with 1 Axes>"
      ]
     },
     "metadata": {
      "needs_background": "light"
     },
     "output_type": "display_data"
    }
   ],
   "source": [
    "#Average cost based on different price range\n",
    "sns.barplot(y = df['Average Cost for two'] , x = df['Price range'])\n",
    "plt.show()\n",
    "\n",
    "#Average cost based on country code\n",
    "sns.barplot(y = df['Average Cost for two'] , x = df['Country Code'])\n",
    "plt.show()\n",
    "\n",
    "#price range based on country code\n",
    "sns.barplot(y = df['Price range'] , x = df['Country Code'])\n",
    "plt.show()"
   ]
  },
  {
   "cell_type": "markdown",
   "id": "25e43dd9",
   "metadata": {},
   "source": [
    "We can observe that average cost is more in Price range 3 restuarants\n",
    "\n",
    "We can observe that average cost is more in country code 94 - Indonesia\n",
    "\n",
    "From garph 3 we can observe that Indonesia falls under price range 3\n",
    "\n",
    "Least price range near 1.8 for 1 - India\n",
    "\n",
    "Highest price range of 3.6 for 166 - Qatar and 184 - Singapore"
   ]
  },
  {
   "cell_type": "code",
   "execution_count": 46,
   "id": "123bebc1",
   "metadata": {},
   "outputs": [
    {
     "data": {
      "text/html": [
       "<div>\n",
       "<style scoped>\n",
       "    .dataframe tbody tr th:only-of-type {\n",
       "        vertical-align: middle;\n",
       "    }\n",
       "\n",
       "    .dataframe tbody tr th {\n",
       "        vertical-align: top;\n",
       "    }\n",
       "\n",
       "    .dataframe thead th {\n",
       "        text-align: right;\n",
       "    }\n",
       "</style>\n",
       "<table border=\"1\" class=\"dataframe\">\n",
       "  <thead>\n",
       "    <tr style=\"text-align: right;\">\n",
       "      <th></th>\n",
       "      <th>Country Code</th>\n",
       "      <th>Country</th>\n",
       "    </tr>\n",
       "  </thead>\n",
       "  <tbody>\n",
       "    <tr>\n",
       "      <th>0</th>\n",
       "      <td>1</td>\n",
       "      <td>India</td>\n",
       "    </tr>\n",
       "    <tr>\n",
       "      <th>1</th>\n",
       "      <td>14</td>\n",
       "      <td>Australia</td>\n",
       "    </tr>\n",
       "    <tr>\n",
       "      <th>2</th>\n",
       "      <td>30</td>\n",
       "      <td>Brazil</td>\n",
       "    </tr>\n",
       "    <tr>\n",
       "      <th>3</th>\n",
       "      <td>37</td>\n",
       "      <td>Canada</td>\n",
       "    </tr>\n",
       "    <tr>\n",
       "      <th>4</th>\n",
       "      <td>94</td>\n",
       "      <td>Indonesia</td>\n",
       "    </tr>\n",
       "    <tr>\n",
       "      <th>5</th>\n",
       "      <td>148</td>\n",
       "      <td>New Zealand</td>\n",
       "    </tr>\n",
       "    <tr>\n",
       "      <th>6</th>\n",
       "      <td>162</td>\n",
       "      <td>Phillipines</td>\n",
       "    </tr>\n",
       "    <tr>\n",
       "      <th>7</th>\n",
       "      <td>166</td>\n",
       "      <td>Qatar</td>\n",
       "    </tr>\n",
       "    <tr>\n",
       "      <th>8</th>\n",
       "      <td>184</td>\n",
       "      <td>Singapore</td>\n",
       "    </tr>\n",
       "    <tr>\n",
       "      <th>9</th>\n",
       "      <td>189</td>\n",
       "      <td>South Africa</td>\n",
       "    </tr>\n",
       "    <tr>\n",
       "      <th>10</th>\n",
       "      <td>191</td>\n",
       "      <td>Sri Lanka</td>\n",
       "    </tr>\n",
       "    <tr>\n",
       "      <th>11</th>\n",
       "      <td>208</td>\n",
       "      <td>Turkey</td>\n",
       "    </tr>\n",
       "    <tr>\n",
       "      <th>12</th>\n",
       "      <td>214</td>\n",
       "      <td>UAE</td>\n",
       "    </tr>\n",
       "    <tr>\n",
       "      <th>13</th>\n",
       "      <td>215</td>\n",
       "      <td>United Kingdom</td>\n",
       "    </tr>\n",
       "    <tr>\n",
       "      <th>14</th>\n",
       "      <td>216</td>\n",
       "      <td>United States</td>\n",
       "    </tr>\n",
       "  </tbody>\n",
       "</table>\n",
       "</div>"
      ],
      "text/plain": [
       "    Country Code         Country\n",
       "0              1           India\n",
       "1             14       Australia\n",
       "2             30          Brazil\n",
       "3             37          Canada\n",
       "4             94       Indonesia\n",
       "5            148     New Zealand\n",
       "6            162     Phillipines\n",
       "7            166           Qatar\n",
       "8            184       Singapore\n",
       "9            189    South Africa\n",
       "10           191       Sri Lanka\n",
       "11           208          Turkey\n",
       "12           214             UAE\n",
       "13           215  United Kingdom\n",
       "14           216   United States"
      ]
     },
     "execution_count": 46,
     "metadata": {},
     "output_type": "execute_result"
    }
   ],
   "source": [
    "df1"
   ]
  },
  {
   "cell_type": "code",
   "execution_count": 61,
   "id": "5e3dbdda",
   "metadata": {},
   "outputs": [
    {
     "data": {
      "image/png": "[encoded data removed]",
      "text/plain": [
       "<Figure size 720x360 with 1 Axes>"
      ]
     },
     "metadata": {
      "needs_background": "light"
     },
     "output_type": "display_data"
    },
    {
     "data": {
      "image/png": "[encoded data removed]",
      "text/plain": [
       "<Figure size 720x360 with 1 Axes>"
      ]
     },
     "metadata": {
      "needs_background": "light"
     },
     "output_type": "display_data"
    }
   ],
   "source": [
    "#Latitude vs Longitude for getting co-ordinates\n",
    "plt.figure(figsize=(10,5))\n",
    "sns.scatterplot(y = df['Longitude'] , x = df['Latitude'])\n",
    "plt.show()\n",
    "\n",
    "plt.figure(figsize=(10,5))\n",
    "sns.scatterplot(y = df['Longitude'] , x = df['Latitude'], hue = df['Country Code'])\n",
    "plt.show()"
   ]
  },
  {
   "cell_type": "markdown",
   "id": "c587719b",
   "metadata": {},
   "source": [
    "The above points shows geo co-ordinates of restuarants present around the world"
   ]
  },
  {
   "cell_type": "code",
   "execution_count": 68,
   "id": "9d7f757c",
   "metadata": {},
   "outputs": [
    {
     "data": {
      "image/png": "[encoded data removed]",
      "text/plain": [
       "<Figure size 720x360 with 1 Axes>"
      ]
     },
     "metadata": {
      "needs_background": "light"
     },
     "output_type": "display_data"
    },
    {
     "data": {
      "image/png": "[encoded data removed]",
      "text/plain": [
       "<Figure size 720x360 with 1 Axes>"
      ]
     },
     "metadata": {
      "needs_background": "light"
     },
     "output_type": "display_data"
    }
   ],
   "source": [
    "#Average Cost for two cost based on different rating\n",
    "plt.figure(figsize=(10,5))\n",
    "sns.barplot(x = df['Aggregate rating'] , y = df['Average Cost for two'])\n",
    "plt.show()\n",
    "\n",
    "#Rating based on different price range\n",
    "plt.figure(figsize=(10,5))\n",
    "sns.barplot(x = df['Price range'] , y = df['Aggregate rating'])\n",
    "plt.show()"
   ]
  },
  {
   "cell_type": "markdown",
   "id": "b652f02a",
   "metadata": {},
   "source": [
    "We can observe that as price range increases average rating increases and correspondingly there is more Average cost for 2"
   ]
  },
  {
   "cell_type": "code",
   "execution_count": 71,
   "id": "214ca2e5",
   "metadata": {},
   "outputs": [
    {
     "data": {
      "image/png": "[encoded data removed]",
      "text/plain": [
       "<Figure size 720x360 with 1 Axes>"
      ]
     },
     "metadata": {
      "needs_background": "light"
     },
     "output_type": "display_data"
    },
    {
     "data": {
      "image/png": "[encoded data removed]",
      "text/plain": [
       "<Figure size 720x360 with 1 Axes>"
      ]
     },
     "metadata": {
      "needs_background": "light"
     },
     "output_type": "display_data"
    }
   ],
   "source": [
    "#Mode of eating (delivery/dine in) on different price range\n",
    "plt.figure(figsize=(10,5))\n",
    "sns.countplot(df['Has Table booking'], hue = df['Price range'])\n",
    "plt.show()\n",
    "\n",
    "plt.figure(figsize=(10,5))\n",
    "sns.countplot(df['Has Online delivery'], hue = df['Price range'])\n",
    "plt.show()"
   ]
  },
  {
   "cell_type": "markdown",
   "id": "5fa1fc95",
   "metadata": {},
   "source": [
    "Among the resuarants having no table booking: Price range 1 hotels are most common\n",
    "    \n",
    "Among the resuarants having table booking: Price range 3 hotels are most common\n",
    "    \n",
    "Among the resuarants having no online delivery: Price range 1 hotels are most common\n",
    "    \n",
    "Among the resuarants having online delivery: Price range 2 hotels are most common"
   ]
  },
  {
   "cell_type": "code",
   "execution_count": 73,
   "id": "841d2650",
   "metadata": {},
   "outputs": [
    {
     "data": {
      "image/png": "[encoded data removed]",
      "text/plain": [
       "<Figure size 1260x1260 with 56 Axes>"
      ]
     },
     "metadata": {
      "needs_background": "light"
     },
     "output_type": "display_data"
    }
   ],
   "source": [
    "#Plotting all possible bivariate plots together\n",
    "sns.pairplot(df)\n",
    "plt.show()"
   ]
  },
  {
   "cell_type": "code",
   "execution_count": 74,
   "id": "53296894",
   "metadata": {},
   "outputs": [
    {
     "data": {
      "text/plain": [
       "['Restaurant Name',\n",
       " 'City',\n",
       " 'Locality',\n",
       " 'Cuisines',\n",
       " 'Currency',\n",
       " 'Has Table booking',\n",
       " 'Has Online delivery',\n",
       " 'Rating text']"
      ]
     },
     "execution_count": 74,
     "metadata": {},
     "output_type": "execute_result"
    }
   ],
   "source": [
    "categorical"
   ]
  },
  {
   "cell_type": "code",
   "execution_count": 75,
   "id": "7c4a06e3",
   "metadata": {},
   "outputs": [],
   "source": [
    "#Let us include price range in categorical data, since it is of ordinal in nature\n",
    "#Alsocountry code is of nominaltype\n",
    "categorical = ['Restaurant Name','City','Locality', 'Cuisines',\n",
    "              'Currency', 'Has Table booking','Has Online delivery', \n",
    "              'Rating text','Price range','Country Code']\n",
    "numerical = [ 'Longitude', 'Latitude', 'Average Cost for two', \n",
    "              'Aggregate rating','Votes']"
   ]
  },
  {
   "cell_type": "code",
   "execution_count": 77,
   "id": "e2cf759d",
   "metadata": {},
   "outputs": [
    {
     "data": {
      "image/png": "[encoded data removed]",
      "text/plain": [
       "<Figure size 1440x720 with 5 Axes>"
      ]
     },
     "metadata": {
      "needs_background": "light"
     },
     "output_type": "display_data"
    }
   ],
   "source": [
    "#Outliers/noise checking for input numerical feature columns\n",
    "plt.figure(figsize=(20,10))\n",
    "pltno = 1\n",
    "for columns in numerical:\n",
    "    if pltno <=5:\n",
    "        ax = plt.subplot(3,2,pltno)\n",
    "        sns.boxplot(x = df[columns])\n",
    "        plt.xlabel(columns, fontsize=15)       \n",
    "    pltno += 1\n",
    "plt.show()"
   ]
  },
  {
   "cell_type": "markdown",
   "id": "10b0dedd",
   "metadata": {},
   "source": [
    "All data has outliers, need to be properly handled"
   ]
  },
  {
   "cell_type": "code",
   "execution_count": 78,
   "id": "fece81d6",
   "metadata": {},
   "outputs": [
    {
     "data": {
      "text/html": [
       "<div>\n",
       "<style scoped>\n",
       "    .dataframe tbody tr th:only-of-type {\n",
       "        vertical-align: middle;\n",
       "    }\n",
       "\n",
       "    .dataframe tbody tr th {\n",
       "        vertical-align: top;\n",
       "    }\n",
       "\n",
       "    .dataframe thead th {\n",
       "        text-align: right;\n",
       "    }\n",
       "</style>\n",
       "<table border=\"1\" class=\"dataframe\">\n",
       "  <thead>\n",
       "    <tr style=\"text-align: right;\">\n",
       "      <th></th>\n",
       "      <th>Country Code</th>\n",
       "      <th>Longitude</th>\n",
       "      <th>Latitude</th>\n",
       "      <th>Average Cost for two</th>\n",
       "      <th>Price range</th>\n",
       "      <th>Aggregate rating</th>\n",
       "      <th>Votes</th>\n",
       "    </tr>\n",
       "  </thead>\n",
       "  <tbody>\n",
       "    <tr>\n",
       "      <th>count</th>\n",
       "      <td>9551.000000</td>\n",
       "      <td>9551.000000</td>\n",
       "      <td>9551.000000</td>\n",
       "      <td>9551.000000</td>\n",
       "      <td>9551.000000</td>\n",
       "      <td>9551.000000</td>\n",
       "      <td>9551.000000</td>\n",
       "    </tr>\n",
       "    <tr>\n",
       "      <th>mean</th>\n",
       "      <td>18.365616</td>\n",
       "      <td>64.126574</td>\n",
       "      <td>25.854381</td>\n",
       "      <td>1199.210763</td>\n",
       "      <td>1.804837</td>\n",
       "      <td>2.666370</td>\n",
       "      <td>156.909748</td>\n",
       "    </tr>\n",
       "    <tr>\n",
       "      <th>std</th>\n",
       "      <td>56.750546</td>\n",
       "      <td>41.467058</td>\n",
       "      <td>11.007935</td>\n",
       "      <td>16121.183073</td>\n",
       "      <td>0.905609</td>\n",
       "      <td>1.516378</td>\n",
       "      <td>430.169145</td>\n",
       "    </tr>\n",
       "    <tr>\n",
       "      <th>min</th>\n",
       "      <td>1.000000</td>\n",
       "      <td>-157.948486</td>\n",
       "      <td>-41.330428</td>\n",
       "      <td>0.000000</td>\n",
       "      <td>1.000000</td>\n",
       "      <td>0.000000</td>\n",
       "      <td>0.000000</td>\n",
       "    </tr>\n",
       "    <tr>\n",
       "      <th>25%</th>\n",
       "      <td>1.000000</td>\n",
       "      <td>77.081343</td>\n",
       "      <td>28.478713</td>\n",
       "      <td>250.000000</td>\n",
       "      <td>1.000000</td>\n",
       "      <td>2.500000</td>\n",
       "      <td>5.000000</td>\n",
       "    </tr>\n",
       "    <tr>\n",
       "      <th>50%</th>\n",
       "      <td>1.000000</td>\n",
       "      <td>77.191964</td>\n",
       "      <td>28.570469</td>\n",
       "      <td>400.000000</td>\n",
       "      <td>2.000000</td>\n",
       "      <td>3.200000</td>\n",
       "      <td>31.000000</td>\n",
       "    </tr>\n",
       "    <tr>\n",
       "      <th>75%</th>\n",
       "      <td>1.000000</td>\n",
       "      <td>77.282006</td>\n",
       "      <td>28.642758</td>\n",
       "      <td>700.000000</td>\n",
       "      <td>2.000000</td>\n",
       "      <td>3.700000</td>\n",
       "      <td>131.000000</td>\n",
       "    </tr>\n",
       "    <tr>\n",
       "      <th>max</th>\n",
       "      <td>216.000000</td>\n",
       "      <td>174.832089</td>\n",
       "      <td>55.976980</td>\n",
       "      <td>800000.000000</td>\n",
       "      <td>4.000000</td>\n",
       "      <td>4.900000</td>\n",
       "      <td>10934.000000</td>\n",
       "    </tr>\n",
       "  </tbody>\n",
       "</table>\n",
       "</div>"
      ],
      "text/plain": [
       "       Country Code    Longitude     Latitude  Average Cost for two  \\\n",
       "count   9551.000000  9551.000000  9551.000000           9551.000000   \n",
       "mean      18.365616    64.126574    25.854381           1199.210763   \n",
       "std       56.750546    41.467058    11.007935          16121.183073   \n",
       "min        1.000000  -157.948486   -41.330428              0.000000   \n",
       "25%        1.000000    77.081343    28.478713            250.000000   \n",
       "50%        1.000000    77.191964    28.570469            400.000000   \n",
       "75%        1.000000    77.282006    28.642758            700.000000   \n",
       "max      216.000000   174.832089    55.976980         800000.000000   \n",
       "\n",
       "       Price range  Aggregate rating         Votes  \n",
       "count  9551.000000       9551.000000   9551.000000  \n",
       "mean      1.804837          2.666370    156.909748  \n",
       "std       0.905609          1.516378    430.169145  \n",
       "min       1.000000          0.000000      0.000000  \n",
       "25%       1.000000          2.500000      5.000000  \n",
       "50%       2.000000          3.200000     31.000000  \n",
       "75%       2.000000          3.700000    131.000000  \n",
       "max       4.000000          4.900000  10934.000000  "
      ]
     },
     "execution_count": 78,
     "metadata": {},
     "output_type": "execute_result"
    }
   ],
   "source": [
    "#Statistical summary of the data\n",
    "df.describe()"
   ]
  },
  {
   "cell_type": "code",
   "execution_count": 79,
   "id": "c12e45e1",
   "metadata": {},
   "outputs": [
    {
     "data": {
      "text/html": [
       "<div>\n",
       "<style scoped>\n",
       "    .dataframe tbody tr th:only-of-type {\n",
       "        vertical-align: middle;\n",
       "    }\n",
       "\n",
       "    .dataframe tbody tr th {\n",
       "        vertical-align: top;\n",
       "    }\n",
       "\n",
       "    .dataframe thead th {\n",
       "        text-align: right;\n",
       "    }\n",
       "</style>\n",
       "<table border=\"1\" class=\"dataframe\">\n",
       "  <thead>\n",
       "    <tr style=\"text-align: right;\">\n",
       "      <th></th>\n",
       "      <th>Country Code</th>\n",
       "      <th>Longitude</th>\n",
       "      <th>Latitude</th>\n",
       "      <th>Average Cost for two</th>\n",
       "      <th>Price range</th>\n",
       "      <th>Aggregate rating</th>\n",
       "      <th>Votes</th>\n",
       "    </tr>\n",
       "  </thead>\n",
       "  <tbody>\n",
       "    <tr>\n",
       "      <th>Country Code</th>\n",
       "      <td>1.000000</td>\n",
       "      <td>-0.698299</td>\n",
       "      <td>0.019792</td>\n",
       "      <td>0.043225</td>\n",
       "      <td>0.243327</td>\n",
       "      <td>0.282189</td>\n",
       "      <td>0.154530</td>\n",
       "    </tr>\n",
       "    <tr>\n",
       "      <th>Longitude</th>\n",
       "      <td>-0.698299</td>\n",
       "      <td>1.000000</td>\n",
       "      <td>0.043207</td>\n",
       "      <td>0.045891</td>\n",
       "      <td>-0.078939</td>\n",
       "      <td>-0.116818</td>\n",
       "      <td>-0.085101</td>\n",
       "    </tr>\n",
       "    <tr>\n",
       "      <th>Latitude</th>\n",
       "      <td>0.019792</td>\n",
       "      <td>0.043207</td>\n",
       "      <td>1.000000</td>\n",
       "      <td>-0.111088</td>\n",
       "      <td>-0.166688</td>\n",
       "      <td>0.000516</td>\n",
       "      <td>-0.022962</td>\n",
       "    </tr>\n",
       "    <tr>\n",
       "      <th>Average Cost for two</th>\n",
       "      <td>0.043225</td>\n",
       "      <td>0.045891</td>\n",
       "      <td>-0.111088</td>\n",
       "      <td>1.000000</td>\n",
       "      <td>0.075083</td>\n",
       "      <td>0.051792</td>\n",
       "      <td>0.067783</td>\n",
       "    </tr>\n",
       "    <tr>\n",
       "      <th>Price range</th>\n",
       "      <td>0.243327</td>\n",
       "      <td>-0.078939</td>\n",
       "      <td>-0.166688</td>\n",
       "      <td>0.075083</td>\n",
       "      <td>1.000000</td>\n",
       "      <td>0.437944</td>\n",
       "      <td>0.309444</td>\n",
       "    </tr>\n",
       "    <tr>\n",
       "      <th>Aggregate rating</th>\n",
       "      <td>0.282189</td>\n",
       "      <td>-0.116818</td>\n",
       "      <td>0.000516</td>\n",
       "      <td>0.051792</td>\n",
       "      <td>0.437944</td>\n",
       "      <td>1.000000</td>\n",
       "      <td>0.313691</td>\n",
       "    </tr>\n",
       "    <tr>\n",
       "      <th>Votes</th>\n",
       "      <td>0.154530</td>\n",
       "      <td>-0.085101</td>\n",
       "      <td>-0.022962</td>\n",
       "      <td>0.067783</td>\n",
       "      <td>0.309444</td>\n",
       "      <td>0.313691</td>\n",
       "      <td>1.000000</td>\n",
       "    </tr>\n",
       "  </tbody>\n",
       "</table>\n",
       "</div>"
      ],
      "text/plain": [
       "                      Country Code  Longitude  Latitude  Average Cost for two  \\\n",
       "Country Code              1.000000  -0.698299  0.019792              0.043225   \n",
       "Longitude                -0.698299   1.000000  0.043207              0.045891   \n",
       "Latitude                  0.019792   0.043207  1.000000             -0.111088   \n",
       "Average Cost for two      0.043225   0.045891 -0.111088              1.000000   \n",
       "Price range               0.243327  -0.078939 -0.166688              0.075083   \n",
       "Aggregate rating          0.282189  -0.116818  0.000516              0.051792   \n",
       "Votes                     0.154530  -0.085101 -0.022962              0.067783   \n",
       "\n",
       "                      Price range  Aggregate rating     Votes  \n",
       "Country Code             0.243327          0.282189  0.154530  \n",
       "Longitude               -0.078939         -0.116818 -0.085101  \n",
       "Latitude                -0.166688          0.000516 -0.022962  \n",
       "Average Cost for two     0.075083          0.051792  0.067783  \n",
       "Price range              1.000000          0.437944  0.309444  \n",
       "Aggregate rating         0.437944          1.000000  0.313691  \n",
       "Votes                    0.309444          0.313691  1.000000  "
      ]
     },
     "execution_count": 79,
     "metadata": {},
     "output_type": "execute_result"
    }
   ],
   "source": [
    "#Coefficient of correlation matrix\n",
    "df.corr()"
   ]
  },
  {
   "cell_type": "code",
   "execution_count": 80,
   "id": "3645a9a3",
   "metadata": {},
   "outputs": [
    {
     "data": {
      "image/png": "[encoded data removed]",
      "text/plain": [
       "<Figure size 1440x720 with 2 Axes>"
      ]
     },
     "metadata": {
      "needs_background": "light"
     },
     "output_type": "display_data"
    }
   ],
   "source": [
    "#Heatmap to vizualize correlation between different features\n",
    "plt.figure(figsize=(20,10))\n",
    "sns.heatmap(df.corr(), annot=True, linewidths=0.1, linecolor='black', fmt='0.2f')\n",
    "plt.show()"
   ]
  },
  {
   "cell_type": "code",
   "execution_count": 82,
   "id": "5b8db6fb",
   "metadata": {},
   "outputs": [
    {
     "data": {
      "image/png": "[encoded data removed]",
      "text/plain": [
       "<Figure size 1440x360 with 1 Axes>"
      ]
     },
     "metadata": {
      "needs_background": "light"
     },
     "output_type": "display_data"
    },
    {
     "data": {
      "text/plain": [
       "Average Cost for two    1.000000\n",
       "Price range             0.075083\n",
       "Votes                   0.067783\n",
       "Aggregate rating        0.051792\n",
       "Longitude               0.045891\n",
       "Country Code            0.043225\n",
       "Latitude               -0.111088\n",
       "Name: Average Cost for two, dtype: float64"
      ]
     },
     "execution_count": 82,
     "metadata": {},
     "output_type": "execute_result"
    }
   ],
   "source": [
    "#Sorting descending values of correlation data of target variable\n",
    "#Plotting the same for vizualization\n",
    "plt.figure(figsize=(20,5))\n",
    "df.corr()['Average Cost for two'].sort_values(ascending=False).plot(kind='bar', color='c')\n",
    "plt.show()\n",
    "df.corr()['Average Cost for two'].sort_values(ascending=False)"
   ]
  },
  {
   "cell_type": "code",
   "execution_count": 84,
   "id": "91b9799a",
   "metadata": {},
   "outputs": [
    {
     "data": {
      "image/png": "[encoded data removed]",
      "text/plain": [
       "<Figure size 1440x360 with 1 Axes>"
      ]
     },
     "metadata": {
      "needs_background": "light"
     },
     "output_type": "display_data"
    },
    {
     "data": {
      "text/plain": [
       "Price range             1.000000\n",
       "Aggregate rating        0.437944\n",
       "Votes                   0.309444\n",
       "Country Code            0.243327\n",
       "Average Cost for two    0.075083\n",
       "Longitude              -0.078939\n",
       "Latitude               -0.166688\n",
       "Name: Price range, dtype: float64"
      ]
     },
     "execution_count": 84,
     "metadata": {},
     "output_type": "execute_result"
    }
   ],
   "source": [
    "#Sorting descending values of correlation data of target variable\n",
    "#Plotting the same for vizualization\n",
    "plt.figure(figsize=(20,5))\n",
    "df.corr()['Price range'].sort_values(ascending=False).plot(kind='bar', color='c')\n",
    "plt.show()\n",
    "df.corr()['Price range'].sort_values(ascending=False)"
   ]
  },
  {
   "cell_type": "code",
   "execution_count": 85,
   "id": "6e48fafd",
   "metadata": {},
   "outputs": [
    {
     "data": {
      "text/html": [
       "<div>\n",
       "<style scoped>\n",
       "    .dataframe tbody tr th:only-of-type {\n",
       "        vertical-align: middle;\n",
       "    }\n",
       "\n",
       "    .dataframe tbody tr th {\n",
       "        vertical-align: top;\n",
       "    }\n",
       "\n",
       "    .dataframe thead th {\n",
       "        text-align: right;\n",
       "    }\n",
       "</style>\n",
       "<table border=\"1\" class=\"dataframe\">\n",
       "  <thead>\n",
       "    <tr style=\"text-align: right;\">\n",
       "      <th></th>\n",
       "      <th>Restaurant Name</th>\n",
       "      <th>Country Code</th>\n",
       "      <th>City</th>\n",
       "      <th>Locality</th>\n",
       "      <th>Longitude</th>\n",
       "      <th>Latitude</th>\n",
       "      <th>Cuisines</th>\n",
       "      <th>Average Cost for two</th>\n",
       "      <th>Currency</th>\n",
       "      <th>Has Table booking</th>\n",
       "      <th>Has Online delivery</th>\n",
       "      <th>Price range</th>\n",
       "      <th>Aggregate rating</th>\n",
       "      <th>Rating text</th>\n",
       "      <th>Votes</th>\n",
       "    </tr>\n",
       "  </thead>\n",
       "  <tbody>\n",
       "    <tr>\n",
       "      <th>0</th>\n",
       "      <td>3749</td>\n",
       "      <td>6</td>\n",
       "      <td>73</td>\n",
       "      <td>171</td>\n",
       "      <td>121.027535</td>\n",
       "      <td>14.565443</td>\n",
       "      <td>920</td>\n",
       "      <td>1100</td>\n",
       "      <td>0</td>\n",
       "      <td>1</td>\n",
       "      <td>0</td>\n",
       "      <td>2</td>\n",
       "      <td>4.8</td>\n",
       "      <td>1</td>\n",
       "      <td>314</td>\n",
       "    </tr>\n",
       "    <tr>\n",
       "      <th>1</th>\n",
       "      <td>3173</td>\n",
       "      <td>6</td>\n",
       "      <td>73</td>\n",
       "      <td>593</td>\n",
       "      <td>121.014101</td>\n",
       "      <td>14.553708</td>\n",
       "      <td>1111</td>\n",
       "      <td>1200</td>\n",
       "      <td>0</td>\n",
       "      <td>1</td>\n",
       "      <td>0</td>\n",
       "      <td>2</td>\n",
       "      <td>4.5</td>\n",
       "      <td>1</td>\n",
       "      <td>591</td>\n",
       "    </tr>\n",
       "    <tr>\n",
       "      <th>2</th>\n",
       "      <td>2897</td>\n",
       "      <td>6</td>\n",
       "      <td>75</td>\n",
       "      <td>308</td>\n",
       "      <td>121.056831</td>\n",
       "      <td>14.581404</td>\n",
       "      <td>1671</td>\n",
       "      <td>4000</td>\n",
       "      <td>0</td>\n",
       "      <td>1</td>\n",
       "      <td>0</td>\n",
       "      <td>3</td>\n",
       "      <td>4.4</td>\n",
       "      <td>5</td>\n",
       "      <td>270</td>\n",
       "    </tr>\n",
       "    <tr>\n",
       "      <th>3</th>\n",
       "      <td>4707</td>\n",
       "      <td>6</td>\n",
       "      <td>75</td>\n",
       "      <td>862</td>\n",
       "      <td>121.056475</td>\n",
       "      <td>14.585318</td>\n",
       "      <td>1126</td>\n",
       "      <td>1500</td>\n",
       "      <td>0</td>\n",
       "      <td>0</td>\n",
       "      <td>0</td>\n",
       "      <td>3</td>\n",
       "      <td>4.9</td>\n",
       "      <td>1</td>\n",
       "      <td>365</td>\n",
       "    </tr>\n",
       "    <tr>\n",
       "      <th>4</th>\n",
       "      <td>5523</td>\n",
       "      <td>6</td>\n",
       "      <td>75</td>\n",
       "      <td>862</td>\n",
       "      <td>121.057508</td>\n",
       "      <td>14.584450</td>\n",
       "      <td>1122</td>\n",
       "      <td>1500</td>\n",
       "      <td>0</td>\n",
       "      <td>1</td>\n",
       "      <td>0</td>\n",
       "      <td>3</td>\n",
       "      <td>4.8</td>\n",
       "      <td>1</td>\n",
       "      <td>229</td>\n",
       "    </tr>\n",
       "  </tbody>\n",
       "</table>\n",
       "</div>"
      ],
      "text/plain": [
       "   Restaurant Name  Country Code  City  Locality   Longitude   Latitude  \\\n",
       "0             3749             6    73       171  121.027535  14.565443   \n",
       "1             3173             6    73       593  121.014101  14.553708   \n",
       "2             2897             6    75       308  121.056831  14.581404   \n",
       "3             4707             6    75       862  121.056475  14.585318   \n",
       "4             5523             6    75       862  121.057508  14.584450   \n",
       "\n",
       "   Cuisines  Average Cost for two  Currency  Has Table booking  \\\n",
       "0       920                  1100         0                  1   \n",
       "1      1111                  1200         0                  1   \n",
       "2      1671                  4000         0                  1   \n",
       "3      1126                  1500         0                  0   \n",
       "4      1122                  1500         0                  1   \n",
       "\n",
       "   Has Online delivery  Price range  Aggregate rating  Rating text  Votes  \n",
       "0                    0            2               4.8            1    314  \n",
       "1                    0            2               4.5            1    591  \n",
       "2                    0            3               4.4            5    270  \n",
       "3                    0            3               4.9            1    365  \n",
       "4                    0            3               4.8            1    229  "
      ]
     },
     "execution_count": 85,
     "metadata": {},
     "output_type": "execute_result"
    }
   ],
   "source": [
    "#Encoding the categorical/text type data into numerical form\n",
    "from sklearn.preprocessing import LabelEncoder\n",
    "enc = LabelEncoder()\n",
    "\n",
    "for i in categorical:\n",
    "    df[i] = enc.fit_transform(df[i].values.reshape(-1,1))\n",
    "    \n",
    "df.head()"
   ]
  },
  {
   "cell_type": "code",
   "execution_count": 86,
   "id": "d53d01d4",
   "metadata": {},
   "outputs": [
    {
     "name": "stdout",
     "output_type": "stream",
     "text": [
      "Shape before (9551, 15)\n",
      "Shape after (8756, 15)\n",
      "8.323735734478065 % loss of data\n"
     ]
    }
   ],
   "source": [
    "#Removing of outliers by zscore method\n",
    "print('Shape before',df.shape)\n",
    "from scipy.stats import zscore\n",
    "z=np.abs(zscore(df[numerical]))\n",
    "df_new = df[(z<3).all(axis=1)]\n",
    "print('Shape after',df_new.shape)\n",
    "\n",
    "#Percentage loss of data\n",
    "loss = (df.shape[0]-df_new.shape[0])*100/(df.shape[0])\n",
    "print(loss,'% loss of data')"
   ]
  },
  {
   "cell_type": "markdown",
   "id": "5fbbf737",
   "metadata": {},
   "source": [
    "## Average cost for two prediction (Regression approach)"
   ]
  },
  {
   "cell_type": "code",
   "execution_count": 90,
   "id": "656d0ea3",
   "metadata": {},
   "outputs": [
    {
     "name": "stdout",
     "output_type": "stream",
     "text": [
      "x shape (8756, 14)\n",
      "y shape (8756,)\n"
     ]
    }
   ],
   "source": [
    "#Seperate feature and target columns\n",
    "x = df_new.drop('Average Cost for two', axis=1)\n",
    "y = df_new['Average Cost for two']\n",
    "print('x shape',x.shape)\n",
    "print('y shape',y.shape)"
   ]
  },
  {
   "cell_type": "code",
   "execution_count": 91,
   "id": "adbed350",
   "metadata": {},
   "outputs": [],
   "source": [
    "#We need to scale the data check VIF to handle multicollinearity\n",
    "from sklearn.preprocessing import StandardScaler\n",
    "sc = StandardScaler()\n",
    "x_new = sc.fit_transform(x)\n",
    "x_new = pd.DataFrame(x_new, columns = x.columns)"
   ]
  },
  {
   "cell_type": "markdown",
   "id": "037b275e",
   "metadata": {},
   "source": [
    "# Feature selection"
   ]
  },
  {
   "cell_type": "code",
   "execution_count": 93,
   "id": "2a151af5",
   "metadata": {},
   "outputs": [],
   "source": [
    "numerical = [ 'Longitude', 'Latitude', 'Aggregate rating','Votes']"
   ]
  },
  {
   "cell_type": "code",
   "execution_count": 94,
   "id": "94675b6d",
   "metadata": {},
   "outputs": [
    {
     "data": {
      "text/plain": [
       "[1.595864174084487, 1.5973520619519204, 1.2326389328430547, 1.2181227884652222]"
      ]
     },
     "execution_count": 94,
     "metadata": {},
     "output_type": "execute_result"
    }
   ],
   "source": [
    "#VIF method to check multicollinearity \n",
    "#Checing for continuous input feature columns\n",
    "from statsmodels.stats.outliers_influence import variance_inflation_factor\n",
    "vif = pd.DataFrame()\n",
    "vif = [variance_inflation_factor(x_new[numerical].values,i) for i in range(x_new[numerical].shape[1])]\n",
    "vif"
   ]
  },
  {
   "cell_type": "markdown",
   "id": "fa520455",
   "metadata": {},
   "source": [
    "No issue of multicollinearity as the VIF value of columns having continuous data are within the limit of 5"
   ]
  },
  {
   "cell_type": "code",
   "execution_count": 95,
   "id": "ea730047",
   "metadata": {},
   "outputs": [
    {
     "data": {
      "text/plain": [
       "Longitude          -3.179687\n",
       "Latitude           -2.246169\n",
       "Aggregate rating   -0.887535\n",
       "Votes               3.555810\n",
       "dtype: float64"
      ]
     },
     "execution_count": 95,
     "metadata": {},
     "output_type": "execute_result"
    }
   ],
   "source": [
    "x[numerical].skew()"
   ]
  },
  {
   "cell_type": "code",
   "execution_count": 96,
   "id": "e93ae1ec",
   "metadata": {},
   "outputs": [],
   "source": [
    "#Apply power transform to reduce skewness\n",
    "from sklearn.preprocessing import PowerTransformer\n",
    "po = PowerTransformer()\n",
    "for col in numerical:\n",
    "    if x.skew().loc[col]>0.55:\n",
    "        x[col] = po.fit_transform(x[col].values.reshape(-1,1))"
   ]
  },
  {
   "cell_type": "code",
   "execution_count": 98,
   "id": "71d11b42",
   "metadata": {},
   "outputs": [
    {
     "data": {
      "text/plain": [
       "ExtraTreesClassifier()"
      ]
     },
     "execution_count": 98,
     "metadata": {},
     "output_type": "execute_result"
    }
   ],
   "source": [
    "#Feature selection\n",
    "from sklearn.ensemble import ExtraTreesClassifier\n",
    "fs = ExtraTreesClassifier()\n",
    "fs.fit(x, y)"
   ]
  },
  {
   "cell_type": "code",
   "execution_count": 99,
   "id": "c1424dd8",
   "metadata": {},
   "outputs": [
    {
     "name": "stdout",
     "output_type": "stream",
     "text": [
      "0 14.22\n",
      "1 0.37\n",
      "2 4.11\n",
      "3 11.1\n",
      "4 11.74\n",
      "5 12.01\n",
      "6 14.05\n",
      "7 0.26\n",
      "8 1.43\n",
      "9 1.06\n",
      "10 9.93\n",
      "11 7.36\n",
      "12 2.02\n",
      "13 10.35\n"
     ]
    }
   ],
   "source": [
    "imp = fs.feature_importances_\n",
    "for index, val in enumerate(imp):\n",
    "    print(index, round((val * 100), 2))"
   ]
  },
  {
   "cell_type": "code",
   "execution_count": 100,
   "id": "bcffe851",
   "metadata": {},
   "outputs": [
    {
     "name": "stdout",
     "output_type": "stream",
     "text": [
      "<class 'pandas.core.frame.DataFrame'>\n",
      "Int64Index: 8756 entries, 0 to 9550\n",
      "Data columns (total 14 columns):\n",
      " #   Column               Non-Null Count  Dtype  \n",
      "---  ------               --------------  -----  \n",
      " 0   Restaurant Name      8756 non-null   int32  \n",
      " 1   Country Code         8756 non-null   int64  \n",
      " 2   City                 8756 non-null   int32  \n",
      " 3   Locality             8756 non-null   int32  \n",
      " 4   Longitude            8756 non-null   float64\n",
      " 5   Latitude             8756 non-null   float64\n",
      " 6   Cuisines             8756 non-null   int32  \n",
      " 7   Currency             8756 non-null   int32  \n",
      " 8   Has Table booking    8756 non-null   int32  \n",
      " 9   Has Online delivery  8756 non-null   int32  \n",
      " 10  Price range          8756 non-null   int64  \n",
      " 11  Aggregate rating     8756 non-null   float64\n",
      " 12  Rating text          8756 non-null   int32  \n",
      " 13  Votes                8756 non-null   float64\n",
      "dtypes: float64(4), int32(8), int64(2)\n",
      "memory usage: 752.5 KB\n"
     ]
    }
   ],
   "source": [
    "x.info()"
   ]
  },
  {
   "cell_type": "code",
   "execution_count": 101,
   "id": "f95e2ccb",
   "metadata": {},
   "outputs": [],
   "source": [
    "#Let us select important features and drop rest columns. By considering top 70% are important\n",
    "#Dropping off less important columns\n",
    "x =  x.drop(['Country Code','Currency','Has Table booking','Has Online delivery'], axis=1)"
   ]
  },
  {
   "cell_type": "code",
   "execution_count": 106,
   "id": "62aaebc2",
   "metadata": {},
   "outputs": [
    {
     "name": "stdout",
     "output_type": "stream",
     "text": [
      "Max r2 score = 0.5862847449851716\n",
      "At RS = 0\n",
      "Max r2 score = 0.6294925604199577\n",
      "At RS = 1\n",
      "Max r2 score = 0.6307907498086018\n",
      "At RS = 2\n",
      "Max r2 score = 0.6430406552151832\n",
      "At RS = 5\n",
      "Max r2 score = 0.6508035775098567\n",
      "At RS = 8\n",
      "Max r2 score = 0.6513903270618215\n",
      "At RS = 21\n",
      "Max r2 score = 0.6733232464995682\n",
      "At RS = 38\n",
      "Max r2 score = 0.6770511161560526\n",
      "At RS = 203\n"
     ]
    }
   ],
   "source": [
    "# Linear regression model\n",
    "# Selection of best random state\n",
    "from sklearn.linear_model import LinearRegression\n",
    "from sklearn.metrics import r2_score, mean_squared_error, mean_absolute_error\n",
    "from sklearn.model_selection import train_test_split\n",
    "model = LinearRegression()\n",
    "max_r2 = 0\n",
    "for i in range(0,500):\n",
    "    xtr, xt, ytr, yt = train_test_split(x,y, random_state=i,test_size=0.20)\n",
    "    model.fit(xtr,ytr)\n",
    "    predyt = model.predict(xt)\n",
    "    r2 = r2_score(yt,predyt)\n",
    "    \n",
    "    if r2 > max_r2:\n",
    "        max_r2 = r2\n",
    "        print(\"Max r2 score =\",max_r2)\n",
    "        print(\"At RS =\",i)"
   ]
  },
  {
   "cell_type": "code",
   "execution_count": 107,
   "id": "200ea353",
   "metadata": {},
   "outputs": [
    {
     "name": "stdout",
     "output_type": "stream",
     "text": [
      "Test R2 score = 0.6770511161560526 \n",
      "\n",
      "Mean absolute error = 196.46627977243097 \n",
      "\n",
      "Root mean squared error = 328.99432031761626 \n",
      "\n"
     ]
    }
   ],
   "source": [
    "#Splitting at best random state\n",
    "xtr, xt, ytr, yt = train_test_split(x,y, random_state=203,test_size=0.2)\n",
    "\n",
    "#Training the model \n",
    "model = LinearRegression()\n",
    "model.fit(xtr,ytr)\n",
    "predyt = model.predict(xt)\n",
    "r2_test = r2_score(yt,predyt)\n",
    "mae = mean_absolute_error(yt,predyt)\n",
    "rme = np.sqrt(mean_squared_error(yt,predyt))\n",
    "print('Test R2 score =',r2_test,'\\n')\n",
    "print('Mean absolute error =',mae,'\\n')\n",
    "print('Root mean squared error =',rme,'\\n')"
   ]
  },
  {
   "cell_type": "code",
   "execution_count": 108,
   "id": "57a13058",
   "metadata": {},
   "outputs": [
    {
     "name": "stdout",
     "output_type": "stream",
     "text": [
      "CV score at 2 = 0.4640123174489224\n",
      "CV score at 3 = 0.47446846662106185\n",
      "CV score at 4 = 0.49644319134064846\n",
      "CV score at 5 = 0.3340256726600865\n",
      "CV score at 6 = 0.3710887016756321\n",
      "CV score at 7 = 0.36960779401766125\n",
      "CV score at 8 = 0.3802851449305581\n",
      "CV score at 9 = 0.3924180364826293\n",
      "\n",
      "Least difference of CV score and r2 score of testing is : 0.18060792481540416\n"
     ]
    }
   ],
   "source": [
    "#Cross validation for checking overfitting\n",
    "from sklearn.model_selection import cross_val_score\n",
    "CVS = []\n",
    "for i in range(2,10):\n",
    "    lsc = cross_val_score(model,x,y,cv=i)\n",
    "    CVS.append(lsc.mean())\n",
    "    print('CV score at',i,'=',lsc.mean())\n",
    "least_diff = min(r2_test - CVS)\n",
    "cvs = max(CVS)\n",
    "print('\\nLeast difference of CV score and r2 score of testing is :', least_diff)"
   ]
  },
  {
   "cell_type": "code",
   "execution_count": 109,
   "id": "7cdf0f1e",
   "metadata": {},
   "outputs": [
    {
     "data": {
      "text/html": [
       "<div>\n",
       "<style scoped>\n",
       "    .dataframe tbody tr th:only-of-type {\n",
       "        vertical-align: middle;\n",
       "    }\n",
       "\n",
       "    .dataframe tbody tr th {\n",
       "        vertical-align: top;\n",
       "    }\n",
       "\n",
       "    .dataframe thead th {\n",
       "        text-align: right;\n",
       "    }\n",
       "</style>\n",
       "<table border=\"1\" class=\"dataframe\">\n",
       "  <thead>\n",
       "    <tr style=\"text-align: right;\">\n",
       "      <th></th>\n",
       "      <th>Algorithm name</th>\n",
       "      <th>Test r2 score</th>\n",
       "      <th>Mean abs error</th>\n",
       "      <th>Root mean squared error</th>\n",
       "      <th>CV score</th>\n",
       "      <th>r2-cv diff</th>\n",
       "    </tr>\n",
       "  </thead>\n",
       "  <tbody>\n",
       "    <tr>\n",
       "      <th>0</th>\n",
       "      <td>Linear regression</td>\n",
       "      <td>0.677051</td>\n",
       "      <td>196.46628</td>\n",
       "      <td>328.99432</td>\n",
       "      <td>0.496443</td>\n",
       "      <td>0.180608</td>\n",
       "    </tr>\n",
       "  </tbody>\n",
       "</table>\n",
       "</div>"
      ],
      "text/plain": [
       "      Algorithm name  Test r2 score  Mean abs error  Root mean squared error  \\\n",
       "0  Linear regression       0.677051       196.46628                328.99432   \n",
       "\n",
       "   CV score  r2-cv diff  \n",
       "0  0.496443    0.180608  "
      ]
     },
     "execution_count": 109,
     "metadata": {},
     "output_type": "execute_result"
    }
   ],
   "source": [
    "#Saving the results of model\n",
    "model_result = pd.DataFrame(columns=['Algorithm name','Test r2 score', 'Mean abs error', 'Root mean squared error', 'CV score', 'r2-cv diff'])\n",
    "model_result.loc[len(model_result.index)] = ['Linear regression', r2_test, mae, rme, cvs, least_diff] \n",
    "model_result"
   ]
  },
  {
   "cell_type": "code",
   "execution_count": 110,
   "id": "898b3598",
   "metadata": {},
   "outputs": [
    {
     "name": "stdout",
     "output_type": "stream",
     "text": [
      "Test R2 score = 0.6770547901883539 \n",
      "\n",
      "Mean absolute error = 196.20271544081905 \n",
      "\n",
      "Root mean squared error = 328.99244890814856 \n",
      "\n"
     ]
    }
   ],
   "source": [
    "# Lasso regression\n",
    "from sklearn.linear_model import Lasso\n",
    "model = Lasso()\n",
    "model.fit(xtr,ytr)\n",
    "predyt = model.predict(xt)\n",
    "r2_test = r2_score(yt,predyt)\n",
    "mae = mean_absolute_error(yt,predyt)\n",
    "rme = np.sqrt(mean_squared_error(yt,predyt))\n",
    "print('Test R2 score =',r2_test,'\\n')\n",
    "print('Mean absolute error =',mae,'\\n')\n",
    "print('Root mean squared error =',rme,'\\n')"
   ]
  },
  {
   "cell_type": "code",
   "execution_count": 111,
   "id": "fde14477",
   "metadata": {},
   "outputs": [
    {
     "name": "stdout",
     "output_type": "stream",
     "text": [
      "CV score at 4 = 0.4981853534939188\n",
      "CV score at 5 = 0.33786965998071283\n",
      "CV score at 6 = 0.3750437424342616\n",
      "CV score at 7 = 0.37358451686083866\n",
      "CV score at 8 = 0.38425750366350153\n",
      "CV score at 9 = 0.39631241764877806\n",
      "CV score at 10 = 0.3914842719670514\n",
      "CV score at 11 = 0.42234666980019886\n",
      "\n",
      "Least difference of CV score and r2 score of testing is : 0.1788694366944351\n"
     ]
    }
   ],
   "source": [
    "#Cross validation for checking overfitting\n",
    "from sklearn.model_selection import cross_val_score\n",
    "CVS = []\n",
    "for i in range(4,12):\n",
    "    lsc = cross_val_score(model,x,y,cv=i)\n",
    "    CVS.append(lsc.mean())\n",
    "    print('CV score at',i,'=',lsc.mean())\n",
    "least_diff = min(r2_test - CVS)\n",
    "cvs = max(CVS)\n",
    "print('\\nLeast difference of CV score and r2 score of testing is :', least_diff)"
   ]
  },
  {
   "cell_type": "code",
   "execution_count": 113,
   "id": "acfe3159",
   "metadata": {},
   "outputs": [
    {
     "name": "stdout",
     "output_type": "stream",
     "text": [
      "Lasso(alpha=1, random_state=10, tol=1)\n"
     ]
    }
   ],
   "source": [
    "#Hyperparameter tuning of Lasso model\n",
    "from sklearn.model_selection import GridSearchCV\n",
    "model = Lasso()\n",
    "parameters = {'alpha':[0.0001,0.001, 0.01,0.1, 1, 10], \n",
    "              'random_state':list(range(10,200,10)), \n",
    "              'selection':['cyclic', 'random'],\n",
    "              'tol':[0.0001,0.001,1,10]}\n",
    "gsv = GridSearchCV(model, parameters)\n",
    "gsv.fit(xtr,ytr)\n",
    "print(gsv.best_estimator_)"
   ]
  },
  {
   "cell_type": "code",
   "execution_count": 126,
   "id": "2e8024b2",
   "metadata": {},
   "outputs": [
    {
     "name": "stdout",
     "output_type": "stream",
     "text": [
      "Test R2 score = 0.6770547816934049 \n",
      "\n",
      "Mean absolute error = 196.2028243514043 \n",
      "\n",
      "Root mean squared error = 328.9924532351582 \n",
      "\n"
     ]
    }
   ],
   "source": [
    "#Trainig model as per best parameters\n",
    "model = Lasso(alpha=1, random_state=10, tol=1)\n",
    "model.fit(xtr,ytr)\n",
    "predyt = model.predict(xt)\n",
    "r2_test = r2_score(yt,predyt)\n",
    "mae = mean_absolute_error(yt,predyt)\n",
    "rme = np.sqrt(mean_squared_error(yt,predyt))\n",
    "print('Test R2 score =',r2_test,'\\n')\n",
    "print('Mean absolute error =',mae,'\\n')\n",
    "print('Root mean squared error =',rme,'\\n')"
   ]
  },
  {
   "cell_type": "code",
   "execution_count": 130,
   "id": "dd155266",
   "metadata": {},
   "outputs": [
    {
     "name": "stdout",
     "output_type": "stream",
     "text": [
      "CV score at 2 = 0.4653310792614644\n",
      "CV score at 3 = 0.476168984098923\n",
      "CV score at 4 = 0.49822765937611085\n",
      "CV score at 5 = 0.3379803474556222\n",
      "CV score at 6 = 0.37513354534493176\n",
      "CV score at 7 = 0.37368271327079083\n",
      "CV score at 8 = 0.38435391164761606\n",
      "CV score at 9 = 0.39642441480621027\n",
      "\n",
      "Least difference of CV score and r2 score of testing is : 0.17882712231729408\n"
     ]
    },
    {
     "data": {
      "text/html": [
       "<div>\n",
       "<style scoped>\n",
       "    .dataframe tbody tr th:only-of-type {\n",
       "        vertical-align: middle;\n",
       "    }\n",
       "\n",
       "    .dataframe tbody tr th {\n",
       "        vertical-align: top;\n",
       "    }\n",
       "\n",
       "    .dataframe thead th {\n",
       "        text-align: right;\n",
       "    }\n",
       "</style>\n",
       "<table border=\"1\" class=\"dataframe\">\n",
       "  <thead>\n",
       "    <tr style=\"text-align: right;\">\n",
       "      <th></th>\n",
       "      <th>Algorithm name</th>\n",
       "      <th>Test r2 score</th>\n",
       "      <th>Mean abs error</th>\n",
       "      <th>Root mean squared error</th>\n",
       "      <th>CV score</th>\n",
       "      <th>r2-cv diff</th>\n",
       "    </tr>\n",
       "  </thead>\n",
       "  <tbody>\n",
       "    <tr>\n",
       "      <th>0</th>\n",
       "      <td>Linear regression</td>\n",
       "      <td>0.677051</td>\n",
       "      <td>196.466280</td>\n",
       "      <td>328.994320</td>\n",
       "      <td>0.496443</td>\n",
       "      <td>0.180608</td>\n",
       "    </tr>\n",
       "    <tr>\n",
       "      <th>1</th>\n",
       "      <td>Lasso regression</td>\n",
       "      <td>0.677055</td>\n",
       "      <td>196.202824</td>\n",
       "      <td>328.992453</td>\n",
       "      <td>0.498228</td>\n",
       "      <td>0.178827</td>\n",
       "    </tr>\n",
       "  </tbody>\n",
       "</table>\n",
       "</div>"
      ],
      "text/plain": [
       "      Algorithm name  Test r2 score  Mean abs error  Root mean squared error  \\\n",
       "0  Linear regression       0.677051      196.466280               328.994320   \n",
       "1   Lasso regression       0.677055      196.202824               328.992453   \n",
       "\n",
       "   CV score  r2-cv diff  \n",
       "0  0.496443    0.180608  \n",
       "1  0.498228    0.178827  "
      ]
     },
     "execution_count": 130,
     "metadata": {},
     "output_type": "execute_result"
    }
   ],
   "source": [
    "#Cross validation for checking overfitting\n",
    "from sklearn.model_selection import cross_val_score\n",
    "CVS = []\n",
    "for i in range(2,10):\n",
    "    lsc = cross_val_score(model,x,y,cv=i)\n",
    "    CVS.append(lsc.mean())\n",
    "    print('CV score at',i,'=',lsc.mean())\n",
    "least_diff = min(r2_test - CVS)\n",
    "cvs = max(CVS)\n",
    "print('\\nLeast difference of CV score and r2 score of testing is :', least_diff)\n",
    "\n",
    "#Saving the results of model\n",
    "model_result.loc[len(model_result.index)] = ['Lasso regression', r2_test, mae, rme, cvs, least_diff] \n",
    "model_result"
   ]
  },
  {
   "cell_type": "code",
   "execution_count": 135,
   "id": "c0f8720b",
   "metadata": {},
   "outputs": [
    {
     "name": "stdout",
     "output_type": "stream",
     "text": [
      "Test R2 score = 0.6770481578843828 \n",
      "\n",
      "Mean absolute error = 196.44505408031256 \n",
      "\n",
      "Root mean squared error = 328.9958271386602 \n",
      "\n"
     ]
    }
   ],
   "source": [
    "# Ridge regression\n",
    "from sklearn.linear_model import Ridge\n",
    "model = Ridge()\n",
    "model.fit(xtr,ytr)\n",
    "predyt = model.predict(xt)\n",
    "r2_test = r2_score(yt,predyt)\n",
    "mae = mean_absolute_error(yt,predyt)\n",
    "rme = np.sqrt(mean_squared_error(yt,predyt))\n",
    "print('Test R2 score =',r2_test,'\\n')\n",
    "print('Mean absolute error =',mae,'\\n')\n",
    "print('Root mean squared error =',rme,'\\n')"
   ]
  },
  {
   "cell_type": "code",
   "execution_count": 136,
   "id": "9ee44cf4",
   "metadata": {},
   "outputs": [
    {
     "name": "stdout",
     "output_type": "stream",
     "text": [
      "CV score at 2 = 0.46407342523763323\n",
      "CV score at 3 = 0.4745151046984264\n",
      "CV score at 4 = 0.4964880606214118\n",
      "CV score at 5 = 0.33411943910635766\n",
      "CV score at 6 = 0.37118106070061346\n",
      "CV score at 7 = 0.36969523016733674\n",
      "CV score at 8 = 0.3803714734970122\n",
      "CV score at 9 = 0.39249696841641907\n",
      "\n",
      "Least difference of CV score and r2 score of testing is : 0.18056009726297095\n"
     ]
    }
   ],
   "source": [
    "#Cross validation for checking overfitting\n",
    "from sklearn.model_selection import cross_val_score\n",
    "CVS = []\n",
    "for i in range(2,10):\n",
    "    lsc = cross_val_score(model,x,y,cv=i)\n",
    "    CVS.append(lsc.mean())\n",
    "    print('CV score at',i,'=',lsc.mean())\n",
    "least_diff = min(r2_test - CVS)\n",
    "cvs = max(CVS)\n",
    "print('\\nLeast difference of CV score and r2 score of testing is :', least_diff)"
   ]
  },
  {
   "cell_type": "code",
   "execution_count": 137,
   "id": "c3e11dc4",
   "metadata": {},
   "outputs": [
    {
     "data": {
      "text/html": [
       "<div>\n",
       "<style scoped>\n",
       "    .dataframe tbody tr th:only-of-type {\n",
       "        vertical-align: middle;\n",
       "    }\n",
       "\n",
       "    .dataframe tbody tr th {\n",
       "        vertical-align: top;\n",
       "    }\n",
       "\n",
       "    .dataframe thead th {\n",
       "        text-align: right;\n",
       "    }\n",
       "</style>\n",
       "<table border=\"1\" class=\"dataframe\">\n",
       "  <thead>\n",
       "    <tr style=\"text-align: right;\">\n",
       "      <th></th>\n",
       "      <th>Algorithm name</th>\n",
       "      <th>Test r2 score</th>\n",
       "      <th>Mean abs error</th>\n",
       "      <th>Root mean squared error</th>\n",
       "      <th>CV score</th>\n",
       "      <th>r2-cv diff</th>\n",
       "    </tr>\n",
       "  </thead>\n",
       "  <tbody>\n",
       "    <tr>\n",
       "      <th>0</th>\n",
       "      <td>Linear regression</td>\n",
       "      <td>0.677051</td>\n",
       "      <td>196.466280</td>\n",
       "      <td>328.994320</td>\n",
       "      <td>0.496443</td>\n",
       "      <td>0.180608</td>\n",
       "    </tr>\n",
       "    <tr>\n",
       "      <th>1</th>\n",
       "      <td>Lasso regression</td>\n",
       "      <td>0.677055</td>\n",
       "      <td>196.202824</td>\n",
       "      <td>328.992453</td>\n",
       "      <td>0.498228</td>\n",
       "      <td>0.178827</td>\n",
       "    </tr>\n",
       "    <tr>\n",
       "      <th>2</th>\n",
       "      <td>Ridge regression</td>\n",
       "      <td>0.677048</td>\n",
       "      <td>196.445054</td>\n",
       "      <td>328.995827</td>\n",
       "      <td>0.496488</td>\n",
       "      <td>0.180560</td>\n",
       "    </tr>\n",
       "  </tbody>\n",
       "</table>\n",
       "</div>"
      ],
      "text/plain": [
       "      Algorithm name  Test r2 score  Mean abs error  Root mean squared error  \\\n",
       "0  Linear regression       0.677051      196.466280               328.994320   \n",
       "1   Lasso regression       0.677055      196.202824               328.992453   \n",
       "2   Ridge regression       0.677048      196.445054               328.995827   \n",
       "\n",
       "   CV score  r2-cv diff  \n",
       "0  0.496443    0.180608  \n",
       "1  0.498228    0.178827  \n",
       "2  0.496488    0.180560  "
      ]
     },
     "execution_count": 137,
     "metadata": {},
     "output_type": "execute_result"
    }
   ],
   "source": [
    "#Saving the results of model\n",
    "model_result.loc[len(model_result.index)] = ['Ridge regression', r2_test, mae, rme, cvs, least_diff] \n",
    "model_result"
   ]
  },
  {
   "cell_type": "code",
   "execution_count": 138,
   "id": "851be959",
   "metadata": {},
   "outputs": [
    {
     "name": "stdout",
     "output_type": "stream",
     "text": [
      "Test R2 score = 0.8739643194554221 \n",
      "\n",
      "Mean absolute error = 125.66391775527852 \n",
      "\n",
      "Root mean squared error = 205.52670603463636 \n",
      "\n"
     ]
    }
   ],
   "source": [
    "# Gradient boosting regressor\n",
    "from sklearn.ensemble import GradientBoostingRegressor\n",
    "model = GradientBoostingRegressor()\n",
    "model.fit(xtr,ytr)\n",
    "predyt = model.predict(xt)\n",
    "r2_test = r2_score(yt,predyt)\n",
    "mae = mean_absolute_error(yt,predyt)\n",
    "rme = np.sqrt(mean_squared_error(yt,predyt))\n",
    "print('Test R2 score =',r2_test,'\\n')\n",
    "print('Mean absolute error =',mae,'\\n')\n",
    "print('Root mean squared error =',rme,'\\n')"
   ]
  },
  {
   "cell_type": "code",
   "execution_count": 139,
   "id": "38484b2e",
   "metadata": {},
   "outputs": [
    {
     "name": "stdout",
     "output_type": "stream",
     "text": [
      "CV score at 2 = 0.6966077261608526\n",
      "CV score at 3 = 0.7164145489383523\n",
      "CV score at 4 = 0.7064476440369092\n",
      "CV score at 5 = 0.6596694992035018\n",
      "CV score at 6 = 0.6495556287850817\n",
      "CV score at 7 = 0.6558179202323797\n",
      "CV score at 8 = 0.6770136703135224\n",
      "CV score at 9 = 0.68117346921722\n",
      "\n",
      "Least difference of CV score and r2 score of testing is : 0.15754977051706975\n"
     ]
    }
   ],
   "source": [
    "#Cross validation for checking overfitting\n",
    "from sklearn.model_selection import cross_val_score\n",
    "CVS = []\n",
    "for i in range(2,10):\n",
    "    lsc = cross_val_score(model,x,y,cv=i)\n",
    "    CVS.append(lsc.mean())\n",
    "    print('CV score at',i,'=',lsc.mean())\n",
    "least_diff = min(r2_test - CVS)\n",
    "cvs = max(CVS)\n",
    "print('\\nLeast difference of CV score and r2 score of testing is :', least_diff)"
   ]
  },
  {
   "cell_type": "code",
   "execution_count": 144,
   "id": "08c22973",
   "metadata": {},
   "outputs": [
    {
     "name": "stdout",
     "output_type": "stream",
     "text": [
      "GradientBoostingRegressor(criterion='mse', max_depth=10)\n"
     ]
    }
   ],
   "source": [
    "# Hyper parameter tuning of Gradient boosting regressor\n",
    "parameters = {'criterion':['friedman_mse', 'squared_error', 'mae','mse'],\n",
    "              'n_estimators':[100,150,200,300], \n",
    "              'max_depth' : [4,6,8,10,12],\n",
    "              'learning_rate' : [0.01,0.1,1],\n",
    "              'tol' : [0.0001,0.01,1,10]}\n",
    "gsv = GridSearchCV(model, parameters)\n",
    "gsv.fit(xtr,ytr)\n",
    "print(gsv.best_estimator_)"
   ]
  },
  {
   "cell_type": "code",
   "execution_count": 145,
   "id": "47fb6776",
   "metadata": {},
   "outputs": [
    {
     "name": "stdout",
     "output_type": "stream",
     "text": [
      "Test R2 score = 0.8602113901729066 \n",
      "\n",
      "Mean absolute error = 116.19022599183614 \n",
      "\n",
      "Root mean squared error = 216.44990496506912 \n",
      "\n"
     ]
    }
   ],
   "source": [
    "# Training for best parameter\n",
    "model = GradientBoostingRegressor(criterion='mse', max_depth=10, n_estimators=100)\n",
    "model.fit(xtr,ytr)\n",
    "predyt = model.predict(xt)\n",
    "r2_test = r2_score(yt,predyt)\n",
    "mae = mean_absolute_error(yt,predyt)\n",
    "rme = np.sqrt(mean_squared_error(yt,predyt))\n",
    "print('Test R2 score =',r2_test,'\\n')\n",
    "print('Mean absolute error =',mae,'\\n')\n",
    "print('Root mean squared error =',rme,'\\n')"
   ]
  },
  {
   "cell_type": "code",
   "execution_count": 146,
   "id": "38be45b3",
   "metadata": {},
   "outputs": [
    {
     "name": "stdout",
     "output_type": "stream",
     "text": [
      "CV score at 2 = 0.5366006588328083\n",
      "CV score at 3 = 0.5605241252692107\n",
      "CV score at 4 = 0.5988680083556426\n",
      "CV score at 5 = 0.5308944741486034\n",
      "CV score at 6 = 0.563385791686024\n",
      "CV score at 7 = 0.5590099227141094\n",
      "CV score at 8 = 0.5603388118696333\n",
      "CV score at 9 = 0.5678765271797556\n",
      "\n",
      "Least difference of CV score and r2 score of testing is : 0.261343381817264\n"
     ]
    }
   ],
   "source": [
    "#Cross validation for checking overfitting\n",
    "from sklearn.model_selection import cross_val_score\n",
    "CVS = []\n",
    "for i in range(2,10):\n",
    "    lsc = cross_val_score(model,x,y,cv=i)\n",
    "    CVS.append(lsc.mean())\n",
    "    print('CV score at',i,'=',lsc.mean())\n",
    "least_diff = min(r2_test - CVS)\n",
    "cvs = max(CVS)\n",
    "print('\\nLeast difference of CV score and r2 score of testing is :', least_diff)"
   ]
  },
  {
   "cell_type": "code",
   "execution_count": 147,
   "id": "3caa5aff",
   "metadata": {},
   "outputs": [
    {
     "data": {
      "text/html": [
       "<div>\n",
       "<style scoped>\n",
       "    .dataframe tbody tr th:only-of-type {\n",
       "        vertical-align: middle;\n",
       "    }\n",
       "\n",
       "    .dataframe tbody tr th {\n",
       "        vertical-align: top;\n",
       "    }\n",
       "\n",
       "    .dataframe thead th {\n",
       "        text-align: right;\n",
       "    }\n",
       "</style>\n",
       "<table border=\"1\" class=\"dataframe\">\n",
       "  <thead>\n",
       "    <tr style=\"text-align: right;\">\n",
       "      <th></th>\n",
       "      <th>Algorithm name</th>\n",
       "      <th>Test r2 score</th>\n",
       "      <th>Mean abs error</th>\n",
       "      <th>Root mean squared error</th>\n",
       "      <th>CV score</th>\n",
       "      <th>r2-cv diff</th>\n",
       "    </tr>\n",
       "  </thead>\n",
       "  <tbody>\n",
       "    <tr>\n",
       "      <th>0</th>\n",
       "      <td>Linear regression</td>\n",
       "      <td>0.677051</td>\n",
       "      <td>196.466280</td>\n",
       "      <td>328.994320</td>\n",
       "      <td>0.496443</td>\n",
       "      <td>0.180608</td>\n",
       "    </tr>\n",
       "    <tr>\n",
       "      <th>1</th>\n",
       "      <td>Lasso regression</td>\n",
       "      <td>0.677055</td>\n",
       "      <td>196.202824</td>\n",
       "      <td>328.992453</td>\n",
       "      <td>0.498228</td>\n",
       "      <td>0.178827</td>\n",
       "    </tr>\n",
       "    <tr>\n",
       "      <th>2</th>\n",
       "      <td>Ridge regression</td>\n",
       "      <td>0.677048</td>\n",
       "      <td>196.445054</td>\n",
       "      <td>328.995827</td>\n",
       "      <td>0.496488</td>\n",
       "      <td>0.180560</td>\n",
       "    </tr>\n",
       "    <tr>\n",
       "      <th>3</th>\n",
       "      <td>Gradient boosting regressor</td>\n",
       "      <td>0.860211</td>\n",
       "      <td>116.190226</td>\n",
       "      <td>216.449905</td>\n",
       "      <td>0.598868</td>\n",
       "      <td>0.261343</td>\n",
       "    </tr>\n",
       "  </tbody>\n",
       "</table>\n",
       "</div>"
      ],
      "text/plain": [
       "                Algorithm name  Test r2 score  Mean abs error  \\\n",
       "0            Linear regression       0.677051      196.466280   \n",
       "1             Lasso regression       0.677055      196.202824   \n",
       "2             Ridge regression       0.677048      196.445054   \n",
       "3  Gradient boosting regressor       0.860211      116.190226   \n",
       "\n",
       "   Root mean squared error  CV score  r2-cv diff  \n",
       "0               328.994320  0.496443    0.180608  \n",
       "1               328.992453  0.498228    0.178827  \n",
       "2               328.995827  0.496488    0.180560  \n",
       "3               216.449905  0.598868    0.261343  "
      ]
     },
     "execution_count": 147,
     "metadata": {},
     "output_type": "execute_result"
    }
   ],
   "source": [
    "#Saving the results of model\n",
    "model_result.loc[len(model_result.index)] = ['Gradient boosting regressor', r2_test, mae, rme, cvs, least_diff] \n",
    "model_result"
   ]
  },
  {
   "cell_type": "code",
   "execution_count": 161,
   "id": "253ebf57",
   "metadata": {},
   "outputs": [
    {
     "name": "stdout",
     "output_type": "stream",
     "text": [
      "Test R2 score = 0.8855779326055437 \n",
      "\n",
      "Mean absolute error = 115.89200913242009 \n",
      "\n",
      "Root mean squared error = 195.82872742567628 \n",
      "\n"
     ]
    }
   ],
   "source": [
    "# Random forest regressor\n",
    "from sklearn.ensemble import RandomForestRegressor\n",
    "model = RandomForestRegressor()\n",
    "model.fit(xtr,ytr)\n",
    "predyt = model.predict(xt)\n",
    "r2_test = r2_score(yt,predyt)\n",
    "mae = mean_absolute_error(yt,predyt)\n",
    "rme = np.sqrt(mean_squared_error(yt,predyt))\n",
    "print('Test R2 score =',r2_test,'\\n')\n",
    "print('Mean absolute error =',mae,'\\n')\n",
    "print('Root mean squared error =',rme,'\\n')"
   ]
  },
  {
   "cell_type": "code",
   "execution_count": 149,
   "id": "51698aa6",
   "metadata": {},
   "outputs": [
    {
     "name": "stdout",
     "output_type": "stream",
     "text": [
      "CV score at 4 = 0.6428052875266639\n",
      "CV score at 5 = 0.5990249095934684\n",
      "CV score at 6 = 0.6092989097130957\n",
      "CV score at 7 = 0.5955947865730166\n",
      "CV score at 8 = 0.594537991246066\n",
      "CV score at 9 = 0.6087521156177781\n",
      "CV score at 10 = 0.6011868643648731\n",
      "CV score at 11 = 0.6219811470912735\n",
      "\n",
      "Least difference of CV score and r2 score of testing is : 0.23887156589416125\n"
     ]
    }
   ],
   "source": [
    "#Cross validation for checking overfitting\n",
    "from sklearn.model_selection import cross_val_score\n",
    "CVS = []\n",
    "for i in range(4,12):\n",
    "    lsc = cross_val_score(model,x,y,cv=i)\n",
    "    CVS.append(lsc.mean())\n",
    "    print('CV score at',i,'=',lsc.mean())\n",
    "least_diff = min(r2_test - CVS)\n",
    "cvs = max(CVS)\n",
    "print('\\nLeast difference of CV score and r2 score of testing is :', least_diff)"
   ]
  },
  {
   "cell_type": "code",
   "execution_count": 163,
   "id": "e1bc6f95",
   "metadata": {},
   "outputs": [
    {
     "data": {
      "text/html": [
       "<div>\n",
       "<style scoped>\n",
       "    .dataframe tbody tr th:only-of-type {\n",
       "        vertical-align: middle;\n",
       "    }\n",
       "\n",
       "    .dataframe tbody tr th {\n",
       "        vertical-align: top;\n",
       "    }\n",
       "\n",
       "    .dataframe thead th {\n",
       "        text-align: right;\n",
       "    }\n",
       "</style>\n",
       "<table border=\"1\" class=\"dataframe\">\n",
       "  <thead>\n",
       "    <tr style=\"text-align: right;\">\n",
       "      <th></th>\n",
       "      <th>Algorithm name</th>\n",
       "      <th>Test r2 score</th>\n",
       "      <th>Mean abs error</th>\n",
       "      <th>Root mean squared error</th>\n",
       "      <th>CV score</th>\n",
       "      <th>r2-cv diff</th>\n",
       "    </tr>\n",
       "  </thead>\n",
       "  <tbody>\n",
       "    <tr>\n",
       "      <th>0</th>\n",
       "      <td>Linear regression</td>\n",
       "      <td>0.677051</td>\n",
       "      <td>196.466280</td>\n",
       "      <td>328.994320</td>\n",
       "      <td>0.496443</td>\n",
       "      <td>0.180608</td>\n",
       "    </tr>\n",
       "    <tr>\n",
       "      <th>1</th>\n",
       "      <td>Lasso regression</td>\n",
       "      <td>0.677055</td>\n",
       "      <td>196.202824</td>\n",
       "      <td>328.992453</td>\n",
       "      <td>0.498228</td>\n",
       "      <td>0.178827</td>\n",
       "    </tr>\n",
       "    <tr>\n",
       "      <th>2</th>\n",
       "      <td>Ridge regression</td>\n",
       "      <td>0.677048</td>\n",
       "      <td>196.445054</td>\n",
       "      <td>328.995827</td>\n",
       "      <td>0.496488</td>\n",
       "      <td>0.180560</td>\n",
       "    </tr>\n",
       "    <tr>\n",
       "      <th>3</th>\n",
       "      <td>Gradient boosting regressor</td>\n",
       "      <td>0.860211</td>\n",
       "      <td>116.190226</td>\n",
       "      <td>216.449905</td>\n",
       "      <td>0.598868</td>\n",
       "      <td>0.261343</td>\n",
       "    </tr>\n",
       "    <tr>\n",
       "      <th>4</th>\n",
       "      <td>Random forest regressor</td>\n",
       "      <td>0.885578</td>\n",
       "      <td>115.892009</td>\n",
       "      <td>195.828727</td>\n",
       "      <td>0.642805</td>\n",
       "      <td>0.238872</td>\n",
       "    </tr>\n",
       "  </tbody>\n",
       "</table>\n",
       "</div>"
      ],
      "text/plain": [
       "                Algorithm name  Test r2 score  Mean abs error  \\\n",
       "0            Linear regression       0.677051      196.466280   \n",
       "1             Lasso regression       0.677055      196.202824   \n",
       "2             Ridge regression       0.677048      196.445054   \n",
       "3  Gradient boosting regressor       0.860211      116.190226   \n",
       "4      Random forest regressor       0.885578      115.892009   \n",
       "\n",
       "   Root mean squared error  CV score  r2-cv diff  \n",
       "0               328.994320  0.496443    0.180608  \n",
       "1               328.992453  0.498228    0.178827  \n",
       "2               328.995827  0.496488    0.180560  \n",
       "3               216.449905  0.598868    0.261343  \n",
       "4               195.828727  0.642805    0.238872  "
      ]
     },
     "execution_count": 163,
     "metadata": {},
     "output_type": "execute_result"
    }
   ],
   "source": [
    "#Saving the results of model\n",
    "model_result.loc[len(model_result.index)] = ['Random forest regressor', r2_test, mae, rme, cvs, least_diff] \n",
    "model_result"
   ]
  },
  {
   "cell_type": "code",
   "execution_count": 166,
   "id": "4ffdde7b",
   "metadata": {},
   "outputs": [
    {
     "name": "stdout",
     "output_type": "stream",
     "text": [
      "Test R2 score = 0.8453643577906347 \n",
      "\n",
      "Mean absolute error = 122.45765985119833 \n",
      "\n",
      "Root mean squared error = 227.65453581827353 \n",
      "\n"
     ]
    }
   ],
   "source": [
    "#XG boost regressor\n",
    "import xgboost as xgb\n",
    "model = xgb.XGBRegressor()\n",
    "model.fit(xtr,ytr)\n",
    "predyt = model.predict(xt)\n",
    "r2_test = r2_score(yt,predyt)\n",
    "mae = mean_absolute_error(yt,predyt)\n",
    "rme = np.sqrt(mean_squared_error(yt,predyt))\n",
    "print('Test R2 score =',r2_test,'\\n')\n",
    "print('Mean absolute error =',mae,'\\n')\n",
    "print('Root mean squared error =',rme,'\\n')"
   ]
  },
  {
   "cell_type": "code",
   "execution_count": 167,
   "id": "8d61c247",
   "metadata": {},
   "outputs": [
    {
     "name": "stdout",
     "output_type": "stream",
     "text": [
      "CV score at 4 = 0.6081655283704044\n",
      "CV score at 5 = 0.6210006812072372\n",
      "CV score at 6 = 0.6413138992645734\n",
      "CV score at 7 = 0.6304076390100862\n",
      "CV score at 8 = 0.6286775726711443\n",
      "CV score at 9 = 0.6465855767520308\n",
      "CV score at 10 = 0.635530713394157\n",
      "CV score at 11 = 0.6531598927714763\n",
      "\n",
      "Least difference of CV score and r2 score of testing is : 0.19220446501915833\n"
     ]
    }
   ],
   "source": [
    "#Cross validation for checking overfitting\n",
    "from sklearn.model_selection import cross_val_score\n",
    "CVS = []\n",
    "for i in range(4,12):\n",
    "    lsc = cross_val_score(model,x,y,cv=i)\n",
    "    CVS.append(lsc.mean())\n",
    "    print('CV score at',i,'=',lsc.mean())\n",
    "least_diff = min(r2_test - CVS)\n",
    "cvs = max(CVS)\n",
    "print('\\nLeast difference of CV score and r2 score of testing is :', least_diff)"
   ]
  },
  {
   "cell_type": "code",
   "execution_count": 168,
   "id": "c545c28a",
   "metadata": {},
   "outputs": [
    {
     "data": {
      "text/html": [
       "<div>\n",
       "<style scoped>\n",
       "    .dataframe tbody tr th:only-of-type {\n",
       "        vertical-align: middle;\n",
       "    }\n",
       "\n",
       "    .dataframe tbody tr th {\n",
       "        vertical-align: top;\n",
       "    }\n",
       "\n",
       "    .dataframe thead th {\n",
       "        text-align: right;\n",
       "    }\n",
       "</style>\n",
       "<table border=\"1\" class=\"dataframe\">\n",
       "  <thead>\n",
       "    <tr style=\"text-align: right;\">\n",
       "      <th></th>\n",
       "      <th>Algorithm name</th>\n",
       "      <th>Test r2 score</th>\n",
       "      <th>Mean abs error</th>\n",
       "      <th>Root mean squared error</th>\n",
       "      <th>CV score</th>\n",
       "      <th>r2-cv diff</th>\n",
       "    </tr>\n",
       "  </thead>\n",
       "  <tbody>\n",
       "    <tr>\n",
       "      <th>0</th>\n",
       "      <td>Linear regression</td>\n",
       "      <td>0.677051</td>\n",
       "      <td>196.466280</td>\n",
       "      <td>328.994320</td>\n",
       "      <td>0.496443</td>\n",
       "      <td>0.180608</td>\n",
       "    </tr>\n",
       "    <tr>\n",
       "      <th>1</th>\n",
       "      <td>Lasso regression</td>\n",
       "      <td>0.677055</td>\n",
       "      <td>196.202824</td>\n",
       "      <td>328.992453</td>\n",
       "      <td>0.498228</td>\n",
       "      <td>0.178827</td>\n",
       "    </tr>\n",
       "    <tr>\n",
       "      <th>2</th>\n",
       "      <td>Ridge regression</td>\n",
       "      <td>0.677048</td>\n",
       "      <td>196.445054</td>\n",
       "      <td>328.995827</td>\n",
       "      <td>0.496488</td>\n",
       "      <td>0.180560</td>\n",
       "    </tr>\n",
       "    <tr>\n",
       "      <th>3</th>\n",
       "      <td>Gradient boosting regressor</td>\n",
       "      <td>0.860211</td>\n",
       "      <td>116.190226</td>\n",
       "      <td>216.449905</td>\n",
       "      <td>0.598868</td>\n",
       "      <td>0.261343</td>\n",
       "    </tr>\n",
       "    <tr>\n",
       "      <th>4</th>\n",
       "      <td>Random forest regressor</td>\n",
       "      <td>0.885578</td>\n",
       "      <td>115.892009</td>\n",
       "      <td>195.828727</td>\n",
       "      <td>0.642805</td>\n",
       "      <td>0.238872</td>\n",
       "    </tr>\n",
       "    <tr>\n",
       "      <th>5</th>\n",
       "      <td>XGB regressor</td>\n",
       "      <td>0.845364</td>\n",
       "      <td>122.457660</td>\n",
       "      <td>227.654536</td>\n",
       "      <td>0.653160</td>\n",
       "      <td>0.192204</td>\n",
       "    </tr>\n",
       "  </tbody>\n",
       "</table>\n",
       "</div>"
      ],
      "text/plain": [
       "                Algorithm name  Test r2 score  Mean abs error  \\\n",
       "0            Linear regression       0.677051      196.466280   \n",
       "1             Lasso regression       0.677055      196.202824   \n",
       "2             Ridge regression       0.677048      196.445054   \n",
       "3  Gradient boosting regressor       0.860211      116.190226   \n",
       "4      Random forest regressor       0.885578      115.892009   \n",
       "5                XGB regressor       0.845364      122.457660   \n",
       "\n",
       "   Root mean squared error  CV score  r2-cv diff  \n",
       "0               328.994320  0.496443    0.180608  \n",
       "1               328.992453  0.498228    0.178827  \n",
       "2               328.995827  0.496488    0.180560  \n",
       "3               216.449905  0.598868    0.261343  \n",
       "4               195.828727  0.642805    0.238872  \n",
       "5               227.654536  0.653160    0.192204  "
      ]
     },
     "execution_count": 168,
     "metadata": {},
     "output_type": "execute_result"
    }
   ],
   "source": [
    "#Saving the results of model\n",
    "model_result.loc[len(model_result.index)] = ['XGB regressor', r2_test, mae, rme, cvs, least_diff] \n",
    "model_result"
   ]
  },
  {
   "cell_type": "code",
   "execution_count": 171,
   "id": "a6bc7615",
   "metadata": {},
   "outputs": [
    {
     "data": {
      "image/png": "[encoded data removed]",
      "text/plain": [
       "<Figure size 432x288 with 1 Axes>"
      ]
     },
     "metadata": {
      "needs_background": "light"
     },
     "output_type": "display_data"
    }
   ],
   "source": [
    "#Predicted data vs actual test data\n",
    "model = xgb.XGBRegressor()\n",
    "model.fit(xtr,ytr)\n",
    "predyt = model.predict(xt)\n",
    "actualyt = yt\n",
    "plt.figure()\n",
    "plt.scatter(predyt, actualyt, color = 'k', alpha=0.5)\n",
    "plt.plot([min(predyt),max(actualyt)], [min(predyt),max(actualyt)], 'k-', color = 'r')\n",
    "plt.show()"
   ]
  },
  {
   "cell_type": "code",
   "execution_count": 173,
   "id": "4cbbf75d",
   "metadata": {},
   "outputs": [],
   "source": [
    "import pickle\n",
    "filename='baseball_case.pkl'\n",
    "pickle.dump(model,open(filename,'wb'))"
   ]
  },
  {
   "cell_type": "markdown",
   "id": "b5033201",
   "metadata": {},
   "source": [
    "## Price Range prediction (Classification approach)"
   ]
  },
  {
   "cell_type": "code",
   "execution_count": 174,
   "id": "74bf3ce1",
   "metadata": {},
   "outputs": [
    {
     "name": "stdout",
     "output_type": "stream",
     "text": [
      "x shape (8756, 14)\n",
      "y shape (8756,)\n"
     ]
    }
   ],
   "source": [
    "#Seperate feature and target columns\n",
    "x = df_new.drop('Price range', axis=1)\n",
    "y = df_new['Price range']\n",
    "print('x shape',x.shape)\n",
    "print('y shape',y.shape)"
   ]
  },
  {
   "cell_type": "code",
   "execution_count": 175,
   "id": "dee3bd5c",
   "metadata": {},
   "outputs": [
    {
     "data": {
      "text/plain": [
       "[1.595864174084487, 1.5973520619519204, 1.2326389328430547, 1.2181227884652222]"
      ]
     },
     "execution_count": 175,
     "metadata": {},
     "output_type": "execute_result"
    }
   ],
   "source": [
    "#We need to scale the data check VIF to handle multicollinearity\n",
    "from sklearn.preprocessing import StandardScaler\n",
    "sc = StandardScaler()\n",
    "x_new = sc.fit_transform(x)\n",
    "x_new = pd.DataFrame(x_new, columns = x.columns)\n",
    "\n",
    "numerical = [ 'Longitude', 'Latitude', 'Aggregate rating','Votes']\n",
    "\n",
    "#VIF method to check multicollinearity \n",
    "#Checing for continuous input feature columns\n",
    "from statsmodels.stats.outliers_influence import variance_inflation_factor\n",
    "vif = pd.DataFrame()\n",
    "vif = [variance_inflation_factor(x_new[numerical].values,i) for i in range(x_new[numerical].shape[1])]\n",
    "vif"
   ]
  },
  {
   "cell_type": "markdown",
   "id": "4561492b",
   "metadata": {},
   "source": [
    "No issue of multicollinearity as the VIF value of columns having continuous data are within the limit of 5"
   ]
  },
  {
   "cell_type": "code",
   "execution_count": 180,
   "id": "fd90c921",
   "metadata": {},
   "outputs": [
    {
     "data": {
      "text/plain": [
       "Longitude          -3.179687\n",
       "Latitude           -2.246169\n",
       "Aggregate rating   -0.887535\n",
       "Votes               3.555810\n",
       "dtype: float64"
      ]
     },
     "execution_count": 180,
     "metadata": {},
     "output_type": "execute_result"
    }
   ],
   "source": [
    "x_new[numerical].skew()"
   ]
  },
  {
   "cell_type": "code",
   "execution_count": 181,
   "id": "d4185fe5",
   "metadata": {},
   "outputs": [],
   "source": [
    "#Apply power transform to reduce skewness\n",
    "from sklearn.preprocessing import PowerTransformer\n",
    "po = PowerTransformer()\n",
    "for col in numerical:\n",
    "    if x_new.skew().loc[col]>0.55:\n",
    "        x_new[col] = po.fit_transform(x_new[col].values.reshape(-1,1))"
   ]
  },
  {
   "cell_type": "code",
   "execution_count": 182,
   "id": "85416c5a",
   "metadata": {},
   "outputs": [],
   "source": [
    "x =x_new"
   ]
  },
  {
   "cell_type": "code",
   "execution_count": 183,
   "id": "76a90685",
   "metadata": {},
   "outputs": [
    {
     "data": {
      "text/plain": [
       "ExtraTreesClassifier()"
      ]
     },
     "execution_count": 183,
     "metadata": {},
     "output_type": "execute_result"
    }
   ],
   "source": [
    "#Feature selection\n",
    "from sklearn.ensemble import ExtraTreesClassifier\n",
    "fs = ExtraTreesClassifier()\n",
    "fs.fit(x, y)"
   ]
  },
  {
   "cell_type": "code",
   "execution_count": 184,
   "id": "5ed9545a",
   "metadata": {},
   "outputs": [
    {
     "name": "stdout",
     "output_type": "stream",
     "text": [
      "0 4.87\n",
      "1 1.0\n",
      "2 2.97\n",
      "3 4.55\n",
      "4 4.57\n",
      "5 4.95\n",
      "6 6.12\n",
      "7 40.54\n",
      "8 0.52\n",
      "9 8.24\n",
      "10 3.61\n",
      "11 5.98\n",
      "12 2.39\n",
      "13 9.7\n"
     ]
    }
   ],
   "source": [
    "imp = fs.feature_importances_\n",
    "for index, val in enumerate(imp):\n",
    "    print(index, round((val * 100), 2))"
   ]
  },
  {
   "cell_type": "code",
   "execution_count": 185,
   "id": "85e09657",
   "metadata": {},
   "outputs": [],
   "source": [
    "#Let us select important features and drop rest columns. By considering top 70% are important\n",
    "#Dropping off less important columns\n",
    "x =  x.drop(['Country Code','Has Table booking','City','Rating text'], axis=1)"
   ]
  },
  {
   "cell_type": "code",
   "execution_count": 187,
   "id": "c480dbc9",
   "metadata": {},
   "outputs": [
    {
     "name": "stdout",
     "output_type": "stream",
     "text": [
      "At Max RS 0 Max Accuracy = 0.9092465753424658\n",
      "At Max RS 6 Max Accuracy = 0.916095890410959\n",
      "At Max RS 15 Max Accuracy = 0.9178082191780822\n",
      "At Max RS 123 Max Accuracy = 0.91837899543379\n"
     ]
    }
   ],
   "source": [
    "#Logistic regression\n",
    "#Best randm state selection\n",
    "max_acc = 0\n",
    "max_RS = 0\n",
    "from sklearn.linear_model import LogisticRegression\n",
    "from sklearn.model_selection import train_test_split\n",
    "from sklearn.metrics import confusion_matrix, classification_report, roc_curve, roc_auc_score, accuracy_score\n",
    "lr = LogisticRegression()\n",
    "for i in range(0,200):\n",
    "    xtr, xt, ytr, yt = train_test_split(x,y, random_state=i,test_size=0.2)\n",
    "    lr.fit(xtr, ytr)\n",
    "    predyt = lr.predict(xt)\n",
    "    accuracy = accuracy_score(yt,predyt)  \n",
    "    if accuracy > max_acc:\n",
    "        max_acc = accuracy\n",
    "        max_RS = i\n",
    "        print('At Max RS',i,'Max Accuracy =',accuracy)"
   ]
  },
  {
   "cell_type": "code",
   "execution_count": 188,
   "id": "acef52bf",
   "metadata": {},
   "outputs": [],
   "source": [
    "def metric_score(model, xtr, xt, ytr, yt, train=True):\n",
    "    if train:\n",
    "        ypr = model.predict(xtr)\n",
    "        print(f\"Accuracy score of train is : {(accuracy_score(ytr, ypr))*100:.2f}%\")\n",
    "        \n",
    "    elif train==False:\n",
    "        ypr = model.predict(xt)\n",
    "        print(f\"Accuracy score of test is : {(accuracy_score(yt, ypr))*100:.2f}%\",'\\n\\nClassification report:')\n",
    "        print(classification_report(yt, ypr))"
   ]
  },
  {
   "cell_type": "code",
   "execution_count": 189,
   "id": "8b195a01",
   "metadata": {},
   "outputs": [
    {
     "name": "stdout",
     "output_type": "stream",
     "text": [
      "Accuracy score of train is : 90.15%\n",
      "Accuracy score of test is : 91.84% \n",
      "\n",
      "Classification report:\n",
      "              precision    recall  f1-score   support\n",
      "\n",
      "           0       0.98      0.97      0.97       887\n",
      "           1       0.88      0.96      0.92       547\n",
      "           2       0.80      0.78      0.79       232\n",
      "           3       0.89      0.56      0.69        86\n",
      "\n",
      "    accuracy                           0.92      1752\n",
      "   macro avg       0.89      0.82      0.84      1752\n",
      "weighted avg       0.92      0.92      0.92      1752\n",
      "\n"
     ]
    }
   ],
   "source": [
    "#Using best random state for train test split\n",
    "xtr, xt, ytr, yt = train_test_split(x,y, random_state=123,test_size=0.2)\n",
    "#Training the model\n",
    "model = LogisticRegression()\n",
    "model.fit(xtr,ytr)\n",
    "metric_score(model, xtr, xt, ytr, yt, train=True)\n",
    "metric_score(model, xtr, xt, ytr, yt, train=False)"
   ]
  },
  {
   "cell_type": "code",
   "execution_count": 190,
   "id": "6ae7f9ad",
   "metadata": {},
   "outputs": [
    {
     "name": "stdout",
     "output_type": "stream",
     "text": [
      "Accuracy score: 0.91837899543379\n",
      "CV score at 2 = 0.9122887163088168\n",
      "CV score at 3 = 0.9098903194099964\n",
      "CV score at 4 = 0.9045226130653266\n",
      "CV score at 5 = 0.8977854793998994\n",
      "CV score at 6 = 0.896877357043825\n",
      "CV score at 7 = 0.8959497544821284\n",
      "CV score at 8 = 0.8959587580242585\n",
      "CV score at 9 = 0.8970875034246559\n",
      "CV score at 10 = 0.8983500326157859\n",
      "\n",
      "Least difference of CV score and F1 score of testing is : 0.006090279124973175\n"
     ]
    }
   ],
   "source": [
    "ypr = model.predict(xt) \n",
    "acc = accuracy_score(yt, ypr)\n",
    "print('Accuracy score:',acc)\n",
    "\n",
    "#Cross validation for checking overfitting\n",
    "from sklearn.model_selection import cross_val_score\n",
    "CVS = []\n",
    "for i in range(2,11):\n",
    "    lsc = cross_val_score(model,x,y,cv=i)\n",
    "    CVS.append(lsc.mean())\n",
    "    print('CV score at',i,'=',lsc.mean())\n",
    "least_diff = min(acc - CVS)\n",
    "cvs = max(CVS)\n",
    "print('\\nLeast difference of CV score and F1 score of testing is :', least_diff)"
   ]
  },
  {
   "cell_type": "code",
   "execution_count": 191,
   "id": "042a837b",
   "metadata": {},
   "outputs": [
    {
     "data": {
      "text/html": [
       "<div>\n",
       "<style scoped>\n",
       "    .dataframe tbody tr th:only-of-type {\n",
       "        vertical-align: middle;\n",
       "    }\n",
       "\n",
       "    .dataframe tbody tr th {\n",
       "        vertical-align: top;\n",
       "    }\n",
       "\n",
       "    .dataframe thead th {\n",
       "        text-align: right;\n",
       "    }\n",
       "</style>\n",
       "<table border=\"1\" class=\"dataframe\">\n",
       "  <thead>\n",
       "    <tr style=\"text-align: right;\">\n",
       "      <th></th>\n",
       "      <th>Algorithm name</th>\n",
       "      <th>Accuracy f1 score test</th>\n",
       "      <th>CV score</th>\n",
       "      <th>F1-CV score diff</th>\n",
       "    </tr>\n",
       "  </thead>\n",
       "  <tbody>\n",
       "    <tr>\n",
       "      <th>0</th>\n",
       "      <td>Logistic regression</td>\n",
       "      <td>0.918379</td>\n",
       "      <td>0.912289</td>\n",
       "      <td>0.00609</td>\n",
       "    </tr>\n",
       "  </tbody>\n",
       "</table>\n",
       "</div>"
      ],
      "text/plain": [
       "        Algorithm name  Accuracy f1 score test  CV score  F1-CV score diff\n",
       "0  Logistic regression                0.918379  0.912289           0.00609"
      ]
     },
     "execution_count": 191,
     "metadata": {},
     "output_type": "execute_result"
    }
   ],
   "source": [
    "#Saving the results of model\n",
    "model_result = pd.DataFrame(columns=['Algorithm name','Accuracy f1 score test' ,'CV score','F1-CV score diff'])\n",
    "model_result.loc[len(model_result.index)] = ['Logistic regression', acc, cvs, least_diff] \n",
    "model_result"
   ]
  },
  {
   "cell_type": "code",
   "execution_count": 192,
   "id": "8d605165",
   "metadata": {},
   "outputs": [
    {
     "name": "stdout",
     "output_type": "stream",
     "text": [
      "Accuracy score of train is : 100.00%\n",
      "Accuracy score of test is : 98.00% \n",
      "\n",
      "Classification report:\n",
      "              precision    recall  f1-score   support\n",
      "\n",
      "           0       1.00      1.00      1.00       887\n",
      "           1       0.98      0.99      0.98       547\n",
      "           2       0.94      0.94      0.94       232\n",
      "           3       0.93      0.88      0.90        86\n",
      "\n",
      "    accuracy                           0.98      1752\n",
      "   macro avg       0.96      0.95      0.96      1752\n",
      "weighted avg       0.98      0.98      0.98      1752\n",
      "\n"
     ]
    }
   ],
   "source": [
    "#Decision tree classifier\n",
    "from sklearn.tree import DecisionTreeClassifier\n",
    "model = DecisionTreeClassifier()\n",
    "model.fit(xtr,ytr)\n",
    "metric_score(model, xtr, xt, ytr, yt, train=True)\n",
    "metric_score(model, xtr, xt, ytr, yt, train=False)"
   ]
  },
  {
   "cell_type": "code",
   "execution_count": 193,
   "id": "996d0c6b",
   "metadata": {},
   "outputs": [
    {
     "name": "stdout",
     "output_type": "stream",
     "text": [
      "Accuracy score: 0.9800228310502284\n",
      "CV score at 2 = 0.9165143901324806\n",
      "CV score at 3 = 0.9416376425932592\n",
      "CV score at 4 = 0.9482640475102786\n",
      "CV score at 5 = 0.9475840289567083\n",
      "CV score at 6 = 0.9414187173925971\n",
      "CV score at 7 = 0.945736119675688\n",
      "CV score at 8 = 0.9505515764694097\n",
      "CV score at 9 = 0.9513325259839159\n",
      "CV score at 10 = 0.9521446836268754\n",
      "\n",
      "Least difference of CV score and F1 score of testing is : 0.027878147423352928\n"
     ]
    }
   ],
   "source": [
    "ypr = model.predict(xt) \n",
    "acc = accuracy_score(yt, ypr)\n",
    "print('Accuracy score:',acc)\n",
    "\n",
    "#Cross validation for checking overfitting\n",
    "from sklearn.model_selection import cross_val_score\n",
    "CVS = []\n",
    "for i in range(2,11):\n",
    "    lsc = cross_val_score(model,x,y,cv=i)\n",
    "    CVS.append(lsc.mean())\n",
    "    print('CV score at',i,'=',lsc.mean())\n",
    "least_diff = min(acc - CVS)\n",
    "cvs = max(CVS)\n",
    "print('\\nLeast difference of CV score and F1 score of testing is :', least_diff)"
   ]
  },
  {
   "cell_type": "code",
   "execution_count": 194,
   "id": "46f8b826",
   "metadata": {},
   "outputs": [
    {
     "name": "stdout",
     "output_type": "stream",
     "text": [
      "DecisionTreeClassifier(max_depth=20, max_features='auto')\n"
     ]
    }
   ],
   "source": [
    "# Hyper parameter tuning for decision tree model\n",
    "from sklearn.model_selection import GridSearchCV\n",
    "parameters = {'criterion':[\"gini\", \"entropy\"],\n",
    "              'splitter':[\"best\", \"random\"],\n",
    "              'max_depth':[6,10,15,20],\n",
    "              'max_features':[\"auto\", \"sqrt\", \"log2\"]}\n",
    "gsv = GridSearchCV(model, parameters)\n",
    "gsv.fit(xtr,ytr)\n",
    "print(gsv.best_estimator_)"
   ]
  },
  {
   "cell_type": "code",
   "execution_count": 277,
   "id": "82b324ad",
   "metadata": {},
   "outputs": [
    {
     "name": "stdout",
     "output_type": "stream",
     "text": [
      "Accuracy score of train is : 100.00%\n",
      "Accuracy score of test is : 97.03% \n",
      "\n",
      "Classification report:\n",
      "              precision    recall  f1-score   support\n",
      "\n",
      "           0       1.00      1.00      1.00       887\n",
      "           1       0.98      0.97      0.97       547\n",
      "           2       0.90      0.92      0.91       232\n",
      "           3       0.86      0.83      0.84        86\n",
      "\n",
      "    accuracy                           0.97      1752\n",
      "   macro avg       0.93      0.93      0.93      1752\n",
      "weighted avg       0.97      0.97      0.97      1752\n",
      "\n"
     ]
    }
   ],
   "source": [
    "#Training model as per best parameters\n",
    "model = DecisionTreeClassifier(max_depth=20, max_features='auto')\n",
    "model.fit(xtr,ytr)\n",
    "metric_score(model, xtr, xt, ytr, yt, train=True)\n",
    "metric_score(model, xtr, xt, ytr, yt, train=False)"
   ]
  },
  {
   "cell_type": "code",
   "execution_count": 278,
   "id": "8225d6a7",
   "metadata": {},
   "outputs": [
    {
     "name": "stdout",
     "output_type": "stream",
     "text": [
      "Accuracy score: 0.9703196347031964\n",
      "CV score at 2 = 0.8556418455915944\n",
      "CV score at 3 = 0.9338715652367952\n",
      "CV score at 4 = 0.8236637734125172\n",
      "CV score at 5 = 0.7854202034584282\n",
      "CV score at 6 = 0.9083017235173901\n",
      "CV score at 7 = 0.9056541738038141\n",
      "CV score at 8 = 0.9065840658469193\n",
      "CV score at 9 = 0.8530073060892849\n",
      "CV score at 10 = 0.8976632746249184\n",
      "\n",
      "Least difference of CV score and F1 score of testing is : 0.03644806946640122\n"
     ]
    },
    {
     "data": {
      "text/html": [
       "<div>\n",
       "<style scoped>\n",
       "    .dataframe tbody tr th:only-of-type {\n",
       "        vertical-align: middle;\n",
       "    }\n",
       "\n",
       "    .dataframe tbody tr th {\n",
       "        vertical-align: top;\n",
       "    }\n",
       "\n",
       "    .dataframe thead th {\n",
       "        text-align: right;\n",
       "    }\n",
       "</style>\n",
       "<table border=\"1\" class=\"dataframe\">\n",
       "  <thead>\n",
       "    <tr style=\"text-align: right;\">\n",
       "      <th></th>\n",
       "      <th>Algorithm name</th>\n",
       "      <th>Accuracy f1 score test</th>\n",
       "      <th>CV score</th>\n",
       "      <th>F1-CV score diff</th>\n",
       "    </tr>\n",
       "  </thead>\n",
       "  <tbody>\n",
       "    <tr>\n",
       "      <th>0</th>\n",
       "      <td>Logistic regression</td>\n",
       "      <td>0.918379</td>\n",
       "      <td>0.912289</td>\n",
       "      <td>0.006090</td>\n",
       "    </tr>\n",
       "    <tr>\n",
       "      <th>1</th>\n",
       "      <td>Decision tree classifier</td>\n",
       "      <td>0.970320</td>\n",
       "      <td>0.933872</td>\n",
       "      <td>0.036448</td>\n",
       "    </tr>\n",
       "  </tbody>\n",
       "</table>\n",
       "</div>"
      ],
      "text/plain": [
       "             Algorithm name  Accuracy f1 score test  CV score  \\\n",
       "0       Logistic regression                0.918379  0.912289   \n",
       "1  Decision tree classifier                0.970320  0.933872   \n",
       "\n",
       "   F1-CV score diff  \n",
       "0          0.006090  \n",
       "1          0.036448  "
      ]
     },
     "execution_count": 278,
     "metadata": {},
     "output_type": "execute_result"
    }
   ],
   "source": [
    "ypr = model.predict(xt) \n",
    "acc = accuracy_score(yt, ypr)\n",
    "print('Accuracy score:',acc)\n",
    "\n",
    "#Cross validation for checking overfitting\n",
    "from sklearn.model_selection import cross_val_score\n",
    "CVS = []\n",
    "for i in range(2,11):\n",
    "    lsc = cross_val_score(model,x,y,cv=i)\n",
    "    CVS.append(lsc.mean())\n",
    "    print('CV score at',i,'=',lsc.mean())\n",
    "least_diff = min(acc - CVS)\n",
    "cvs = max(CVS)\n",
    "print('\\nLeast difference of CV score and F1 score of testing is :', least_diff)\n",
    "\n",
    "#Saving the results of model\n",
    "model_result.loc[len(model_result.index)] = ['Decision tree classifier', acc, cvs, abs(least_diff)] \n",
    "model_result"
   ]
  },
  {
   "cell_type": "code",
   "execution_count": 280,
   "id": "b50a9b3c",
   "metadata": {},
   "outputs": [
    {
     "name": "stdout",
     "output_type": "stream",
     "text": [
      "Accuracy score of train is : 88.68%\n",
      "Accuracy score of test is : 83.45% \n",
      "\n",
      "Classification report:\n",
      "              precision    recall  f1-score   support\n",
      "\n",
      "           0       0.89      0.91      0.90       887\n",
      "           1       0.76      0.79      0.78       547\n",
      "           2       0.80      0.72      0.76       232\n",
      "           3       0.89      0.59      0.71        86\n",
      "\n",
      "    accuracy                           0.83      1752\n",
      "   macro avg       0.83      0.76      0.79      1752\n",
      "weighted avg       0.84      0.83      0.83      1752\n",
      "\n"
     ]
    }
   ],
   "source": [
    "#K nearest neighbors classifier\n",
    "from sklearn.neighbors import KNeighborsClassifier\n",
    "model = KNeighborsClassifier()\n",
    "model.fit(xtr,ytr)\n",
    "metric_score(model, xtr, xt, ytr, yt, train=True)\n",
    "metric_score(model, xtr, xt, ytr, yt, train=False)"
   ]
  },
  {
   "cell_type": "code",
   "execution_count": 281,
   "id": "b3a3a06c",
   "metadata": {},
   "outputs": [
    {
     "name": "stdout",
     "output_type": "stream",
     "text": [
      "Accuracy score: 0.8344748858447488\n",
      "CV score at 2 = 0.7206486980356328\n",
      "CV score at 3 = 0.7425790690271635\n",
      "CV score at 4 = 0.7560529922338968\n",
      "CV score at 5 = 0.7574260240071558\n",
      "CV score at 6 = 0.7714806695021611\n",
      "CV score at 7 = 0.7584470480758251\n",
      "CV score at 8 = 0.7639489577855133\n",
      "CV score at 9 = 0.7703213090902941\n",
      "CV score at 10 = 0.7653180691454663\n",
      "\n",
      "Least difference of CV score and F1 score of testing is : 0.06299421634258773\n"
     ]
    }
   ],
   "source": [
    "ypr = model.predict(xt) \n",
    "acc = accuracy_score(yt, ypr)\n",
    "print('Accuracy score:',acc)\n",
    "\n",
    "#Cross validation for checking overfitting\n",
    "from sklearn.model_selection import cross_val_score\n",
    "CVS = []\n",
    "for i in range(2,11):\n",
    "    lsc = cross_val_score(model,x,y,cv=i)\n",
    "    CVS.append(lsc.mean())\n",
    "    print('CV score at',i,'=',lsc.mean())\n",
    "least_diff = min(acc - CVS)\n",
    "cvs = max(CVS)\n",
    "print('\\nLeast difference of CV score and F1 score of testing is :', least_diff)"
   ]
  },
  {
   "cell_type": "code",
   "execution_count": 282,
   "id": "1857f54f",
   "metadata": {},
   "outputs": [
    {
     "data": {
      "text/html": [
       "<div>\n",
       "<style scoped>\n",
       "    .dataframe tbody tr th:only-of-type {\n",
       "        vertical-align: middle;\n",
       "    }\n",
       "\n",
       "    .dataframe tbody tr th {\n",
       "        vertical-align: top;\n",
       "    }\n",
       "\n",
       "    .dataframe thead th {\n",
       "        text-align: right;\n",
       "    }\n",
       "</style>\n",
       "<table border=\"1\" class=\"dataframe\">\n",
       "  <thead>\n",
       "    <tr style=\"text-align: right;\">\n",
       "      <th></th>\n",
       "      <th>Algorithm name</th>\n",
       "      <th>Accuracy f1 score test</th>\n",
       "      <th>CV score</th>\n",
       "      <th>F1-CV score diff</th>\n",
       "    </tr>\n",
       "  </thead>\n",
       "  <tbody>\n",
       "    <tr>\n",
       "      <th>0</th>\n",
       "      <td>Logistic regression</td>\n",
       "      <td>0.918379</td>\n",
       "      <td>0.912289</td>\n",
       "      <td>0.006090</td>\n",
       "    </tr>\n",
       "    <tr>\n",
       "      <th>1</th>\n",
       "      <td>Decision tree classifier</td>\n",
       "      <td>0.970320</td>\n",
       "      <td>0.933872</td>\n",
       "      <td>0.036448</td>\n",
       "    </tr>\n",
       "    <tr>\n",
       "      <th>2</th>\n",
       "      <td>KNN classifier</td>\n",
       "      <td>0.834475</td>\n",
       "      <td>0.771481</td>\n",
       "      <td>0.062994</td>\n",
       "    </tr>\n",
       "  </tbody>\n",
       "</table>\n",
       "</div>"
      ],
      "text/plain": [
       "             Algorithm name  Accuracy f1 score test  CV score  \\\n",
       "0       Logistic regression                0.918379  0.912289   \n",
       "1  Decision tree classifier                0.970320  0.933872   \n",
       "2            KNN classifier                0.834475  0.771481   \n",
       "\n",
       "   F1-CV score diff  \n",
       "0          0.006090  \n",
       "1          0.036448  \n",
       "2          0.062994  "
      ]
     },
     "execution_count": 282,
     "metadata": {},
     "output_type": "execute_result"
    }
   ],
   "source": [
    "#Saving the results of model\n",
    "model_result.loc[len(model_result.index)] = ['KNN classifier', acc, cvs, abs(least_diff)] \n",
    "model_result"
   ]
  },
  {
   "cell_type": "code",
   "execution_count": 283,
   "id": "b1909daf",
   "metadata": {},
   "outputs": [
    {
     "name": "stdout",
     "output_type": "stream",
     "text": [
      "Accuracy score of train is : 99.34%\n",
      "Accuracy score of test is : 98.29% \n",
      "\n",
      "Classification report:\n",
      "              precision    recall  f1-score   support\n",
      "\n",
      "           0       1.00      1.00      1.00       887\n",
      "           1       0.97      1.00      0.98       547\n",
      "           2       0.95      0.94      0.94       232\n",
      "           3       0.96      0.88      0.92        86\n",
      "\n",
      "    accuracy                           0.98      1752\n",
      "   macro avg       0.97      0.95      0.96      1752\n",
      "weighted avg       0.98      0.98      0.98      1752\n",
      "\n"
     ]
    }
   ],
   "source": [
    "# Gradient boosting regressor\n",
    "from sklearn.ensemble import GradientBoostingClassifier\n",
    "model = GradientBoostingClassifier()\n",
    "model.fit(xtr,ytr)\n",
    "metric_score(model, xtr, xt, ytr, yt, train=True)\n",
    "metric_score(model, xtr, xt, ytr, yt, train=False)"
   ]
  },
  {
   "cell_type": "code",
   "execution_count": 284,
   "id": "f3f01f28",
   "metadata": {},
   "outputs": [
    {
     "name": "stdout",
     "output_type": "stream",
     "text": [
      "Accuracy score: 0.9828767123287672\n",
      "CV score at 2 = 0.9548880767473733\n",
      "CV score at 3 = 0.9553436267924855\n",
      "CV score at 4 = 0.9547738693467337\n",
      "CV score at 5 = 0.9561497148400523\n",
      "CV score at 6 = 0.9568344490659455\n",
      "CV score at 7 = 0.9554493091241294\n",
      "CV score at 8 = 0.9539788426702729\n",
      "CV score at 9 = 0.9544185932852778\n",
      "CV score at 10 = 0.9536310502283104\n",
      "\n",
      "Least difference of CV score and F1 score of testing is : 0.026042263262821663\n"
     ]
    }
   ],
   "source": [
    "ypr = model.predict(xt) \n",
    "acc = accuracy_score(yt, ypr)\n",
    "print('Accuracy score:',acc)\n",
    "\n",
    "#Cross validation for checking overfitting\n",
    "from sklearn.model_selection import cross_val_score\n",
    "CVS = []\n",
    "for i in range(2,11):\n",
    "    lsc = cross_val_score(model,x,y,cv=i)\n",
    "    CVS.append(lsc.mean())\n",
    "    print('CV score at',i,'=',lsc.mean())\n",
    "least_diff = min(acc - CVS)\n",
    "cvs = max(CVS)\n",
    "print('\\nLeast difference of CV score and F1 score of testing is :', least_diff)"
   ]
  },
  {
   "cell_type": "code",
   "execution_count": 293,
   "id": "3d9d396b",
   "metadata": {},
   "outputs": [
    {
     "name": "stdout",
     "output_type": "stream",
     "text": [
      "GradientBoostingClassifier(criterion='squared_error')\n"
     ]
    }
   ],
   "source": [
    "# Hyper parameter tuning for gradient boost model\n",
    "from sklearn.model_selection import GridSearchCV\n",
    "parameters = { 'criterion':['friedman_mse', 'squared_error', 'mse', 'mae'], \n",
    "              'n_estimators':[50,100,125,150], \n",
    "              'learning_rate' :[0.01, 0.1,1], \n",
    "              'loss':['deviance', 'exponential']}\n",
    "gsv = GridSearchCV(model, parameters)\n",
    "gsv.fit(xtr,ytr)\n",
    "print(gsv.best_estimator_)"
   ]
  },
  {
   "cell_type": "code",
   "execution_count": 294,
   "id": "77a5e014",
   "metadata": {},
   "outputs": [
    {
     "name": "stdout",
     "output_type": "stream",
     "text": [
      "Accuracy score of train is : 99.34%\n",
      "Accuracy score of test is : 98.34% \n",
      "\n",
      "Classification report:\n",
      "              precision    recall  f1-score   support\n",
      "\n",
      "           0       1.00      1.00      1.00       887\n",
      "           1       0.97      1.00      0.99       547\n",
      "           2       0.95      0.94      0.95       232\n",
      "           3       0.96      0.88      0.92        86\n",
      "\n",
      "    accuracy                           0.98      1752\n",
      "   macro avg       0.97      0.95      0.96      1752\n",
      "weighted avg       0.98      0.98      0.98      1752\n",
      "\n"
     ]
    }
   ],
   "source": [
    "#Training model as per best parameters\n",
    "model = GradientBoostingClassifier(criterion='squared_error')\n",
    "model.fit(xtr,ytr)\n",
    "metric_score(model, xtr, xt, ytr, yt, train=True)\n",
    "metric_score(model, xtr, xt, ytr, yt, train=False)"
   ]
  },
  {
   "cell_type": "code",
   "execution_count": 295,
   "id": "057107f9",
   "metadata": {},
   "outputs": [
    {
     "name": "stdout",
     "output_type": "stream",
     "text": [
      "Accuracy score: 0.9834474885844748\n",
      "CV score at 2 = 0.9548880767473733\n",
      "CV score at 3 = 0.9553436267924855\n",
      "CV score at 4 = 0.9546596619460941\n",
      "CV score at 5 = 0.9560355595889106\n",
      "CV score at 6 = 0.9568344490659455\n",
      "CV score at 7 = 0.955563503482928\n",
      "CV score at 8 = 0.953179755912282\n",
      "CV score at 9 = 0.9545327876440763\n",
      "CV score at 10 = 0.9536310502283104\n",
      "\n",
      "Least difference of CV score and F1 score of testing is : 0.026613039518529336\n"
     ]
    },
    {
     "data": {
      "text/html": [
       "<div>\n",
       "<style scoped>\n",
       "    .dataframe tbody tr th:only-of-type {\n",
       "        vertical-align: middle;\n",
       "    }\n",
       "\n",
       "    .dataframe tbody tr th {\n",
       "        vertical-align: top;\n",
       "    }\n",
       "\n",
       "    .dataframe thead th {\n",
       "        text-align: right;\n",
       "    }\n",
       "</style>\n",
       "<table border=\"1\" class=\"dataframe\">\n",
       "  <thead>\n",
       "    <tr style=\"text-align: right;\">\n",
       "      <th></th>\n",
       "      <th>Algorithm name</th>\n",
       "      <th>Accuracy f1 score test</th>\n",
       "      <th>CV score</th>\n",
       "      <th>F1-CV score diff</th>\n",
       "    </tr>\n",
       "  </thead>\n",
       "  <tbody>\n",
       "    <tr>\n",
       "      <th>0</th>\n",
       "      <td>Logistic regression</td>\n",
       "      <td>0.918379</td>\n",
       "      <td>0.912289</td>\n",
       "      <td>0.006090</td>\n",
       "    </tr>\n",
       "    <tr>\n",
       "      <th>1</th>\n",
       "      <td>Decision tree classifier</td>\n",
       "      <td>0.970320</td>\n",
       "      <td>0.933872</td>\n",
       "      <td>0.036448</td>\n",
       "    </tr>\n",
       "    <tr>\n",
       "      <th>2</th>\n",
       "      <td>KNN classifier</td>\n",
       "      <td>0.834475</td>\n",
       "      <td>0.771481</td>\n",
       "      <td>0.062994</td>\n",
       "    </tr>\n",
       "    <tr>\n",
       "      <th>3</th>\n",
       "      <td>Gradient boost classifier</td>\n",
       "      <td>0.983447</td>\n",
       "      <td>0.956834</td>\n",
       "      <td>0.026613</td>\n",
       "    </tr>\n",
       "  </tbody>\n",
       "</table>\n",
       "</div>"
      ],
      "text/plain": [
       "              Algorithm name  Accuracy f1 score test  CV score  \\\n",
       "0        Logistic regression                0.918379  0.912289   \n",
       "1   Decision tree classifier                0.970320  0.933872   \n",
       "2             KNN classifier                0.834475  0.771481   \n",
       "3  Gradient boost classifier                0.983447  0.956834   \n",
       "\n",
       "   F1-CV score diff  \n",
       "0          0.006090  \n",
       "1          0.036448  \n",
       "2          0.062994  \n",
       "3          0.026613  "
      ]
     },
     "execution_count": 295,
     "metadata": {},
     "output_type": "execute_result"
    }
   ],
   "source": [
    "ypr = model.predict(xt) \n",
    "acc = accuracy_score(yt, ypr)\n",
    "print('Accuracy score:',acc)\n",
    "\n",
    "#Cross validation for checking overfitting\n",
    "from sklearn.model_selection import cross_val_score\n",
    "CVS = []\n",
    "for i in range(2,11):\n",
    "    lsc = cross_val_score(model,x,y,cv=i)\n",
    "    CVS.append(lsc.mean())\n",
    "    print('CV score at',i,'=',lsc.mean())\n",
    "least_diff = min(acc - CVS)\n",
    "cvs = max(CVS)\n",
    "print('\\nLeast difference of CV score and F1 score of testing is :', least_diff)\n",
    "\n",
    "#Saving the results of model\n",
    "model_result.loc[len(model_result.index)] = ['Gradient boost classifier', acc, cvs, abs(least_diff)] \n",
    "model_result"
   ]
  },
  {
   "cell_type": "code",
   "execution_count": 296,
   "id": "9ba04fd8",
   "metadata": {},
   "outputs": [
    {
     "name": "stdout",
     "output_type": "stream",
     "text": [
      "Accuracy score of train is : 100.00%\n",
      "Accuracy score of test is : 97.55% \n",
      "\n",
      "Classification report:\n",
      "              precision    recall  f1-score   support\n",
      "\n",
      "           0       1.00      1.00      1.00       887\n",
      "           1       0.97      0.99      0.98       547\n",
      "           2       0.91      0.94      0.92       232\n",
      "           3       0.96      0.79      0.87        86\n",
      "\n",
      "    accuracy                           0.98      1752\n",
      "   macro avg       0.96      0.93      0.94      1752\n",
      "weighted avg       0.98      0.98      0.98      1752\n",
      "\n"
     ]
    }
   ],
   "source": [
    "#Random forest classifier\n",
    "from sklearn.ensemble import RandomForestClassifier\n",
    "model = RandomForestClassifier()\n",
    "model.fit(xtr,ytr)\n",
    "metric_score(model, xtr, xt, ytr, yt, train=True)\n",
    "metric_score(model, xtr, xt, ytr, yt, train=False)"
   ]
  },
  {
   "cell_type": "code",
   "execution_count": 297,
   "id": "efb6510f",
   "metadata": {},
   "outputs": [
    {
     "name": "stdout",
     "output_type": "stream",
     "text": [
      "Accuracy score: 0.9754566210045662\n",
      "CV score at 2 = 0.9500913659205117\n",
      "CV score at 3 = 0.9506603666445087\n",
      "CV score at 4 = 0.950776610324349\n",
      "CV score at 5 = 0.9518097290784912\n",
      "CV score at 6 = 0.9515808820077555\n",
      "CV score at 7 = 0.9511065433367591\n",
      "CV score at 8 = 0.949978921973738\n",
      "CV score at 9 = 0.9500746257785071\n",
      "CV score at 10 = 0.9511150684931506\n",
      "\n",
      "Least difference of CV score and F1 score of testing is : 0.023646891926075053\n"
     ]
    }
   ],
   "source": [
    "ypr = model.predict(xt) \n",
    "acc = accuracy_score(yt, ypr)\n",
    "print('Accuracy score:',acc)\n",
    "\n",
    "#Cross validation for checking overfitting\n",
    "from sklearn.model_selection import cross_val_score\n",
    "CVS = []\n",
    "for i in range(2,11):\n",
    "    lsc = cross_val_score(model,x,y,cv=i)\n",
    "    CVS.append(lsc.mean())\n",
    "    print('CV score at',i,'=',lsc.mean())\n",
    "least_diff = min(acc - CVS)\n",
    "cvs = max(CVS)\n",
    "print('\\nLeast difference of CV score and F1 score of testing is :', least_diff)"
   ]
  },
  {
   "cell_type": "code",
   "execution_count": 310,
   "id": "7e4a18a1",
   "metadata": {},
   "outputs": [
    {
     "name": "stdout",
     "output_type": "stream",
     "text": [
      "RandomForestClassifier(max_depth=16, max_features='log2')\n"
     ]
    }
   ],
   "source": [
    "# Hyper parameter tuning for random forest model\n",
    "from sklearn.model_selection import GridSearchCV\n",
    "parameters = { 'n_estimators':[80,90,100,150], \n",
    "              'criterion':[\"entropy\",'gini'], \n",
    "              'max_depth' :[4, 8, 14, 16, 20], \n",
    "              'max_features':[\"auto\", \"sqrt\", \"log2\"]}\n",
    "gsv = GridSearchCV(model, parameters)\n",
    "gsv.fit(xtr,ytr)\n",
    "print(gsv.best_estimator_)"
   ]
  },
  {
   "cell_type": "code",
   "execution_count": 311,
   "id": "d64313a2",
   "metadata": {},
   "outputs": [
    {
     "name": "stdout",
     "output_type": "stream",
     "text": [
      "Accuracy score of train is : 100.00%\n",
      "Accuracy score of test is : 97.66% \n",
      "\n",
      "Classification report:\n",
      "              precision    recall  f1-score   support\n",
      "\n",
      "           0       1.00      1.00      1.00       887\n",
      "           1       0.97      0.99      0.98       547\n",
      "           2       0.92      0.93      0.92       232\n",
      "           3       0.96      0.83      0.89        86\n",
      "\n",
      "    accuracy                           0.98      1752\n",
      "   macro avg       0.96      0.93      0.95      1752\n",
      "weighted avg       0.98      0.98      0.98      1752\n",
      "\n"
     ]
    }
   ],
   "source": [
    "#Training model as per best parameters\n",
    "model = RandomForestClassifier(max_depth=16, max_features='log2')\n",
    "model.fit(xtr,ytr)\n",
    "metric_score(model, xtr, xt, ytr, yt, train=True)\n",
    "metric_score(model, xtr, xt, ytr, yt, train=False)"
   ]
  },
  {
   "cell_type": "code",
   "execution_count": 312,
   "id": "4aa331f2",
   "metadata": {},
   "outputs": [
    {
     "name": "stdout",
     "output_type": "stream",
     "text": [
      "Accuracy score: 0.9765981735159818\n",
      "CV score at 2 = 0.9508908177249886\n",
      "CV score at 3 = 0.9494039547564924\n",
      "CV score at 4 = 0.9505481955230699\n",
      "CV score at 5 = 0.9516959649932588\n",
      "CV score at 6 = 0.9511242610031893\n",
      "CV score at 7 = 0.950763777549389\n",
      "CV score at 8 = 0.9498651841092551\n",
      "CV score at 9 = 0.9500741558428741\n",
      "CV score at 10 = 0.949858708414873\n",
      "\n",
      "Least difference of CV score and F1 score of testing is : 0.024902208522722957\n"
     ]
    },
    {
     "data": {
      "text/html": [
       "<div>\n",
       "<style scoped>\n",
       "    .dataframe tbody tr th:only-of-type {\n",
       "        vertical-align: middle;\n",
       "    }\n",
       "\n",
       "    .dataframe tbody tr th {\n",
       "        vertical-align: top;\n",
       "    }\n",
       "\n",
       "    .dataframe thead th {\n",
       "        text-align: right;\n",
       "    }\n",
       "</style>\n",
       "<table border=\"1\" class=\"dataframe\">\n",
       "  <thead>\n",
       "    <tr style=\"text-align: right;\">\n",
       "      <th></th>\n",
       "      <th>Algorithm name</th>\n",
       "      <th>Accuracy f1 score test</th>\n",
       "      <th>CV score</th>\n",
       "      <th>F1-CV score diff</th>\n",
       "    </tr>\n",
       "  </thead>\n",
       "  <tbody>\n",
       "    <tr>\n",
       "      <th>0</th>\n",
       "      <td>Logistic regression</td>\n",
       "      <td>0.918379</td>\n",
       "      <td>0.912289</td>\n",
       "      <td>0.006090</td>\n",
       "    </tr>\n",
       "    <tr>\n",
       "      <th>1</th>\n",
       "      <td>Decision tree classifier</td>\n",
       "      <td>0.970320</td>\n",
       "      <td>0.933872</td>\n",
       "      <td>0.036448</td>\n",
       "    </tr>\n",
       "    <tr>\n",
       "      <th>2</th>\n",
       "      <td>KNN classifier</td>\n",
       "      <td>0.834475</td>\n",
       "      <td>0.771481</td>\n",
       "      <td>0.062994</td>\n",
       "    </tr>\n",
       "    <tr>\n",
       "      <th>3</th>\n",
       "      <td>Gradient boost classifier</td>\n",
       "      <td>0.983447</td>\n",
       "      <td>0.956834</td>\n",
       "      <td>0.026613</td>\n",
       "    </tr>\n",
       "    <tr>\n",
       "      <th>4</th>\n",
       "      <td>Random forest classifier</td>\n",
       "      <td>0.976598</td>\n",
       "      <td>0.951696</td>\n",
       "      <td>0.024902</td>\n",
       "    </tr>\n",
       "  </tbody>\n",
       "</table>\n",
       "</div>"
      ],
      "text/plain": [
       "              Algorithm name  Accuracy f1 score test  CV score  \\\n",
       "0        Logistic regression                0.918379  0.912289   \n",
       "1   Decision tree classifier                0.970320  0.933872   \n",
       "2             KNN classifier                0.834475  0.771481   \n",
       "3  Gradient boost classifier                0.983447  0.956834   \n",
       "4   Random forest classifier                0.976598  0.951696   \n",
       "\n",
       "   F1-CV score diff  \n",
       "0          0.006090  \n",
       "1          0.036448  \n",
       "2          0.062994  \n",
       "3          0.026613  \n",
       "4          0.024902  "
      ]
     },
     "execution_count": 312,
     "metadata": {},
     "output_type": "execute_result"
    }
   ],
   "source": [
    "ypr = model.predict(xt) \n",
    "acc = accuracy_score(yt, ypr)\n",
    "print('Accuracy score:',acc)\n",
    "\n",
    "#Cross validation for checking overfitting\n",
    "from sklearn.model_selection import cross_val_score\n",
    "CVS = []\n",
    "for i in range(2,11):\n",
    "    lsc = cross_val_score(model,x,y,cv=i)\n",
    "    CVS.append(lsc.mean())\n",
    "    print('CV score at',i,'=',lsc.mean())\n",
    "least_diff = min(acc - CVS)\n",
    "cvs = max(CVS)\n",
    "print('\\nLeast difference of CV score and F1 score of testing is :', least_diff)\n",
    "\n",
    "#Saving the results of model\n",
    "model_result.loc[len(model_result.index)] = ['Random forest classifier', acc, cvs, abs(least_diff)] \n",
    "model_result"
   ]
  },
  {
   "cell_type": "markdown",
   "id": "07735565",
   "metadata": {},
   "source": [
    "Both GB classifier and RF classifiers giving best results\n",
    "\n",
    "Based on lowest CV-F1 test score differnce as minimum RFc can be selected as best model"
   ]
  },
  {
   "cell_type": "code",
   "execution_count": 313,
   "id": "e3083a0b",
   "metadata": {},
   "outputs": [],
   "source": [
    "#Prediction using selected best model\n",
    "model = RandomForestClassifier(max_depth=16, max_features='log2')\n",
    "model.fit(xtr,ytr)\n",
    "predyt = model.predict(xt)"
   ]
  },
  {
   "cell_type": "code",
   "execution_count": 320,
   "id": "a638a4d3",
   "metadata": {},
   "outputs": [
    {
     "data": {
      "text/html": [
       "<div>\n",
       "<style scoped>\n",
       "    .dataframe tbody tr th:only-of-type {\n",
       "        vertical-align: middle;\n",
       "    }\n",
       "\n",
       "    .dataframe tbody tr th {\n",
       "        vertical-align: top;\n",
       "    }\n",
       "\n",
       "    .dataframe thead th {\n",
       "        text-align: right;\n",
       "    }\n",
       "</style>\n",
       "<table border=\"1\" class=\"dataframe\">\n",
       "  <thead>\n",
       "    <tr style=\"text-align: right;\">\n",
       "      <th></th>\n",
       "      <th>Actual price range</th>\n",
       "      <th>Predicted price range</th>\n",
       "    </tr>\n",
       "  </thead>\n",
       "  <tbody>\n",
       "    <tr>\n",
       "      <th>8083</th>\n",
       "      <td>2</td>\n",
       "      <td>2</td>\n",
       "    </tr>\n",
       "    <tr>\n",
       "      <th>7133</th>\n",
       "      <td>0</td>\n",
       "      <td>0</td>\n",
       "    </tr>\n",
       "    <tr>\n",
       "      <th>3256</th>\n",
       "      <td>1</td>\n",
       "      <td>1</td>\n",
       "    </tr>\n",
       "    <tr>\n",
       "      <th>1470</th>\n",
       "      <td>2</td>\n",
       "      <td>2</td>\n",
       "    </tr>\n",
       "    <tr>\n",
       "      <th>6640</th>\n",
       "      <td>1</td>\n",
       "      <td>1</td>\n",
       "    </tr>\n",
       "  </tbody>\n",
       "</table>\n",
       "</div>"
      ],
      "text/plain": [
       "      Actual price range  Predicted price range\n",
       "8083                   2                      2\n",
       "7133                   0                      0\n",
       "3256                   1                      1\n",
       "1470                   2                      2\n",
       "6640                   1                      1"
      ]
     },
     "execution_count": 320,
     "metadata": {},
     "output_type": "execute_result"
    }
   ],
   "source": [
    "table = pd.DataFrame()\n",
    "table['Actual price range'] = yt\n",
    "table['Predicted price range'] = predyt\n",
    "table.sample(5)"
   ]
  },
  {
   "cell_type": "code",
   "execution_count": 321,
   "id": "a9598802",
   "metadata": {},
   "outputs": [],
   "source": [
    "#Saving the model\n",
    "import pickle\n",
    "filename='zomato_cls.pkl'\n",
    "pickle.dump(model,open(filename,'wb'))"
   ]
  }
 ],
 "metadata": {
  "kernelspec": {
   "display_name": "Python 3",
   "language": "python",
   "name": "python3"
  },
  "language_info": {
   "codemirror_mode": {
    "name": "ipython",
    "version": 3
   },
   "file_extension": ".py",
   "mimetype": "text/x-python",
   "name": "python",
   "nbconvert_exporter": "python",
   "pygments_lexer": "ipython3",
   "version": "3.8.8"
  }
 },
 "nbformat": 4,
 "nbformat_minor": 5
}
