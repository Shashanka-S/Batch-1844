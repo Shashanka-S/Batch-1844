{
 "cells": [
  {
   "cell_type": "code",
   "execution_count": 1,
   "id": "3c2120d2",
   "metadata": {},
   "outputs": [],
   "source": [
    "#importing required libraries\n",
    "import pandas as pd\n",
    "import numpy as np\n",
    "import seaborn as sns\n",
    "import matplotlib.pyplot as plt\n",
    "\n",
    "import warnings\n",
    "warnings.filterwarnings('ignore')"
   ]
  },
  {
   "cell_type": "code",
   "execution_count": 2,
   "id": "994ed32f",
   "metadata": {},
   "outputs": [
    {
     "data": {
      "text/html": [
       "<div>\n",
       "<style scoped>\n",
       "    .dataframe tbody tr th:only-of-type {\n",
       "        vertical-align: middle;\n",
       "    }\n",
       "\n",
       "    .dataframe tbody tr th {\n",
       "        vertical-align: top;\n",
       "    }\n",
       "\n",
       "    .dataframe thead th {\n",
       "        text-align: right;\n",
       "    }\n",
       "</style>\n",
       "<table border=\"1\" class=\"dataframe\">\n",
       "  <thead>\n",
       "    <tr style=\"text-align: right;\">\n",
       "      <th></th>\n",
       "      <th>country</th>\n",
       "      <th>country_long</th>\n",
       "      <th>name</th>\n",
       "      <th>gppd_idnr</th>\n",
       "      <th>capacity_mw</th>\n",
       "      <th>latitude</th>\n",
       "      <th>longitude</th>\n",
       "      <th>primary_fuel</th>\n",
       "      <th>other_fuel1</th>\n",
       "      <th>other_fuel2</th>\n",
       "      <th>other_fuel3</th>\n",
       "      <th>commissioning_year</th>\n",
       "      <th>owner</th>\n",
       "      <th>source</th>\n",
       "      <th>url</th>\n",
       "      <th>geolocation_source</th>\n",
       "      <th>wepp_id</th>\n",
       "      <th>year_of_capacity_data</th>\n",
       "      <th>generation_gwh_2013</th>\n",
       "      <th>generation_gwh_2014</th>\n",
       "      <th>generation_gwh_2015</th>\n",
       "      <th>generation_gwh_2016</th>\n",
       "      <th>generation_gwh_2017</th>\n",
       "      <th>generation_gwh_2018</th>\n",
       "      <th>generation_gwh_2019</th>\n",
       "      <th>generation_data_source</th>\n",
       "      <th>estimated_generation_gwh</th>\n",
       "    </tr>\n",
       "  </thead>\n",
       "  <tbody>\n",
       "    <tr>\n",
       "      <th>0</th>\n",
       "      <td>IND</td>\n",
       "      <td>India</td>\n",
       "      <td>ACME Solar Tower</td>\n",
       "      <td>WRI1020239</td>\n",
       "      <td>2.5</td>\n",
       "      <td>28.1839</td>\n",
       "      <td>73.2407</td>\n",
       "      <td>Solar</td>\n",
       "      <td>NaN</td>\n",
       "      <td>NaN</td>\n",
       "      <td>NaN</td>\n",
       "      <td>2011.0</td>\n",
       "      <td>Solar Paces</td>\n",
       "      <td>National Renewable Energy Laboratory</td>\n",
       "      <td>http://www.nrel.gov/csp/solarpaces/project_det...</td>\n",
       "      <td>National Renewable Energy Laboratory</td>\n",
       "      <td>NaN</td>\n",
       "      <td>NaN</td>\n",
       "      <td>NaN</td>\n",
       "      <td>NaN</td>\n",
       "      <td>NaN</td>\n",
       "      <td>NaN</td>\n",
       "      <td>NaN</td>\n",
       "      <td>NaN</td>\n",
       "      <td>NaN</td>\n",
       "      <td>NaN</td>\n",
       "      <td>NaN</td>\n",
       "    </tr>\n",
       "    <tr>\n",
       "      <th>1</th>\n",
       "      <td>IND</td>\n",
       "      <td>India</td>\n",
       "      <td>ADITYA CEMENT WORKS</td>\n",
       "      <td>WRI1019881</td>\n",
       "      <td>98.0</td>\n",
       "      <td>24.7663</td>\n",
       "      <td>74.6090</td>\n",
       "      <td>Coal</td>\n",
       "      <td>NaN</td>\n",
       "      <td>NaN</td>\n",
       "      <td>NaN</td>\n",
       "      <td>NaN</td>\n",
       "      <td>Ultratech Cement ltd</td>\n",
       "      <td>Ultratech Cement ltd</td>\n",
       "      <td>http://www.ultratechcement.com/</td>\n",
       "      <td>WRI</td>\n",
       "      <td>NaN</td>\n",
       "      <td>NaN</td>\n",
       "      <td>NaN</td>\n",
       "      <td>NaN</td>\n",
       "      <td>NaN</td>\n",
       "      <td>NaN</td>\n",
       "      <td>NaN</td>\n",
       "      <td>NaN</td>\n",
       "      <td>NaN</td>\n",
       "      <td>NaN</td>\n",
       "      <td>NaN</td>\n",
       "    </tr>\n",
       "    <tr>\n",
       "      <th>2</th>\n",
       "      <td>IND</td>\n",
       "      <td>India</td>\n",
       "      <td>AES Saurashtra Windfarms</td>\n",
       "      <td>WRI1026669</td>\n",
       "      <td>39.2</td>\n",
       "      <td>21.9038</td>\n",
       "      <td>69.3732</td>\n",
       "      <td>Wind</td>\n",
       "      <td>NaN</td>\n",
       "      <td>NaN</td>\n",
       "      <td>NaN</td>\n",
       "      <td>NaN</td>\n",
       "      <td>AES</td>\n",
       "      <td>CDM</td>\n",
       "      <td>https://cdm.unfccc.int/Projects/DB/DNV-CUK1328...</td>\n",
       "      <td>WRI</td>\n",
       "      <td>NaN</td>\n",
       "      <td>NaN</td>\n",
       "      <td>NaN</td>\n",
       "      <td>NaN</td>\n",
       "      <td>NaN</td>\n",
       "      <td>NaN</td>\n",
       "      <td>NaN</td>\n",
       "      <td>NaN</td>\n",
       "      <td>NaN</td>\n",
       "      <td>NaN</td>\n",
       "      <td>NaN</td>\n",
       "    </tr>\n",
       "    <tr>\n",
       "      <th>3</th>\n",
       "      <td>IND</td>\n",
       "      <td>India</td>\n",
       "      <td>AGARTALA GT</td>\n",
       "      <td>IND0000001</td>\n",
       "      <td>135.0</td>\n",
       "      <td>23.8712</td>\n",
       "      <td>91.3602</td>\n",
       "      <td>Gas</td>\n",
       "      <td>NaN</td>\n",
       "      <td>NaN</td>\n",
       "      <td>NaN</td>\n",
       "      <td>2004.0</td>\n",
       "      <td>NaN</td>\n",
       "      <td>Central Electricity Authority</td>\n",
       "      <td>http://www.cea.nic.in/</td>\n",
       "      <td>WRI</td>\n",
       "      <td>NaN</td>\n",
       "      <td>2019.0</td>\n",
       "      <td>NaN</td>\n",
       "      <td>617.789264</td>\n",
       "      <td>843.747</td>\n",
       "      <td>886.004428</td>\n",
       "      <td>663.774500</td>\n",
       "      <td>626.239128</td>\n",
       "      <td>NaN</td>\n",
       "      <td>Central Electricity Authority</td>\n",
       "      <td>NaN</td>\n",
       "    </tr>\n",
       "    <tr>\n",
       "      <th>4</th>\n",
       "      <td>IND</td>\n",
       "      <td>India</td>\n",
       "      <td>AKALTARA TPP</td>\n",
       "      <td>IND0000002</td>\n",
       "      <td>1800.0</td>\n",
       "      <td>21.9603</td>\n",
       "      <td>82.4091</td>\n",
       "      <td>Coal</td>\n",
       "      <td>Oil</td>\n",
       "      <td>NaN</td>\n",
       "      <td>NaN</td>\n",
       "      <td>2015.0</td>\n",
       "      <td>NaN</td>\n",
       "      <td>Central Electricity Authority</td>\n",
       "      <td>http://www.cea.nic.in/</td>\n",
       "      <td>WRI</td>\n",
       "      <td>NaN</td>\n",
       "      <td>2019.0</td>\n",
       "      <td>NaN</td>\n",
       "      <td>3035.550000</td>\n",
       "      <td>5916.370</td>\n",
       "      <td>6243.000000</td>\n",
       "      <td>5385.579736</td>\n",
       "      <td>7279.000000</td>\n",
       "      <td>NaN</td>\n",
       "      <td>Central Electricity Authority</td>\n",
       "      <td>NaN</td>\n",
       "    </tr>\n",
       "  </tbody>\n",
       "</table>\n",
       "</div>"
      ],
      "text/plain": [
       "  country country_long                      name   gppd_idnr  capacity_mw  \\\n",
       "0     IND        India          ACME Solar Tower  WRI1020239          2.5   \n",
       "1     IND        India       ADITYA CEMENT WORKS  WRI1019881         98.0   \n",
       "2     IND        India  AES Saurashtra Windfarms  WRI1026669         39.2   \n",
       "3     IND        India               AGARTALA GT  IND0000001        135.0   \n",
       "4     IND        India              AKALTARA TPP  IND0000002       1800.0   \n",
       "\n",
       "   latitude  longitude primary_fuel other_fuel1 other_fuel2  other_fuel3  \\\n",
       "0   28.1839    73.2407        Solar         NaN         NaN          NaN   \n",
       "1   24.7663    74.6090         Coal         NaN         NaN          NaN   \n",
       "2   21.9038    69.3732         Wind         NaN         NaN          NaN   \n",
       "3   23.8712    91.3602          Gas         NaN         NaN          NaN   \n",
       "4   21.9603    82.4091         Coal         Oil         NaN          NaN   \n",
       "\n",
       "   commissioning_year                 owner  \\\n",
       "0              2011.0           Solar Paces   \n",
       "1                 NaN  Ultratech Cement ltd   \n",
       "2                 NaN                   AES   \n",
       "3              2004.0                   NaN   \n",
       "4              2015.0                   NaN   \n",
       "\n",
       "                                 source  \\\n",
       "0  National Renewable Energy Laboratory   \n",
       "1                  Ultratech Cement ltd   \n",
       "2                                   CDM   \n",
       "3         Central Electricity Authority   \n",
       "4         Central Electricity Authority   \n",
       "\n",
       "                                                 url  \\\n",
       "0  http://www.nrel.gov/csp/solarpaces/project_det...   \n",
       "1                    http://www.ultratechcement.com/   \n",
       "2  https://cdm.unfccc.int/Projects/DB/DNV-CUK1328...   \n",
       "3                             http://www.cea.nic.in/   \n",
       "4                             http://www.cea.nic.in/   \n",
       "\n",
       "                     geolocation_source  wepp_id  year_of_capacity_data  \\\n",
       "0  National Renewable Energy Laboratory      NaN                    NaN   \n",
       "1                                   WRI      NaN                    NaN   \n",
       "2                                   WRI      NaN                    NaN   \n",
       "3                                   WRI      NaN                 2019.0   \n",
       "4                                   WRI      NaN                 2019.0   \n",
       "\n",
       "   generation_gwh_2013  generation_gwh_2014  generation_gwh_2015  \\\n",
       "0                  NaN                  NaN                  NaN   \n",
       "1                  NaN                  NaN                  NaN   \n",
       "2                  NaN                  NaN                  NaN   \n",
       "3                  NaN           617.789264              843.747   \n",
       "4                  NaN          3035.550000             5916.370   \n",
       "\n",
       "   generation_gwh_2016  generation_gwh_2017  generation_gwh_2018  \\\n",
       "0                  NaN                  NaN                  NaN   \n",
       "1                  NaN                  NaN                  NaN   \n",
       "2                  NaN                  NaN                  NaN   \n",
       "3           886.004428           663.774500           626.239128   \n",
       "4          6243.000000          5385.579736          7279.000000   \n",
       "\n",
       "   generation_gwh_2019         generation_data_source  \\\n",
       "0                  NaN                            NaN   \n",
       "1                  NaN                            NaN   \n",
       "2                  NaN                            NaN   \n",
       "3                  NaN  Central Electricity Authority   \n",
       "4                  NaN  Central Electricity Authority   \n",
       "\n",
       "   estimated_generation_gwh  \n",
       "0                       NaN  \n",
       "1                       NaN  \n",
       "2                       NaN  \n",
       "3                       NaN  \n",
       "4                       NaN  "
      ]
     },
     "execution_count": 2,
     "metadata": {},
     "output_type": "execute_result"
    }
   ],
   "source": [
    "#importing or loading the dataset\n",
    "pd.set_option('display.max_columns', None) #for displayig all the columns\n",
    "df = pd.read_csv('global_pp.csv')\n",
    "df.head()"
   ]
  },
  {
   "cell_type": "markdown",
   "id": "b6476a33",
   "metadata": {},
   "source": [
    "Problem Statement:\n",
    "\n",
    "Description\n",
    "\n",
    "The Global Power Plant Database is a comprehensive, open source database of power plants around the world. It centralizes power plant data to make it easier to navigate, compare and draw insights for one’s own analysis. The database covers approximately 35,000 power plants from 167 countries and includes thermal plants (e.g. coal, gas, oil, nuclear, biomass, waste, geothermal) and renewables (e.g. hydro, wind, solar). Each power plant is geolocated and entries contain information on plant capacity, generation, ownership, and fuel type. It will be continuously updated as data becomes available.\n",
    "Key attributes of the database\n",
    "\n",
    "The database includes the following indicators:\n",
    "\n",
    "    `country` (text): 3 character country code corresponding to the ISO 3166-1 alpha-3 specification [5]\n",
    "    `country_long` (text): longer form of the country designation\n",
    "    `name` (text): name or title of the power plant, generally in Romanized form\n",
    "    `gppd_idnr` (text): 10 or 12 character identifier for the power plant\n",
    "    `capacity_mw` (number): electrical generating capacity in megawatts\n",
    "    `latitude` (number): geolocation in decimal degrees; WGS84 (EPSG:4326)\n",
    "    `longitude` (number): geolocation in decimal degrees; WGS84 (EPSG:4326)\n",
    "    `primary_fuel` (text): energy source used in primary electricity generation or export\n",
    "    `other_fuel1` (text): energy source used in electricity generation or export\n",
    "    `other_fuel2` (text): energy source used in electricity generation or export\n",
    "    `other_fuel3` (text): energy source used in electricity generation or export\n",
    "     `commissioning_year` (number): year of plant operation, weighted by unit-capacity when data is available\n",
    "    `owner` (text): majority shareholder of the power plant, generally in Romanized form\n",
    "    `source` (text): entity reporting the data; could be an organization, report, or document, generally in Romanized form\n",
    "    `url` (text): web document corresponding to the `source` field\n",
    "    `geolocation_source` (text): attribution for geolocation information\n",
    "    `wepp_id` (text): a reference to a unique plant identifier in the widely-used PLATTS-WEPP database.\n",
    "    `year_of_capacity_data` (number): year the capacity information was reported\n",
    "    `generation_gwh_2013` (number): electricity generation in gigawatt-hours reported for the year 2013\n",
    "    `generation_gwh_2014` (number): electricity generation in gigawatt-hours reported for the year 2014\n",
    "    `generation_gwh_2015` (number): electricity generation in gigawatt-hours reported for the year 2015\n",
    "    `generation_gwh_2016` (number): electricity generation in gigawatt-hours reported for the year 2016\n",
    "    `generation_gwh_2017` (number): electricity generation in gigawatt-hours reported for the year 2017\n",
    "    `generation_gwh_2018` (number): electricity generation in gigawatt-hours reported for the year 2018\n",
    "    `generation_gwh_2019` (number): electricity generation in gigawatt-hours reported for the year 2019\n",
    "    `generation_data_source` (text): attribution for the reported generation information\n",
    "    `estimated_generation_gwh` (text): label of the model/method used to estimate generation\n",
    "    \n",
    "We have to predict 2 outputs:\n",
    "1) Primary Fuel - categorical (multiclass) type data\n",
    "2) capacity_mw - Continuous type data\n",
    "\n",
    "1 classification task and 1 regression task"
   ]
  },
  {
   "cell_type": "code",
   "execution_count": 3,
   "id": "ae113b06",
   "metadata": {},
   "outputs": [
    {
     "data": {
      "text/plain": [
       "Index(['country', 'country_long', 'name', 'gppd_idnr', 'capacity_mw',\n",
       "       'latitude', 'longitude', 'primary_fuel', 'other_fuel1', 'other_fuel2',\n",
       "       'other_fuel3', 'commissioning_year', 'owner', 'source', 'url',\n",
       "       'geolocation_source', 'wepp_id', 'year_of_capacity_data',\n",
       "       'generation_gwh_2013', 'generation_gwh_2014', 'generation_gwh_2015',\n",
       "       'generation_gwh_2016', 'generation_gwh_2017', 'generation_gwh_2018',\n",
       "       'generation_gwh_2019', 'generation_data_source',\n",
       "       'estimated_generation_gwh'],\n",
       "      dtype='object')"
      ]
     },
     "execution_count": 3,
     "metadata": {},
     "output_type": "execute_result"
    }
   ],
   "source": [
    "#Checing of columns name in dataset\n",
    "df.columns"
   ]
  },
  {
   "cell_type": "code",
   "execution_count": 4,
   "id": "d01b0d12",
   "metadata": {},
   "outputs": [
    {
     "data": {
      "text/plain": [
       "(907, 27)"
      ]
     },
     "execution_count": 4,
     "metadata": {},
     "output_type": "execute_result"
    }
   ],
   "source": [
    "#Checking for data shape\n",
    "df.shape"
   ]
  },
  {
   "cell_type": "code",
   "execution_count": 5,
   "id": "bd7eb1dc",
   "metadata": {},
   "outputs": [
    {
     "data": {
      "text/plain": [
       "country                      object\n",
       "country_long                 object\n",
       "name                         object\n",
       "gppd_idnr                    object\n",
       "capacity_mw                 float64\n",
       "latitude                    float64\n",
       "longitude                   float64\n",
       "primary_fuel                 object\n",
       "other_fuel1                  object\n",
       "other_fuel2                  object\n",
       "other_fuel3                 float64\n",
       "commissioning_year          float64\n",
       "owner                        object\n",
       "source                       object\n",
       "url                          object\n",
       "geolocation_source           object\n",
       "wepp_id                     float64\n",
       "year_of_capacity_data       float64\n",
       "generation_gwh_2013         float64\n",
       "generation_gwh_2014         float64\n",
       "generation_gwh_2015         float64\n",
       "generation_gwh_2016         float64\n",
       "generation_gwh_2017         float64\n",
       "generation_gwh_2018         float64\n",
       "generation_gwh_2019         float64\n",
       "generation_data_source       object\n",
       "estimated_generation_gwh    float64\n",
       "dtype: object"
      ]
     },
     "execution_count": 5,
     "metadata": {},
     "output_type": "execute_result"
    }
   ],
   "source": [
    "#Checking data types\n",
    "df.dtypes"
   ]
  },
  {
   "cell_type": "code",
   "execution_count": 6,
   "id": "ea4fe7fa",
   "metadata": {},
   "outputs": [
    {
     "data": {
      "text/plain": [
       "country                       0\n",
       "country_long                  0\n",
       "name                          0\n",
       "gppd_idnr                     0\n",
       "capacity_mw                   0\n",
       "latitude                     46\n",
       "longitude                    46\n",
       "primary_fuel                  0\n",
       "other_fuel1                 709\n",
       "other_fuel2                 906\n",
       "other_fuel3                 907\n",
       "commissioning_year          380\n",
       "owner                       565\n",
       "source                        0\n",
       "url                           0\n",
       "geolocation_source           19\n",
       "wepp_id                     907\n",
       "year_of_capacity_data       388\n",
       "generation_gwh_2013         907\n",
       "generation_gwh_2014         509\n",
       "generation_gwh_2015         485\n",
       "generation_gwh_2016         473\n",
       "generation_gwh_2017         467\n",
       "generation_gwh_2018         459\n",
       "generation_gwh_2019         907\n",
       "generation_data_source      458\n",
       "estimated_generation_gwh    907\n",
       "dtype: int64"
      ]
     },
     "execution_count": 6,
     "metadata": {},
     "output_type": "execute_result"
    }
   ],
   "source": [
    "#Checking any null values\n",
    "df.isnull().sum()"
   ]
  },
  {
   "cell_type": "markdown",
   "id": "0e1ec5c9",
   "metadata": {},
   "source": [
    "1) Columns: other_fuel3, generation_gwh_2013, wepp_id, generation_gwh_2019, estimated_generation_gwh has all null values so we can drop these columns\n",
    "\n",
    "2) Columns: other_fuel1, other_fuel2, owner, generation_data_source has more than half entries as null values, so we can drop these columns\n",
    "\n",
    "3) Let us combine generation_gwh data from 2014 to 2018 into 1 column and check"
   ]
  },
  {
   "cell_type": "code",
   "execution_count": 7,
   "id": "cec5ffd2",
   "metadata": {},
   "outputs": [],
   "source": [
    "df = df.drop(['other_fuel3', 'generation_gwh_2013', 'wepp_id', 'generation_gwh_2019', 'estimated_generation_gwh', \n",
    "              'other_fuel1', 'other_fuel2', 'owner', 'generation_data_source'], axis=1)"
   ]
  },
  {
   "cell_type": "code",
   "execution_count": 8,
   "id": "ec487208",
   "metadata": {},
   "outputs": [
    {
     "data": {
      "text/plain": [
       "country                    0\n",
       "country_long               0\n",
       "name                       0\n",
       "gppd_idnr                  0\n",
       "capacity_mw                0\n",
       "latitude                  46\n",
       "longitude                 46\n",
       "primary_fuel               0\n",
       "commissioning_year       380\n",
       "source                     0\n",
       "url                        0\n",
       "geolocation_source        19\n",
       "year_of_capacity_data    388\n",
       "generation_gwh_2014      509\n",
       "generation_gwh_2015      485\n",
       "generation_gwh_2016      473\n",
       "generation_gwh_2017      467\n",
       "generation_gwh_2018      459\n",
       "dtype: int64"
      ]
     },
     "execution_count": 8,
     "metadata": {},
     "output_type": "execute_result"
    }
   ],
   "source": [
    "#Checking any null values\n",
    "df.isnull().sum()"
   ]
  },
  {
   "cell_type": "code",
   "execution_count": 9,
   "id": "adb480df",
   "metadata": {},
   "outputs": [],
   "source": [
    "#Taking summation of generation_gwh data from 2014 to 2018 into 1 column\n",
    "df['generation_gwh_upto_2018'] = df['generation_gwh_2014'] + df['generation_gwh_2015'] + df['generation_gwh_2016'] + df['generation_gwh_2017'] + df['generation_gwh_2018']"
   ]
  },
  {
   "cell_type": "code",
   "execution_count": 10,
   "id": "87841dd0",
   "metadata": {},
   "outputs": [
    {
     "data": {
      "text/plain": [
       "country                       0\n",
       "country_long                  0\n",
       "name                          0\n",
       "gppd_idnr                     0\n",
       "capacity_mw                   0\n",
       "latitude                     46\n",
       "longitude                    46\n",
       "primary_fuel                  0\n",
       "commissioning_year          380\n",
       "source                        0\n",
       "url                           0\n",
       "geolocation_source           19\n",
       "year_of_capacity_data       388\n",
       "generation_gwh_upto_2018    516\n",
       "dtype: int64"
      ]
     },
     "execution_count": 10,
     "metadata": {},
     "output_type": "execute_result"
    }
   ],
   "source": [
    "df = df.drop(['generation_gwh_2014', 'generation_gwh_2015','generation_gwh_2016',\n",
    "              'generation_gwh_2017','generation_gwh_2018'], axis=1)\n",
    "#Checking any null values\n",
    "df.isnull().sum()"
   ]
  },
  {
   "cell_type": "markdown",
   "id": "947423c5",
   "metadata": {},
   "source": [
    "'generation_gwh_upto_2018' has more than half entries as null values, so we can drop this column"
   ]
  },
  {
   "cell_type": "code",
   "execution_count": 11,
   "id": "b30a4686",
   "metadata": {},
   "outputs": [],
   "source": [
    "df = df.drop(['generation_gwh_upto_2018'], axis=1)"
   ]
  },
  {
   "cell_type": "markdown",
   "id": "1f1acc41",
   "metadata": {},
   "source": [
    "Let us set the limit as 30% for missing values, if more than 30% values missing in the column than drop the variable\n",
    "\n",
    "commissioning_year and year_of_capacity_data has 40% missing values so lets drop them"
   ]
  },
  {
   "cell_type": "code",
   "execution_count": 12,
   "id": "5fab3d35",
   "metadata": {},
   "outputs": [
    {
     "data": {
      "text/plain": [
       "country                0\n",
       "country_long           0\n",
       "name                   0\n",
       "gppd_idnr              0\n",
       "capacity_mw            0\n",
       "latitude              46\n",
       "longitude             46\n",
       "primary_fuel           0\n",
       "source                 0\n",
       "url                    0\n",
       "geolocation_source    19\n",
       "dtype: int64"
      ]
     },
     "execution_count": 12,
     "metadata": {},
     "output_type": "execute_result"
    }
   ],
   "source": [
    "df = df.drop(['commissioning_year' , 'year_of_capacity_data'], axis=1)\n",
    "#Checking any null values\n",
    "df.isnull().sum()"
   ]
  },
  {
   "cell_type": "code",
   "execution_count": 13,
   "id": "a049384e",
   "metadata": {},
   "outputs": [
    {
     "data": {
      "text/plain": [
       "country               0\n",
       "country_long          0\n",
       "name                  0\n",
       "gppd_idnr             0\n",
       "capacity_mw           0\n",
       "latitude              0\n",
       "longitude             0\n",
       "primary_fuel          0\n",
       "source                0\n",
       "url                   0\n",
       "geolocation_source    0\n",
       "dtype: int64"
      ]
     },
     "execution_count": 13,
     "metadata": {},
     "output_type": "execute_result"
    }
   ],
   "source": [
    "#Handling NaN values\n",
    "df['latitude'] = df['latitude'].fillna(df['latitude'].mean())\n",
    "df['longitude'] = df['longitude'].fillna(df['longitude'].mean())\n",
    "df['geolocation_source'] = df['geolocation_source'].fillna(df['geolocation_source'].mode()[0])\n",
    "#Checking any null values\n",
    "df.isnull().sum()"
   ]
  },
  {
   "cell_type": "code",
   "execution_count": 14,
   "id": "65c35cc2",
   "metadata": {},
   "outputs": [
    {
     "data": {
      "text/plain": [
       "(array([], dtype=int64), array([], dtype=int64))"
      ]
     },
     "execution_count": 14,
     "metadata": {},
     "output_type": "execute_result"
    }
   ],
   "source": [
    "#Checking any blank or white spaces\n",
    "np.where(df.applymap(lambda x: x == ' '))"
   ]
  },
  {
   "cell_type": "markdown",
   "id": "dc766666",
   "metadata": {},
   "source": [
    "No blank spaces entries present"
   ]
  },
  {
   "cell_type": "code",
   "execution_count": 15,
   "id": "6c5acfd7",
   "metadata": {},
   "outputs": [
    {
     "name": "stdout",
     "output_type": "stream",
     "text": [
      "For column of country : False\n",
      "For column of country_long : False\n",
      "For column of name : True\n",
      "For column of gppd_idnr : True\n",
      "For column of capacity_mw : False\n",
      "For column of latitude : False\n",
      "For column of longitude : False\n",
      "For column of primary_fuel : False\n",
      "For column of source : False\n",
      "For column of url : False\n",
      "For column of geolocation_source : False\n"
     ]
    }
   ],
   "source": [
    "#Checking if all entries of a column is unique or not\n",
    "for i in df.columns:\n",
    "    print('For column of {} :'.format(i),(len(df[i].unique())==len(df[i])))"
   ]
  },
  {
   "cell_type": "markdown",
   "id": "01f0b7f6",
   "metadata": {},
   "source": [
    "Since gppd_idnr and name are having all unique values, it will be same as index column if we encode and will not help in any kind of predictions \n",
    "\n",
    "So we can drop these columns"
   ]
  },
  {
   "cell_type": "code",
   "execution_count": 16,
   "id": "e1f6e9fc",
   "metadata": {},
   "outputs": [],
   "source": [
    "df = df.drop([ 'gppd_idnr' , 'name'], axis=1)"
   ]
  },
  {
   "cell_type": "code",
   "execution_count": 17,
   "id": "89d13b56",
   "metadata": {},
   "outputs": [
    {
     "name": "stdout",
     "output_type": "stream",
     "text": [
      "Size before:  (907, 9)\n",
      "Size after:  (907, 9)\n"
     ]
    }
   ],
   "source": [
    "#Removing duplicate rows if any\n",
    "print('Size before: ',df.shape)\n",
    "df.drop_duplicates()\n",
    "print('Size after: ',df.shape)"
   ]
  },
  {
   "cell_type": "code",
   "execution_count": 18,
   "id": "5333b72d",
   "metadata": {},
   "outputs": [
    {
     "name": "stdout",
     "output_type": "stream",
     "text": [
      "<class 'pandas.core.frame.DataFrame'>\n",
      "RangeIndex: 907 entries, 0 to 906\n",
      "Data columns (total 9 columns):\n",
      " #   Column              Non-Null Count  Dtype  \n",
      "---  ------              --------------  -----  \n",
      " 0   country             907 non-null    object \n",
      " 1   country_long        907 non-null    object \n",
      " 2   capacity_mw         907 non-null    float64\n",
      " 3   latitude            907 non-null    float64\n",
      " 4   longitude           907 non-null    float64\n",
      " 5   primary_fuel        907 non-null    object \n",
      " 6   source              907 non-null    object \n",
      " 7   url                 907 non-null    object \n",
      " 8   geolocation_source  907 non-null    object \n",
      "dtypes: float64(3), object(6)\n",
      "memory usage: 63.9+ KB\n"
     ]
    }
   ],
   "source": [
    "#General information of dataset\n",
    "df.info()"
   ]
  },
  {
   "cell_type": "code",
   "execution_count": 19,
   "id": "3c8fca5f",
   "metadata": {},
   "outputs": [
    {
     "name": "stdout",
     "output_type": "stream",
     "text": [
      "IND    907\n",
      "Name: country, dtype: int64 \n",
      "\n",
      "India    907\n",
      "Name: country_long, dtype: int64 \n",
      "\n",
      "Coal       258\n",
      "Hydro      251\n",
      "Solar      127\n",
      "Wind       123\n",
      "Gas         69\n",
      "Biomass     50\n",
      "Oil         20\n",
      "Nuclear      9\n",
      "Name: primary_fuel, dtype: int64 \n",
      "\n",
      "Central Electricity Authority                519\n",
      "CDM                                          124\n",
      "Lancosola                                     10\n",
      "National Renewable Energy Laboratory           8\n",
      "National Thermal Power Corporation (NTPC)      6\n",
      "                                            ... \n",
      "Ym Ssk ltd                                     1\n",
      "Sangam Spinners ltd                            1\n",
      "Nocil Nocil rubber                             1\n",
      "Kjs Ahluwalia group                            1\n",
      "Hare Pvt ltd                                   1\n",
      "Name: source, Length: 191, dtype: int64 \n",
      "\n",
      "http://www.cea.nic.in/                                                                                                                           519\n",
      "http://www.lancosolar.com/pdfs/rajasthan-pv-project-details.pdf                                                                                    7\n",
      "http://www.ntpc.co.in                                                                                                                              6\n",
      "http://viainfotech.biz/Biomass/theme5/document/green_market/REC-project-list.pdf                                                                   5\n",
      "http://www.azurepower.com                                                                                                                          4\n",
      "                                                                                                                                                ... \n",
      "https://cdm.unfccc.int/filestorage/t/h/3ZTDL1JSY8F96X7WM05GQEOBHVCRKU.pdf/PDD_0.85%20MW%20x%202%20Wind?t=OUd8b2pibmtifDA3QWPDKTd9w1VzFuhHzr3p      1\n",
      "https://cdm.unfccc.int/filestorage/_/r/F932EYQBPVM7IXZ4KWRUG5HT6S0ACL.pdf/7895-PDD-26%20Oct%2012.pdf?t=aEJ8b2picjhvfDAyiJ_x---be015MnlJwvjn        1\n",
      "http://www.nrel.gov/csp/solarpaces/project_detail.cfm/projectID=247                                                                                1\n",
      "http://www.mukand.com/                                                                                                                             1\n",
      "https://cdm.unfccc.int/Projects/DB/URSCert1371557111.17/view                                                                                       1\n",
      "Name: url, Length: 304, dtype: int64 \n",
      "\n",
      "WRI                                     784\n",
      "Industry About                          119\n",
      "National Renewable Energy Laboratory      4\n",
      "Name: geolocation_source, dtype: int64 \n",
      "\n"
     ]
    }
   ],
   "source": [
    "#Checking of value counts in each columns having nominal feature columns\n",
    "for i in df:\n",
    "    if df[i].dtype == 'object':\n",
    "        print(df[i].value_counts(),'\\n')"
   ]
  },
  {
   "cell_type": "markdown",
   "id": "bb7fcf33",
   "metadata": {},
   "source": [
    "Since country and country_long columns are having only 1 entries as IND, India we can drop these columns as this will not help in predictions"
   ]
  },
  {
   "cell_type": "code",
   "execution_count": 20,
   "id": "40ba572f",
   "metadata": {},
   "outputs": [
    {
     "data": {
      "text/html": [
       "<div>\n",
       "<style scoped>\n",
       "    .dataframe tbody tr th:only-of-type {\n",
       "        vertical-align: middle;\n",
       "    }\n",
       "\n",
       "    .dataframe tbody tr th {\n",
       "        vertical-align: top;\n",
       "    }\n",
       "\n",
       "    .dataframe thead th {\n",
       "        text-align: right;\n",
       "    }\n",
       "</style>\n",
       "<table border=\"1\" class=\"dataframe\">\n",
       "  <thead>\n",
       "    <tr style=\"text-align: right;\">\n",
       "      <th></th>\n",
       "      <th>capacity_mw</th>\n",
       "      <th>latitude</th>\n",
       "      <th>longitude</th>\n",
       "      <th>primary_fuel</th>\n",
       "      <th>source</th>\n",
       "      <th>url</th>\n",
       "      <th>geolocation_source</th>\n",
       "    </tr>\n",
       "  </thead>\n",
       "  <tbody>\n",
       "    <tr>\n",
       "      <th>0</th>\n",
       "      <td>2.5</td>\n",
       "      <td>28.1839</td>\n",
       "      <td>73.2407</td>\n",
       "      <td>Solar</td>\n",
       "      <td>National Renewable Energy Laboratory</td>\n",
       "      <td>http://www.nrel.gov/csp/solarpaces/project_det...</td>\n",
       "      <td>National Renewable Energy Laboratory</td>\n",
       "    </tr>\n",
       "    <tr>\n",
       "      <th>1</th>\n",
       "      <td>98.0</td>\n",
       "      <td>24.7663</td>\n",
       "      <td>74.6090</td>\n",
       "      <td>Coal</td>\n",
       "      <td>Ultratech Cement ltd</td>\n",
       "      <td>http://www.ultratechcement.com/</td>\n",
       "      <td>WRI</td>\n",
       "    </tr>\n",
       "    <tr>\n",
       "      <th>2</th>\n",
       "      <td>39.2</td>\n",
       "      <td>21.9038</td>\n",
       "      <td>69.3732</td>\n",
       "      <td>Wind</td>\n",
       "      <td>CDM</td>\n",
       "      <td>https://cdm.unfccc.int/Projects/DB/DNV-CUK1328...</td>\n",
       "      <td>WRI</td>\n",
       "    </tr>\n",
       "    <tr>\n",
       "      <th>3</th>\n",
       "      <td>135.0</td>\n",
       "      <td>23.8712</td>\n",
       "      <td>91.3602</td>\n",
       "      <td>Gas</td>\n",
       "      <td>Central Electricity Authority</td>\n",
       "      <td>http://www.cea.nic.in/</td>\n",
       "      <td>WRI</td>\n",
       "    </tr>\n",
       "    <tr>\n",
       "      <th>4</th>\n",
       "      <td>1800.0</td>\n",
       "      <td>21.9603</td>\n",
       "      <td>82.4091</td>\n",
       "      <td>Coal</td>\n",
       "      <td>Central Electricity Authority</td>\n",
       "      <td>http://www.cea.nic.in/</td>\n",
       "      <td>WRI</td>\n",
       "    </tr>\n",
       "  </tbody>\n",
       "</table>\n",
       "</div>"
      ],
      "text/plain": [
       "   capacity_mw  latitude  longitude primary_fuel  \\\n",
       "0          2.5   28.1839    73.2407        Solar   \n",
       "1         98.0   24.7663    74.6090         Coal   \n",
       "2         39.2   21.9038    69.3732         Wind   \n",
       "3        135.0   23.8712    91.3602          Gas   \n",
       "4       1800.0   21.9603    82.4091         Coal   \n",
       "\n",
       "                                 source  \\\n",
       "0  National Renewable Energy Laboratory   \n",
       "1                  Ultratech Cement ltd   \n",
       "2                                   CDM   \n",
       "3         Central Electricity Authority   \n",
       "4         Central Electricity Authority   \n",
       "\n",
       "                                                 url  \\\n",
       "0  http://www.nrel.gov/csp/solarpaces/project_det...   \n",
       "1                    http://www.ultratechcement.com/   \n",
       "2  https://cdm.unfccc.int/Projects/DB/DNV-CUK1328...   \n",
       "3                             http://www.cea.nic.in/   \n",
       "4                             http://www.cea.nic.in/   \n",
       "\n",
       "                     geolocation_source  \n",
       "0  National Renewable Energy Laboratory  \n",
       "1                                   WRI  \n",
       "2                                   WRI  \n",
       "3                                   WRI  \n",
       "4                                   WRI  "
      ]
     },
     "execution_count": 20,
     "metadata": {},
     "output_type": "execute_result"
    }
   ],
   "source": [
    "df = df.drop(['country', 'country_long'], axis=1)\n",
    "df.head()"
   ]
  },
  {
   "cell_type": "code",
   "execution_count": 21,
   "id": "fe53bd5e",
   "metadata": {},
   "outputs": [
    {
     "data": {
      "image/png": "[encoded data removed]",
      "text/plain": [
       "<Figure size 432x288 with 1 Axes>"
      ]
     },
     "metadata": {
      "needs_background": "light"
     },
     "output_type": "display_data"
    },
    {
     "data": {
      "image/png": "[encoded data removed]",
      "text/plain": [
       "<Figure size 360x360 with 1 Axes>"
      ]
     },
     "metadata": {},
     "output_type": "display_data"
    }
   ],
   "source": [
    "#Checking of value counts primary_fuel\n",
    "sns.countplot(df['primary_fuel'])\n",
    "plt.show()\n",
    "\n",
    "var = 'primary_fuel'\n",
    "plt.figure(figsize=(5,5))\n",
    "data = list(df[var].value_counts())\n",
    "plt.pie(data, labels= ['Solar','Coal','Wind','Gas','Hydro', 'Biomass','Oil', 'Nuclear'], \n",
    "        autopct='%1.1f%%', explode=[0.1,0.1,0.1,0.1,0.1,0.1,0.1,0.1], shadow=True)\n",
    "plt.axis('equal')\n",
    "plt.title('Primary fuel')\n",
    "plt.show()"
   ]
  },
  {
   "cell_type": "markdown",
   "id": "7194076d",
   "metadata": {},
   "source": [
    "Maximum number of powerplants have Solar energy as primary fuel followed by Coal\n",
    "\n",
    "Least amongst is Nuclear energy used as primary fuel "
   ]
  },
  {
   "cell_type": "code",
   "execution_count": 22,
   "id": "04d64c0b",
   "metadata": {},
   "outputs": [
    {
     "data": {
      "image/png": "[encoded data removed]",
      "text/plain": [
       "<Figure size 1440x360 with 3 Axes>"
      ]
     },
     "metadata": {
      "needs_background": "light"
     },
     "output_type": "display_data"
    }
   ],
   "source": [
    "#Checking of distribution of numerical/continuous type of data\n",
    "plt.figure(figsize=(20,5))\n",
    "ax = plt.subplot(1,3,1)\n",
    "sns.distplot(df['latitude'])\n",
    "ax = plt.subplot(1,3,2)\n",
    "sns.distplot(df['longitude'])\n",
    "ax = plt.subplot(1,3,3)\n",
    "sns.distplot(df['capacity_mw'])\n",
    "plt.show()"
   ]
  },
  {
   "cell_type": "markdown",
   "id": "7f1d7c8c",
   "metadata": {},
   "source": [
    "Longitude data is having right skewed distribution\n",
    "\n",
    "Capacity data is highly right skewed data, density is more between 0 to 100 MW infering most of the powerplants\n",
    "\n",
    "Latitude data is almost normally distributed"
   ]
  },
  {
   "cell_type": "code",
   "execution_count": 23,
   "id": "eb84cf23",
   "metadata": {},
   "outputs": [
    {
     "data": {
      "text/plain": [
       "Index(['capacity_mw', 'latitude', 'longitude', 'primary_fuel', 'source', 'url',\n",
       "       'geolocation_source'],\n",
       "      dtype='object')"
      ]
     },
     "execution_count": 23,
     "metadata": {},
     "output_type": "execute_result"
    }
   ],
   "source": [
    "df.columns"
   ]
  },
  {
   "cell_type": "code",
   "execution_count": 24,
   "id": "bfa5ba8b",
   "metadata": {},
   "outputs": [
    {
     "data": {
      "image/png": "[encoded data removed]",
      "text/plain": [
       "<Figure size 1440x360 with 3 Axes>"
      ]
     },
     "metadata": {
      "needs_background": "light"
     },
     "output_type": "display_data"
    }
   ],
   "source": [
    "#Checking of value counts of nominal type of data\n",
    "plt.figure(figsize=(20,5))\n",
    "ax = plt.subplot(1,3,1)\n",
    "sns.countplot(df['source'])\n",
    "ax = plt.subplot(1,3,2)\n",
    "sns.countplot(df['url'])\n",
    "ax = plt.subplot(1,3,3)\n",
    "sns.countplot(df['geolocation_source'])\n",
    "plt.show()"
   ]
  },
  {
   "cell_type": "markdown",
   "id": "dd290ddb",
   "metadata": {},
   "source": [
    "We can see that source and url data are of nominal type and are highly unbalanced\n",
    "\n",
    "Nearly 520 entries are same in respective two columns\n",
    "\n",
    "This will cause problem in model training and significantly hinder the model performance\n",
    "\n",
    "So let us drop these columns"
   ]
  },
  {
   "cell_type": "code",
   "execution_count": 25,
   "id": "617e6cb6",
   "metadata": {},
   "outputs": [
    {
     "data": {
      "text/html": [
       "<div>\n",
       "<style scoped>\n",
       "    .dataframe tbody tr th:only-of-type {\n",
       "        vertical-align: middle;\n",
       "    }\n",
       "\n",
       "    .dataframe tbody tr th {\n",
       "        vertical-align: top;\n",
       "    }\n",
       "\n",
       "    .dataframe thead th {\n",
       "        text-align: right;\n",
       "    }\n",
       "</style>\n",
       "<table border=\"1\" class=\"dataframe\">\n",
       "  <thead>\n",
       "    <tr style=\"text-align: right;\">\n",
       "      <th></th>\n",
       "      <th>capacity_mw</th>\n",
       "      <th>latitude</th>\n",
       "      <th>longitude</th>\n",
       "      <th>primary_fuel</th>\n",
       "      <th>geolocation_source</th>\n",
       "    </tr>\n",
       "  </thead>\n",
       "  <tbody>\n",
       "    <tr>\n",
       "      <th>0</th>\n",
       "      <td>2.5</td>\n",
       "      <td>28.1839</td>\n",
       "      <td>73.2407</td>\n",
       "      <td>Solar</td>\n",
       "      <td>National Renewable Energy Laboratory</td>\n",
       "    </tr>\n",
       "    <tr>\n",
       "      <th>1</th>\n",
       "      <td>98.0</td>\n",
       "      <td>24.7663</td>\n",
       "      <td>74.6090</td>\n",
       "      <td>Coal</td>\n",
       "      <td>WRI</td>\n",
       "    </tr>\n",
       "    <tr>\n",
       "      <th>2</th>\n",
       "      <td>39.2</td>\n",
       "      <td>21.9038</td>\n",
       "      <td>69.3732</td>\n",
       "      <td>Wind</td>\n",
       "      <td>WRI</td>\n",
       "    </tr>\n",
       "    <tr>\n",
       "      <th>3</th>\n",
       "      <td>135.0</td>\n",
       "      <td>23.8712</td>\n",
       "      <td>91.3602</td>\n",
       "      <td>Gas</td>\n",
       "      <td>WRI</td>\n",
       "    </tr>\n",
       "    <tr>\n",
       "      <th>4</th>\n",
       "      <td>1800.0</td>\n",
       "      <td>21.9603</td>\n",
       "      <td>82.4091</td>\n",
       "      <td>Coal</td>\n",
       "      <td>WRI</td>\n",
       "    </tr>\n",
       "  </tbody>\n",
       "</table>\n",
       "</div>"
      ],
      "text/plain": [
       "   capacity_mw  latitude  longitude primary_fuel  \\\n",
       "0          2.5   28.1839    73.2407        Solar   \n",
       "1         98.0   24.7663    74.6090         Coal   \n",
       "2         39.2   21.9038    69.3732         Wind   \n",
       "3        135.0   23.8712    91.3602          Gas   \n",
       "4       1800.0   21.9603    82.4091         Coal   \n",
       "\n",
       "                     geolocation_source  \n",
       "0  National Renewable Energy Laboratory  \n",
       "1                                   WRI  \n",
       "2                                   WRI  \n",
       "3                                   WRI  \n",
       "4                                   WRI  "
      ]
     },
     "execution_count": 25,
     "metadata": {},
     "output_type": "execute_result"
    }
   ],
   "source": [
    "df = df.drop(['source', 'url'], axis=1)\n",
    "df.head()"
   ]
  },
  {
   "cell_type": "code",
   "execution_count": 26,
   "id": "ef0253c3",
   "metadata": {},
   "outputs": [
    {
     "data": {
      "image/png": "[encoded data removed]",
      "text/plain": [
       "<Figure size 720x360 with 1 Axes>"
      ]
     },
     "metadata": {
      "needs_background": "light"
     },
     "output_type": "display_data"
    },
    {
     "data": {
      "image/png": "[encoded data removed]",
      "text/plain": [
       "<Figure size 720x360 with 1 Axes>"
      ]
     },
     "metadata": {
      "needs_background": "light"
     },
     "output_type": "display_data"
    }
   ],
   "source": [
    "#Capacity of powerplant at different latitude locations\n",
    "plt.figure(figsize=(10,5))\n",
    "sns.scatterplot(y = df['capacity_mw'], x = df['latitude'])\n",
    "plt.show()\n",
    "plt.figure(figsize=(10,5))\n",
    "sns.scatterplot(y = df['capacity_mw'], x = df['latitude'], hue = df['primary_fuel'])\n",
    "plt.show()"
   ]
  },
  {
   "cell_type": "markdown",
   "id": "e784651a",
   "metadata": {},
   "source": [
    "We can observe that powerplants with capacity more than 3000 MW are found between latitude 20-25\n",
    "\n",
    "And also those are of coal based"
   ]
  },
  {
   "cell_type": "code",
   "execution_count": 27,
   "id": "dadb1568",
   "metadata": {},
   "outputs": [
    {
     "data": {
      "image/png": "[encoded data removed]",
      "text/plain": [
       "<Figure size 720x360 with 1 Axes>"
      ]
     },
     "metadata": {
      "needs_background": "light"
     },
     "output_type": "display_data"
    },
    {
     "data": {
      "image/png": "[encoded data removed]",
      "text/plain": [
       "<Figure size 720x360 with 1 Axes>"
      ]
     },
     "metadata": {
      "needs_background": "light"
     },
     "output_type": "display_data"
    }
   ],
   "source": [
    "#Capacity of powerplant at different longitude locations\n",
    "plt.figure(figsize=(10,5))\n",
    "sns.scatterplot(y = df['capacity_mw'], x = df['longitude'])\n",
    "plt.show()\n",
    "plt.figure(figsize=(10,5))\n",
    "sns.scatterplot(y = df['capacity_mw'], x = df['longitude'], hue = df['primary_fuel'])\n",
    "plt.show()"
   ]
  },
  {
   "cell_type": "markdown",
   "id": "3f70595a",
   "metadata": {},
   "source": [
    "We can observe that powerplants with capacity more than 3000 MW are found between longitude 80-85\n",
    "\n",
    "And also those are of coal based"
   ]
  },
  {
   "cell_type": "code",
   "execution_count": 28,
   "id": "80f9e041",
   "metadata": {},
   "outputs": [
    {
     "data": {
      "image/png": "[encoded data removed]",
      "text/plain": [
       "<Figure size 540x540 with 12 Axes>"
      ]
     },
     "metadata": {
      "needs_background": "light"
     },
     "output_type": "display_data"
    }
   ],
   "source": [
    "#Plotting all possible bivariate plots together\n",
    "sns.pairplot(df)\n",
    "plt.show()"
   ]
  },
  {
   "cell_type": "code",
   "execution_count": 29,
   "id": "62e3a93d",
   "metadata": {},
   "outputs": [
    {
     "data": {
      "image/png": "[encoded data removed]",
      "text/plain": [
       "<Figure size 1080x576 with 2 Axes>"
      ]
     },
     "metadata": {
      "needs_background": "light"
     },
     "output_type": "display_data"
    }
   ],
   "source": [
    "#latitude and longitude location plot\n",
    "plt.figure(figsize=(15,8))\n",
    "ax = plt.subplot(1,2,1)\n",
    "sns.scatterplot(x = df['longitude'], y = df['latitude'])\n",
    "ax = plt.subplot(1,2,2)\n",
    "sns.scatterplot(y=df['latitude'],x=df['longitude'], hue=df['primary_fuel'])\n",
    "plt.show()"
   ]
  },
  {
   "cell_type": "markdown",
   "id": "1ace037b",
   "metadata": {},
   "source": [
    "The above map shows location coordinates of all powerplants\n",
    "\n",
    "This plot infers that all the locations of powerplant data available is from India\n",
    "\n",
    "Also we observe that Biomass based powerplants are majorly found in Western ghats region (Maharastra, Karnataka, Kerala) and even in some parts of Madhyapradesh\n",
    "\n",
    "Coal based ones are found all over India\n",
    "\n",
    "Hydro based ones in South (western ghats) and south India and Himalayan belt (North and North east) where river and rainfall are more"
   ]
  },
  {
   "cell_type": "code",
   "execution_count": 30,
   "id": "4691df24",
   "metadata": {},
   "outputs": [
    {
     "data": {
      "image/png": "[encoded data removed]",
      "text/plain": [
       "<Figure size 1440x360 with 3 Axes>"
      ]
     },
     "metadata": {
      "needs_background": "light"
     },
     "output_type": "display_data"
    }
   ],
   "source": [
    "#Checking of outliers in numerical/continuous type of data\n",
    "plt.figure(figsize=(20,5))\n",
    "ax = plt.subplot(1,3,1)\n",
    "sns.boxplot(df['latitude'])\n",
    "ax = plt.subplot(1,3,2)\n",
    "sns.boxplot(df['longitude'])\n",
    "ax = plt.subplot(1,3,3)\n",
    "sns.boxplot(df['capacity_mw'])\n",
    "plt.show()"
   ]
  },
  {
   "cell_type": "markdown",
   "id": "12bbf48f",
   "metadata": {},
   "source": [
    "Latitude data is having outliers above 87, which need to be handled\n",
    "\n",
    "Capacity (Label/target) data is also having outliers"
   ]
  },
  {
   "cell_type": "code",
   "execution_count": 31,
   "id": "bd7ae5eb",
   "metadata": {},
   "outputs": [
    {
     "data": {
      "image/png": "[encoded data removed]",
      "text/plain": [
       "<Figure size 1440x360 with 3 Axes>"
      ]
     },
     "metadata": {
      "needs_background": "light"
     },
     "output_type": "display_data"
    }
   ],
   "source": [
    "#Vizualization correlation with each other\n",
    "plt.figure(figsize=(20,5))\n",
    "ax = plt.subplot(1,3,1)\n",
    "sns.regplot(y=df['latitude'],x=df['longitude'])\n",
    "ax = plt.subplot(1,3,2)\n",
    "sns.regplot(x=df['latitude'],y=df['capacity_mw'])\n",
    "ax = plt.subplot(1,3,3)\n",
    "sns.regplot(x=df['longitude'],y=df['capacity_mw'])\n",
    "plt.show()"
   ]
  },
  {
   "cell_type": "markdown",
   "id": "140b72f9",
   "metadata": {},
   "source": [
    "No strong correlation observed"
   ]
  },
  {
   "cell_type": "code",
   "execution_count": 32,
   "id": "dfbde540",
   "metadata": {},
   "outputs": [
    {
     "data": {
      "text/html": [
       "<div>\n",
       "<style scoped>\n",
       "    .dataframe tbody tr th:only-of-type {\n",
       "        vertical-align: middle;\n",
       "    }\n",
       "\n",
       "    .dataframe tbody tr th {\n",
       "        vertical-align: top;\n",
       "    }\n",
       "\n",
       "    .dataframe thead th {\n",
       "        text-align: right;\n",
       "    }\n",
       "</style>\n",
       "<table border=\"1\" class=\"dataframe\">\n",
       "  <thead>\n",
       "    <tr style=\"text-align: right;\">\n",
       "      <th></th>\n",
       "      <th>capacity_mw</th>\n",
       "      <th>latitude</th>\n",
       "      <th>longitude</th>\n",
       "    </tr>\n",
       "  </thead>\n",
       "  <tbody>\n",
       "    <tr>\n",
       "      <th>count</th>\n",
       "      <td>907.000000</td>\n",
       "      <td>907.000000</td>\n",
       "      <td>907.000000</td>\n",
       "    </tr>\n",
       "    <tr>\n",
       "      <th>mean</th>\n",
       "      <td>326.223755</td>\n",
       "      <td>21.197918</td>\n",
       "      <td>77.464907</td>\n",
       "    </tr>\n",
       "    <tr>\n",
       "      <th>std</th>\n",
       "      <td>590.085456</td>\n",
       "      <td>6.079148</td>\n",
       "      <td>4.812291</td>\n",
       "    </tr>\n",
       "    <tr>\n",
       "      <th>min</th>\n",
       "      <td>0.000000</td>\n",
       "      <td>8.168900</td>\n",
       "      <td>68.644700</td>\n",
       "    </tr>\n",
       "    <tr>\n",
       "      <th>25%</th>\n",
       "      <td>16.725000</td>\n",
       "      <td>17.072000</td>\n",
       "      <td>74.388900</td>\n",
       "    </tr>\n",
       "    <tr>\n",
       "      <th>50%</th>\n",
       "      <td>59.200000</td>\n",
       "      <td>21.281800</td>\n",
       "      <td>76.979200</td>\n",
       "    </tr>\n",
       "    <tr>\n",
       "      <th>75%</th>\n",
       "      <td>385.250000</td>\n",
       "      <td>25.176450</td>\n",
       "      <td>79.206100</td>\n",
       "    </tr>\n",
       "    <tr>\n",
       "      <th>max</th>\n",
       "      <td>4760.000000</td>\n",
       "      <td>34.649000</td>\n",
       "      <td>95.408000</td>\n",
       "    </tr>\n",
       "  </tbody>\n",
       "</table>\n",
       "</div>"
      ],
      "text/plain": [
       "       capacity_mw    latitude   longitude\n",
       "count   907.000000  907.000000  907.000000\n",
       "mean    326.223755   21.197918   77.464907\n",
       "std     590.085456    6.079148    4.812291\n",
       "min       0.000000    8.168900   68.644700\n",
       "25%      16.725000   17.072000   74.388900\n",
       "50%      59.200000   21.281800   76.979200\n",
       "75%     385.250000   25.176450   79.206100\n",
       "max    4760.000000   34.649000   95.408000"
      ]
     },
     "execution_count": 32,
     "metadata": {},
     "output_type": "execute_result"
    }
   ],
   "source": [
    "#Statistical summary of the data\n",
    "df.describe()"
   ]
  },
  {
   "cell_type": "code",
   "execution_count": 33,
   "id": "795f9568",
   "metadata": {},
   "outputs": [
    {
     "data": {
      "text/html": [
       "<div>\n",
       "<style scoped>\n",
       "    .dataframe tbody tr th:only-of-type {\n",
       "        vertical-align: middle;\n",
       "    }\n",
       "\n",
       "    .dataframe tbody tr th {\n",
       "        vertical-align: top;\n",
       "    }\n",
       "\n",
       "    .dataframe thead th {\n",
       "        text-align: right;\n",
       "    }\n",
       "</style>\n",
       "<table border=\"1\" class=\"dataframe\">\n",
       "  <thead>\n",
       "    <tr style=\"text-align: right;\">\n",
       "      <th></th>\n",
       "      <th>capacity_mw</th>\n",
       "      <th>latitude</th>\n",
       "      <th>longitude</th>\n",
       "    </tr>\n",
       "  </thead>\n",
       "  <tbody>\n",
       "    <tr>\n",
       "      <th>capacity_mw</th>\n",
       "      <td>1.000000</td>\n",
       "      <td>0.050984</td>\n",
       "      <td>0.195882</td>\n",
       "    </tr>\n",
       "    <tr>\n",
       "      <th>latitude</th>\n",
       "      <td>0.050984</td>\n",
       "      <td>1.000000</td>\n",
       "      <td>0.036362</td>\n",
       "    </tr>\n",
       "    <tr>\n",
       "      <th>longitude</th>\n",
       "      <td>0.195882</td>\n",
       "      <td>0.036362</td>\n",
       "      <td>1.000000</td>\n",
       "    </tr>\n",
       "  </tbody>\n",
       "</table>\n",
       "</div>"
      ],
      "text/plain": [
       "             capacity_mw  latitude  longitude\n",
       "capacity_mw     1.000000  0.050984   0.195882\n",
       "latitude        0.050984  1.000000   0.036362\n",
       "longitude       0.195882  0.036362   1.000000"
      ]
     },
     "execution_count": 33,
     "metadata": {},
     "output_type": "execute_result"
    }
   ],
   "source": [
    "#Coefficient of correlation matrix\n",
    "df.corr()"
   ]
  },
  {
   "cell_type": "code",
   "execution_count": 34,
   "id": "e31c818f",
   "metadata": {},
   "outputs": [
    {
     "data": {
      "image/png": "[encoded data removed]",
      "text/plain": [
       "<Figure size 720x360 with 2 Axes>"
      ]
     },
     "metadata": {
      "needs_background": "light"
     },
     "output_type": "display_data"
    }
   ],
   "source": [
    "#Heatmap to vizualize correlation between different features\n",
    "plt.figure(figsize=(10,5))\n",
    "sns.heatmap(df.corr(), annot=True, linewidths=0.1, linecolor='black', fmt='0.2f')\n",
    "plt.show()"
   ]
  },
  {
   "cell_type": "code",
   "execution_count": 35,
   "id": "c1dc2560",
   "metadata": {},
   "outputs": [
    {
     "data": {
      "text/html": [
       "<div>\n",
       "<style scoped>\n",
       "    .dataframe tbody tr th:only-of-type {\n",
       "        vertical-align: middle;\n",
       "    }\n",
       "\n",
       "    .dataframe tbody tr th {\n",
       "        vertical-align: top;\n",
       "    }\n",
       "\n",
       "    .dataframe thead th {\n",
       "        text-align: right;\n",
       "    }\n",
       "</style>\n",
       "<table border=\"1\" class=\"dataframe\">\n",
       "  <thead>\n",
       "    <tr style=\"text-align: right;\">\n",
       "      <th></th>\n",
       "      <th>capacity_mw</th>\n",
       "      <th>latitude</th>\n",
       "      <th>longitude</th>\n",
       "      <th>primary_fuel</th>\n",
       "      <th>geolocation_source</th>\n",
       "    </tr>\n",
       "  </thead>\n",
       "  <tbody>\n",
       "    <tr>\n",
       "      <th>0</th>\n",
       "      <td>2.5</td>\n",
       "      <td>28.1839</td>\n",
       "      <td>73.2407</td>\n",
       "      <td>Solar</td>\n",
       "      <td>National Renewable Energy Laboratory</td>\n",
       "    </tr>\n",
       "    <tr>\n",
       "      <th>1</th>\n",
       "      <td>98.0</td>\n",
       "      <td>24.7663</td>\n",
       "      <td>74.6090</td>\n",
       "      <td>Coal</td>\n",
       "      <td>WRI</td>\n",
       "    </tr>\n",
       "    <tr>\n",
       "      <th>2</th>\n",
       "      <td>39.2</td>\n",
       "      <td>21.9038</td>\n",
       "      <td>69.3732</td>\n",
       "      <td>Wind</td>\n",
       "      <td>WRI</td>\n",
       "    </tr>\n",
       "    <tr>\n",
       "      <th>3</th>\n",
       "      <td>135.0</td>\n",
       "      <td>23.8712</td>\n",
       "      <td>91.3602</td>\n",
       "      <td>Gas</td>\n",
       "      <td>WRI</td>\n",
       "    </tr>\n",
       "    <tr>\n",
       "      <th>4</th>\n",
       "      <td>1800.0</td>\n",
       "      <td>21.9603</td>\n",
       "      <td>82.4091</td>\n",
       "      <td>Coal</td>\n",
       "      <td>WRI</td>\n",
       "    </tr>\n",
       "  </tbody>\n",
       "</table>\n",
       "</div>"
      ],
      "text/plain": [
       "   capacity_mw  latitude  longitude primary_fuel  \\\n",
       "0          2.5   28.1839    73.2407        Solar   \n",
       "1         98.0   24.7663    74.6090         Coal   \n",
       "2         39.2   21.9038    69.3732         Wind   \n",
       "3        135.0   23.8712    91.3602          Gas   \n",
       "4       1800.0   21.9603    82.4091         Coal   \n",
       "\n",
       "                     geolocation_source  \n",
       "0  National Renewable Energy Laboratory  \n",
       "1                                   WRI  \n",
       "2                                   WRI  \n",
       "3                                   WRI  \n",
       "4                                   WRI  "
      ]
     },
     "execution_count": 35,
     "metadata": {},
     "output_type": "execute_result"
    }
   ],
   "source": [
    "df.head()"
   ]
  },
  {
   "cell_type": "code",
   "execution_count": 36,
   "id": "41442113",
   "metadata": {},
   "outputs": [
    {
     "data": {
      "text/html": [
       "<div>\n",
       "<style scoped>\n",
       "    .dataframe tbody tr th:only-of-type {\n",
       "        vertical-align: middle;\n",
       "    }\n",
       "\n",
       "    .dataframe tbody tr th {\n",
       "        vertical-align: top;\n",
       "    }\n",
       "\n",
       "    .dataframe thead th {\n",
       "        text-align: right;\n",
       "    }\n",
       "</style>\n",
       "<table border=\"1\" class=\"dataframe\">\n",
       "  <thead>\n",
       "    <tr style=\"text-align: right;\">\n",
       "      <th></th>\n",
       "      <th>onehotencoder__x0_Industry About</th>\n",
       "      <th>onehotencoder__x0_National Renewable Energy Laboratory</th>\n",
       "      <th>onehotencoder__x0_WRI</th>\n",
       "      <th>onehotencoder__x1_Biomass</th>\n",
       "      <th>onehotencoder__x1_Coal</th>\n",
       "      <th>onehotencoder__x1_Gas</th>\n",
       "      <th>onehotencoder__x1_Hydro</th>\n",
       "      <th>onehotencoder__x1_Nuclear</th>\n",
       "      <th>onehotencoder__x1_Oil</th>\n",
       "      <th>onehotencoder__x1_Solar</th>\n",
       "      <th>onehotencoder__x1_Wind</th>\n",
       "      <th>capacity_mw</th>\n",
       "      <th>latitude</th>\n",
       "      <th>longitude</th>\n",
       "    </tr>\n",
       "  </thead>\n",
       "  <tbody>\n",
       "    <tr>\n",
       "      <th>0</th>\n",
       "      <td>0.0</td>\n",
       "      <td>1.0</td>\n",
       "      <td>0.0</td>\n",
       "      <td>0.0</td>\n",
       "      <td>0.0</td>\n",
       "      <td>0.0</td>\n",
       "      <td>0.0</td>\n",
       "      <td>0.0</td>\n",
       "      <td>0.0</td>\n",
       "      <td>1.0</td>\n",
       "      <td>0.0</td>\n",
       "      <td>2.5</td>\n",
       "      <td>28.1839</td>\n",
       "      <td>73.2407</td>\n",
       "    </tr>\n",
       "    <tr>\n",
       "      <th>1</th>\n",
       "      <td>0.0</td>\n",
       "      <td>0.0</td>\n",
       "      <td>1.0</td>\n",
       "      <td>0.0</td>\n",
       "      <td>1.0</td>\n",
       "      <td>0.0</td>\n",
       "      <td>0.0</td>\n",
       "      <td>0.0</td>\n",
       "      <td>0.0</td>\n",
       "      <td>0.0</td>\n",
       "      <td>0.0</td>\n",
       "      <td>98.0</td>\n",
       "      <td>24.7663</td>\n",
       "      <td>74.6090</td>\n",
       "    </tr>\n",
       "    <tr>\n",
       "      <th>2</th>\n",
       "      <td>0.0</td>\n",
       "      <td>0.0</td>\n",
       "      <td>1.0</td>\n",
       "      <td>0.0</td>\n",
       "      <td>0.0</td>\n",
       "      <td>0.0</td>\n",
       "      <td>0.0</td>\n",
       "      <td>0.0</td>\n",
       "      <td>0.0</td>\n",
       "      <td>0.0</td>\n",
       "      <td>1.0</td>\n",
       "      <td>39.2</td>\n",
       "      <td>21.9038</td>\n",
       "      <td>69.3732</td>\n",
       "    </tr>\n",
       "    <tr>\n",
       "      <th>3</th>\n",
       "      <td>0.0</td>\n",
       "      <td>0.0</td>\n",
       "      <td>1.0</td>\n",
       "      <td>0.0</td>\n",
       "      <td>0.0</td>\n",
       "      <td>1.0</td>\n",
       "      <td>0.0</td>\n",
       "      <td>0.0</td>\n",
       "      <td>0.0</td>\n",
       "      <td>0.0</td>\n",
       "      <td>0.0</td>\n",
       "      <td>135.0</td>\n",
       "      <td>23.8712</td>\n",
       "      <td>91.3602</td>\n",
       "    </tr>\n",
       "    <tr>\n",
       "      <th>4</th>\n",
       "      <td>0.0</td>\n",
       "      <td>0.0</td>\n",
       "      <td>1.0</td>\n",
       "      <td>0.0</td>\n",
       "      <td>1.0</td>\n",
       "      <td>0.0</td>\n",
       "      <td>0.0</td>\n",
       "      <td>0.0</td>\n",
       "      <td>0.0</td>\n",
       "      <td>0.0</td>\n",
       "      <td>0.0</td>\n",
       "      <td>1800.0</td>\n",
       "      <td>21.9603</td>\n",
       "      <td>82.4091</td>\n",
       "    </tr>\n",
       "  </tbody>\n",
       "</table>\n",
       "</div>"
      ],
      "text/plain": [
       "   onehotencoder__x0_Industry About  \\\n",
       "0                               0.0   \n",
       "1                               0.0   \n",
       "2                               0.0   \n",
       "3                               0.0   \n",
       "4                               0.0   \n",
       "\n",
       "   onehotencoder__x0_National Renewable Energy Laboratory  \\\n",
       "0                                                1.0        \n",
       "1                                                0.0        \n",
       "2                                                0.0        \n",
       "3                                                0.0        \n",
       "4                                                0.0        \n",
       "\n",
       "   onehotencoder__x0_WRI  onehotencoder__x1_Biomass  onehotencoder__x1_Coal  \\\n",
       "0                    0.0                        0.0                     0.0   \n",
       "1                    1.0                        0.0                     1.0   \n",
       "2                    1.0                        0.0                     0.0   \n",
       "3                    1.0                        0.0                     0.0   \n",
       "4                    1.0                        0.0                     1.0   \n",
       "\n",
       "   onehotencoder__x1_Gas  onehotencoder__x1_Hydro  onehotencoder__x1_Nuclear  \\\n",
       "0                    0.0                      0.0                        0.0   \n",
       "1                    0.0                      0.0                        0.0   \n",
       "2                    0.0                      0.0                        0.0   \n",
       "3                    1.0                      0.0                        0.0   \n",
       "4                    0.0                      0.0                        0.0   \n",
       "\n",
       "   onehotencoder__x1_Oil  onehotencoder__x1_Solar  onehotencoder__x1_Wind  \\\n",
       "0                    0.0                      1.0                     0.0   \n",
       "1                    0.0                      0.0                     0.0   \n",
       "2                    0.0                      0.0                     1.0   \n",
       "3                    0.0                      0.0                     0.0   \n",
       "4                    0.0                      0.0                     0.0   \n",
       "\n",
       "   capacity_mw  latitude  longitude  \n",
       "0          2.5   28.1839    73.2407  \n",
       "1         98.0   24.7663    74.6090  \n",
       "2         39.2   21.9038    69.3732  \n",
       "3        135.0   23.8712    91.3602  \n",
       "4       1800.0   21.9603    82.4091  "
      ]
     },
     "execution_count": 36,
     "metadata": {},
     "output_type": "execute_result"
    }
   ],
   "source": [
    "#Encoding the data\n",
    "from sklearn.preprocessing import OneHotEncoder\n",
    "from sklearn.compose import make_column_transformer\n",
    "\n",
    "ohe = OneHotEncoder()\n",
    "ct = make_column_transformer((ohe, ['geolocation_source', 'primary_fuel']), remainder='passthrough')\n",
    "\n",
    "transformed = ct.fit_transform(df)\n",
    "df_new = pd.DataFrame(transformed, columns=ct.get_feature_names())\n",
    "\n",
    "df_new.head()"
   ]
  },
  {
   "cell_type": "code",
   "execution_count": 37,
   "id": "c1aad27b",
   "metadata": {},
   "outputs": [
    {
     "name": "stdout",
     "output_type": "stream",
     "text": [
      "Shape before (907, 14)\n",
      "Shape after (891, 14)\n"
     ]
    }
   ],
   "source": [
    "#Removing of outliers by zscore method (consider only columns which had outliers displayed in boxplot of input features)\n",
    "#Capacity MW is target variable, so lets not remove its outliers\n",
    "columns_with_outliers = ['longitude']\n",
    "print('Shape before',df_new.shape)\n",
    "from scipy.stats import zscore\n",
    "z=np.abs(zscore(df_new[columns_with_outliers]))\n",
    "df_new = df_new[(z<3).all(axis=1)]\n",
    "print('Shape after',df_new.shape)"
   ]
  },
  {
   "cell_type": "code",
   "execution_count": 38,
   "id": "86d939a0",
   "metadata": {},
   "outputs": [
    {
     "name": "stdout",
     "output_type": "stream",
     "text": [
      "1.7640573318632855 % loss of data\n"
     ]
    }
   ],
   "source": [
    "#Percentage loss of data\n",
    "loss = (df.shape[0]-df_new.shape[0])*100/(df.shape[0])\n",
    "print(loss,'% loss of data')"
   ]
  },
  {
   "cell_type": "code",
   "execution_count": 39,
   "id": "1ed1ae37",
   "metadata": {},
   "outputs": [
    {
     "name": "stdout",
     "output_type": "stream",
     "text": [
      "x shape (891, 13)\n",
      "y shape (891,)\n"
     ]
    }
   ],
   "source": [
    "#Seperate feature and target columns\n",
    "x = df_new.drop(columns=['capacity_mw'], axis=1)\n",
    "y = df_new['capacity_mw']\n",
    "print('x shape',x.shape)\n",
    "print('y shape',y.shape)"
   ]
  },
  {
   "cell_type": "code",
   "execution_count": 40,
   "id": "f54114d4",
   "metadata": {},
   "outputs": [
    {
     "data": {
      "text/plain": [
       "[12.55055020371768, 12.550550203717698]"
      ]
     },
     "execution_count": 40,
     "metadata": {},
     "output_type": "execute_result"
    }
   ],
   "source": [
    "#VIF method to check multicollinearity \n",
    "#Checking for continuous type input feature columns\n",
    "cont = ['latitude','longitude']\n",
    "from statsmodels.stats.outliers_influence import variance_inflation_factor\n",
    "vif = pd.DataFrame()\n",
    "vif = [variance_inflation_factor(x[cont].values,i) for i in range(x[cont].shape[1])]\n",
    "vif"
   ]
  },
  {
   "cell_type": "markdown",
   "id": "17c7ec4c",
   "metadata": {},
   "source": [
    "VIF value must be within 5, so need to handle the issue by PCA technique"
   ]
  },
  {
   "cell_type": "markdown",
   "id": "f8443182",
   "metadata": {},
   "source": [
    "Let us merge Lattitude and longitude into one single column by using PCA technique and finalize the feature selection"
   ]
  },
  {
   "cell_type": "code",
   "execution_count": 41,
   "id": "6af816f7",
   "metadata": {},
   "outputs": [
    {
     "data": {
      "text/plain": [
       "array([[-1.46047801,  0.17945115],\n",
       "       [-0.84092119,  0.00491283],\n",
       "       [-1.3597953 , -1.17907638],\n",
       "       ...,\n",
       "       [ 0.41973984, -0.93958765],\n",
       "       [-0.93261885, -0.18351407],\n",
       "       [ 1.34856294, -1.25186351]])"
      ]
     },
     "execution_count": 41,
     "metadata": {},
     "output_type": "execute_result"
    }
   ],
   "source": [
    "#We need to scale the data before applying PCA technique to handle multicollinearity\n",
    "from sklearn.preprocessing import StandardScaler\n",
    "sc = StandardScaler()\n",
    "x_new = sc.fit_transform(x[cont])\n",
    "x_new = pd.DataFrame(x_new, columns = cont)\n",
    "\n",
    "#PCA technique to merge\n",
    "from sklearn.decomposition import PCA\n",
    "pca = PCA()\n",
    "pca.fit_transform(x_new)"
   ]
  },
  {
   "cell_type": "code",
   "execution_count": 42,
   "id": "7a3c43b3",
   "metadata": {},
   "outputs": [],
   "source": [
    "#Combining 2 columns into 1 (latitude+longitude as PC1)\n",
    "pca = PCA(n_components=1)\n",
    "new = pca.fit_transform(x_new)\n",
    "PC = pd.DataFrame(new, columns=['PC1'])"
   ]
  },
  {
   "cell_type": "code",
   "execution_count": 43,
   "id": "a65858fd",
   "metadata": {},
   "outputs": [],
   "source": [
    "#Using PC inplace of 2 columns\n",
    "x = pd.concat([x.reset_index(drop=True),PC.reset_index(drop=True)], axis=1)"
   ]
  },
  {
   "cell_type": "code",
   "execution_count": 44,
   "id": "94b3c6ec",
   "metadata": {},
   "outputs": [
    {
     "data": {
      "text/plain": [
       "onehotencoder__x0_Industry About                           2.172414\n",
       "onehotencoder__x0_National Renewable Energy Laboratory    14.849129\n",
       "onehotencoder__x0_WRI                                     -2.115891\n",
       "onehotencoder__x1_Biomass                                  3.863897\n",
       "onehotencoder__x1_Coal                                     0.929505\n",
       "onehotencoder__x1_Gas                                      3.289804\n",
       "onehotencoder__x1_Hydro                                    1.041544\n",
       "onehotencoder__x1_Nuclear                                  9.815011\n",
       "onehotencoder__x1_Oil                                      6.458588\n",
       "onehotencoder__x1_Solar                                    2.061660\n",
       "onehotencoder__x1_Wind                                     2.102126\n",
       "latitude                                                  -0.121810\n",
       "longitude                                                  0.879007\n",
       "PC1                                                       -0.109583\n",
       "dtype: float64"
      ]
     },
     "execution_count": 44,
     "metadata": {},
     "output_type": "execute_result"
    }
   ],
   "source": [
    "#Checking skewness of input features\n",
    "x.skew()"
   ]
  },
  {
   "cell_type": "markdown",
   "id": "9b64ca74",
   "metadata": {},
   "source": [
    "skewness must be within limit 0f +-0.5"
   ]
  },
  {
   "cell_type": "markdown",
   "id": "73633ec2",
   "metadata": {},
   "source": [
    "We should not consider skewness of OneHot Encoded categorical data\n",
    "\n",
    "Look at skewness of PC1, that is within limit\n",
    "\n",
    "So we can proceed, without skewness handling method"
   ]
  },
  {
   "cell_type": "code",
   "execution_count": 45,
   "id": "4f3a1414",
   "metadata": {},
   "outputs": [],
   "source": [
    "#Apply power transform to transform data\n",
    "from sklearn.preprocessing import PowerTransformer\n",
    "po = PowerTransformer()\n",
    "x = po.fit_transform(x)"
   ]
  },
  {
   "cell_type": "code",
   "execution_count": 46,
   "id": "aa9fe19c",
   "metadata": {},
   "outputs": [],
   "source": [
    "#Scaling of input feature data\n",
    "from sklearn.preprocessing import StandardScaler\n",
    "scaler = StandardScaler()\n",
    "x = scaler.fit_transform(x)"
   ]
  },
  {
   "cell_type": "code",
   "execution_count": 47,
   "id": "0c628122",
   "metadata": {},
   "outputs": [
    {
     "name": "stdout",
     "output_type": "stream",
     "text": [
      "Max r2 score = 0.31512255113375853\n",
      "At RS = 0\n",
      "Max r2 score = 0.31607153820872036\n",
      "At RS = 1\n",
      "Max r2 score = 0.3169023055815362\n",
      "At RS = 6\n",
      "Max r2 score = 0.32128971348356083\n",
      "At RS = 8\n",
      "Max r2 score = 0.33241588750054607\n",
      "At RS = 9\n",
      "Max r2 score = 0.4058995402346326\n",
      "At RS = 10\n",
      "Max r2 score = 0.4429443679543781\n",
      "At RS = 106\n"
     ]
    }
   ],
   "source": [
    "# Linear regression model\n",
    "# Selection of best random state\n",
    "from sklearn.linear_model import LinearRegression\n",
    "from sklearn.metrics import r2_score, mean_squared_error, mean_absolute_error\n",
    "from sklearn.model_selection import train_test_split\n",
    "model = LinearRegression()\n",
    "max_r2 = 0\n",
    "for i in range(0,1000):\n",
    "    xtr, xt, ytr, yt = train_test_split(x,y, random_state=i,test_size=0.20)\n",
    "    model.fit(xtr,ytr)\n",
    "    predyt = model.predict(xt)\n",
    "    r2 = r2_score(yt,predyt)\n",
    "    \n",
    "    if r2 > max_r2:\n",
    "        max_r2 = r2\n",
    "        print(\"Max r2 score =\",max_r2)\n",
    "        print(\"At RS =\",i)"
   ]
  },
  {
   "cell_type": "code",
   "execution_count": 48,
   "id": "c15c18aa",
   "metadata": {},
   "outputs": [
    {
     "name": "stdout",
     "output_type": "stream",
     "text": [
      "Test R2 score = 0.4429443679543781 \n",
      "\n",
      "Mean absolute error = 242.8144072330115 \n",
      "\n",
      "Root mean squared error = 372.78879245756144 \n",
      "\n"
     ]
    }
   ],
   "source": [
    "#Splitting at best random state\n",
    "xtr, xt, ytr, yt = train_test_split(x,y, random_state=106,test_size=0.2)\n",
    "\n",
    "#Training the model \n",
    "model = LinearRegression()\n",
    "model.fit(xtr,ytr)\n",
    "predyt = model.predict(xt)\n",
    "r2_test = r2_score(yt,predyt)\n",
    "mae = mean_absolute_error(yt,predyt)\n",
    "rme = np.sqrt(mean_squared_error(yt,predyt))\n",
    "print('Test R2 score =',r2_test,'\\n')\n",
    "print('Mean absolute error =',mae,'\\n')\n",
    "print('Root mean squared error =',rme,'\\n')"
   ]
  },
  {
   "cell_type": "code",
   "execution_count": 49,
   "id": "45824a5f",
   "metadata": {},
   "outputs": [
    {
     "name": "stdout",
     "output_type": "stream",
     "text": [
      "CV score at 4 = 0.26645257183537374\n",
      "CV score at 5 = 0.24809906612246574\n",
      "CV score at 6 = 0.2616102448095739\n",
      "CV score at 7 = 0.26587950687423795\n",
      "CV score at 8 = 0.2582180587187173\n",
      "CV score at 9 = 0.26234124035064865\n",
      "CV score at 10 = 0.2767271699771451\n",
      "CV score at 11 = 0.27047324992171845\n",
      "\n",
      "Least difference of CV score and r2 score of testing is : 0.166217197977233\n"
     ]
    }
   ],
   "source": [
    "#Cross validation for checking overfitting\n",
    "from sklearn.model_selection import cross_val_score\n",
    "CVS = []\n",
    "for i in range(4,12):\n",
    "    lsc = cross_val_score(model,x,y,cv=i)\n",
    "    CVS.append(lsc.mean())\n",
    "    print('CV score at',i,'=',lsc.mean())\n",
    "least_diff = min(r2_test - CVS)\n",
    "cvs = max(CVS)\n",
    "print('\\nLeast difference of CV score and r2 score of testing is :', least_diff)"
   ]
  },
  {
   "cell_type": "code",
   "execution_count": 50,
   "id": "499c6b46",
   "metadata": {},
   "outputs": [
    {
     "data": {
      "text/html": [
       "<div>\n",
       "<style scoped>\n",
       "    .dataframe tbody tr th:only-of-type {\n",
       "        vertical-align: middle;\n",
       "    }\n",
       "\n",
       "    .dataframe tbody tr th {\n",
       "        vertical-align: top;\n",
       "    }\n",
       "\n",
       "    .dataframe thead th {\n",
       "        text-align: right;\n",
       "    }\n",
       "</style>\n",
       "<table border=\"1\" class=\"dataframe\">\n",
       "  <thead>\n",
       "    <tr style=\"text-align: right;\">\n",
       "      <th></th>\n",
       "      <th>Algorithm name</th>\n",
       "      <th>Test r2 score</th>\n",
       "      <th>Mean abs error</th>\n",
       "      <th>Root mean squared error</th>\n",
       "      <th>CV score</th>\n",
       "      <th>r2-cv diff</th>\n",
       "    </tr>\n",
       "  </thead>\n",
       "  <tbody>\n",
       "    <tr>\n",
       "      <th>0</th>\n",
       "      <td>Linear regression</td>\n",
       "      <td>0.442944</td>\n",
       "      <td>242.814407</td>\n",
       "      <td>372.788792</td>\n",
       "      <td>0.276727</td>\n",
       "      <td>0.166217</td>\n",
       "    </tr>\n",
       "  </tbody>\n",
       "</table>\n",
       "</div>"
      ],
      "text/plain": [
       "      Algorithm name  Test r2 score  Mean abs error  Root mean squared error  \\\n",
       "0  Linear regression       0.442944      242.814407               372.788792   \n",
       "\n",
       "   CV score  r2-cv diff  \n",
       "0  0.276727    0.166217  "
      ]
     },
     "execution_count": 50,
     "metadata": {},
     "output_type": "execute_result"
    }
   ],
   "source": [
    "#Saving the results of model\n",
    "model_result = pd.DataFrame(columns=['Algorithm name','Test r2 score', 'Mean abs error', 'Root mean squared error', 'CV score', 'r2-cv diff'])\n",
    "model_result.loc[len(model_result.index)] = ['Linear regression', r2_test, mae, rme, cvs, least_diff] \n",
    "model_result"
   ]
  },
  {
   "cell_type": "markdown",
   "id": "f486aa4b",
   "metadata": {},
   "source": [
    "Linear regression model is not giving good results. \n",
    "\n",
    "R2 score is very low and r2 - cv score difference is high 17%\n",
    "\n",
    "Model is overfitting"
   ]
  },
  {
   "cell_type": "code",
   "execution_count": 51,
   "id": "cf386bfa",
   "metadata": {},
   "outputs": [
    {
     "name": "stdout",
     "output_type": "stream",
     "text": [
      "Test score in percentage = -19.852535456818778 \n",
      "\n",
      "Mean absolute error = 286.4892088571161 \n",
      "\n",
      "Root mean squared error = 546.8109155168065 \n",
      "\n"
     ]
    }
   ],
   "source": [
    "# Support vector regressor\n",
    "from sklearn.svm import SVR\n",
    "model = SVR()\n",
    "model.fit(xtr,ytr)\n",
    "predyt = model.predict(xt)\n",
    "print('Test score in percentage =',(r2_score(yt,predyt)*100),'\\n')\n",
    "print('Mean absolute error =',(mean_absolute_error(yt,predyt)),'\\n')\n",
    "print('Root mean squared error =',(np.sqrt(mean_squared_error(yt,predyt))),'\\n')"
   ]
  },
  {
   "cell_type": "markdown",
   "id": "62b8e35c",
   "metadata": {},
   "source": [
    "SVR algorithm suits badly for the dataset"
   ]
  },
  {
   "cell_type": "code",
   "execution_count": 52,
   "id": "aa00f205",
   "metadata": {},
   "outputs": [
    {
     "name": "stdout",
     "output_type": "stream",
     "text": [
      "Test R2 score = 0.4515749082442635 \n",
      "\n",
      "Mean absolute error = 239.00600182107297 \n",
      "\n",
      "Root mean squared error = 369.88968528292844 \n",
      "\n"
     ]
    }
   ],
   "source": [
    "# Lasso regression\n",
    "from sklearn.linear_model import Lasso\n",
    "model = Lasso()\n",
    "model.fit(xtr,ytr)\n",
    "predyt = model.predict(xt)\n",
    "r2_test = r2_score(yt,predyt)\n",
    "mae = mean_absolute_error(yt,predyt)\n",
    "rme = np.sqrt(mean_squared_error(yt,predyt))\n",
    "print('Test R2 score =',r2_test,'\\n')\n",
    "print('Mean absolute error =',mae,'\\n')\n",
    "print('Root mean squared error =',rme,'\\n')"
   ]
  },
  {
   "cell_type": "code",
   "execution_count": 53,
   "id": "98d3b506",
   "metadata": {},
   "outputs": [
    {
     "name": "stdout",
     "output_type": "stream",
     "text": [
      "CV score at 4 = 0.2711268575048441\n",
      "CV score at 5 = 0.265902603849998\n",
      "CV score at 6 = 0.26382696227452396\n",
      "CV score at 7 = 0.2689375390274918\n",
      "CV score at 8 = 0.261009080850155\n",
      "CV score at 9 = 0.26640881795417315\n",
      "CV score at 10 = 0.28047731791663877\n",
      "CV score at 11 = 0.2741752597160725\n",
      "\n",
      "Least difference of CV score and r2 score of testing is : 0.17109759032762473\n"
     ]
    }
   ],
   "source": [
    "#Cross validation for checking overfitting\n",
    "from sklearn.model_selection import cross_val_score\n",
    "CVS = []\n",
    "for i in range(4,12):\n",
    "    lsc = cross_val_score(model,x,y,cv=i)\n",
    "    CVS.append(lsc.mean())\n",
    "    print('CV score at',i,'=',lsc.mean())\n",
    "least_diff = min(r2_test - CVS)\n",
    "cvs = max(CVS)\n",
    "print('\\nLeast difference of CV score and r2 score of testing is :', least_diff)"
   ]
  },
  {
   "cell_type": "code",
   "execution_count": 54,
   "id": "d6237e53",
   "metadata": {},
   "outputs": [
    {
     "name": "stdout",
     "output_type": "stream",
     "text": [
      "Lasso(alpha=0.0001, random_state=170, selection='random')\n"
     ]
    }
   ],
   "source": [
    "#Hyperparameter tuning of Lasso model\n",
    "from sklearn.model_selection import GridSearchCV\n",
    "model = Lasso()\n",
    "parameters = {'alpha':[0.0001,0.001, 0.01,0.1, 1, 10], \n",
    "              'random_state':list(range(10,200,10)), \n",
    "              'selection':['cyclic', 'random'],\n",
    "              'tol':[0.0001,0.001,1,10]}\n",
    "gsv = GridSearchCV(model, parameters)\n",
    "gsv.fit(xtr,ytr)\n",
    "print(gsv.best_estimator_)"
   ]
  },
  {
   "cell_type": "code",
   "execution_count": 55,
   "id": "a72544db",
   "metadata": {},
   "outputs": [
    {
     "name": "stdout",
     "output_type": "stream",
     "text": [
      "Test R2 score = 0.4429792734323622 \n",
      "\n",
      "Mean absolute error = 242.54404002112074 \n",
      "\n",
      "Root mean squared error = 372.77711267722475 \n",
      "\n"
     ]
    }
   ],
   "source": [
    "#Trainig model as per best parameters\n",
    "model = Lasso(alpha=0.0001, random_state=170, selection='random', tol=0.001)\n",
    "model.fit(xtr,ytr)\n",
    "predyt = model.predict(xt)\n",
    "r2_test = r2_score(yt,predyt)\n",
    "mae = mean_absolute_error(yt,predyt)\n",
    "rme = np.sqrt(mean_squared_error(yt,predyt))\n",
    "print('Test R2 score =',r2_test,'\\n')\n",
    "print('Mean absolute error =',mae,'\\n')\n",
    "print('Root mean squared error =',rme,'\\n')"
   ]
  },
  {
   "cell_type": "code",
   "execution_count": 56,
   "id": "aad90aa8",
   "metadata": {},
   "outputs": [
    {
     "name": "stdout",
     "output_type": "stream",
     "text": [
      "CV score at 4 = 0.26814877646294105\n",
      "CV score at 5 = 0.26358681638695264\n",
      "CV score at 6 = 0.2607588636157287\n",
      "CV score at 7 = 0.2656996162641064\n",
      "CV score at 8 = 0.25816216454731\n",
      "CV score at 9 = 0.26381961858586045\n",
      "CV score at 10 = 0.2784426619710908\n",
      "CV score at 11 = 0.271922008547367\n",
      "\n",
      "Least difference of CV score and r2 score of testing is : 0.1645366114612714\n"
     ]
    }
   ],
   "source": [
    "#Cross validation for checking overfitting\n",
    "from sklearn.model_selection import cross_val_score\n",
    "CVS = []\n",
    "for i in range(4,12):\n",
    "    lsc = cross_val_score(model,x,y,cv=i)\n",
    "    CVS.append(lsc.mean())\n",
    "    print('CV score at',i,'=',lsc.mean())\n",
    "least_diff = min(r2_test - CVS)\n",
    "cvs = max(CVS)\n",
    "print('\\nLeast difference of CV score and r2 score of testing is :', least_diff)"
   ]
  },
  {
   "cell_type": "code",
   "execution_count": 57,
   "id": "5ec76a9d",
   "metadata": {},
   "outputs": [
    {
     "data": {
      "text/html": [
       "<div>\n",
       "<style scoped>\n",
       "    .dataframe tbody tr th:only-of-type {\n",
       "        vertical-align: middle;\n",
       "    }\n",
       "\n",
       "    .dataframe tbody tr th {\n",
       "        vertical-align: top;\n",
       "    }\n",
       "\n",
       "    .dataframe thead th {\n",
       "        text-align: right;\n",
       "    }\n",
       "</style>\n",
       "<table border=\"1\" class=\"dataframe\">\n",
       "  <thead>\n",
       "    <tr style=\"text-align: right;\">\n",
       "      <th></th>\n",
       "      <th>Algorithm name</th>\n",
       "      <th>Test r2 score</th>\n",
       "      <th>Mean abs error</th>\n",
       "      <th>Root mean squared error</th>\n",
       "      <th>CV score</th>\n",
       "      <th>r2-cv diff</th>\n",
       "    </tr>\n",
       "  </thead>\n",
       "  <tbody>\n",
       "    <tr>\n",
       "      <th>0</th>\n",
       "      <td>Linear regression</td>\n",
       "      <td>0.442944</td>\n",
       "      <td>242.814407</td>\n",
       "      <td>372.788792</td>\n",
       "      <td>0.276727</td>\n",
       "      <td>0.166217</td>\n",
       "    </tr>\n",
       "    <tr>\n",
       "      <th>1</th>\n",
       "      <td>Lasso regression</td>\n",
       "      <td>0.442979</td>\n",
       "      <td>242.544040</td>\n",
       "      <td>372.777113</td>\n",
       "      <td>0.278443</td>\n",
       "      <td>0.164537</td>\n",
       "    </tr>\n",
       "  </tbody>\n",
       "</table>\n",
       "</div>"
      ],
      "text/plain": [
       "      Algorithm name  Test r2 score  Mean abs error  Root mean squared error  \\\n",
       "0  Linear regression       0.442944      242.814407               372.788792   \n",
       "1   Lasso regression       0.442979      242.544040               372.777113   \n",
       "\n",
       "   CV score  r2-cv diff  \n",
       "0  0.276727    0.166217  \n",
       "1  0.278443    0.164537  "
      ]
     },
     "execution_count": 57,
     "metadata": {},
     "output_type": "execute_result"
    }
   ],
   "source": [
    "#Saving the results of model\n",
    "model_result.loc[len(model_result.index)] = ['Lasso regression', r2_test, mae, rme, cvs, least_diff] \n",
    "model_result"
   ]
  },
  {
   "cell_type": "code",
   "execution_count": 58,
   "id": "fefaff83",
   "metadata": {},
   "outputs": [
    {
     "name": "stdout",
     "output_type": "stream",
     "text": [
      "Test R2 score = 0.445655981919303 \n",
      "\n",
      "Mean absolute error = 241.3928994767216 \n",
      "\n",
      "Root mean squared error = 371.880362135653 \n",
      "\n"
     ]
    }
   ],
   "source": [
    "# Ridge regression\n",
    "from sklearn.linear_model import Ridge\n",
    "model = Ridge()\n",
    "model.fit(xtr,ytr)\n",
    "predyt = model.predict(xt)\n",
    "r2_test = r2_score(yt,predyt)\n",
    "mae = mean_absolute_error(yt,predyt)\n",
    "rme = np.sqrt(mean_squared_error(yt,predyt))\n",
    "print('Test R2 score =',r2_test,'\\n')\n",
    "print('Mean absolute error =',mae,'\\n')\n",
    "print('Root mean squared error =',rme,'\\n')"
   ]
  },
  {
   "cell_type": "code",
   "execution_count": 59,
   "id": "74c2d25a",
   "metadata": {},
   "outputs": [
    {
     "name": "stdout",
     "output_type": "stream",
     "text": [
      "CV score at 4 = 0.2691212088457696\n",
      "CV score at 5 = 0.26438217917465356\n",
      "CV score at 6 = 0.2616497850493735\n",
      "CV score at 7 = 0.266516380526808\n",
      "CV score at 8 = 0.2589082547568637\n",
      "CV score at 9 = 0.2645180451830168\n",
      "CV score at 10 = 0.2790169514991348\n",
      "CV score at 11 = 0.2725406752871485\n",
      "\n",
      "Least difference of CV score and r2 score of testing is : 0.1666390304201682\n"
     ]
    }
   ],
   "source": [
    "#Cross validation for checking overfitting\n",
    "from sklearn.model_selection import cross_val_score\n",
    "CVS = []\n",
    "for i in range(4,12):\n",
    "    lsc = cross_val_score(model,x,y,cv=i)\n",
    "    CVS.append(lsc.mean())\n",
    "    print('CV score at',i,'=',lsc.mean())\n",
    "least_diff = min(r2_test - CVS)\n",
    "cvs = max(CVS)\n",
    "print('\\nLeast difference of CV score and r2 score of testing is :', least_diff)"
   ]
  },
  {
   "cell_type": "code",
   "execution_count": 60,
   "id": "55b44b27",
   "metadata": {},
   "outputs": [
    {
     "name": "stdout",
     "output_type": "stream",
     "text": [
      "Ridge(alpha=10, random_state=10, solver='lsqr', tol=0.0001)\n"
     ]
    }
   ],
   "source": [
    "#Hyperparameter tuning of Lasso model\n",
    "from sklearn.model_selection import GridSearchCV\n",
    "model = Ridge()\n",
    "parameters = {'alpha':[0.001, 0.01,0.1, 1, 10], \n",
    "              'random_state':list(range(10,200,10)), \n",
    "              'solver':['auto', 'svd', 'cholesky', 'lsqr', 'sparse_cg','sag', 'saga', 'lbfgs'],\n",
    "              'tol':[0.0001,0.001,1,10]}\n",
    "gsv = GridSearchCV(model, parameters)\n",
    "gsv.fit(xtr,ytr)\n",
    "print(gsv.best_estimator_)"
   ]
  },
  {
   "cell_type": "code",
   "execution_count": 61,
   "id": "e9f24a90",
   "metadata": {},
   "outputs": [
    {
     "name": "stdout",
     "output_type": "stream",
     "text": [
      "Test R2 score = 0.4539126617712015 \n",
      "\n",
      "Mean absolute error = 238.39428864823296 \n",
      "\n",
      "Root mean squared error = 369.10048508741784 \n",
      "\n"
     ]
    }
   ],
   "source": [
    "#Trainig model as per best parameters\n",
    "model = Ridge(alpha=10, random_state=10, solver='lsqr', tol=0.0001)\n",
    "model.fit(xtr,ytr)\n",
    "predyt = model.predict(xt)\n",
    "r2_test = r2_score(yt,predyt)\n",
    "mae = mean_absolute_error(yt,predyt)\n",
    "rme = np.sqrt(mean_squared_error(yt,predyt))\n",
    "print('Test R2 score =',r2_test,'\\n')\n",
    "print('Mean absolute error =',mae,'\\n')\n",
    "print('Root mean squared error =',rme,'\\n')"
   ]
  },
  {
   "cell_type": "code",
   "execution_count": 62,
   "id": "177211fa",
   "metadata": {},
   "outputs": [
    {
     "name": "stdout",
     "output_type": "stream",
     "text": [
      "CV score at 4 = 0.2721557197161518\n",
      "CV score at 5 = 0.26708026798929557\n",
      "CV score at 6 = 0.2647692447931505\n",
      "CV score at 7 = 0.2695117410679893\n",
      "CV score at 8 = 0.2617739573152375\n",
      "CV score at 9 = 0.26715278503769924\n",
      "CV score at 10 = 0.2810628952830202\n",
      "CV score at 11 = 0.2749052087432527\n",
      "\n",
      "Least difference of CV score and r2 score of testing is : 0.1728497664881813\n"
     ]
    }
   ],
   "source": [
    "#Cross validation for checking overfitting\n",
    "from sklearn.model_selection import cross_val_score\n",
    "CVS = []\n",
    "for i in range(4,12):\n",
    "    lsc = cross_val_score(model,x,y,cv=i)\n",
    "    CVS.append(lsc.mean())\n",
    "    print('CV score at',i,'=',lsc.mean())\n",
    "least_diff = min(r2_test - CVS)\n",
    "cvs = max(CVS)\n",
    "print('\\nLeast difference of CV score and r2 score of testing is :', least_diff)"
   ]
  },
  {
   "cell_type": "code",
   "execution_count": 63,
   "id": "ba530d8c",
   "metadata": {},
   "outputs": [
    {
     "data": {
      "text/html": [
       "<div>\n",
       "<style scoped>\n",
       "    .dataframe tbody tr th:only-of-type {\n",
       "        vertical-align: middle;\n",
       "    }\n",
       "\n",
       "    .dataframe tbody tr th {\n",
       "        vertical-align: top;\n",
       "    }\n",
       "\n",
       "    .dataframe thead th {\n",
       "        text-align: right;\n",
       "    }\n",
       "</style>\n",
       "<table border=\"1\" class=\"dataframe\">\n",
       "  <thead>\n",
       "    <tr style=\"text-align: right;\">\n",
       "      <th></th>\n",
       "      <th>Algorithm name</th>\n",
       "      <th>Test r2 score</th>\n",
       "      <th>Mean abs error</th>\n",
       "      <th>Root mean squared error</th>\n",
       "      <th>CV score</th>\n",
       "      <th>r2-cv diff</th>\n",
       "    </tr>\n",
       "  </thead>\n",
       "  <tbody>\n",
       "    <tr>\n",
       "      <th>0</th>\n",
       "      <td>Linear regression</td>\n",
       "      <td>0.442944</td>\n",
       "      <td>242.814407</td>\n",
       "      <td>372.788792</td>\n",
       "      <td>0.276727</td>\n",
       "      <td>0.166217</td>\n",
       "    </tr>\n",
       "    <tr>\n",
       "      <th>1</th>\n",
       "      <td>Lasso regression</td>\n",
       "      <td>0.442979</td>\n",
       "      <td>242.544040</td>\n",
       "      <td>372.777113</td>\n",
       "      <td>0.278443</td>\n",
       "      <td>0.164537</td>\n",
       "    </tr>\n",
       "    <tr>\n",
       "      <th>2</th>\n",
       "      <td>Ridge regression</td>\n",
       "      <td>0.453913</td>\n",
       "      <td>238.394289</td>\n",
       "      <td>369.100485</td>\n",
       "      <td>0.281063</td>\n",
       "      <td>0.172850</td>\n",
       "    </tr>\n",
       "  </tbody>\n",
       "</table>\n",
       "</div>"
      ],
      "text/plain": [
       "      Algorithm name  Test r2 score  Mean abs error  Root mean squared error  \\\n",
       "0  Linear regression       0.442944      242.814407               372.788792   \n",
       "1   Lasso regression       0.442979      242.544040               372.777113   \n",
       "2   Ridge regression       0.453913      238.394289               369.100485   \n",
       "\n",
       "   CV score  r2-cv diff  \n",
       "0  0.276727    0.166217  \n",
       "1  0.278443    0.164537  \n",
       "2  0.281063    0.172850  "
      ]
     },
     "execution_count": 63,
     "metadata": {},
     "output_type": "execute_result"
    }
   ],
   "source": [
    "#Saving the results of model\n",
    "model_result.loc[len(model_result.index)] = ['Ridge regression', r2_test, mae, rme, cvs, least_diff] \n",
    "model_result"
   ]
  },
  {
   "cell_type": "code",
   "execution_count": 64,
   "id": "97d3deee",
   "metadata": {},
   "outputs": [
    {
     "name": "stdout",
     "output_type": "stream",
     "text": [
      "Test R2 score = 0.48194424831290716 \n",
      "\n",
      "Mean absolute error = 237.95598039707133 \n",
      "\n",
      "Root mean squared error = 359.502415194646 \n",
      "\n"
     ]
    }
   ],
   "source": [
    "# Gradient boosting regressor\n",
    "from sklearn.ensemble import GradientBoostingRegressor\n",
    "model = GradientBoostingRegressor()\n",
    "model.fit(xtr,ytr)\n",
    "predyt = model.predict(xt)\n",
    "r2_test = r2_score(yt,predyt)\n",
    "mae = mean_absolute_error(yt,predyt)\n",
    "rme = np.sqrt(mean_squared_error(yt,predyt))\n",
    "print('Test R2 score =',r2_test,'\\n')\n",
    "print('Mean absolute error =',mae,'\\n')\n",
    "print('Root mean squared error =',rme,'\\n')"
   ]
  },
  {
   "cell_type": "code",
   "execution_count": 65,
   "id": "47d12aa2",
   "metadata": {},
   "outputs": [
    {
     "name": "stdout",
     "output_type": "stream",
     "text": [
      "CV score at 4 = 0.2571134963613375\n",
      "CV score at 5 = 0.2912443224315625\n",
      "CV score at 6 = 0.2424565707609565\n",
      "CV score at 7 = 0.27222843561746835\n",
      "CV score at 8 = 0.28166859830409796\n",
      "CV score at 9 = 0.2717173210332176\n",
      "CV score at 10 = 0.2625655144699053\n",
      "CV score at 11 = 0.27514105718256926\n",
      "\n",
      "Least difference of CV score and r2 score of testing is : 0.19069992588134466\n"
     ]
    }
   ],
   "source": [
    "#Cross validation for checking overfitting\n",
    "from sklearn.model_selection import cross_val_score\n",
    "CVS = []\n",
    "for i in range(4,12):\n",
    "    lsc = cross_val_score(model,x,y,cv=i)\n",
    "    CVS.append(lsc.mean())\n",
    "    print('CV score at',i,'=',lsc.mean())\n",
    "least_diff = min(r2_test - CVS)\n",
    "cvs = max(CVS)\n",
    "print('\\nLeast difference of CV score and r2 score of testing is :', least_diff)"
   ]
  },
  {
   "cell_type": "code",
   "execution_count": 67,
   "id": "dd6d8a33",
   "metadata": {},
   "outputs": [
    {
     "name": "stdout",
     "output_type": "stream",
     "text": [
      "GradientBoostingRegressor(criterion='mse', max_depth=8, n_estimators=150)\n"
     ]
    }
   ],
   "source": [
    "# Hyper parameter tuning of Gradient boosting regressor\n",
    "parameters = {'criterion':['friedman_mse', 'squared_error', 'mae','mse'],\n",
    "              'n_estimators':[100,150,200,300], \n",
    "              'max_depth' : [4,6,8,10,12],\n",
    "              'learning_rate' : [0.01,0.1,1],\n",
    "              'tol' : [0.0001,0.01,1,10]}\n",
    "gsv = GridSearchCV(model, parameters)\n",
    "gsv.fit(xtr,ytr)\n",
    "print(gsv.best_estimator_)"
   ]
  },
  {
   "cell_type": "code",
   "execution_count": 92,
   "id": "b2cc7dfc",
   "metadata": {},
   "outputs": [
    {
     "name": "stdout",
     "output_type": "stream",
     "text": [
      "Test R2 score = 0.5205018354831253 \n",
      "\n",
      "Mean absolute error = 229.96043903023985 \n",
      "\n",
      "Root mean squared error = 345.86533563882335 \n",
      "\n"
     ]
    }
   ],
   "source": [
    "# Training for best parameter\n",
    "model = GradientBoostingRegressor(criterion='mse', max_depth=8, n_estimators=150)\n",
    "model.fit(xtr,ytr)\n",
    "predyt = model.predict(xt)\n",
    "r2_test = r2_score(yt,predyt)\n",
    "mae = mean_absolute_error(yt,predyt)\n",
    "rme = np.sqrt(mean_squared_error(yt,predyt))\n",
    "print('Test R2 score =',r2_test,'\\n')\n",
    "print('Mean absolute error =',mae,'\\n')\n",
    "print('Root mean squared error =',rme,'\\n')"
   ]
  },
  {
   "cell_type": "code",
   "execution_count": 93,
   "id": "e00758a6",
   "metadata": {},
   "outputs": [
    {
     "name": "stdout",
     "output_type": "stream",
     "text": [
      "CV score at 4 = 0.2576785622752205\n",
      "CV score at 5 = 0.2657873584621931\n",
      "CV score at 6 = 0.2516842962458901\n",
      "CV score at 7 = 0.264681822551003\n",
      "CV score at 8 = 0.2579014912499015\n",
      "CV score at 9 = 0.25614232129123954\n",
      "CV score at 10 = 0.26127536446770183\n",
      "CV score at 11 = 0.2709552623550204\n",
      "\n",
      "Least difference of CV score and r2 score of testing is : 0.24954657312810496\n"
     ]
    }
   ],
   "source": [
    "#Cross validation for checking overfitting\n",
    "from sklearn.model_selection import cross_val_score\n",
    "CVS = []\n",
    "for i in range(4,12):\n",
    "    lsc = cross_val_score(model,x,y,cv=i)\n",
    "    CVS.append(lsc.mean())\n",
    "    print('CV score at',i,'=',lsc.mean())\n",
    "least_diff = min(r2_test - CVS)\n",
    "cvs = max(CVS)\n",
    "print('\\nLeast difference of CV score and r2 score of testing is :', least_diff)"
   ]
  },
  {
   "cell_type": "code",
   "execution_count": 94,
   "id": "02aaed2b",
   "metadata": {},
   "outputs": [
    {
     "data": {
      "text/html": [
       "<div>\n",
       "<style scoped>\n",
       "    .dataframe tbody tr th:only-of-type {\n",
       "        vertical-align: middle;\n",
       "    }\n",
       "\n",
       "    .dataframe tbody tr th {\n",
       "        vertical-align: top;\n",
       "    }\n",
       "\n",
       "    .dataframe thead th {\n",
       "        text-align: right;\n",
       "    }\n",
       "</style>\n",
       "<table border=\"1\" class=\"dataframe\">\n",
       "  <thead>\n",
       "    <tr style=\"text-align: right;\">\n",
       "      <th></th>\n",
       "      <th>Algorithm name</th>\n",
       "      <th>Test r2 score</th>\n",
       "      <th>Mean abs error</th>\n",
       "      <th>Root mean squared error</th>\n",
       "      <th>CV score</th>\n",
       "      <th>r2-cv diff</th>\n",
       "    </tr>\n",
       "  </thead>\n",
       "  <tbody>\n",
       "    <tr>\n",
       "      <th>0</th>\n",
       "      <td>Linear regression</td>\n",
       "      <td>0.442944</td>\n",
       "      <td>242.814407</td>\n",
       "      <td>372.788792</td>\n",
       "      <td>0.276727</td>\n",
       "      <td>0.166217</td>\n",
       "    </tr>\n",
       "    <tr>\n",
       "      <th>1</th>\n",
       "      <td>Lasso regression</td>\n",
       "      <td>0.442979</td>\n",
       "      <td>242.544040</td>\n",
       "      <td>372.777113</td>\n",
       "      <td>0.278443</td>\n",
       "      <td>0.164537</td>\n",
       "    </tr>\n",
       "    <tr>\n",
       "      <th>2</th>\n",
       "      <td>Ridge regression</td>\n",
       "      <td>0.453913</td>\n",
       "      <td>238.394289</td>\n",
       "      <td>369.100485</td>\n",
       "      <td>0.281063</td>\n",
       "      <td>0.172850</td>\n",
       "    </tr>\n",
       "    <tr>\n",
       "      <th>3</th>\n",
       "      <td>Gradient boosting regressor</td>\n",
       "      <td>0.520502</td>\n",
       "      <td>229.960439</td>\n",
       "      <td>345.865336</td>\n",
       "      <td>0.270955</td>\n",
       "      <td>0.249547</td>\n",
       "    </tr>\n",
       "  </tbody>\n",
       "</table>\n",
       "</div>"
      ],
      "text/plain": [
       "                Algorithm name  Test r2 score  Mean abs error  \\\n",
       "0            Linear regression       0.442944      242.814407   \n",
       "1             Lasso regression       0.442979      242.544040   \n",
       "2             Ridge regression       0.453913      238.394289   \n",
       "3  Gradient boosting regressor       0.520502      229.960439   \n",
       "\n",
       "   Root mean squared error  CV score  r2-cv diff  \n",
       "0               372.788792  0.276727    0.166217  \n",
       "1               372.777113  0.278443    0.164537  \n",
       "2               369.100485  0.281063    0.172850  \n",
       "3               345.865336  0.270955    0.249547  "
      ]
     },
     "execution_count": 94,
     "metadata": {},
     "output_type": "execute_result"
    }
   ],
   "source": [
    "#Saving the results of model\n",
    "model_result.loc[len(model_result.index)] = ['Gradient boosting regressor', r2_test, mae, rme, cvs, least_diff] \n",
    "model_result"
   ]
  },
  {
   "cell_type": "code",
   "execution_count": 95,
   "id": "ae661d72",
   "metadata": {},
   "outputs": [
    {
     "name": "stdout",
     "output_type": "stream",
     "text": [
      "Test R2 score = 0.30039122015000075 \n",
      "\n",
      "Mean absolute error = 242.74867403160434 \n",
      "\n",
      "Root mean squared error = 417.773788074141 \n",
      "\n"
     ]
    }
   ],
   "source": [
    "# Random forest regressor\n",
    "from sklearn.ensemble import RandomForestRegressor\n",
    "model = RandomForestRegressor()\n",
    "model.fit(xtr,ytr)\n",
    "predyt = model.predict(xt)\n",
    "r2_test = r2_score(yt,predyt)\n",
    "mae = mean_absolute_error(yt,predyt)\n",
    "rme = np.sqrt(mean_squared_error(yt,predyt))\n",
    "print('Test R2 score =',r2_test,'\\n')\n",
    "print('Mean absolute error =',mae,'\\n')\n",
    "print('Root mean squared error =',rme,'\\n')"
   ]
  },
  {
   "cell_type": "code",
   "execution_count": 96,
   "id": "741f7ab6",
   "metadata": {},
   "outputs": [
    {
     "name": "stdout",
     "output_type": "stream",
     "text": [
      "CV score at 4 = 0.21613262217144602\n",
      "CV score at 5 = 0.2744739583322667\n",
      "CV score at 6 = 0.23827001593297936\n",
      "CV score at 7 = 0.21857047557419382\n",
      "CV score at 8 = 0.27963207462201545\n",
      "CV score at 9 = 0.23916071751608226\n",
      "CV score at 10 = 0.2542027150628204\n",
      "CV score at 11 = 0.23953682488373912\n",
      "\n",
      "Least difference of CV score and r2 score of testing is : 0.0207591455279853\n"
     ]
    }
   ],
   "source": [
    "#Cross validation for checking overfitting\n",
    "from sklearn.model_selection import cross_val_score\n",
    "CVS = []\n",
    "for i in range(4,12):\n",
    "    lsc = cross_val_score(model,x,y,cv=i)\n",
    "    CVS.append(lsc.mean())\n",
    "    print('CV score at',i,'=',lsc.mean())\n",
    "least_diff = min(r2_test - CVS)\n",
    "cvs = max(CVS)\n",
    "print('\\nLeast difference of CV score and r2 score of testing is :', least_diff)"
   ]
  },
  {
   "cell_type": "code",
   "execution_count": 143,
   "id": "a7117b90",
   "metadata": {},
   "outputs": [
    {
     "name": "stdout",
     "output_type": "stream",
     "text": [
      "RandomForestRegressor(criterion='poisson', max_depth=12, max_features='sqrt',\n",
      "                      n_estimators=500)\n"
     ]
    }
   ],
   "source": [
    "#Hyper parameter tuning for random forest regressor\n",
    "model = RandomForestRegressor()\n",
    "parameters = {'n_estimators':[100,200,300,400,500], \n",
    "              'criterion':[\"squared_error\", \"absolute_error\", \"poisson\"], \n",
    "              'max_depth':[4,6,8,10,12], \n",
    "              'max_features' : [\"auto\", \"sqrt\", \"log2\"]}\n",
    "gsv = GridSearchCV(model, parameters)\n",
    "gsv.fit(xtr,ytr)\n",
    "print(gsv.best_estimator_)"
   ]
  },
  {
   "cell_type": "code",
   "execution_count": 144,
   "id": "16ede9c9",
   "metadata": {},
   "outputs": [
    {
     "name": "stdout",
     "output_type": "stream",
     "text": [
      "Test R2 score = 0.529179919689722 \n",
      "\n",
      "Mean absolute error = 226.36708631977362 \n",
      "\n",
      "Root mean squared error = 342.7212641084777 \n",
      "\n"
     ]
    }
   ],
   "source": [
    "# Training for best parameter\n",
    "model = RandomForestRegressor(criterion='poisson', max_depth=12, max_features='sqrt', n_estimators=500)\n",
    "model.fit(xtr,ytr)\n",
    "predyt = model.predict(xt)\n",
    "r2_test = r2_score(yt,predyt)\n",
    "mae = mean_absolute_error(yt,predyt)\n",
    "rme = np.sqrt(mean_squared_error(yt,predyt))\n",
    "print('Test R2 score =',r2_test,'\\n')\n",
    "print('Mean absolute error =',mae,'\\n')\n",
    "print('Root mean squared error =',rme,'\\n')"
   ]
  },
  {
   "cell_type": "code",
   "execution_count": 146,
   "id": "f8150811",
   "metadata": {},
   "outputs": [
    {
     "name": "stdout",
     "output_type": "stream",
     "text": [
      "CV score at 2 = 0.22742969614303077\n",
      "CV score at 3 = 0.29596403799745746\n",
      "CV score at 4 = 0.3252121557843609\n",
      "CV score at 5 = 0.3408688307107403\n",
      "CV score at 6 = 0.3192160963828677\n",
      "CV score at 7 = 0.34187065012484574\n",
      "CV score at 8 = 0.34441110906212175\n",
      "CV score at 9 = 0.32328615336726646\n",
      "CV score at 10 = 0.3342331224238522\n",
      "CV score at 11 = 0.3431630171170012\n",
      "\n",
      "Least difference of CV score and r2 score of testing is : 0.18476881062760026\n"
     ]
    }
   ],
   "source": [
    "#Cross validation for checking overfitting\n",
    "from sklearn.model_selection import cross_val_score\n",
    "CVS = []\n",
    "for i in range(2,12):\n",
    "    lsc = cross_val_score(model,x,y,cv=i)\n",
    "    CVS.append(lsc.mean())\n",
    "    print('CV score at',i,'=',lsc.mean())\n",
    "least_diff = min(r2_test - CVS)\n",
    "cvs = max(CVS)\n",
    "print('\\nLeast difference of CV score and r2 score of testing is :', least_diff)"
   ]
  },
  {
   "cell_type": "code",
   "execution_count": 147,
   "id": "5e936984",
   "metadata": {},
   "outputs": [
    {
     "data": {
      "text/html": [
       "<div>\n",
       "<style scoped>\n",
       "    .dataframe tbody tr th:only-of-type {\n",
       "        vertical-align: middle;\n",
       "    }\n",
       "\n",
       "    .dataframe tbody tr th {\n",
       "        vertical-align: top;\n",
       "    }\n",
       "\n",
       "    .dataframe thead th {\n",
       "        text-align: right;\n",
       "    }\n",
       "</style>\n",
       "<table border=\"1\" class=\"dataframe\">\n",
       "  <thead>\n",
       "    <tr style=\"text-align: right;\">\n",
       "      <th></th>\n",
       "      <th>Algorithm name</th>\n",
       "      <th>Test r2 score</th>\n",
       "      <th>Mean abs error</th>\n",
       "      <th>Root mean squared error</th>\n",
       "      <th>CV score</th>\n",
       "      <th>r2-cv diff</th>\n",
       "    </tr>\n",
       "  </thead>\n",
       "  <tbody>\n",
       "    <tr>\n",
       "      <th>0</th>\n",
       "      <td>Linear regression</td>\n",
       "      <td>0.442944</td>\n",
       "      <td>242.814407</td>\n",
       "      <td>372.788792</td>\n",
       "      <td>0.276727</td>\n",
       "      <td>0.166217</td>\n",
       "    </tr>\n",
       "    <tr>\n",
       "      <th>1</th>\n",
       "      <td>Lasso regression</td>\n",
       "      <td>0.442979</td>\n",
       "      <td>242.544040</td>\n",
       "      <td>372.777113</td>\n",
       "      <td>0.278443</td>\n",
       "      <td>0.164537</td>\n",
       "    </tr>\n",
       "    <tr>\n",
       "      <th>2</th>\n",
       "      <td>Ridge regression</td>\n",
       "      <td>0.453913</td>\n",
       "      <td>238.394289</td>\n",
       "      <td>369.100485</td>\n",
       "      <td>0.281063</td>\n",
       "      <td>0.172850</td>\n",
       "    </tr>\n",
       "    <tr>\n",
       "      <th>3</th>\n",
       "      <td>Gradient boosting regressor</td>\n",
       "      <td>0.520502</td>\n",
       "      <td>229.960439</td>\n",
       "      <td>345.865336</td>\n",
       "      <td>0.270955</td>\n",
       "      <td>0.249547</td>\n",
       "    </tr>\n",
       "    <tr>\n",
       "      <th>4</th>\n",
       "      <td>Random forest regressor</td>\n",
       "      <td>0.529180</td>\n",
       "      <td>226.367086</td>\n",
       "      <td>342.721264</td>\n",
       "      <td>0.344411</td>\n",
       "      <td>0.184769</td>\n",
       "    </tr>\n",
       "  </tbody>\n",
       "</table>\n",
       "</div>"
      ],
      "text/plain": [
       "                Algorithm name  Test r2 score  Mean abs error  \\\n",
       "0            Linear regression       0.442944      242.814407   \n",
       "1             Lasso regression       0.442979      242.544040   \n",
       "2             Ridge regression       0.453913      238.394289   \n",
       "3  Gradient boosting regressor       0.520502      229.960439   \n",
       "4      Random forest regressor       0.529180      226.367086   \n",
       "\n",
       "   Root mean squared error  CV score  r2-cv diff  \n",
       "0               372.788792  0.276727    0.166217  \n",
       "1               372.777113  0.278443    0.164537  \n",
       "2               369.100485  0.281063    0.172850  \n",
       "3               345.865336  0.270955    0.249547  \n",
       "4               342.721264  0.344411    0.184769  "
      ]
     },
     "execution_count": 147,
     "metadata": {},
     "output_type": "execute_result"
    }
   ],
   "source": [
    "#Saving the results of model\n",
    "model_result.loc[len(model_result.index)] = ['Random forest regressor', r2_test, mae, rme, cvs, least_diff] \n",
    "model_result"
   ]
  },
  {
   "cell_type": "markdown",
   "id": "f20ae71f",
   "metadata": {},
   "source": [
    "Difference between R2 score and CV score is almost 0.17 in every model\n",
    "\n",
    "This overfitting is occuring due to type of dataset provided\n",
    "\n",
    "Max R2 score achieved using RF regressor, we shall save this model"
   ]
  },
  {
   "cell_type": "code",
   "execution_count": 148,
   "id": "74ed9e35",
   "metadata": {},
   "outputs": [
    {
     "data": {
      "image/png": "[encoded data removed]",
      "text/plain": [
       "<Figure size 432x288 with 1 Axes>"
      ]
     },
     "metadata": {
      "needs_background": "light"
     },
     "output_type": "display_data"
    }
   ],
   "source": [
    "#Predicted data vs actual test data\n",
    "predyt = model.predict(xt)\n",
    "actualyt = yt\n",
    "plt.figure()\n",
    "plt.scatter(predyt, actualyt, color = 'k', alpha=0.5)\n",
    "plt.plot([min(predyt),max(actualyt)], [min(predyt),max(actualyt)], 'k-', color = 'r')\n",
    "plt.show()"
   ]
  },
  {
   "cell_type": "code",
   "execution_count": 149,
   "id": "d38088cd",
   "metadata": {},
   "outputs": [],
   "source": [
    "#Saving the model\n",
    "import pickle\n",
    "filename='GBLPP_reg.pkl'\n",
    "pickle.dump(model,open(filename,'wb'))"
   ]
  },
  {
   "cell_type": "markdown",
   "id": "8d894549",
   "metadata": {},
   "source": [
    "# Classification approach to find primary_fuel"
   ]
  },
  {
   "cell_type": "code",
   "execution_count": 150,
   "id": "7cec61b0",
   "metadata": {},
   "outputs": [
    {
     "data": {
      "text/html": [
       "<div>\n",
       "<style scoped>\n",
       "    .dataframe tbody tr th:only-of-type {\n",
       "        vertical-align: middle;\n",
       "    }\n",
       "\n",
       "    .dataframe tbody tr th {\n",
       "        vertical-align: top;\n",
       "    }\n",
       "\n",
       "    .dataframe thead th {\n",
       "        text-align: right;\n",
       "    }\n",
       "</style>\n",
       "<table border=\"1\" class=\"dataframe\">\n",
       "  <thead>\n",
       "    <tr style=\"text-align: right;\">\n",
       "      <th></th>\n",
       "      <th>capacity_mw</th>\n",
       "      <th>latitude</th>\n",
       "      <th>longitude</th>\n",
       "      <th>primary_fuel</th>\n",
       "      <th>geolocation_source</th>\n",
       "    </tr>\n",
       "  </thead>\n",
       "  <tbody>\n",
       "    <tr>\n",
       "      <th>0</th>\n",
       "      <td>2.5</td>\n",
       "      <td>28.1839</td>\n",
       "      <td>73.2407</td>\n",
       "      <td>Solar</td>\n",
       "      <td>National Renewable Energy Laboratory</td>\n",
       "    </tr>\n",
       "    <tr>\n",
       "      <th>1</th>\n",
       "      <td>98.0</td>\n",
       "      <td>24.7663</td>\n",
       "      <td>74.6090</td>\n",
       "      <td>Coal</td>\n",
       "      <td>WRI</td>\n",
       "    </tr>\n",
       "    <tr>\n",
       "      <th>2</th>\n",
       "      <td>39.2</td>\n",
       "      <td>21.9038</td>\n",
       "      <td>69.3732</td>\n",
       "      <td>Wind</td>\n",
       "      <td>WRI</td>\n",
       "    </tr>\n",
       "    <tr>\n",
       "      <th>3</th>\n",
       "      <td>135.0</td>\n",
       "      <td>23.8712</td>\n",
       "      <td>91.3602</td>\n",
       "      <td>Gas</td>\n",
       "      <td>WRI</td>\n",
       "    </tr>\n",
       "    <tr>\n",
       "      <th>4</th>\n",
       "      <td>1800.0</td>\n",
       "      <td>21.9603</td>\n",
       "      <td>82.4091</td>\n",
       "      <td>Coal</td>\n",
       "      <td>WRI</td>\n",
       "    </tr>\n",
       "  </tbody>\n",
       "</table>\n",
       "</div>"
      ],
      "text/plain": [
       "   capacity_mw  latitude  longitude primary_fuel  \\\n",
       "0          2.5   28.1839    73.2407        Solar   \n",
       "1         98.0   24.7663    74.6090         Coal   \n",
       "2         39.2   21.9038    69.3732         Wind   \n",
       "3        135.0   23.8712    91.3602          Gas   \n",
       "4       1800.0   21.9603    82.4091         Coal   \n",
       "\n",
       "                     geolocation_source  \n",
       "0  National Renewable Energy Laboratory  \n",
       "1                                   WRI  \n",
       "2                                   WRI  \n",
       "3                                   WRI  \n",
       "4                                   WRI  "
      ]
     },
     "execution_count": 150,
     "metadata": {},
     "output_type": "execute_result"
    }
   ],
   "source": [
    "df.head()"
   ]
  },
  {
   "cell_type": "code",
   "execution_count": 152,
   "id": "99d48504",
   "metadata": {},
   "outputs": [
    {
     "data": {
      "text/html": [
       "<div>\n",
       "<style scoped>\n",
       "    .dataframe tbody tr th:only-of-type {\n",
       "        vertical-align: middle;\n",
       "    }\n",
       "\n",
       "    .dataframe tbody tr th {\n",
       "        vertical-align: top;\n",
       "    }\n",
       "\n",
       "    .dataframe thead th {\n",
       "        text-align: right;\n",
       "    }\n",
       "</style>\n",
       "<table border=\"1\" class=\"dataframe\">\n",
       "  <thead>\n",
       "    <tr style=\"text-align: right;\">\n",
       "      <th></th>\n",
       "      <th>onehotencoder__x0_Industry About</th>\n",
       "      <th>onehotencoder__x0_National Renewable Energy Laboratory</th>\n",
       "      <th>onehotencoder__x0_WRI</th>\n",
       "      <th>capacity_mw</th>\n",
       "      <th>latitude</th>\n",
       "      <th>longitude</th>\n",
       "      <th>primary_fuel</th>\n",
       "    </tr>\n",
       "  </thead>\n",
       "  <tbody>\n",
       "    <tr>\n",
       "      <th>0</th>\n",
       "      <td>0.0</td>\n",
       "      <td>1.0</td>\n",
       "      <td>0.0</td>\n",
       "      <td>2.5</td>\n",
       "      <td>28.1839</td>\n",
       "      <td>73.2407</td>\n",
       "      <td>Solar</td>\n",
       "    </tr>\n",
       "    <tr>\n",
       "      <th>1</th>\n",
       "      <td>0.0</td>\n",
       "      <td>0.0</td>\n",
       "      <td>1.0</td>\n",
       "      <td>98.0</td>\n",
       "      <td>24.7663</td>\n",
       "      <td>74.609</td>\n",
       "      <td>Coal</td>\n",
       "    </tr>\n",
       "    <tr>\n",
       "      <th>2</th>\n",
       "      <td>0.0</td>\n",
       "      <td>0.0</td>\n",
       "      <td>1.0</td>\n",
       "      <td>39.2</td>\n",
       "      <td>21.9038</td>\n",
       "      <td>69.3732</td>\n",
       "      <td>Wind</td>\n",
       "    </tr>\n",
       "    <tr>\n",
       "      <th>3</th>\n",
       "      <td>0.0</td>\n",
       "      <td>0.0</td>\n",
       "      <td>1.0</td>\n",
       "      <td>135.0</td>\n",
       "      <td>23.8712</td>\n",
       "      <td>91.3602</td>\n",
       "      <td>Gas</td>\n",
       "    </tr>\n",
       "    <tr>\n",
       "      <th>4</th>\n",
       "      <td>0.0</td>\n",
       "      <td>0.0</td>\n",
       "      <td>1.0</td>\n",
       "      <td>1800.0</td>\n",
       "      <td>21.9603</td>\n",
       "      <td>82.4091</td>\n",
       "      <td>Coal</td>\n",
       "    </tr>\n",
       "  </tbody>\n",
       "</table>\n",
       "</div>"
      ],
      "text/plain": [
       "  onehotencoder__x0_Industry About  \\\n",
       "0                              0.0   \n",
       "1                              0.0   \n",
       "2                              0.0   \n",
       "3                              0.0   \n",
       "4                              0.0   \n",
       "\n",
       "  onehotencoder__x0_National Renewable Energy Laboratory  \\\n",
       "0                                                1.0       \n",
       "1                                                0.0       \n",
       "2                                                0.0       \n",
       "3                                                0.0       \n",
       "4                                                0.0       \n",
       "\n",
       "  onehotencoder__x0_WRI capacity_mw latitude longitude primary_fuel  \n",
       "0                   0.0         2.5  28.1839   73.2407        Solar  \n",
       "1                   1.0        98.0  24.7663    74.609         Coal  \n",
       "2                   1.0        39.2  21.9038   69.3732         Wind  \n",
       "3                   1.0       135.0  23.8712   91.3602          Gas  \n",
       "4                   1.0      1800.0  21.9603   82.4091         Coal  "
      ]
     },
     "execution_count": 152,
     "metadata": {},
     "output_type": "execute_result"
    }
   ],
   "source": [
    "#Encoding the data\n",
    "from sklearn.preprocessing import OneHotEncoder\n",
    "from sklearn.compose import make_column_transformer\n",
    "\n",
    "ohe = OneHotEncoder()\n",
    "ct = make_column_transformer((ohe, ['geolocation_source']), remainder='passthrough')\n",
    "\n",
    "transformed = ct.fit_transform(df)\n",
    "df_new = pd.DataFrame(transformed, columns=ct.get_feature_names())\n",
    "\n",
    "df_new.head()"
   ]
  },
  {
   "cell_type": "code",
   "execution_count": 154,
   "id": "26de4592",
   "metadata": {},
   "outputs": [
    {
     "data": {
      "text/html": [
       "<div>\n",
       "<style scoped>\n",
       "    .dataframe tbody tr th:only-of-type {\n",
       "        vertical-align: middle;\n",
       "    }\n",
       "\n",
       "    .dataframe tbody tr th {\n",
       "        vertical-align: top;\n",
       "    }\n",
       "\n",
       "    .dataframe thead th {\n",
       "        text-align: right;\n",
       "    }\n",
       "</style>\n",
       "<table border=\"1\" class=\"dataframe\">\n",
       "  <thead>\n",
       "    <tr style=\"text-align: right;\">\n",
       "      <th></th>\n",
       "      <th>onehotencoder__x0_Industry About</th>\n",
       "      <th>onehotencoder__x0_National Renewable Energy Laboratory</th>\n",
       "      <th>onehotencoder__x0_WRI</th>\n",
       "      <th>capacity_mw</th>\n",
       "      <th>latitude</th>\n",
       "      <th>longitude</th>\n",
       "      <th>primary_fuel</th>\n",
       "    </tr>\n",
       "  </thead>\n",
       "  <tbody>\n",
       "    <tr>\n",
       "      <th>0</th>\n",
       "      <td>0.0</td>\n",
       "      <td>1.0</td>\n",
       "      <td>0.0</td>\n",
       "      <td>2.5</td>\n",
       "      <td>28.1839</td>\n",
       "      <td>73.2407</td>\n",
       "      <td>6</td>\n",
       "    </tr>\n",
       "    <tr>\n",
       "      <th>1</th>\n",
       "      <td>0.0</td>\n",
       "      <td>0.0</td>\n",
       "      <td>1.0</td>\n",
       "      <td>98.0</td>\n",
       "      <td>24.7663</td>\n",
       "      <td>74.609</td>\n",
       "      <td>1</td>\n",
       "    </tr>\n",
       "    <tr>\n",
       "      <th>2</th>\n",
       "      <td>0.0</td>\n",
       "      <td>0.0</td>\n",
       "      <td>1.0</td>\n",
       "      <td>39.2</td>\n",
       "      <td>21.9038</td>\n",
       "      <td>69.3732</td>\n",
       "      <td>7</td>\n",
       "    </tr>\n",
       "    <tr>\n",
       "      <th>3</th>\n",
       "      <td>0.0</td>\n",
       "      <td>0.0</td>\n",
       "      <td>1.0</td>\n",
       "      <td>135.0</td>\n",
       "      <td>23.8712</td>\n",
       "      <td>91.3602</td>\n",
       "      <td>2</td>\n",
       "    </tr>\n",
       "    <tr>\n",
       "      <th>4</th>\n",
       "      <td>0.0</td>\n",
       "      <td>0.0</td>\n",
       "      <td>1.0</td>\n",
       "      <td>1800.0</td>\n",
       "      <td>21.9603</td>\n",
       "      <td>82.4091</td>\n",
       "      <td>1</td>\n",
       "    </tr>\n",
       "  </tbody>\n",
       "</table>\n",
       "</div>"
      ],
      "text/plain": [
       "  onehotencoder__x0_Industry About  \\\n",
       "0                              0.0   \n",
       "1                              0.0   \n",
       "2                              0.0   \n",
       "3                              0.0   \n",
       "4                              0.0   \n",
       "\n",
       "  onehotencoder__x0_National Renewable Energy Laboratory  \\\n",
       "0                                                1.0       \n",
       "1                                                0.0       \n",
       "2                                                0.0       \n",
       "3                                                0.0       \n",
       "4                                                0.0       \n",
       "\n",
       "  onehotencoder__x0_WRI capacity_mw latitude longitude  primary_fuel  \n",
       "0                   0.0         2.5  28.1839   73.2407             6  \n",
       "1                   1.0        98.0  24.7663    74.609             1  \n",
       "2                   1.0        39.2  21.9038   69.3732             7  \n",
       "3                   1.0       135.0  23.8712   91.3602             2  \n",
       "4                   1.0      1800.0  21.9603   82.4091             1  "
      ]
     },
     "execution_count": 154,
     "metadata": {},
     "output_type": "execute_result"
    }
   ],
   "source": [
    "#Encoding the label\n",
    "from sklearn.preprocessing import LabelEncoder\n",
    "\n",
    "enc = LabelEncoder()\n",
    "df_new['primary_fuel'] = enc.fit_transform(df_new['primary_fuel'].values.reshape(-1,1))\n",
    "\n",
    "df_new.head()"
   ]
  },
  {
   "cell_type": "code",
   "execution_count": 155,
   "id": "6b195091",
   "metadata": {},
   "outputs": [
    {
     "name": "stdout",
     "output_type": "stream",
     "text": [
      "x shape (907, 6)\n",
      "y shape (907,)\n"
     ]
    }
   ],
   "source": [
    "#Seperate feature and target columns\n",
    "x = df_new.drop(columns=['primary_fuel'], axis=1)\n",
    "y = df_new['primary_fuel']\n",
    "print('x shape',x.shape)\n",
    "print('y shape',y.shape)"
   ]
  },
  {
   "cell_type": "code",
   "execution_count": 156,
   "id": "99c832dc",
   "metadata": {},
   "outputs": [
    {
     "name": "stdout",
     "output_type": "stream",
     "text": [
      "At Max RS 0 Max Accuracy = 0.4725274725274725\n",
      "At Max RS 3 Max Accuracy = 0.4835164835164835\n",
      "At Max RS 5 Max Accuracy = 0.521978021978022\n",
      "At Max RS 9 Max Accuracy = 0.5494505494505495\n"
     ]
    }
   ],
   "source": [
    "#Logistic regression\n",
    "#Best randm state selection\n",
    "max_acc = 0\n",
    "max_RS = 0\n",
    "from sklearn.linear_model import LogisticRegression\n",
    "from sklearn.metrics import confusion_matrix, classification_report, roc_curve, roc_auc_score, accuracy_score\n",
    "lr = LogisticRegression()\n",
    "for i in range(0,50):\n",
    "    xtr, xt, ytr, yt = train_test_split(x,y, random_state=i,test_size=0.2)\n",
    "    lr.fit(xtr, ytr)\n",
    "    predyt = lr.predict(xt)\n",
    "    accuracy = accuracy_score(yt,predyt)  \n",
    "    if accuracy > max_acc:\n",
    "        max_acc = accuracy\n",
    "        max_RS = i\n",
    "        print('At Max RS',i,'Max Accuracy =',accuracy)"
   ]
  },
  {
   "cell_type": "code",
   "execution_count": 157,
   "id": "30a8ec24",
   "metadata": {},
   "outputs": [],
   "source": [
    "def metric_score(model, xtr, xt, ytr, yt, train=True):\n",
    "    if train:\n",
    "        ypr = model.predict(xtr)\n",
    "        print(f\"Accuracy score of train is : {(accuracy_score(ytr, ypr))*100:.2f}%\")\n",
    "        \n",
    "    elif train==False:\n",
    "        ypr = model.predict(xt)\n",
    "        print(f\"Accuracy score of test is : {(accuracy_score(yt, ypr))*100:.2f}%\",'\\n\\nClassification report:')\n",
    "        print(classification_report(yt, ypr))"
   ]
  },
  {
   "cell_type": "code",
   "execution_count": 443,
   "id": "f2b62866",
   "metadata": {},
   "outputs": [
    {
     "name": "stdout",
     "output_type": "stream",
     "text": [
      "Accuracy score of train is : 44.69%\n",
      "Accuracy score of test is : 54.95% \n",
      "\n",
      "Classification report:\n",
      "              precision    recall  f1-score   support\n",
      "\n",
      "           0       0.00      0.00      0.00         8\n",
      "           1       0.73      0.74      0.73        54\n",
      "           2       0.00      0.00      0.00        13\n",
      "           3       0.38      0.60      0.47        42\n",
      "           4       0.00      0.00      0.00         3\n",
      "           5       0.00      0.00      0.00         6\n",
      "           6       0.69      0.74      0.71        27\n",
      "           7       0.45      0.52      0.48        29\n",
      "\n",
      "    accuracy                           0.55       182\n",
      "   macro avg       0.28      0.32      0.30       182\n",
      "weighted avg       0.48      0.55      0.51       182\n",
      "\n"
     ]
    }
   ],
   "source": [
    "#Using best random state for train test split\n",
    "xtr, xt, ytr, yt = train_test_split(x,y, random_state=9,test_size=0.2)\n",
    "#Training the model\n",
    "model = LogisticRegression()\n",
    "model.fit(xtr,ytr)\n",
    "metric_score(model, xtr, xt, ytr, yt, train=True)\n",
    "metric_score(model, xtr, xt, ytr, yt, train=False)"
   ]
  },
  {
   "cell_type": "code",
   "execution_count": 444,
   "id": "32727c3f",
   "metadata": {},
   "outputs": [
    {
     "name": "stdout",
     "output_type": "stream",
     "text": [
      "Accuracy score: 0.5494505494505495\n",
      "CV score at 2 = 0.4641572094018341\n",
      "CV score at 3 = 0.46748482795299395\n",
      "CV score at 4 = 0.44981677127597364\n",
      "CV score at 5 = 0.4597595774391355\n",
      "CV score at 6 = 0.4608530846985013\n",
      "CV score at 7 = 0.46526109549365363\n",
      "CV score at 8 = 0.4608756404285049\n",
      "CV score at 9 = 0.4574917491749175\n",
      "CV score at 10 = 0.461965811965812\n",
      "\n",
      "Least difference of CV score and F1 score of testing is : 0.08196572149755554\n"
     ]
    }
   ],
   "source": [
    "ypr = model.predict(xt) \n",
    "acc = accuracy_score(yt, ypr)\n",
    "print('Accuracy score:',acc)\n",
    "\n",
    "#Cross validation for checking overfitting\n",
    "from sklearn.model_selection import cross_val_score\n",
    "CVS = []\n",
    "for i in range(2,11):\n",
    "    lsc = cross_val_score(model,x,y,cv=i)\n",
    "    CVS.append(lsc.mean())\n",
    "    print('CV score at',i,'=',lsc.mean())\n",
    "least_diff = min(acc - CVS)\n",
    "cvs = max(CVS)\n",
    "print('\\nLeast difference of CV score and F1 score of testing is :', least_diff)"
   ]
  },
  {
   "cell_type": "code",
   "execution_count": 445,
   "id": "92b012a1",
   "metadata": {},
   "outputs": [
    {
     "data": {
      "text/html": [
       "<div>\n",
       "<style scoped>\n",
       "    .dataframe tbody tr th:only-of-type {\n",
       "        vertical-align: middle;\n",
       "    }\n",
       "\n",
       "    .dataframe tbody tr th {\n",
       "        vertical-align: top;\n",
       "    }\n",
       "\n",
       "    .dataframe thead th {\n",
       "        text-align: right;\n",
       "    }\n",
       "</style>\n",
       "<table border=\"1\" class=\"dataframe\">\n",
       "  <thead>\n",
       "    <tr style=\"text-align: right;\">\n",
       "      <th></th>\n",
       "      <th>Algorithm name</th>\n",
       "      <th>Accuracy f1 score test</th>\n",
       "      <th>CV score</th>\n",
       "      <th>F1-CV score diff</th>\n",
       "    </tr>\n",
       "  </thead>\n",
       "  <tbody>\n",
       "    <tr>\n",
       "      <th>0</th>\n",
       "      <td>Logistic regression</td>\n",
       "      <td>0.549451</td>\n",
       "      <td>0.467485</td>\n",
       "      <td>0.081966</td>\n",
       "    </tr>\n",
       "  </tbody>\n",
       "</table>\n",
       "</div>"
      ],
      "text/plain": [
       "        Algorithm name  Accuracy f1 score test  CV score  F1-CV score diff\n",
       "0  Logistic regression                0.549451  0.467485          0.081966"
      ]
     },
     "execution_count": 445,
     "metadata": {},
     "output_type": "execute_result"
    }
   ],
   "source": [
    "#Saving the results of model\n",
    "model_result = pd.DataFrame(columns=['Algorithm name','Accuracy f1 score test' ,'CV score','F1-CV score diff'])\n",
    "model_result.loc[len(model_result.index)] = ['Logistic regression', acc, cvs, least_diff] \n",
    "model_result"
   ]
  },
  {
   "cell_type": "code",
   "execution_count": 446,
   "id": "9233e795",
   "metadata": {},
   "outputs": [
    {
     "name": "stdout",
     "output_type": "stream",
     "text": [
      "Accuracy score of train is : 99.59%\n",
      "Accuracy score of test is : 71.43% \n",
      "\n",
      "Classification report:\n",
      "              precision    recall  f1-score   support\n",
      "\n",
      "           0       0.50      0.62      0.56         8\n",
      "           1       0.77      0.80      0.78        54\n",
      "           2       0.58      0.54      0.56        13\n",
      "           3       0.67      0.69      0.68        42\n",
      "           4       0.50      0.33      0.40         3\n",
      "           5       0.00      0.00      0.00         6\n",
      "           6       0.90      1.00      0.95        27\n",
      "           7       0.82      0.62      0.71        29\n",
      "\n",
      "    accuracy                           0.71       182\n",
      "   macro avg       0.59      0.58      0.58       182\n",
      "weighted avg       0.72      0.71      0.71       182\n",
      "\n"
     ]
    }
   ],
   "source": [
    "#Decision tree classifier\n",
    "from sklearn.tree import DecisionTreeClassifier\n",
    "model = DecisionTreeClassifier()\n",
    "model.fit(xtr,ytr)\n",
    "metric_score(model, xtr, xt, ytr, yt, train=True)\n",
    "metric_score(model, xtr, xt, ytr, yt, train=False)"
   ]
  },
  {
   "cell_type": "code",
   "execution_count": 447,
   "id": "74214444",
   "metadata": {},
   "outputs": [
    {
     "name": "stdout",
     "output_type": "stream",
     "text": [
      "Accuracy score: 0.7142857142857143\n",
      "CV score at 2 = 0.6570975678540518\n",
      "CV score at 3 = 0.689095068447242\n",
      "CV score at 4 = 0.6858455810689642\n",
      "CV score at 5 = 0.7012446117418494\n",
      "CV score at 6 = 0.7067285349134425\n",
      "CV score at 7 = 0.7034330011074197\n",
      "CV score at 8 = 0.7001436112404906\n",
      "CV score at 9 = 0.7088998899889989\n",
      "CV score at 10 = 0.7067155067155068\n",
      "\n",
      "Least difference of CV score and F1 score of testing is : 0.0053858242967154135\n"
     ]
    }
   ],
   "source": [
    "ypr = model.predict(xt) \n",
    "acc = accuracy_score(yt, ypr)\n",
    "print('Accuracy score:',acc)\n",
    "\n",
    "#Cross validation for checking overfitting\n",
    "from sklearn.model_selection import cross_val_score\n",
    "CVS = []\n",
    "for i in range(2,11):\n",
    "    lsc = cross_val_score(model,x,y,cv=i)\n",
    "    CVS.append(lsc.mean())\n",
    "    print('CV score at',i,'=',lsc.mean())\n",
    "least_diff = min(acc - CVS)\n",
    "cvs = max(CVS)\n",
    "print('\\nLeast difference of CV score and F1 score of testing is :', least_diff)"
   ]
  },
  {
   "cell_type": "code",
   "execution_count": 448,
   "id": "948a9c8a",
   "metadata": {},
   "outputs": [
    {
     "data": {
      "text/html": [
       "<div>\n",
       "<style scoped>\n",
       "    .dataframe tbody tr th:only-of-type {\n",
       "        vertical-align: middle;\n",
       "    }\n",
       "\n",
       "    .dataframe tbody tr th {\n",
       "        vertical-align: top;\n",
       "    }\n",
       "\n",
       "    .dataframe thead th {\n",
       "        text-align: right;\n",
       "    }\n",
       "</style>\n",
       "<table border=\"1\" class=\"dataframe\">\n",
       "  <thead>\n",
       "    <tr style=\"text-align: right;\">\n",
       "      <th></th>\n",
       "      <th>Algorithm name</th>\n",
       "      <th>Accuracy f1 score test</th>\n",
       "      <th>CV score</th>\n",
       "      <th>F1-CV score diff</th>\n",
       "    </tr>\n",
       "  </thead>\n",
       "  <tbody>\n",
       "    <tr>\n",
       "      <th>0</th>\n",
       "      <td>Logistic regression</td>\n",
       "      <td>0.549451</td>\n",
       "      <td>0.467485</td>\n",
       "      <td>0.081966</td>\n",
       "    </tr>\n",
       "    <tr>\n",
       "      <th>1</th>\n",
       "      <td>Decision tree classifier</td>\n",
       "      <td>0.714286</td>\n",
       "      <td>0.708900</td>\n",
       "      <td>0.005386</td>\n",
       "    </tr>\n",
       "  </tbody>\n",
       "</table>\n",
       "</div>"
      ],
      "text/plain": [
       "             Algorithm name  Accuracy f1 score test  CV score  \\\n",
       "0       Logistic regression                0.549451  0.467485   \n",
       "1  Decision tree classifier                0.714286  0.708900   \n",
       "\n",
       "   F1-CV score diff  \n",
       "0          0.081966  \n",
       "1          0.005386  "
      ]
     },
     "execution_count": 448,
     "metadata": {},
     "output_type": "execute_result"
    }
   ],
   "source": [
    "#Saving the results of model\n",
    "model_result.loc[len(model_result.index)] = ['Decision tree classifier', acc, cvs, least_diff] \n",
    "model_result"
   ]
  },
  {
   "cell_type": "code",
   "execution_count": 449,
   "id": "5589ec23",
   "metadata": {},
   "outputs": [
    {
     "name": "stdout",
     "output_type": "stream",
     "text": [
      "Accuracy score of train is : 40.41%\n",
      "Accuracy score of test is : 41.21% \n",
      "\n",
      "Classification report:\n",
      "              precision    recall  f1-score   support\n",
      "\n",
      "           0       0.00      0.00      0.00         8\n",
      "           1       0.71      0.72      0.72        54\n",
      "           2       0.00      0.00      0.00        13\n",
      "           3       0.28      0.86      0.43        42\n",
      "           4       0.00      0.00      0.00         3\n",
      "           5       0.00      0.00      0.00         6\n",
      "           6       0.00      0.00      0.00        27\n",
      "           7       0.00      0.00      0.00        29\n",
      "\n",
      "    accuracy                           0.41       182\n",
      "   macro avg       0.12      0.20      0.14       182\n",
      "weighted avg       0.28      0.41      0.31       182\n",
      "\n"
     ]
    }
   ],
   "source": [
    "#Support vector machine classifier\n",
    "from sklearn.svm import SVC\n",
    "model = SVC()\n",
    "model.fit(xtr,ytr)\n",
    "metric_score(model, xtr, xt, ytr, yt, train=True)\n",
    "metric_score(model, xtr, xt, ytr, yt, train=False)"
   ]
  },
  {
   "cell_type": "code",
   "execution_count": 450,
   "id": "af1b96a8",
   "metadata": {},
   "outputs": [
    {
     "name": "stdout",
     "output_type": "stream",
     "text": [
      "Accuracy score: 0.41208791208791207\n",
      "CV score at 2 = 0.4046469449874065\n",
      "CV score at 3 = 0.40575481389198514\n",
      "CV score at 4 = 0.40464796694086\n",
      "CV score at 5 = 0.4046809544047113\n",
      "CV score at 6 = 0.40575258510514695\n",
      "CV score at 7 = 0.4057841383422779\n",
      "CV score at 8 = 0.4046828908554572\n",
      "CV score at 9 = 0.4046534653465346\n",
      "CV score at 10 = 0.40577533577533575\n",
      "\n",
      "Least difference of CV score and F1 score of testing is : 0.006303773745634178\n"
     ]
    }
   ],
   "source": [
    "ypr = model.predict(xt) \n",
    "acc = accuracy_score(yt, ypr)\n",
    "print('Accuracy score:',acc)\n",
    "\n",
    "#Cross validation for checking overfitting\n",
    "from sklearn.model_selection import cross_val_score\n",
    "CVS = []\n",
    "for i in range(2,11):\n",
    "    lsc = cross_val_score(model,x,y,cv=i)\n",
    "    CVS.append(lsc.mean())\n",
    "    print('CV score at',i,'=',lsc.mean())\n",
    "least_diff = min(acc - CVS)\n",
    "cvs = max(CVS)\n",
    "print('\\nLeast difference of CV score and F1 score of testing is :', least_diff)"
   ]
  },
  {
   "cell_type": "code",
   "execution_count": 451,
   "id": "49568ffa",
   "metadata": {},
   "outputs": [
    {
     "name": "stdout",
     "output_type": "stream",
     "text": [
      "SVC(gamma='auto', max_iter=100, tol=0.0001)\n"
     ]
    }
   ],
   "source": [
    "# Hyper parameter tuning for svc model\n",
    "from sklearn.model_selection import GridSearchCV\n",
    "parameters = {'gamma':['scale', 'auto'],\n",
    "              'max_iter':[100,150,200],\n",
    "              'kernel':[\"linear\", \"poly\", \"rbf\"],\n",
    "              'tol':[0.0001,0.001,0.01]}\n",
    "gsv = GridSearchCV(model, parameters)\n",
    "gsv.fit(xtr,ytr)\n",
    "print(gsv.best_estimator_)"
   ]
  },
  {
   "cell_type": "code",
   "execution_count": 452,
   "id": "5266b08c",
   "metadata": {},
   "outputs": [
    {
     "name": "stdout",
     "output_type": "stream",
     "text": [
      "Accuracy score of train is : 93.38%\n",
      "Accuracy score of test is : 56.04% \n",
      "\n",
      "Classification report:\n",
      "              precision    recall  f1-score   support\n",
      "\n",
      "           0       0.17      0.12      0.14         8\n",
      "           1       0.58      0.85      0.69        54\n",
      "           2       0.00      0.00      0.00        13\n",
      "           3       0.47      0.64      0.55        42\n",
      "           4       0.00      0.00      0.00         3\n",
      "           5       0.00      0.00      0.00         6\n",
      "           6       0.81      0.63      0.71        27\n",
      "           7       0.65      0.38      0.48        29\n",
      "\n",
      "    accuracy                           0.56       182\n",
      "   macro avg       0.33      0.33      0.32       182\n",
      "weighted avg       0.51      0.56      0.52       182\n",
      "\n"
     ]
    }
   ],
   "source": [
    "#Training for best parameters\n",
    "model = SVC(gamma='auto', max_iter=100, tol=0.0001)\n",
    "model.fit(xtr,ytr)\n",
    "metric_score(model, xtr, xt, ytr, yt, train=True)\n",
    "metric_score(model, xtr, xt, ytr, yt, train=False)\n",
    "ypr = model.predict(xt) \n",
    "acc = accuracy_score(yt, ypr)"
   ]
  },
  {
   "cell_type": "code",
   "execution_count": 453,
   "id": "a6f604be",
   "metadata": {},
   "outputs": [
    {
     "name": "stdout",
     "output_type": "stream",
     "text": [
      "Accuracy score: 0.5604395604395604\n",
      "CV score at 2 = 0.463055887815931\n",
      "CV score at 3 = 0.4916836054466374\n",
      "CV score at 4 = 0.5689300612061908\n",
      "CV score at 5 = 0.5733106672333192\n",
      "CV score at 6 = 0.5722377134890205\n",
      "CV score at 7 = 0.5733197035522617\n",
      "CV score at 8 = 0.5688460642757336\n",
      "CV score at 9 = 0.5776677667766776\n",
      "CV score at 10 = 0.5742857142857142\n",
      "\n",
      "Least difference of CV score and F1 score of testing is : -0.01722820633711719\n"
     ]
    }
   ],
   "source": [
    "ypr = model.predict(xt) \n",
    "acc = accuracy_score(yt, ypr)\n",
    "print('Accuracy score:',acc)\n",
    "\n",
    "#Cross validation for checking overfitting\n",
    "from sklearn.model_selection import cross_val_score\n",
    "CVS = []\n",
    "for i in range(2,11):\n",
    "    lsc = cross_val_score(model,x,y,cv=i)\n",
    "    CVS.append(lsc.mean())\n",
    "    print('CV score at',i,'=',lsc.mean())\n",
    "least_diff = min(acc - CVS)\n",
    "cvs = max(CVS)\n",
    "print('\\nLeast difference of CV score and F1 score of testing is :', least_diff)"
   ]
  },
  {
   "cell_type": "code",
   "execution_count": 454,
   "id": "de54a80f",
   "metadata": {},
   "outputs": [
    {
     "data": {
      "text/html": [
       "<div>\n",
       "<style scoped>\n",
       "    .dataframe tbody tr th:only-of-type {\n",
       "        vertical-align: middle;\n",
       "    }\n",
       "\n",
       "    .dataframe tbody tr th {\n",
       "        vertical-align: top;\n",
       "    }\n",
       "\n",
       "    .dataframe thead th {\n",
       "        text-align: right;\n",
       "    }\n",
       "</style>\n",
       "<table border=\"1\" class=\"dataframe\">\n",
       "  <thead>\n",
       "    <tr style=\"text-align: right;\">\n",
       "      <th></th>\n",
       "      <th>Algorithm name</th>\n",
       "      <th>Accuracy f1 score test</th>\n",
       "      <th>CV score</th>\n",
       "      <th>F1-CV score diff</th>\n",
       "    </tr>\n",
       "  </thead>\n",
       "  <tbody>\n",
       "    <tr>\n",
       "      <th>0</th>\n",
       "      <td>Logistic regression</td>\n",
       "      <td>0.549451</td>\n",
       "      <td>0.467485</td>\n",
       "      <td>0.081966</td>\n",
       "    </tr>\n",
       "    <tr>\n",
       "      <th>1</th>\n",
       "      <td>Decision tree classifier</td>\n",
       "      <td>0.714286</td>\n",
       "      <td>0.708900</td>\n",
       "      <td>0.005386</td>\n",
       "    </tr>\n",
       "    <tr>\n",
       "      <th>2</th>\n",
       "      <td>Support vector classifier</td>\n",
       "      <td>0.560440</td>\n",
       "      <td>0.577668</td>\n",
       "      <td>0.017228</td>\n",
       "    </tr>\n",
       "  </tbody>\n",
       "</table>\n",
       "</div>"
      ],
      "text/plain": [
       "              Algorithm name  Accuracy f1 score test  CV score  \\\n",
       "0        Logistic regression                0.549451  0.467485   \n",
       "1   Decision tree classifier                0.714286  0.708900   \n",
       "2  Support vector classifier                0.560440  0.577668   \n",
       "\n",
       "   F1-CV score diff  \n",
       "0          0.081966  \n",
       "1          0.005386  \n",
       "2          0.017228  "
      ]
     },
     "execution_count": 454,
     "metadata": {},
     "output_type": "execute_result"
    }
   ],
   "source": [
    "#Saving the results of model\n",
    "model_result.loc[len(model_result.index)] = ['Support vector classifier', acc, cvs, abs(least_diff)] \n",
    "model_result"
   ]
  },
  {
   "cell_type": "code",
   "execution_count": 455,
   "id": "60cf2dba",
   "metadata": {},
   "outputs": [
    {
     "name": "stdout",
     "output_type": "stream",
     "text": [
      "Accuracy score of train is : 66.62%\n",
      "Accuracy score of test is : 53.85% \n",
      "\n",
      "Classification report:\n",
      "              precision    recall  f1-score   support\n",
      "\n",
      "           0       0.36      0.50      0.42         8\n",
      "           1       0.62      0.83      0.71        54\n",
      "           2       0.00      0.00      0.00        13\n",
      "           3       0.40      0.45      0.42        42\n",
      "           4       0.00      0.00      0.00         3\n",
      "           5       1.00      0.17      0.29         6\n",
      "           6       0.79      0.70      0.75        27\n",
      "           7       0.50      0.34      0.41        29\n",
      "\n",
      "    accuracy                           0.54       182\n",
      "   macro avg       0.46      0.38      0.37       182\n",
      "weighted avg       0.52      0.54      0.51       182\n",
      "\n"
     ]
    }
   ],
   "source": [
    "#K nearest neighbors classifier\n",
    "from sklearn.neighbors import KNeighborsClassifier\n",
    "model = KNeighborsClassifier()\n",
    "model.fit(xtr,ytr)\n",
    "metric_score(model, xtr, xt, ytr, yt, train=True)\n",
    "metric_score(model, xtr, xt, ytr, yt, train=False)\n",
    "ypr = model.predict(xt) \n",
    "acc = accuracy_score(yt, ypr)"
   ]
  },
  {
   "cell_type": "code",
   "execution_count": 456,
   "id": "6200505b",
   "metadata": {},
   "outputs": [
    {
     "name": "stdout",
     "output_type": "stream",
     "text": [
      "Accuracy score: 0.5384615384615384\n",
      "CV score at 2 = 0.49284262527836936\n",
      "CV score at 3 = 0.5292512694978107\n",
      "CV score at 4 = 0.5325230985146778\n",
      "CV score at 5 = 0.5281282253657944\n",
      "CV score at 6 = 0.5281384338329267\n",
      "CV score at 7 = 0.5413834227787716\n",
      "CV score at 8 = 0.5458100450240646\n",
      "CV score at 9 = 0.5567656765676569\n",
      "CV score at 10 = 0.5534310134310134\n",
      "\n",
      "Least difference of CV score and F1 score of testing is : -0.018304138106118417\n"
     ]
    }
   ],
   "source": [
    "ypr = model.predict(xt) \n",
    "acc = accuracy_score(yt, ypr)\n",
    "print('Accuracy score:',acc)\n",
    "\n",
    "#Cross validation for checking overfitting\n",
    "from sklearn.model_selection import cross_val_score\n",
    "CVS = []\n",
    "for i in range(2,11):\n",
    "    lsc = cross_val_score(model,x,y,cv=i)\n",
    "    CVS.append(lsc.mean())\n",
    "    print('CV score at',i,'=',lsc.mean())\n",
    "least_diff = min(acc - CVS)\n",
    "cvs = max(CVS)\n",
    "print('\\nLeast difference of CV score and F1 score of testing is :', least_diff)"
   ]
  },
  {
   "cell_type": "code",
   "execution_count": 457,
   "id": "558abb94",
   "metadata": {},
   "outputs": [
    {
     "name": "stdout",
     "output_type": "stream",
     "text": [
      "KNeighborsClassifier(leaf_size=10, n_neighbors=9, weights='distance')\n"
     ]
    }
   ],
   "source": [
    "# Hyper parameter tuning for KNN model\n",
    "from sklearn.model_selection import GridSearchCV\n",
    "parameters = { 'n_neighbors':range(3,10,1), \n",
    "              'weights':['uniform','distance'], \n",
    "              'algorithm' :['auto', 'ball_tree', 'kd_tree', 'brute'], \n",
    "              'leaf_size':[10,15,30,35]}\n",
    "gsv = GridSearchCV(model, parameters)\n",
    "gsv.fit(xtr,ytr)\n",
    "print(gsv.best_estimator_)"
   ]
  },
  {
   "cell_type": "code",
   "execution_count": 458,
   "id": "81cb9cb1",
   "metadata": {},
   "outputs": [
    {
     "name": "stdout",
     "output_type": "stream",
     "text": [
      "Accuracy score of train is : 99.59%\n",
      "Accuracy score of test is : 63.19% \n",
      "\n",
      "Classification report:\n",
      "              precision    recall  f1-score   support\n",
      "\n",
      "           0       0.38      0.38      0.38         8\n",
      "           1       0.70      0.81      0.75        54\n",
      "           2       0.36      0.31      0.33        13\n",
      "           3       0.52      0.55      0.53        42\n",
      "           4       1.00      0.33      0.50         3\n",
      "           5       0.50      0.17      0.25         6\n",
      "           6       0.84      0.78      0.81        27\n",
      "           7       0.64      0.62      0.63        29\n",
      "\n",
      "    accuracy                           0.63       182\n",
      "   macro avg       0.62      0.49      0.52       182\n",
      "weighted avg       0.63      0.63      0.62       182\n",
      "\n"
     ]
    }
   ],
   "source": [
    "#Training for best parameters\n",
    "model = KNeighborsClassifier(leaf_size=10, n_neighbors=7, weights='distance')\n",
    "model.fit(xtr,ytr)\n",
    "metric_score(model, xtr, xt, ytr, yt, train=True)\n",
    "metric_score(model, xtr, xt, ytr, yt, train=False)\n",
    "ypr = model.predict(xt) \n",
    "acc = accuracy_score(yt, ypr)"
   ]
  },
  {
   "cell_type": "code",
   "execution_count": 459,
   "id": "4e847d13",
   "metadata": {},
   "outputs": [
    {
     "name": "stdout",
     "output_type": "stream",
     "text": [
      "Accuracy score: 0.6318681318681318\n",
      "CV score at 2 = 0.5347511937061782\n",
      "CV score at 3 = 0.565609541086559\n",
      "CV score at 4 = 0.5677556430548517\n",
      "CV score at 5 = 0.5699896788294578\n",
      "CV score at 6 = 0.5634076914139654\n",
      "CV score at 7 = 0.5722037652270211\n",
      "CV score at 8 = 0.5766282409563732\n",
      "CV score at 9 = 0.5875907590759076\n",
      "CV score at 10 = 0.5887179487179488\n",
      "\n",
      "Least difference of CV score and F1 score of testing is : 0.04315018315018304\n"
     ]
    }
   ],
   "source": [
    "ypr = model.predict(xt) \n",
    "acc = accuracy_score(yt, ypr)\n",
    "print('Accuracy score:',acc)\n",
    "\n",
    "#Cross validation for checking overfitting\n",
    "from sklearn.model_selection import cross_val_score\n",
    "CVS = []\n",
    "for i in range(2,11):\n",
    "    lsc = cross_val_score(model,x,y,cv=i)\n",
    "    CVS.append(lsc.mean())\n",
    "    print('CV score at',i,'=',lsc.mean())\n",
    "least_diff = min(acc - CVS)\n",
    "cvs = max(CVS)\n",
    "print('\\nLeast difference of CV score and F1 score of testing is :', least_diff)"
   ]
  },
  {
   "cell_type": "code",
   "execution_count": 460,
   "id": "4042e4d1",
   "metadata": {},
   "outputs": [
    {
     "data": {
      "text/html": [
       "<div>\n",
       "<style scoped>\n",
       "    .dataframe tbody tr th:only-of-type {\n",
       "        vertical-align: middle;\n",
       "    }\n",
       "\n",
       "    .dataframe tbody tr th {\n",
       "        vertical-align: top;\n",
       "    }\n",
       "\n",
       "    .dataframe thead th {\n",
       "        text-align: right;\n",
       "    }\n",
       "</style>\n",
       "<table border=\"1\" class=\"dataframe\">\n",
       "  <thead>\n",
       "    <tr style=\"text-align: right;\">\n",
       "      <th></th>\n",
       "      <th>Algorithm name</th>\n",
       "      <th>Accuracy f1 score test</th>\n",
       "      <th>CV score</th>\n",
       "      <th>F1-CV score diff</th>\n",
       "    </tr>\n",
       "  </thead>\n",
       "  <tbody>\n",
       "    <tr>\n",
       "      <th>0</th>\n",
       "      <td>Logistic regression</td>\n",
       "      <td>0.549451</td>\n",
       "      <td>0.467485</td>\n",
       "      <td>0.081966</td>\n",
       "    </tr>\n",
       "    <tr>\n",
       "      <th>1</th>\n",
       "      <td>Decision tree classifier</td>\n",
       "      <td>0.714286</td>\n",
       "      <td>0.708900</td>\n",
       "      <td>0.005386</td>\n",
       "    </tr>\n",
       "    <tr>\n",
       "      <th>2</th>\n",
       "      <td>Support vector classifier</td>\n",
       "      <td>0.560440</td>\n",
       "      <td>0.577668</td>\n",
       "      <td>0.017228</td>\n",
       "    </tr>\n",
       "    <tr>\n",
       "      <th>3</th>\n",
       "      <td>KNN classifier</td>\n",
       "      <td>0.631868</td>\n",
       "      <td>0.588718</td>\n",
       "      <td>0.043150</td>\n",
       "    </tr>\n",
       "  </tbody>\n",
       "</table>\n",
       "</div>"
      ],
      "text/plain": [
       "              Algorithm name  Accuracy f1 score test  CV score  \\\n",
       "0        Logistic regression                0.549451  0.467485   \n",
       "1   Decision tree classifier                0.714286  0.708900   \n",
       "2  Support vector classifier                0.560440  0.577668   \n",
       "3             KNN classifier                0.631868  0.588718   \n",
       "\n",
       "   F1-CV score diff  \n",
       "0          0.081966  \n",
       "1          0.005386  \n",
       "2          0.017228  \n",
       "3          0.043150  "
      ]
     },
     "execution_count": 460,
     "metadata": {},
     "output_type": "execute_result"
    }
   ],
   "source": [
    "#Saving the results of model\n",
    "model_result.loc[len(model_result.index)] = ['KNN classifier', acc, cvs, least_diff] \n",
    "model_result"
   ]
  },
  {
   "cell_type": "code",
   "execution_count": 473,
   "id": "e298e40f",
   "metadata": {},
   "outputs": [
    {
     "name": "stdout",
     "output_type": "stream",
     "text": [
      "Accuracy score of train is : 99.59%\n",
      "Accuracy score of test is : 78.57% \n",
      "\n",
      "Classification report:\n",
      "              precision    recall  f1-score   support\n",
      "\n",
      "           0       0.62      0.62      0.62         8\n",
      "           1       0.79      0.83      0.81        54\n",
      "           2       0.53      0.69      0.60        13\n",
      "           3       0.76      0.81      0.78        42\n",
      "           4       1.00      0.33      0.50         3\n",
      "           5       0.00      0.00      0.00         6\n",
      "           6       0.93      1.00      0.96        27\n",
      "           7       0.88      0.76      0.81        29\n",
      "\n",
      "    accuracy                           0.79       182\n",
      "   macro avg       0.69      0.63      0.64       182\n",
      "weighted avg       0.77      0.79      0.77       182\n",
      "\n"
     ]
    }
   ],
   "source": [
    "#Random forest classifier\n",
    "from sklearn.ensemble import RandomForestClassifier\n",
    "model = RandomForestClassifier()\n",
    "model.fit(xtr,ytr)\n",
    "metric_score(model, xtr, xt, ytr, yt, train=True)\n",
    "metric_score(model, xtr, xt, ytr, yt, train=False)\n",
    "ypr = model.predict(xt) \n",
    "acc = accuracy_score(yt, ypr)"
   ]
  },
  {
   "cell_type": "code",
   "execution_count": 474,
   "id": "c5584a68",
   "metadata": {},
   "outputs": [
    {
     "name": "stdout",
     "output_type": "stream",
     "text": [
      "Accuracy score: 0.7857142857142857\n",
      "CV score at 2 = 0.7133354727659946\n",
      "CV score at 3 = 0.7332051085903292\n",
      "CV score at 4 = 0.7255029043701999\n",
      "CV score at 5 = 0.7365490862728432\n",
      "CV score at 6 = 0.7221955966074125\n",
      "CV score at 7 = 0.735428912173098\n",
      "CV score at 8 = 0.7321359260984319\n",
      "CV score at 9 = 0.742024202420242\n",
      "CV score at 10 = 0.7298778998779\n",
      "\n",
      "Least difference of CV score and F1 score of testing is : 0.04369008329404367\n"
     ]
    }
   ],
   "source": [
    "ypr = model.predict(xt) \n",
    "acc = accuracy_score(yt, ypr)\n",
    "print('Accuracy score:',acc)\n",
    "\n",
    "#Cross validation for checking overfitting\n",
    "from sklearn.model_selection import cross_val_score\n",
    "CVS = []\n",
    "for i in range(2,11):\n",
    "    lsc = cross_val_score(model,x,y,cv=i)\n",
    "    CVS.append(lsc.mean())\n",
    "    print('CV score at',i,'=',lsc.mean())\n",
    "least_diff = min(acc - CVS)\n",
    "cvs = max(CVS)\n",
    "print('\\nLeast difference of CV score and F1 score of testing is :', least_diff)"
   ]
  },
  {
   "cell_type": "code",
   "execution_count": 475,
   "id": "3cabbe80",
   "metadata": {},
   "outputs": [
    {
     "name": "stdout",
     "output_type": "stream",
     "text": [
      "RandomForestClassifier(max_depth=14, max_features='log2', n_estimators=350)\n"
     ]
    }
   ],
   "source": [
    "# Hyper parameter tuning for random forest model\n",
    "from sklearn.model_selection import GridSearchCV\n",
    "parameters = { 'n_estimators':[200,300,350], \n",
    "              'criterion':[\"gini\", \"entropy\"], \n",
    "              'max_depth' :[6, 10, 14], \n",
    "              'max_features':[\"auto\", \"sqrt\", \"log2\"]}\n",
    "gsv = GridSearchCV(model, parameters)\n",
    "gsv.fit(xtr,ytr)\n",
    "print(gsv.best_estimator_)"
   ]
  },
  {
   "cell_type": "code",
   "execution_count": 533,
   "id": "8eef854d",
   "metadata": {},
   "outputs": [
    {
     "name": "stdout",
     "output_type": "stream",
     "text": [
      "Accuracy score of train is : 99.31%\n",
      "Accuracy score of test is : 80.22% \n",
      "\n",
      "Classification report:\n",
      "              precision    recall  f1-score   support\n",
      "\n",
      "           0       0.55      0.75      0.63         8\n",
      "           1       0.80      0.83      0.82        54\n",
      "           2       0.53      0.69      0.60        13\n",
      "           3       0.83      0.81      0.82        42\n",
      "           4       1.00      0.33      0.50         3\n",
      "           5       0.00      0.00      0.00         6\n",
      "           6       1.00      1.00      1.00        27\n",
      "           7       0.83      0.83      0.83        29\n",
      "\n",
      "    accuracy                           0.80       182\n",
      "   macro avg       0.69      0.66      0.65       182\n",
      "weighted avg       0.79      0.80      0.79       182\n",
      "\n"
     ]
    }
   ],
   "source": [
    "#Training for best parameters\n",
    "model = RandomForestClassifier(max_depth=14, max_features='log2', n_estimators=350)\n",
    "model.fit(xtr,ytr)\n",
    "metric_score(model, xtr, xt, ytr, yt, train=True)\n",
    "metric_score(model, xtr, xt, ytr, yt, train=False)\n",
    "ypr = model.predict(xt) \n",
    "acc = accuracy_score(yt, ypr)"
   ]
  },
  {
   "cell_type": "code",
   "execution_count": 534,
   "id": "4a77eff0",
   "metadata": {},
   "outputs": [
    {
     "name": "stdout",
     "output_type": "stream",
     "text": [
      "Accuracy score: 0.8021978021978022\n",
      "CV score at 2 = 0.7034162849724306\n",
      "CV score at 3 = 0.7321013558309474\n",
      "CV score at 4 = 0.724425948306109\n",
      "CV score at 5 = 0.7354501851739421\n",
      "CV score at 6 = 0.728818113163704\n",
      "CV score at 7 = 0.7420649118323537\n",
      "CV score at 8 = 0.7255472752678156\n",
      "CV score at 9 = 0.7398679867986799\n",
      "CV score at 10 = 0.7210989010989011\n",
      "\n",
      "Least difference of CV score and F1 score of testing is : 0.060132890365448555\n"
     ]
    }
   ],
   "source": [
    "ypr = model.predict(xt) \n",
    "acc = accuracy_score(yt, ypr)\n",
    "print('Accuracy score:',acc)\n",
    "\n",
    "#Cross validation for checking overfitting\n",
    "from sklearn.model_selection import cross_val_score\n",
    "CVS = []\n",
    "for i in range(2,11):\n",
    "    lsc = cross_val_score(model,x,y,cv=i)\n",
    "    CVS.append(lsc.mean())\n",
    "    print('CV score at',i,'=',lsc.mean())\n",
    "least_diff = min(acc - CVS)\n",
    "cvs = max(CVS)\n",
    "print('\\nLeast difference of CV score and F1 score of testing is :', least_diff)"
   ]
  },
  {
   "cell_type": "code",
   "execution_count": 535,
   "id": "6cf3d9bc",
   "metadata": {},
   "outputs": [
    {
     "data": {
      "text/html": [
       "<div>\n",
       "<style scoped>\n",
       "    .dataframe tbody tr th:only-of-type {\n",
       "        vertical-align: middle;\n",
       "    }\n",
       "\n",
       "    .dataframe tbody tr th {\n",
       "        vertical-align: top;\n",
       "    }\n",
       "\n",
       "    .dataframe thead th {\n",
       "        text-align: right;\n",
       "    }\n",
       "</style>\n",
       "<table border=\"1\" class=\"dataframe\">\n",
       "  <thead>\n",
       "    <tr style=\"text-align: right;\">\n",
       "      <th></th>\n",
       "      <th>Algorithm name</th>\n",
       "      <th>Accuracy f1 score test</th>\n",
       "      <th>CV score</th>\n",
       "      <th>F1-CV score diff</th>\n",
       "    </tr>\n",
       "  </thead>\n",
       "  <tbody>\n",
       "    <tr>\n",
       "      <th>0</th>\n",
       "      <td>Logistic regression</td>\n",
       "      <td>0.549451</td>\n",
       "      <td>0.467485</td>\n",
       "      <td>0.081966</td>\n",
       "    </tr>\n",
       "    <tr>\n",
       "      <th>1</th>\n",
       "      <td>Decision tree classifier</td>\n",
       "      <td>0.714286</td>\n",
       "      <td>0.708900</td>\n",
       "      <td>0.005386</td>\n",
       "    </tr>\n",
       "    <tr>\n",
       "      <th>2</th>\n",
       "      <td>Support vector classifier</td>\n",
       "      <td>0.560440</td>\n",
       "      <td>0.577668</td>\n",
       "      <td>0.017228</td>\n",
       "    </tr>\n",
       "    <tr>\n",
       "      <th>3</th>\n",
       "      <td>KNN classifier</td>\n",
       "      <td>0.631868</td>\n",
       "      <td>0.588718</td>\n",
       "      <td>0.043150</td>\n",
       "    </tr>\n",
       "    <tr>\n",
       "      <th>4</th>\n",
       "      <td>Random forest classifier</td>\n",
       "      <td>0.802198</td>\n",
       "      <td>0.742065</td>\n",
       "      <td>0.060133</td>\n",
       "    </tr>\n",
       "  </tbody>\n",
       "</table>\n",
       "</div>"
      ],
      "text/plain": [
       "              Algorithm name  Accuracy f1 score test  CV score  \\\n",
       "0        Logistic regression                0.549451  0.467485   \n",
       "1   Decision tree classifier                0.714286  0.708900   \n",
       "2  Support vector classifier                0.560440  0.577668   \n",
       "3             KNN classifier                0.631868  0.588718   \n",
       "4   Random forest classifier                0.802198  0.742065   \n",
       "\n",
       "   F1-CV score diff  \n",
       "0          0.081966  \n",
       "1          0.005386  \n",
       "2          0.017228  \n",
       "3          0.043150  \n",
       "4          0.060133  "
      ]
     },
     "execution_count": 535,
     "metadata": {},
     "output_type": "execute_result"
    }
   ],
   "source": [
    "#Saving the results of model\n",
    "model_result.loc[len(model_result.index)] = ['Random forest classifier', acc, cvs, abs(least_diff)] \n",
    "model_result"
   ]
  },
  {
   "cell_type": "markdown",
   "id": "9deb4427",
   "metadata": {},
   "source": [
    "RFC is giving 80% accuracy but CV - F1 score difference = 0.06\n",
    "\n",
    "DTC is giving 71.5% accuracy but CV - F1 score difference = 0.005\n",
    "\n",
    "Therefore we select DTC as best model based on results obtained"
   ]
  },
  {
   "cell_type": "code",
   "execution_count": 555,
   "id": "ef1b9baf",
   "metadata": {},
   "outputs": [
    {
     "name": "stdout",
     "output_type": "stream",
     "text": [
      "Accuracy score of train is : 99.59%\n",
      "Accuracy score of test is : 71.98% \n",
      "\n",
      "Classification report:\n",
      "              precision    recall  f1-score   support\n",
      "\n",
      "           0       0.43      0.38      0.40         8\n",
      "           1       0.76      0.81      0.79        54\n",
      "           2       0.50      0.54      0.52        13\n",
      "           3       0.73      0.64      0.68        42\n",
      "           4       1.00      0.33      0.50         3\n",
      "           5       0.00      0.00      0.00         6\n",
      "           6       0.90      1.00      0.95        27\n",
      "           7       0.79      0.76      0.77        29\n",
      "\n",
      "    accuracy                           0.72       182\n",
      "   macro avg       0.64      0.56      0.58       182\n",
      "weighted avg       0.72      0.72      0.72       182\n",
      "\n"
     ]
    }
   ],
   "source": [
    "#Decision tree classifier\n",
    "from sklearn.tree import DecisionTreeClassifier\n",
    "model = DecisionTreeClassifier()\n",
    "model.fit(xtr,ytr)\n",
    "metric_score(model, xtr, xt, ytr, yt, train=True)\n",
    "metric_score(model, xtr, xt, ytr, yt, train=False)"
   ]
  },
  {
   "cell_type": "code",
   "execution_count": 557,
   "id": "879ef6d5",
   "metadata": {},
   "outputs": [
    {
     "data": {
      "text/html": [
       "<div>\n",
       "<style scoped>\n",
       "    .dataframe tbody tr th:only-of-type {\n",
       "        vertical-align: middle;\n",
       "    }\n",
       "\n",
       "    .dataframe tbody tr th {\n",
       "        vertical-align: top;\n",
       "    }\n",
       "\n",
       "    .dataframe thead th {\n",
       "        text-align: right;\n",
       "    }\n",
       "</style>\n",
       "<table border=\"1\" class=\"dataframe\">\n",
       "  <thead>\n",
       "    <tr style=\"text-align: right;\">\n",
       "      <th></th>\n",
       "      <th>Actuall primary fuel</th>\n",
       "      <th>Predicted primary fuel</th>\n",
       "    </tr>\n",
       "  </thead>\n",
       "  <tbody>\n",
       "    <tr>\n",
       "      <th>712</th>\n",
       "      <td>3</td>\n",
       "      <td>3</td>\n",
       "    </tr>\n",
       "    <tr>\n",
       "      <th>706</th>\n",
       "      <td>3</td>\n",
       "      <td>3</td>\n",
       "    </tr>\n",
       "    <tr>\n",
       "      <th>211</th>\n",
       "      <td>7</td>\n",
       "      <td>7</td>\n",
       "    </tr>\n",
       "    <tr>\n",
       "      <th>899</th>\n",
       "      <td>1</td>\n",
       "      <td>1</td>\n",
       "    </tr>\n",
       "    <tr>\n",
       "      <th>896</th>\n",
       "      <td>7</td>\n",
       "      <td>7</td>\n",
       "    </tr>\n",
       "    <tr>\n",
       "      <th>60</th>\n",
       "      <td>3</td>\n",
       "      <td>1</td>\n",
       "    </tr>\n",
       "    <tr>\n",
       "      <th>865</th>\n",
       "      <td>3</td>\n",
       "      <td>3</td>\n",
       "    </tr>\n",
       "    <tr>\n",
       "      <th>566</th>\n",
       "      <td>3</td>\n",
       "      <td>0</td>\n",
       "    </tr>\n",
       "    <tr>\n",
       "      <th>442</th>\n",
       "      <td>7</td>\n",
       "      <td>7</td>\n",
       "    </tr>\n",
       "    <tr>\n",
       "      <th>520</th>\n",
       "      <td>0</td>\n",
       "      <td>1</td>\n",
       "    </tr>\n",
       "  </tbody>\n",
       "</table>\n",
       "</div>"
      ],
      "text/plain": [
       "     Actuall primary fuel  Predicted primary fuel\n",
       "712                     3                       3\n",
       "706                     3                       3\n",
       "211                     7                       7\n",
       "899                     1                       1\n",
       "896                     7                       7\n",
       "60                      3                       1\n",
       "865                     3                       3\n",
       "566                     3                       0\n",
       "442                     7                       7\n",
       "520                     0                       1"
      ]
     },
     "execution_count": 557,
     "metadata": {},
     "output_type": "execute_result"
    }
   ],
   "source": [
    "table = pd.DataFrame()\n",
    "table['Actuall primary fuel'] = yt\n",
    "table['Predicted primary fuel'] = ypr\n",
    "table.sample(10)"
   ]
  },
  {
   "cell_type": "code",
   "execution_count": 558,
   "id": "843a4e92",
   "metadata": {},
   "outputs": [],
   "source": [
    "#Saving the model\n",
    "import pickle\n",
    "filename='GBLPP_cls.pkl'\n",
    "pickle.dump(model,open(filename,'wb'))"
   ]
  }
 ],
 "metadata": {
  "kernelspec": {
   "display_name": "Python 3",
   "language": "python",
   "name": "python3"
  },
  "language_info": {
   "codemirror_mode": {
    "name": "ipython",
    "version": 3
   },
   "file_extension": ".py",
   "mimetype": "text/x-python",
   "name": "python",
   "nbconvert_exporter": "python",
   "pygments_lexer": "ipython3",
   "version": "3.8.8"
  }
 },
 "nbformat": 4,
 "nbformat_minor": 5
}
