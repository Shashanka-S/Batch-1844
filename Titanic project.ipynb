{
 "cells": [
  {
   "cell_type": "code",
   "execution_count": 1,
   "id": "83f043f4",
   "metadata": {},
   "outputs": [],
   "source": [
    "#importing required libraries\n",
    "import pandas as pd\n",
    "import numpy as np\n",
    "import seaborn as sns\n",
    "import matplotlib.pyplot as plt\n",
    "\n",
    "import warnings\n",
    "warnings.filterwarnings('ignore')"
   ]
  },
  {
   "cell_type": "markdown",
   "id": "90aa4304",
   "metadata": {},
   "source": [
    "Problem statement:\n",
    "\n",
    "The Titanic Problem is based on the sinking of the ‘Unsinkable’ ship Titanic in early 1912. \n",
    "\n",
    "It gives you information about multiple people like their ages, sexes, sibling counts, embarkment points, and whether or not they survived the disaster. \n",
    "\n",
    "Based on these features, you have to predict if an arbitrary passenger on Titanic would survive the sinking or not."
   ]
  },
  {
   "cell_type": "code",
   "execution_count": 2,
   "id": "84f14048",
   "metadata": {},
   "outputs": [
    {
     "data": {
      "text/html": [
       "<div>\n",
       "<style scoped>\n",
       "    .dataframe tbody tr th:only-of-type {\n",
       "        vertical-align: middle;\n",
       "    }\n",
       "\n",
       "    .dataframe tbody tr th {\n",
       "        vertical-align: top;\n",
       "    }\n",
       "\n",
       "    .dataframe thead th {\n",
       "        text-align: right;\n",
       "    }\n",
       "</style>\n",
       "<table border=\"1\" class=\"dataframe\">\n",
       "  <thead>\n",
       "    <tr style=\"text-align: right;\">\n",
       "      <th></th>\n",
       "      <th>PassengerId</th>\n",
       "      <th>Survived</th>\n",
       "      <th>Pclass</th>\n",
       "      <th>Name</th>\n",
       "      <th>Sex</th>\n",
       "      <th>Age</th>\n",
       "      <th>SibSp</th>\n",
       "      <th>Parch</th>\n",
       "      <th>Ticket</th>\n",
       "      <th>Fare</th>\n",
       "      <th>Cabin</th>\n",
       "      <th>Embarked</th>\n",
       "    </tr>\n",
       "  </thead>\n",
       "  <tbody>\n",
       "    <tr>\n",
       "      <th>0</th>\n",
       "      <td>1</td>\n",
       "      <td>0</td>\n",
       "      <td>3</td>\n",
       "      <td>Braund, Mr. Owen Harris</td>\n",
       "      <td>male</td>\n",
       "      <td>22.0</td>\n",
       "      <td>1</td>\n",
       "      <td>0</td>\n",
       "      <td>A/5 21171</td>\n",
       "      <td>7.2500</td>\n",
       "      <td>NaN</td>\n",
       "      <td>S</td>\n",
       "    </tr>\n",
       "    <tr>\n",
       "      <th>1</th>\n",
       "      <td>2</td>\n",
       "      <td>1</td>\n",
       "      <td>1</td>\n",
       "      <td>Cumings, Mrs. John Bradley (Florence Briggs Th...</td>\n",
       "      <td>female</td>\n",
       "      <td>38.0</td>\n",
       "      <td>1</td>\n",
       "      <td>0</td>\n",
       "      <td>PC 17599</td>\n",
       "      <td>71.2833</td>\n",
       "      <td>C85</td>\n",
       "      <td>C</td>\n",
       "    </tr>\n",
       "    <tr>\n",
       "      <th>2</th>\n",
       "      <td>3</td>\n",
       "      <td>1</td>\n",
       "      <td>3</td>\n",
       "      <td>Heikkinen, Miss. Laina</td>\n",
       "      <td>female</td>\n",
       "      <td>26.0</td>\n",
       "      <td>0</td>\n",
       "      <td>0</td>\n",
       "      <td>STON/O2. 3101282</td>\n",
       "      <td>7.9250</td>\n",
       "      <td>NaN</td>\n",
       "      <td>S</td>\n",
       "    </tr>\n",
       "    <tr>\n",
       "      <th>3</th>\n",
       "      <td>4</td>\n",
       "      <td>1</td>\n",
       "      <td>1</td>\n",
       "      <td>Futrelle, Mrs. Jacques Heath (Lily May Peel)</td>\n",
       "      <td>female</td>\n",
       "      <td>35.0</td>\n",
       "      <td>1</td>\n",
       "      <td>0</td>\n",
       "      <td>113803</td>\n",
       "      <td>53.1000</td>\n",
       "      <td>C123</td>\n",
       "      <td>S</td>\n",
       "    </tr>\n",
       "    <tr>\n",
       "      <th>4</th>\n",
       "      <td>5</td>\n",
       "      <td>0</td>\n",
       "      <td>3</td>\n",
       "      <td>Allen, Mr. William Henry</td>\n",
       "      <td>male</td>\n",
       "      <td>35.0</td>\n",
       "      <td>0</td>\n",
       "      <td>0</td>\n",
       "      <td>373450</td>\n",
       "      <td>8.0500</td>\n",
       "      <td>NaN</td>\n",
       "      <td>S</td>\n",
       "    </tr>\n",
       "    <tr>\n",
       "      <th>...</th>\n",
       "      <td>...</td>\n",
       "      <td>...</td>\n",
       "      <td>...</td>\n",
       "      <td>...</td>\n",
       "      <td>...</td>\n",
       "      <td>...</td>\n",
       "      <td>...</td>\n",
       "      <td>...</td>\n",
       "      <td>...</td>\n",
       "      <td>...</td>\n",
       "      <td>...</td>\n",
       "      <td>...</td>\n",
       "    </tr>\n",
       "    <tr>\n",
       "      <th>886</th>\n",
       "      <td>887</td>\n",
       "      <td>0</td>\n",
       "      <td>2</td>\n",
       "      <td>Montvila, Rev. Juozas</td>\n",
       "      <td>male</td>\n",
       "      <td>27.0</td>\n",
       "      <td>0</td>\n",
       "      <td>0</td>\n",
       "      <td>211536</td>\n",
       "      <td>13.0000</td>\n",
       "      <td>NaN</td>\n",
       "      <td>S</td>\n",
       "    </tr>\n",
       "    <tr>\n",
       "      <th>887</th>\n",
       "      <td>888</td>\n",
       "      <td>1</td>\n",
       "      <td>1</td>\n",
       "      <td>Graham, Miss. Margaret Edith</td>\n",
       "      <td>female</td>\n",
       "      <td>19.0</td>\n",
       "      <td>0</td>\n",
       "      <td>0</td>\n",
       "      <td>112053</td>\n",
       "      <td>30.0000</td>\n",
       "      <td>B42</td>\n",
       "      <td>S</td>\n",
       "    </tr>\n",
       "    <tr>\n",
       "      <th>888</th>\n",
       "      <td>889</td>\n",
       "      <td>0</td>\n",
       "      <td>3</td>\n",
       "      <td>Johnston, Miss. Catherine Helen \"Carrie\"</td>\n",
       "      <td>female</td>\n",
       "      <td>NaN</td>\n",
       "      <td>1</td>\n",
       "      <td>2</td>\n",
       "      <td>W./C. 6607</td>\n",
       "      <td>23.4500</td>\n",
       "      <td>NaN</td>\n",
       "      <td>S</td>\n",
       "    </tr>\n",
       "    <tr>\n",
       "      <th>889</th>\n",
       "      <td>890</td>\n",
       "      <td>1</td>\n",
       "      <td>1</td>\n",
       "      <td>Behr, Mr. Karl Howell</td>\n",
       "      <td>male</td>\n",
       "      <td>26.0</td>\n",
       "      <td>0</td>\n",
       "      <td>0</td>\n",
       "      <td>111369</td>\n",
       "      <td>30.0000</td>\n",
       "      <td>C148</td>\n",
       "      <td>C</td>\n",
       "    </tr>\n",
       "    <tr>\n",
       "      <th>890</th>\n",
       "      <td>891</td>\n",
       "      <td>0</td>\n",
       "      <td>3</td>\n",
       "      <td>Dooley, Mr. Patrick</td>\n",
       "      <td>male</td>\n",
       "      <td>32.0</td>\n",
       "      <td>0</td>\n",
       "      <td>0</td>\n",
       "      <td>370376</td>\n",
       "      <td>7.7500</td>\n",
       "      <td>NaN</td>\n",
       "      <td>Q</td>\n",
       "    </tr>\n",
       "  </tbody>\n",
       "</table>\n",
       "<p>891 rows × 12 columns</p>\n",
       "</div>"
      ],
      "text/plain": [
       "     PassengerId  Survived  Pclass  \\\n",
       "0              1         0       3   \n",
       "1              2         1       1   \n",
       "2              3         1       3   \n",
       "3              4         1       1   \n",
       "4              5         0       3   \n",
       "..           ...       ...     ...   \n",
       "886          887         0       2   \n",
       "887          888         1       1   \n",
       "888          889         0       3   \n",
       "889          890         1       1   \n",
       "890          891         0       3   \n",
       "\n",
       "                                                  Name     Sex   Age  SibSp  \\\n",
       "0                              Braund, Mr. Owen Harris    male  22.0      1   \n",
       "1    Cumings, Mrs. John Bradley (Florence Briggs Th...  female  38.0      1   \n",
       "2                               Heikkinen, Miss. Laina  female  26.0      0   \n",
       "3         Futrelle, Mrs. Jacques Heath (Lily May Peel)  female  35.0      1   \n",
       "4                             Allen, Mr. William Henry    male  35.0      0   \n",
       "..                                                 ...     ...   ...    ...   \n",
       "886                              Montvila, Rev. Juozas    male  27.0      0   \n",
       "887                       Graham, Miss. Margaret Edith  female  19.0      0   \n",
       "888           Johnston, Miss. Catherine Helen \"Carrie\"  female   NaN      1   \n",
       "889                              Behr, Mr. Karl Howell    male  26.0      0   \n",
       "890                                Dooley, Mr. Patrick    male  32.0      0   \n",
       "\n",
       "     Parch            Ticket     Fare Cabin Embarked  \n",
       "0        0         A/5 21171   7.2500   NaN        S  \n",
       "1        0          PC 17599  71.2833   C85        C  \n",
       "2        0  STON/O2. 3101282   7.9250   NaN        S  \n",
       "3        0            113803  53.1000  C123        S  \n",
       "4        0            373450   8.0500   NaN        S  \n",
       "..     ...               ...      ...   ...      ...  \n",
       "886      0            211536  13.0000   NaN        S  \n",
       "887      0            112053  30.0000   B42        S  \n",
       "888      2        W./C. 6607  23.4500   NaN        S  \n",
       "889      0            111369  30.0000  C148        C  \n",
       "890      0            370376   7.7500   NaN        Q  \n",
       "\n",
       "[891 rows x 12 columns]"
      ]
     },
     "execution_count": 2,
     "metadata": {},
     "output_type": "execute_result"
    }
   ],
   "source": [
    "#importing or loading the dataset\n",
    "df = pd.read_csv('Titanic.csv')\n",
    "df"
   ]
  },
  {
   "cell_type": "markdown",
   "id": "3567ea1e",
   "metadata": {},
   "source": [
    "The dataset has 11 input feature columns as following:\n",
    "    \n",
    "1) 'PassengerId': ID number of passenger, will not help in prediction of survival. So may drop off this column.\n",
    "\n",
    "2) 'Pclass': Passenger class\n",
    "\n",
    "3) 'Name': Name of passenger, will not help in prediction of survival. So may drop off this column.\n",
    "\n",
    "4) 'Sex': Gender of passenger\n",
    "\n",
    "5) 'Age': Age of passenger\n",
    "\n",
    "6) 'SibSp': Number of Siblings or Spouses Aboard\n",
    "\n",
    "7) 'Parch': Number of Siblings or Spouses Aboard\n",
    "\n",
    "8) 'Ticket': Ticket number\n",
    "\n",
    "9) 'Fare': Ticket fare\n",
    "\n",
    "10) 'Cabin' : Cabin number\n",
    "\n",
    "11) 'Embarked': Port of Embarkation (C = Cherbourg, Q = Queenstown,S = Southampton)\n",
    "\n",
    "Target is 'Survived' is of categrical (Binary) in nature"
   ]
  },
  {
   "cell_type": "code",
   "execution_count": 3,
   "id": "6c6e945d",
   "metadata": {},
   "outputs": [
    {
     "data": {
      "text/plain": [
       "PassengerId      int64\n",
       "Survived         int64\n",
       "Pclass           int64\n",
       "Name            object\n",
       "Sex             object\n",
       "Age            float64\n",
       "SibSp            int64\n",
       "Parch            int64\n",
       "Ticket          object\n",
       "Fare           float64\n",
       "Cabin           object\n",
       "Embarked        object\n",
       "dtype: object"
      ]
     },
     "execution_count": 3,
     "metadata": {},
     "output_type": "execute_result"
    }
   ],
   "source": [
    "#Checking data types\n",
    "df.dtypes"
   ]
  },
  {
   "cell_type": "code",
   "execution_count": 4,
   "id": "f34baa37",
   "metadata": {},
   "outputs": [
    {
     "name": "stdout",
     "output_type": "stream",
     "text": [
      "<class 'pandas.core.frame.DataFrame'>\n",
      "RangeIndex: 891 entries, 0 to 890\n",
      "Data columns (total 12 columns):\n",
      " #   Column       Non-Null Count  Dtype  \n",
      "---  ------       --------------  -----  \n",
      " 0   PassengerId  891 non-null    int64  \n",
      " 1   Survived     891 non-null    int64  \n",
      " 2   Pclass       891 non-null    int64  \n",
      " 3   Name         891 non-null    object \n",
      " 4   Sex          891 non-null    object \n",
      " 5   Age          714 non-null    float64\n",
      " 6   SibSp        891 non-null    int64  \n",
      " 7   Parch        891 non-null    int64  \n",
      " 8   Ticket       891 non-null    object \n",
      " 9   Fare         891 non-null    float64\n",
      " 10  Cabin        204 non-null    object \n",
      " 11  Embarked     889 non-null    object \n",
      "dtypes: float64(2), int64(5), object(5)\n",
      "memory usage: 83.7+ KB\n"
     ]
    }
   ],
   "source": [
    "#Checking general information of data\n",
    "df.info()"
   ]
  },
  {
   "cell_type": "code",
   "execution_count": 5,
   "id": "a3fad695",
   "metadata": {},
   "outputs": [
    {
     "data": {
      "text/plain": [
       "(891, 12)"
      ]
     },
     "execution_count": 5,
     "metadata": {},
     "output_type": "execute_result"
    }
   ],
   "source": [
    "#Checkin for data shape\n",
    "df.shape"
   ]
  },
  {
   "cell_type": "code",
   "execution_count": 6,
   "id": "547afb05",
   "metadata": {},
   "outputs": [
    {
     "data": {
      "text/plain": [
       "PassengerId      0\n",
       "Survived         0\n",
       "Pclass           0\n",
       "Name             0\n",
       "Sex              0\n",
       "Age            177\n",
       "SibSp            0\n",
       "Parch            0\n",
       "Ticket           0\n",
       "Fare             0\n",
       "Cabin          687\n",
       "Embarked         2\n",
       "dtype: int64"
      ]
     },
     "execution_count": 6,
     "metadata": {},
     "output_type": "execute_result"
    }
   ],
   "source": [
    "#Checking any null values\n",
    "df.isnull().sum()"
   ]
  },
  {
   "cell_type": "markdown",
   "id": "a261ad19",
   "metadata": {},
   "source": [
    "age has 177 null values, which need to be handled\n",
    "\n",
    "Cabin has 687 null values"
   ]
  },
  {
   "cell_type": "code",
   "execution_count": 7,
   "id": "22a31676",
   "metadata": {},
   "outputs": [
    {
     "data": {
      "text/plain": [
       "(array([], dtype=int64), array([], dtype=int64))"
      ]
     },
     "execution_count": 7,
     "metadata": {},
     "output_type": "execute_result"
    }
   ],
   "source": [
    "#Checking any blank or white spaces\n",
    "np.where(df.applymap(lambda x: x == ' '))"
   ]
  },
  {
   "cell_type": "code",
   "execution_count": 8,
   "id": "9dbf71ca",
   "metadata": {},
   "outputs": [
    {
     "name": "stdout",
     "output_type": "stream",
     "text": [
      "For column of PassengerId  True\n",
      "For column of Survived  False\n",
      "For column of Pclass  False\n",
      "For column of Name  True\n",
      "For column of Sex  False\n",
      "For column of Age  False\n",
      "For column of SibSp  False\n",
      "For column of Parch  False\n",
      "For column of Ticket  False\n",
      "For column of Fare  False\n",
      "For column of Cabin  False\n",
      "For column of Embarked  False\n"
     ]
    }
   ],
   "source": [
    "#Checking if all entries of a column is unique or not\n",
    "\n",
    "#PassengerId column\n",
    "for i in df.columns:\n",
    "    print('For column of {} '.format(i),(len(df[i].unique())==len(df[i])))"
   ]
  },
  {
   "cell_type": "markdown",
   "id": "4f61ef9a",
   "metadata": {},
   "source": [
    "Passenger ID and Name columns has unique values anddata will not help in survival prediction so we may drop off these columns"
   ]
  },
  {
   "cell_type": "code",
   "execution_count": 9,
   "id": "e79a76ee",
   "metadata": {},
   "outputs": [
    {
     "data": {
      "text/html": [
       "<div>\n",
       "<style scoped>\n",
       "    .dataframe tbody tr th:only-of-type {\n",
       "        vertical-align: middle;\n",
       "    }\n",
       "\n",
       "    .dataframe tbody tr th {\n",
       "        vertical-align: top;\n",
       "    }\n",
       "\n",
       "    .dataframe thead th {\n",
       "        text-align: right;\n",
       "    }\n",
       "</style>\n",
       "<table border=\"1\" class=\"dataframe\">\n",
       "  <thead>\n",
       "    <tr style=\"text-align: right;\">\n",
       "      <th></th>\n",
       "      <th>Survived</th>\n",
       "      <th>Pclass</th>\n",
       "      <th>Sex</th>\n",
       "      <th>Age</th>\n",
       "      <th>SibSp</th>\n",
       "      <th>Parch</th>\n",
       "      <th>Ticket</th>\n",
       "      <th>Fare</th>\n",
       "      <th>Cabin</th>\n",
       "      <th>Embarked</th>\n",
       "    </tr>\n",
       "  </thead>\n",
       "  <tbody>\n",
       "    <tr>\n",
       "      <th>0</th>\n",
       "      <td>0</td>\n",
       "      <td>3</td>\n",
       "      <td>male</td>\n",
       "      <td>22.0</td>\n",
       "      <td>1</td>\n",
       "      <td>0</td>\n",
       "      <td>A/5 21171</td>\n",
       "      <td>7.2500</td>\n",
       "      <td>NaN</td>\n",
       "      <td>S</td>\n",
       "    </tr>\n",
       "    <tr>\n",
       "      <th>1</th>\n",
       "      <td>1</td>\n",
       "      <td>1</td>\n",
       "      <td>female</td>\n",
       "      <td>38.0</td>\n",
       "      <td>1</td>\n",
       "      <td>0</td>\n",
       "      <td>PC 17599</td>\n",
       "      <td>71.2833</td>\n",
       "      <td>C85</td>\n",
       "      <td>C</td>\n",
       "    </tr>\n",
       "    <tr>\n",
       "      <th>2</th>\n",
       "      <td>1</td>\n",
       "      <td>3</td>\n",
       "      <td>female</td>\n",
       "      <td>26.0</td>\n",
       "      <td>0</td>\n",
       "      <td>0</td>\n",
       "      <td>STON/O2. 3101282</td>\n",
       "      <td>7.9250</td>\n",
       "      <td>NaN</td>\n",
       "      <td>S</td>\n",
       "    </tr>\n",
       "    <tr>\n",
       "      <th>3</th>\n",
       "      <td>1</td>\n",
       "      <td>1</td>\n",
       "      <td>female</td>\n",
       "      <td>35.0</td>\n",
       "      <td>1</td>\n",
       "      <td>0</td>\n",
       "      <td>113803</td>\n",
       "      <td>53.1000</td>\n",
       "      <td>C123</td>\n",
       "      <td>S</td>\n",
       "    </tr>\n",
       "    <tr>\n",
       "      <th>4</th>\n",
       "      <td>0</td>\n",
       "      <td>3</td>\n",
       "      <td>male</td>\n",
       "      <td>35.0</td>\n",
       "      <td>0</td>\n",
       "      <td>0</td>\n",
       "      <td>373450</td>\n",
       "      <td>8.0500</td>\n",
       "      <td>NaN</td>\n",
       "      <td>S</td>\n",
       "    </tr>\n",
       "  </tbody>\n",
       "</table>\n",
       "</div>"
      ],
      "text/plain": [
       "   Survived  Pclass     Sex   Age  SibSp  Parch            Ticket     Fare  \\\n",
       "0         0       3    male  22.0      1      0         A/5 21171   7.2500   \n",
       "1         1       1  female  38.0      1      0          PC 17599  71.2833   \n",
       "2         1       3  female  26.0      0      0  STON/O2. 3101282   7.9250   \n",
       "3         1       1  female  35.0      1      0            113803  53.1000   \n",
       "4         0       3    male  35.0      0      0            373450   8.0500   \n",
       "\n",
       "  Cabin Embarked  \n",
       "0   NaN        S  \n",
       "1   C85        C  \n",
       "2   NaN        S  \n",
       "3  C123        S  \n",
       "4   NaN        S  "
      ]
     },
     "execution_count": 9,
     "metadata": {},
     "output_type": "execute_result"
    }
   ],
   "source": [
    "df = df.drop(['PassengerId','Name'], axis=1)\n",
    "df.head()"
   ]
  },
  {
   "cell_type": "code",
   "execution_count": 10,
   "id": "fcf24f05",
   "metadata": {},
   "outputs": [
    {
     "name": "stdout",
     "output_type": "stream",
     "text": [
      "0    549\n",
      "1    342\n",
      "Name: Survived, dtype: int64 \n",
      "\n",
      "3    491\n",
      "1    216\n",
      "2    184\n",
      "Name: Pclass, dtype: int64 \n",
      "\n",
      "male      577\n",
      "female    314\n",
      "Name: Sex, dtype: int64 \n",
      "\n",
      "24.00    30\n",
      "22.00    27\n",
      "18.00    26\n",
      "28.00    25\n",
      "19.00    25\n",
      "         ..\n",
      "55.50     1\n",
      "74.00     1\n",
      "0.92      1\n",
      "70.50     1\n",
      "12.00     1\n",
      "Name: Age, Length: 88, dtype: int64 \n",
      "\n",
      "0    608\n",
      "1    209\n",
      "2     28\n",
      "4     18\n",
      "3     16\n",
      "8      7\n",
      "5      5\n",
      "Name: SibSp, dtype: int64 \n",
      "\n",
      "0    678\n",
      "1    118\n",
      "2     80\n",
      "3      5\n",
      "5      5\n",
      "4      4\n",
      "6      1\n",
      "Name: Parch, dtype: int64 \n",
      "\n",
      "1601        7\n",
      "CA. 2343    7\n",
      "347082      7\n",
      "347088      6\n",
      "3101295     6\n",
      "           ..\n",
      "345770      1\n",
      "PC 17318    1\n",
      "28665       1\n",
      "113503      1\n",
      "349221      1\n",
      "Name: Ticket, Length: 681, dtype: int64 \n",
      "\n",
      "8.0500     43\n",
      "13.0000    42\n",
      "7.8958     38\n",
      "7.7500     34\n",
      "26.0000    31\n",
      "           ..\n",
      "50.4958     1\n",
      "13.8583     1\n",
      "8.4583      1\n",
      "7.7250      1\n",
      "7.5208      1\n",
      "Name: Fare, Length: 248, dtype: int64 \n",
      "\n",
      "B96 B98        4\n",
      "C23 C25 C27    4\n",
      "G6             4\n",
      "E101           3\n",
      "F2             3\n",
      "              ..\n",
      "D47            1\n",
      "F G63          1\n",
      "E12            1\n",
      "A31            1\n",
      "A5             1\n",
      "Name: Cabin, Length: 147, dtype: int64 \n",
      "\n",
      "S    644\n",
      "C    168\n",
      "Q     77\n",
      "Name: Embarked, dtype: int64 \n",
      "\n"
     ]
    }
   ],
   "source": [
    "#Checking of value counts in each columns\n",
    "\n",
    "for i in df.columns:\n",
    "    print(df[i].value_counts(),'\\n')"
   ]
  },
  {
   "cell_type": "code",
   "execution_count": 11,
   "id": "6bc2b1a8",
   "metadata": {},
   "outputs": [
    {
     "data": {
      "image/png": "[encoded data removed]",
      "text/plain": [
       "<Figure size 432x288 with 1 Axes>"
      ]
     },
     "metadata": {
      "needs_background": "light"
     },
     "output_type": "display_data"
    },
    {
     "data": {
      "image/png": "[encoded data removed]",
      "text/plain": [
       "<Figure size 432x288 with 1 Axes>"
      ]
     },
     "metadata": {
      "needs_background": "light"
     },
     "output_type": "display_data"
    },
    {
     "data": {
      "image/png": "[encoded data removed]",
      "text/plain": [
       "<Figure size 432x288 with 1 Axes>"
      ]
     },
     "metadata": {
      "needs_background": "light"
     },
     "output_type": "display_data"
    },
    {
     "data": {
      "image/png": "[encoded data removed]",
      "text/plain": [
       "<Figure size 432x288 with 1 Axes>"
      ]
     },
     "metadata": {
      "needs_background": "light"
     },
     "output_type": "display_data"
    },
    {
     "data": {
      "image/png": "[encoded data removed]",
      "text/plain": [
       "<Figure size 432x288 with 1 Axes>"
      ]
     },
     "metadata": {
      "needs_background": "light"
     },
     "output_type": "display_data"
    },
    {
     "data": {
      "image/png": "[encoded data removed]",
      "text/plain": [
       "<Figure size 432x288 with 1 Axes>"
      ]
     },
     "metadata": {
      "needs_background": "light"
     },
     "output_type": "display_data"
    }
   ],
   "source": [
    "#Vizualization of value counts in each categorical columns\n",
    "dfcat = ['Survived', 'Pclass', 'Sex', 'SibSp', 'Parch','Embarked']\n",
    "for i in dfcat:\n",
    "    sns.countplot(df[i])\n",
    "    plt.show()"
   ]
  },
  {
   "cell_type": "markdown",
   "id": "ee2fa33a",
   "metadata": {},
   "source": [
    "If we observe target variable, data distribution is 550/350 almost balanced\n",
    "\n",
    "There are 3 classes of passengers\n",
    "\n",
    "There are 3 ports of embaration\n",
    "\n",
    "There are 8 categories in SIBSP (siblings or spouse aboard)\n",
    "\n",
    "There are 6 categories in PARCH (parents or children aboard)"
   ]
  },
  {
   "cell_type": "code",
   "execution_count": 12,
   "id": "417a2f3d",
   "metadata": {},
   "outputs": [
    {
     "data": {
      "text/plain": [
       "Index(['Survived', 'Pclass', 'Sex', 'Age', 'SibSp', 'Parch', 'Ticket', 'Fare',\n",
       "       'Cabin', 'Embarked'],\n",
       "      dtype='object')"
      ]
     },
     "execution_count": 12,
     "metadata": {},
     "output_type": "execute_result"
    }
   ],
   "source": [
    "df.columns"
   ]
  },
  {
   "cell_type": "code",
   "execution_count": 13,
   "id": "4af9744f",
   "metadata": {},
   "outputs": [
    {
     "data": {
      "image/png": "[encoded data removed]",
      "text/plain": [
       "<Figure size 432x288 with 1 Axes>"
      ]
     },
     "metadata": {
      "needs_background": "light"
     },
     "output_type": "display_data"
    },
    {
     "data": {
      "image/png": "[encoded data removed]",
      "text/plain": [
       "<Figure size 432x288 with 1 Axes>"
      ]
     },
     "metadata": {
      "needs_background": "light"
     },
     "output_type": "display_data"
    }
   ],
   "source": [
    "#Vizualization of distribution of numerical or continuous data\n",
    "dfnum = ['Age', 'Fare']\n",
    "for i in dfnum:\n",
    "    sns.distplot(df[i])\n",
    "    plt.show()"
   ]
  },
  {
   "cell_type": "markdown",
   "id": "bcbb5d71",
   "metadata": {},
   "source": [
    "We can observe Age data is normally distributed but little bit right skewed\n",
    "\n",
    "Fare distribution is highly right skewed"
   ]
  },
  {
   "cell_type": "code",
   "execution_count": 14,
   "id": "c4877974",
   "metadata": {},
   "outputs": [
    {
     "data": {
      "text/html": [
       "<div>\n",
       "<style scoped>\n",
       "    .dataframe tbody tr th:only-of-type {\n",
       "        vertical-align: middle;\n",
       "    }\n",
       "\n",
       "    .dataframe tbody tr th {\n",
       "        vertical-align: top;\n",
       "    }\n",
       "\n",
       "    .dataframe thead th {\n",
       "        text-align: right;\n",
       "    }\n",
       "</style>\n",
       "<table border=\"1\" class=\"dataframe\">\n",
       "  <thead>\n",
       "    <tr style=\"text-align: right;\">\n",
       "      <th></th>\n",
       "      <th>Survived</th>\n",
       "      <th>Pclass</th>\n",
       "      <th>Sex</th>\n",
       "      <th>Age</th>\n",
       "      <th>SibSp</th>\n",
       "      <th>Parch</th>\n",
       "      <th>Ticket</th>\n",
       "      <th>Fare</th>\n",
       "      <th>Embarked</th>\n",
       "    </tr>\n",
       "  </thead>\n",
       "  <tbody>\n",
       "    <tr>\n",
       "      <th>0</th>\n",
       "      <td>0</td>\n",
       "      <td>3</td>\n",
       "      <td>male</td>\n",
       "      <td>22.0</td>\n",
       "      <td>1</td>\n",
       "      <td>0</td>\n",
       "      <td>A/5 21171</td>\n",
       "      <td>7.2500</td>\n",
       "      <td>S</td>\n",
       "    </tr>\n",
       "    <tr>\n",
       "      <th>1</th>\n",
       "      <td>1</td>\n",
       "      <td>1</td>\n",
       "      <td>female</td>\n",
       "      <td>38.0</td>\n",
       "      <td>1</td>\n",
       "      <td>0</td>\n",
       "      <td>PC 17599</td>\n",
       "      <td>71.2833</td>\n",
       "      <td>C</td>\n",
       "    </tr>\n",
       "    <tr>\n",
       "      <th>2</th>\n",
       "      <td>1</td>\n",
       "      <td>3</td>\n",
       "      <td>female</td>\n",
       "      <td>26.0</td>\n",
       "      <td>0</td>\n",
       "      <td>0</td>\n",
       "      <td>STON/O2. 3101282</td>\n",
       "      <td>7.9250</td>\n",
       "      <td>S</td>\n",
       "    </tr>\n",
       "    <tr>\n",
       "      <th>3</th>\n",
       "      <td>1</td>\n",
       "      <td>1</td>\n",
       "      <td>female</td>\n",
       "      <td>35.0</td>\n",
       "      <td>1</td>\n",
       "      <td>0</td>\n",
       "      <td>113803</td>\n",
       "      <td>53.1000</td>\n",
       "      <td>S</td>\n",
       "    </tr>\n",
       "    <tr>\n",
       "      <th>4</th>\n",
       "      <td>0</td>\n",
       "      <td>3</td>\n",
       "      <td>male</td>\n",
       "      <td>35.0</td>\n",
       "      <td>0</td>\n",
       "      <td>0</td>\n",
       "      <td>373450</td>\n",
       "      <td>8.0500</td>\n",
       "      <td>S</td>\n",
       "    </tr>\n",
       "  </tbody>\n",
       "</table>\n",
       "</div>"
      ],
      "text/plain": [
       "   Survived  Pclass     Sex   Age  SibSp  Parch            Ticket     Fare  \\\n",
       "0         0       3    male  22.0      1      0         A/5 21171   7.2500   \n",
       "1         1       1  female  38.0      1      0          PC 17599  71.2833   \n",
       "2         1       3  female  26.0      0      0  STON/O2. 3101282   7.9250   \n",
       "3         1       1  female  35.0      1      0            113803  53.1000   \n",
       "4         0       3    male  35.0      0      0            373450   8.0500   \n",
       "\n",
       "  Embarked  \n",
       "0        S  \n",
       "1        C  \n",
       "2        S  \n",
       "3        S  \n",
       "4        S  "
      ]
     },
     "execution_count": 14,
     "metadata": {},
     "output_type": "execute_result"
    }
   ],
   "source": [
    "#Cabin column has most of the values as NAN entries, so we shal omit this column\n",
    "df = df.drop('Cabin', axis=1)\n",
    "df.head()"
   ]
  },
  {
   "cell_type": "code",
   "execution_count": 15,
   "id": "db0958ef",
   "metadata": {},
   "outputs": [
    {
     "data": {
      "text/html": [
       "<div>\n",
       "<style scoped>\n",
       "    .dataframe tbody tr th:only-of-type {\n",
       "        vertical-align: middle;\n",
       "    }\n",
       "\n",
       "    .dataframe tbody tr th {\n",
       "        vertical-align: top;\n",
       "    }\n",
       "\n",
       "    .dataframe thead th {\n",
       "        text-align: right;\n",
       "    }\n",
       "</style>\n",
       "<table border=\"1\" class=\"dataframe\">\n",
       "  <thead>\n",
       "    <tr style=\"text-align: right;\">\n",
       "      <th></th>\n",
       "      <th>Survived</th>\n",
       "      <th>Pclass</th>\n",
       "      <th>Sex</th>\n",
       "      <th>Age</th>\n",
       "      <th>SibSp</th>\n",
       "      <th>Parch</th>\n",
       "      <th>Fare</th>\n",
       "      <th>Embarked</th>\n",
       "    </tr>\n",
       "  </thead>\n",
       "  <tbody>\n",
       "    <tr>\n",
       "      <th>0</th>\n",
       "      <td>0</td>\n",
       "      <td>3</td>\n",
       "      <td>male</td>\n",
       "      <td>22.0</td>\n",
       "      <td>1</td>\n",
       "      <td>0</td>\n",
       "      <td>7.2500</td>\n",
       "      <td>S</td>\n",
       "    </tr>\n",
       "    <tr>\n",
       "      <th>1</th>\n",
       "      <td>1</td>\n",
       "      <td>1</td>\n",
       "      <td>female</td>\n",
       "      <td>38.0</td>\n",
       "      <td>1</td>\n",
       "      <td>0</td>\n",
       "      <td>71.2833</td>\n",
       "      <td>C</td>\n",
       "    </tr>\n",
       "    <tr>\n",
       "      <th>2</th>\n",
       "      <td>1</td>\n",
       "      <td>3</td>\n",
       "      <td>female</td>\n",
       "      <td>26.0</td>\n",
       "      <td>0</td>\n",
       "      <td>0</td>\n",
       "      <td>7.9250</td>\n",
       "      <td>S</td>\n",
       "    </tr>\n",
       "    <tr>\n",
       "      <th>3</th>\n",
       "      <td>1</td>\n",
       "      <td>1</td>\n",
       "      <td>female</td>\n",
       "      <td>35.0</td>\n",
       "      <td>1</td>\n",
       "      <td>0</td>\n",
       "      <td>53.1000</td>\n",
       "      <td>S</td>\n",
       "    </tr>\n",
       "    <tr>\n",
       "      <th>4</th>\n",
       "      <td>0</td>\n",
       "      <td>3</td>\n",
       "      <td>male</td>\n",
       "      <td>35.0</td>\n",
       "      <td>0</td>\n",
       "      <td>0</td>\n",
       "      <td>8.0500</td>\n",
       "      <td>S</td>\n",
       "    </tr>\n",
       "  </tbody>\n",
       "</table>\n",
       "</div>"
      ],
      "text/plain": [
       "   Survived  Pclass     Sex   Age  SibSp  Parch     Fare Embarked\n",
       "0         0       3    male  22.0      1      0   7.2500        S\n",
       "1         1       1  female  38.0      1      0  71.2833        C\n",
       "2         1       3  female  26.0      0      0   7.9250        S\n",
       "3         1       1  female  35.0      1      0  53.1000        S\n",
       "4         0       3    male  35.0      0      0   8.0500        S"
      ]
     },
     "execution_count": 15,
     "metadata": {},
     "output_type": "execute_result"
    }
   ],
   "source": [
    "#Also we shall drop Ticket column as it has no role in survival prediction\n",
    "df = df.drop('Ticket', axis=1)\n",
    "df.head()"
   ]
  },
  {
   "cell_type": "code",
   "execution_count": 16,
   "id": "6650ae91",
   "metadata": {},
   "outputs": [
    {
     "data": {
      "image/png": "[encoded data removed]",
      "text/plain": [
       "<Figure size 360x360 with 1 Axes>"
      ]
     },
     "metadata": {},
     "output_type": "display_data"
    },
    {
     "data": {
      "image/png": "[encoded data removed]",
      "text/plain": [
       "<Figure size 432x288 with 1 Axes>"
      ]
     },
     "metadata": {
      "needs_background": "light"
     },
     "output_type": "display_data"
    }
   ],
   "source": [
    "#Let us do individual column analysis wrt other or target column\n",
    "\n",
    "var = 'Pclass'\n",
    "plt.figure(figsize=(5,5))\n",
    "data = list(df[var].value_counts())\n",
    "plt.pie(data, labels= list(set(df[var].values)), autopct='%1.1f%%', explode=[0.1,0.1,0.1], shadow=True)\n",
    "plt.axis('equal')\n",
    "plt.title('Passenger class ratio')\n",
    "plt.show()\n",
    "\n",
    "#for proper understanding let us visualize passenger class among survivors\n",
    "sns.countplot(hue = df['Survived'], x = df[var])\n",
    "plt.title('Survival - class wise')\n",
    "plt.show()"
   ]
  },
  {
   "cell_type": "markdown",
   "id": "eae8a6de",
   "metadata": {},
   "source": [
    "We can observe that more number of passengers didnot survived in class 3\n",
    "\n",
    "Number passengers survived in class 1 is little high compared to other 2 classes "
   ]
  },
  {
   "cell_type": "code",
   "execution_count": 17,
   "id": "24f8be95",
   "metadata": {},
   "outputs": [
    {
     "data": {
      "image/png": "[encoded data removed]",
      "text/plain": [
       "<Figure size 360x360 with 1 Axes>"
      ]
     },
     "metadata": {},
     "output_type": "display_data"
    },
    {
     "data": {
      "image/png": "[encoded data removed]",
      "text/plain": [
       "<Figure size 432x288 with 1 Axes>"
      ]
     },
     "metadata": {
      "needs_background": "light"
     },
     "output_type": "display_data"
    }
   ],
   "source": [
    "#Let us do individual column analysis wrt other or target column\n",
    "\n",
    "var = 'Sex'\n",
    "plt.figure(figsize=(5,5))\n",
    "data = list(df[var].value_counts())\n",
    "plt.pie(data, labels= list(set(df[var].values)), autopct='%1.1f%%', explode=[0.1,0.1], shadow=True)\n",
    "plt.axis('equal')\n",
    "plt.title('Passenger sex ratio')\n",
    "plt.show()\n",
    "\n",
    "#for proper understanding let us visualize gender among survivors\n",
    "sns.countplot(hue = df['Survived'], x = df[var])\n",
    "plt.title('Survival - gender wise')\n",
    "plt.show()"
   ]
  },
  {
   "cell_type": "markdown",
   "id": "0a2763f7",
   "metadata": {},
   "source": [
    "We can observe that more number of male passengers didnot survived compared to female pasengers"
   ]
  },
  {
   "cell_type": "code",
   "execution_count": 18,
   "id": "7eb45e80",
   "metadata": {},
   "outputs": [
    {
     "data": {
      "image/png": "[encoded data removed]",
      "text/plain": [
       "<Figure size 432x288 with 1 Axes>"
      ]
     },
     "metadata": {
      "needs_background": "light"
     },
     "output_type": "display_data"
    },
    {
     "data": {
      "image/png": "[encoded data removed]",
      "text/plain": [
       "<Figure size 432x288 with 1 Axes>"
      ]
     },
     "metadata": {
      "needs_background": "light"
     },
     "output_type": "display_data"
    }
   ],
   "source": [
    "#for proper understanding let us visualize port of embarkation among survivors\n",
    "sns.countplot(x = df['Survived'], hue = df['Embarked'])\n",
    "plt.title('Survival - port of embarkation wise')\n",
    "plt.show()\n",
    "\n",
    "#On-boarded place vs survived or not\n",
    "sns.countplot( x = df['Embarked'], hue = df['Survived'])\n",
    "plt.show()"
   ]
  },
  {
   "cell_type": "markdown",
   "id": "e1027c37",
   "metadata": {},
   "source": [
    "Number of passenger survived are in order S>C>Q as per port of embarkation\n",
    "\n",
    "Also number of passenger didnot survived are in order S>C>Q as per port of embarkation, following same trend"
   ]
  },
  {
   "cell_type": "code",
   "execution_count": 19,
   "id": "bcbfca36",
   "metadata": {},
   "outputs": [
    {
     "data": {
      "image/png": "[encoded data removed]",
      "text/plain": [
       "<Figure size 1080x432 with 2 Axes>"
      ]
     },
     "metadata": {
      "needs_background": "light"
     },
     "output_type": "display_data"
    }
   ],
   "source": [
    "#Visualization of data\n",
    "fig, axes = plt.subplots(1, 2, figsize=(15, 6), sharey=False)\n",
    "\n",
    "#Fare\n",
    "sns.distplot(ax=axes[0], x = df['Fare'])\n",
    "plt.xlabel('Ticket fare')\n",
    "axes[0].set_title('Ticket fare')\n",
    "\n",
    "#On-boarded place\n",
    "sns.countplot(ax=axes[1], x = df['Embarked'])\n",
    "axes[1].set_title('On-boarded port')\n",
    "plt.show()"
   ]
  },
  {
   "cell_type": "markdown",
   "id": "b2ce2f4e",
   "metadata": {},
   "source": [
    "We can observe one more thing, Ticket fare is having relation with port of embarkation"
   ]
  },
  {
   "cell_type": "markdown",
   "id": "e65ea51a",
   "metadata": {},
   "source": [
    "#Handling nan values in age and embarked columns"
   ]
  },
  {
   "cell_type": "code",
   "execution_count": 20,
   "id": "e1b12f6d",
   "metadata": {},
   "outputs": [],
   "source": [
    "#Age\n",
    "df['Age'].fillna(df['Age'].mean(), inplace=True)\n",
    "\n",
    "#Embarked\n",
    "df['Embarked'].fillna(df['Embarked'].mode()[0], inplace=True)"
   ]
  },
  {
   "cell_type": "code",
   "execution_count": 21,
   "id": "227208ec",
   "metadata": {},
   "outputs": [
    {
     "data": {
      "text/plain": [
       "Survived    0\n",
       "Pclass      0\n",
       "Sex         0\n",
       "Age         0\n",
       "SibSp       0\n",
       "Parch       0\n",
       "Fare        0\n",
       "Embarked    0\n",
       "dtype: int64"
      ]
     },
     "execution_count": 21,
     "metadata": {},
     "output_type": "execute_result"
    }
   ],
   "source": [
    "df.isnull().sum()"
   ]
  },
  {
   "cell_type": "code",
   "execution_count": 22,
   "id": "dac0b2f6",
   "metadata": {},
   "outputs": [
    {
     "data": {
      "text/html": [
       "<div>\n",
       "<style scoped>\n",
       "    .dataframe tbody tr th:only-of-type {\n",
       "        vertical-align: middle;\n",
       "    }\n",
       "\n",
       "    .dataframe tbody tr th {\n",
       "        vertical-align: top;\n",
       "    }\n",
       "\n",
       "    .dataframe thead th {\n",
       "        text-align: right;\n",
       "    }\n",
       "</style>\n",
       "<table border=\"1\" class=\"dataframe\">\n",
       "  <thead>\n",
       "    <tr style=\"text-align: right;\">\n",
       "      <th></th>\n",
       "      <th>Survived</th>\n",
       "      <th>Pclass</th>\n",
       "      <th>Sex</th>\n",
       "      <th>Age</th>\n",
       "      <th>SibSp</th>\n",
       "      <th>Parch</th>\n",
       "      <th>Fare</th>\n",
       "      <th>Embarked</th>\n",
       "    </tr>\n",
       "  </thead>\n",
       "  <tbody>\n",
       "    <tr>\n",
       "      <th>0</th>\n",
       "      <td>0</td>\n",
       "      <td>3</td>\n",
       "      <td>0</td>\n",
       "      <td>22.000000</td>\n",
       "      <td>1</td>\n",
       "      <td>0</td>\n",
       "      <td>7.2500</td>\n",
       "      <td>0</td>\n",
       "    </tr>\n",
       "    <tr>\n",
       "      <th>1</th>\n",
       "      <td>1</td>\n",
       "      <td>1</td>\n",
       "      <td>1</td>\n",
       "      <td>38.000000</td>\n",
       "      <td>1</td>\n",
       "      <td>0</td>\n",
       "      <td>71.2833</td>\n",
       "      <td>1</td>\n",
       "    </tr>\n",
       "    <tr>\n",
       "      <th>2</th>\n",
       "      <td>1</td>\n",
       "      <td>3</td>\n",
       "      <td>1</td>\n",
       "      <td>26.000000</td>\n",
       "      <td>0</td>\n",
       "      <td>0</td>\n",
       "      <td>7.9250</td>\n",
       "      <td>0</td>\n",
       "    </tr>\n",
       "    <tr>\n",
       "      <th>3</th>\n",
       "      <td>1</td>\n",
       "      <td>1</td>\n",
       "      <td>1</td>\n",
       "      <td>35.000000</td>\n",
       "      <td>1</td>\n",
       "      <td>0</td>\n",
       "      <td>53.1000</td>\n",
       "      <td>0</td>\n",
       "    </tr>\n",
       "    <tr>\n",
       "      <th>4</th>\n",
       "      <td>0</td>\n",
       "      <td>3</td>\n",
       "      <td>0</td>\n",
       "      <td>35.000000</td>\n",
       "      <td>0</td>\n",
       "      <td>0</td>\n",
       "      <td>8.0500</td>\n",
       "      <td>0</td>\n",
       "    </tr>\n",
       "    <tr>\n",
       "      <th>...</th>\n",
       "      <td>...</td>\n",
       "      <td>...</td>\n",
       "      <td>...</td>\n",
       "      <td>...</td>\n",
       "      <td>...</td>\n",
       "      <td>...</td>\n",
       "      <td>...</td>\n",
       "      <td>...</td>\n",
       "    </tr>\n",
       "    <tr>\n",
       "      <th>886</th>\n",
       "      <td>0</td>\n",
       "      <td>2</td>\n",
       "      <td>0</td>\n",
       "      <td>27.000000</td>\n",
       "      <td>0</td>\n",
       "      <td>0</td>\n",
       "      <td>13.0000</td>\n",
       "      <td>0</td>\n",
       "    </tr>\n",
       "    <tr>\n",
       "      <th>887</th>\n",
       "      <td>1</td>\n",
       "      <td>1</td>\n",
       "      <td>1</td>\n",
       "      <td>19.000000</td>\n",
       "      <td>0</td>\n",
       "      <td>0</td>\n",
       "      <td>30.0000</td>\n",
       "      <td>0</td>\n",
       "    </tr>\n",
       "    <tr>\n",
       "      <th>888</th>\n",
       "      <td>0</td>\n",
       "      <td>3</td>\n",
       "      <td>1</td>\n",
       "      <td>29.699118</td>\n",
       "      <td>1</td>\n",
       "      <td>2</td>\n",
       "      <td>23.4500</td>\n",
       "      <td>0</td>\n",
       "    </tr>\n",
       "    <tr>\n",
       "      <th>889</th>\n",
       "      <td>1</td>\n",
       "      <td>1</td>\n",
       "      <td>0</td>\n",
       "      <td>26.000000</td>\n",
       "      <td>0</td>\n",
       "      <td>0</td>\n",
       "      <td>30.0000</td>\n",
       "      <td>1</td>\n",
       "    </tr>\n",
       "    <tr>\n",
       "      <th>890</th>\n",
       "      <td>0</td>\n",
       "      <td>3</td>\n",
       "      <td>0</td>\n",
       "      <td>32.000000</td>\n",
       "      <td>0</td>\n",
       "      <td>0</td>\n",
       "      <td>7.7500</td>\n",
       "      <td>2</td>\n",
       "    </tr>\n",
       "  </tbody>\n",
       "</table>\n",
       "<p>891 rows × 8 columns</p>\n",
       "</div>"
      ],
      "text/plain": [
       "     Survived  Pclass  Sex        Age  SibSp  Parch     Fare  Embarked\n",
       "0           0       3    0  22.000000      1      0   7.2500         0\n",
       "1           1       1    1  38.000000      1      0  71.2833         1\n",
       "2           1       3    1  26.000000      0      0   7.9250         0\n",
       "3           1       1    1  35.000000      1      0  53.1000         0\n",
       "4           0       3    0  35.000000      0      0   8.0500         0\n",
       "..        ...     ...  ...        ...    ...    ...      ...       ...\n",
       "886         0       2    0  27.000000      0      0  13.0000         0\n",
       "887         1       1    1  19.000000      0      0  30.0000         0\n",
       "888         0       3    1  29.699118      1      2  23.4500         0\n",
       "889         1       1    0  26.000000      0      0  30.0000         1\n",
       "890         0       3    0  32.000000      0      0   7.7500         2\n",
       "\n",
       "[891 rows x 8 columns]"
      ]
     },
     "execution_count": 22,
     "metadata": {},
     "output_type": "execute_result"
    }
   ],
   "source": [
    "#Encoding of categorical data\n",
    "df = df.replace({'Sex':{'male':0,'female':1}, 'Embarked':{'S':0,'C':1,'Q':2}})\n",
    "df"
   ]
  },
  {
   "cell_type": "code",
   "execution_count": 23,
   "id": "55958169",
   "metadata": {},
   "outputs": [
    {
     "data": {
      "image/png": "[encoded data removed]",
      "text/plain": [
       "<Figure size 1440x1440 with 72 Axes>"
      ]
     },
     "metadata": {
      "needs_background": "light"
     },
     "output_type": "display_data"
    }
   ],
   "source": [
    "#Plotting all possible bivariate plots together\n",
    "sns.pairplot(df)\n",
    "plt.show()"
   ]
  },
  {
   "cell_type": "code",
   "execution_count": 24,
   "id": "9c00e49e",
   "metadata": {},
   "outputs": [
    {
     "data": {
      "image/png": "[encoded data removed]",
      "text/plain": [
       "<Figure size 432x288 with 1 Axes>"
      ]
     },
     "metadata": {
      "needs_background": "light"
     },
     "output_type": "display_data"
    },
    {
     "data": {
      "image/png": "[encoded data removed]",
      "text/plain": [
       "<Figure size 432x288 with 1 Axes>"
      ]
     },
     "metadata": {
      "needs_background": "light"
     },
     "output_type": "display_data"
    }
   ],
   "source": [
    "#Checking outliers in the input continuous data\n",
    "sns.boxplot(df['Age'])\n",
    "plt.xlabel('Age')\n",
    "plt.show()\n",
    "\n",
    "sns.boxplot(df['Fare'])\n",
    "plt.xlabel('Fare')\n",
    "plt.show()"
   ]
  },
  {
   "cell_type": "markdown",
   "id": "5221f9c4",
   "metadata": {},
   "source": [
    "Both age and Fare columns has outliers which has to be removed before training the model"
   ]
  },
  {
   "cell_type": "code",
   "execution_count": 25,
   "id": "eeb18a33",
   "metadata": {},
   "outputs": [
    {
     "data": {
      "text/html": [
       "<div>\n",
       "<style scoped>\n",
       "    .dataframe tbody tr th:only-of-type {\n",
       "        vertical-align: middle;\n",
       "    }\n",
       "\n",
       "    .dataframe tbody tr th {\n",
       "        vertical-align: top;\n",
       "    }\n",
       "\n",
       "    .dataframe thead th {\n",
       "        text-align: right;\n",
       "    }\n",
       "</style>\n",
       "<table border=\"1\" class=\"dataframe\">\n",
       "  <thead>\n",
       "    <tr style=\"text-align: right;\">\n",
       "      <th></th>\n",
       "      <th>Survived</th>\n",
       "      <th>Pclass</th>\n",
       "      <th>Sex</th>\n",
       "      <th>Age</th>\n",
       "      <th>SibSp</th>\n",
       "      <th>Parch</th>\n",
       "      <th>Fare</th>\n",
       "      <th>Embarked</th>\n",
       "    </tr>\n",
       "  </thead>\n",
       "  <tbody>\n",
       "    <tr>\n",
       "      <th>count</th>\n",
       "      <td>891.000000</td>\n",
       "      <td>891.000000</td>\n",
       "      <td>891.000000</td>\n",
       "      <td>891.000000</td>\n",
       "      <td>891.000000</td>\n",
       "      <td>891.000000</td>\n",
       "      <td>891.000000</td>\n",
       "      <td>891.000000</td>\n",
       "    </tr>\n",
       "    <tr>\n",
       "      <th>mean</th>\n",
       "      <td>0.383838</td>\n",
       "      <td>2.308642</td>\n",
       "      <td>0.352413</td>\n",
       "      <td>29.699118</td>\n",
       "      <td>0.523008</td>\n",
       "      <td>0.381594</td>\n",
       "      <td>32.204208</td>\n",
       "      <td>0.361392</td>\n",
       "    </tr>\n",
       "    <tr>\n",
       "      <th>std</th>\n",
       "      <td>0.486592</td>\n",
       "      <td>0.836071</td>\n",
       "      <td>0.477990</td>\n",
       "      <td>13.002015</td>\n",
       "      <td>1.102743</td>\n",
       "      <td>0.806057</td>\n",
       "      <td>49.693429</td>\n",
       "      <td>0.635673</td>\n",
       "    </tr>\n",
       "    <tr>\n",
       "      <th>min</th>\n",
       "      <td>0.000000</td>\n",
       "      <td>1.000000</td>\n",
       "      <td>0.000000</td>\n",
       "      <td>0.420000</td>\n",
       "      <td>0.000000</td>\n",
       "      <td>0.000000</td>\n",
       "      <td>0.000000</td>\n",
       "      <td>0.000000</td>\n",
       "    </tr>\n",
       "    <tr>\n",
       "      <th>25%</th>\n",
       "      <td>0.000000</td>\n",
       "      <td>2.000000</td>\n",
       "      <td>0.000000</td>\n",
       "      <td>22.000000</td>\n",
       "      <td>0.000000</td>\n",
       "      <td>0.000000</td>\n",
       "      <td>7.910400</td>\n",
       "      <td>0.000000</td>\n",
       "    </tr>\n",
       "    <tr>\n",
       "      <th>50%</th>\n",
       "      <td>0.000000</td>\n",
       "      <td>3.000000</td>\n",
       "      <td>0.000000</td>\n",
       "      <td>29.699118</td>\n",
       "      <td>0.000000</td>\n",
       "      <td>0.000000</td>\n",
       "      <td>14.454200</td>\n",
       "      <td>0.000000</td>\n",
       "    </tr>\n",
       "    <tr>\n",
       "      <th>75%</th>\n",
       "      <td>1.000000</td>\n",
       "      <td>3.000000</td>\n",
       "      <td>1.000000</td>\n",
       "      <td>35.000000</td>\n",
       "      <td>1.000000</td>\n",
       "      <td>0.000000</td>\n",
       "      <td>31.000000</td>\n",
       "      <td>1.000000</td>\n",
       "    </tr>\n",
       "    <tr>\n",
       "      <th>max</th>\n",
       "      <td>1.000000</td>\n",
       "      <td>3.000000</td>\n",
       "      <td>1.000000</td>\n",
       "      <td>80.000000</td>\n",
       "      <td>8.000000</td>\n",
       "      <td>6.000000</td>\n",
       "      <td>512.329200</td>\n",
       "      <td>2.000000</td>\n",
       "    </tr>\n",
       "  </tbody>\n",
       "</table>\n",
       "</div>"
      ],
      "text/plain": [
       "         Survived      Pclass         Sex         Age       SibSp       Parch  \\\n",
       "count  891.000000  891.000000  891.000000  891.000000  891.000000  891.000000   \n",
       "mean     0.383838    2.308642    0.352413   29.699118    0.523008    0.381594   \n",
       "std      0.486592    0.836071    0.477990   13.002015    1.102743    0.806057   \n",
       "min      0.000000    1.000000    0.000000    0.420000    0.000000    0.000000   \n",
       "25%      0.000000    2.000000    0.000000   22.000000    0.000000    0.000000   \n",
       "50%      0.000000    3.000000    0.000000   29.699118    0.000000    0.000000   \n",
       "75%      1.000000    3.000000    1.000000   35.000000    1.000000    0.000000   \n",
       "max      1.000000    3.000000    1.000000   80.000000    8.000000    6.000000   \n",
       "\n",
       "             Fare    Embarked  \n",
       "count  891.000000  891.000000  \n",
       "mean    32.204208    0.361392  \n",
       "std     49.693429    0.635673  \n",
       "min      0.000000    0.000000  \n",
       "25%      7.910400    0.000000  \n",
       "50%     14.454200    0.000000  \n",
       "75%     31.000000    1.000000  \n",
       "max    512.329200    2.000000  "
      ]
     },
     "execution_count": 25,
     "metadata": {},
     "output_type": "execute_result"
    }
   ],
   "source": [
    "#Statistical summary of the data\n",
    "df.describe()"
   ]
  },
  {
   "cell_type": "markdown",
   "id": "84d1f7c1",
   "metadata": {},
   "source": [
    "Concentrate on continuous features fare and age:\n",
    "\n",
    "We can observe here Fare std value is more than its mean value, having highly skewed data"
   ]
  },
  {
   "cell_type": "code",
   "execution_count": 26,
   "id": "8e0120a1",
   "metadata": {},
   "outputs": [
    {
     "data": {
      "text/html": [
       "<div>\n",
       "<style scoped>\n",
       "    .dataframe tbody tr th:only-of-type {\n",
       "        vertical-align: middle;\n",
       "    }\n",
       "\n",
       "    .dataframe tbody tr th {\n",
       "        vertical-align: top;\n",
       "    }\n",
       "\n",
       "    .dataframe thead th {\n",
       "        text-align: right;\n",
       "    }\n",
       "</style>\n",
       "<table border=\"1\" class=\"dataframe\">\n",
       "  <thead>\n",
       "    <tr style=\"text-align: right;\">\n",
       "      <th></th>\n",
       "      <th>Survived</th>\n",
       "      <th>Pclass</th>\n",
       "      <th>Sex</th>\n",
       "      <th>Age</th>\n",
       "      <th>SibSp</th>\n",
       "      <th>Parch</th>\n",
       "      <th>Fare</th>\n",
       "      <th>Embarked</th>\n",
       "    </tr>\n",
       "  </thead>\n",
       "  <tbody>\n",
       "    <tr>\n",
       "      <th>Survived</th>\n",
       "      <td>1.000000</td>\n",
       "      <td>-0.338481</td>\n",
       "      <td>0.543351</td>\n",
       "      <td>-0.069809</td>\n",
       "      <td>-0.035322</td>\n",
       "      <td>0.081629</td>\n",
       "      <td>0.257307</td>\n",
       "      <td>0.106811</td>\n",
       "    </tr>\n",
       "    <tr>\n",
       "      <th>Pclass</th>\n",
       "      <td>-0.338481</td>\n",
       "      <td>1.000000</td>\n",
       "      <td>-0.131900</td>\n",
       "      <td>-0.331339</td>\n",
       "      <td>0.083081</td>\n",
       "      <td>0.018443</td>\n",
       "      <td>-0.549500</td>\n",
       "      <td>0.045702</td>\n",
       "    </tr>\n",
       "    <tr>\n",
       "      <th>Sex</th>\n",
       "      <td>0.543351</td>\n",
       "      <td>-0.131900</td>\n",
       "      <td>1.000000</td>\n",
       "      <td>-0.084153</td>\n",
       "      <td>0.114631</td>\n",
       "      <td>0.245489</td>\n",
       "      <td>0.182333</td>\n",
       "      <td>0.116569</td>\n",
       "    </tr>\n",
       "    <tr>\n",
       "      <th>Age</th>\n",
       "      <td>-0.069809</td>\n",
       "      <td>-0.331339</td>\n",
       "      <td>-0.084153</td>\n",
       "      <td>1.000000</td>\n",
       "      <td>-0.232625</td>\n",
       "      <td>-0.179191</td>\n",
       "      <td>0.091566</td>\n",
       "      <td>0.007461</td>\n",
       "    </tr>\n",
       "    <tr>\n",
       "      <th>SibSp</th>\n",
       "      <td>-0.035322</td>\n",
       "      <td>0.083081</td>\n",
       "      <td>0.114631</td>\n",
       "      <td>-0.232625</td>\n",
       "      <td>1.000000</td>\n",
       "      <td>0.414838</td>\n",
       "      <td>0.159651</td>\n",
       "      <td>-0.059961</td>\n",
       "    </tr>\n",
       "    <tr>\n",
       "      <th>Parch</th>\n",
       "      <td>0.081629</td>\n",
       "      <td>0.018443</td>\n",
       "      <td>0.245489</td>\n",
       "      <td>-0.179191</td>\n",
       "      <td>0.414838</td>\n",
       "      <td>1.000000</td>\n",
       "      <td>0.216225</td>\n",
       "      <td>-0.078665</td>\n",
       "    </tr>\n",
       "    <tr>\n",
       "      <th>Fare</th>\n",
       "      <td>0.257307</td>\n",
       "      <td>-0.549500</td>\n",
       "      <td>0.182333</td>\n",
       "      <td>0.091566</td>\n",
       "      <td>0.159651</td>\n",
       "      <td>0.216225</td>\n",
       "      <td>1.000000</td>\n",
       "      <td>0.062142</td>\n",
       "    </tr>\n",
       "    <tr>\n",
       "      <th>Embarked</th>\n",
       "      <td>0.106811</td>\n",
       "      <td>0.045702</td>\n",
       "      <td>0.116569</td>\n",
       "      <td>0.007461</td>\n",
       "      <td>-0.059961</td>\n",
       "      <td>-0.078665</td>\n",
       "      <td>0.062142</td>\n",
       "      <td>1.000000</td>\n",
       "    </tr>\n",
       "  </tbody>\n",
       "</table>\n",
       "</div>"
      ],
      "text/plain": [
       "          Survived    Pclass       Sex       Age     SibSp     Parch  \\\n",
       "Survived  1.000000 -0.338481  0.543351 -0.069809 -0.035322  0.081629   \n",
       "Pclass   -0.338481  1.000000 -0.131900 -0.331339  0.083081  0.018443   \n",
       "Sex       0.543351 -0.131900  1.000000 -0.084153  0.114631  0.245489   \n",
       "Age      -0.069809 -0.331339 -0.084153  1.000000 -0.232625 -0.179191   \n",
       "SibSp    -0.035322  0.083081  0.114631 -0.232625  1.000000  0.414838   \n",
       "Parch     0.081629  0.018443  0.245489 -0.179191  0.414838  1.000000   \n",
       "Fare      0.257307 -0.549500  0.182333  0.091566  0.159651  0.216225   \n",
       "Embarked  0.106811  0.045702  0.116569  0.007461 -0.059961 -0.078665   \n",
       "\n",
       "              Fare  Embarked  \n",
       "Survived  0.257307  0.106811  \n",
       "Pclass   -0.549500  0.045702  \n",
       "Sex       0.182333  0.116569  \n",
       "Age       0.091566  0.007461  \n",
       "SibSp     0.159651 -0.059961  \n",
       "Parch     0.216225 -0.078665  \n",
       "Fare      1.000000  0.062142  \n",
       "Embarked  0.062142  1.000000  "
      ]
     },
     "execution_count": 26,
     "metadata": {},
     "output_type": "execute_result"
    }
   ],
   "source": [
    "#Coefficient of correlation matrix\n",
    "df.corr()"
   ]
  },
  {
   "cell_type": "code",
   "execution_count": 27,
   "id": "2c6cc46f",
   "metadata": {},
   "outputs": [
    {
     "data": {
      "image/png": "[encoded data removed]",
      "text/plain": [
       "<Figure size 720x504 with 2 Axes>"
      ]
     },
     "metadata": {
      "needs_background": "light"
     },
     "output_type": "display_data"
    },
    {
     "data": {
      "text/plain": [
       "Survived    1.000000\n",
       "Sex         0.543351\n",
       "Fare        0.257307\n",
       "Embarked    0.106811\n",
       "Parch       0.081629\n",
       "SibSp      -0.035322\n",
       "Age        -0.069809\n",
       "Pclass     -0.338481\n",
       "Name: Survived, dtype: float64"
      ]
     },
     "execution_count": 27,
     "metadata": {},
     "output_type": "execute_result"
    }
   ],
   "source": [
    "#Heatmap to vizualize correlation between different features\n",
    "plt.figure(figsize=(10,7))\n",
    "sns.heatmap(df.corr(), annot=True, linewidths=0.1, linecolor='black', fmt='0.2f')\n",
    "plt.show()\n",
    "\n",
    "#Sorting descending values of correlation data of target variable\n",
    "df.corr()['Survived'].sort_values(ascending=False)"
   ]
  },
  {
   "cell_type": "markdown",
   "id": "51ea4ad4",
   "metadata": {},
   "source": [
    "We can observe that there is no multicollinearity problem\n",
    "\n",
    "Survival +ve correlated with Sex with +.54 r value\n",
    "\n",
    "Survival +ve correlated with Pclass with -.33 r value\n",
    "\n",
    "Continuous variables Fare and Age:\n",
    "\n",
    "Fare 0.257307\n",
    "\n",
    "Age -0.069809"
   ]
  },
  {
   "cell_type": "code",
   "execution_count": 28,
   "id": "ac526ad6",
   "metadata": {},
   "outputs": [
    {
     "data": {
      "text/html": [
       "<div>\n",
       "<style scoped>\n",
       "    .dataframe tbody tr th:only-of-type {\n",
       "        vertical-align: middle;\n",
       "    }\n",
       "\n",
       "    .dataframe tbody tr th {\n",
       "        vertical-align: top;\n",
       "    }\n",
       "\n",
       "    .dataframe thead th {\n",
       "        text-align: right;\n",
       "    }\n",
       "</style>\n",
       "<table border=\"1\" class=\"dataframe\">\n",
       "  <thead>\n",
       "    <tr style=\"text-align: right;\">\n",
       "      <th></th>\n",
       "      <th>Survived</th>\n",
       "      <th>Pclass</th>\n",
       "      <th>Sex</th>\n",
       "      <th>Age</th>\n",
       "      <th>SibSp</th>\n",
       "      <th>Parch</th>\n",
       "      <th>Fare</th>\n",
       "      <th>Embarked</th>\n",
       "    </tr>\n",
       "  </thead>\n",
       "  <tbody>\n",
       "    <tr>\n",
       "      <th>0</th>\n",
       "      <td>0</td>\n",
       "      <td>3</td>\n",
       "      <td>0</td>\n",
       "      <td>22.000000</td>\n",
       "      <td>1</td>\n",
       "      <td>0</td>\n",
       "      <td>7.2500</td>\n",
       "      <td>0</td>\n",
       "    </tr>\n",
       "    <tr>\n",
       "      <th>1</th>\n",
       "      <td>1</td>\n",
       "      <td>1</td>\n",
       "      <td>1</td>\n",
       "      <td>38.000000</td>\n",
       "      <td>1</td>\n",
       "      <td>0</td>\n",
       "      <td>71.2833</td>\n",
       "      <td>1</td>\n",
       "    </tr>\n",
       "    <tr>\n",
       "      <th>2</th>\n",
       "      <td>1</td>\n",
       "      <td>3</td>\n",
       "      <td>1</td>\n",
       "      <td>26.000000</td>\n",
       "      <td>0</td>\n",
       "      <td>0</td>\n",
       "      <td>7.9250</td>\n",
       "      <td>0</td>\n",
       "    </tr>\n",
       "    <tr>\n",
       "      <th>3</th>\n",
       "      <td>1</td>\n",
       "      <td>1</td>\n",
       "      <td>1</td>\n",
       "      <td>35.000000</td>\n",
       "      <td>1</td>\n",
       "      <td>0</td>\n",
       "      <td>53.1000</td>\n",
       "      <td>0</td>\n",
       "    </tr>\n",
       "    <tr>\n",
       "      <th>4</th>\n",
       "      <td>0</td>\n",
       "      <td>3</td>\n",
       "      <td>0</td>\n",
       "      <td>35.000000</td>\n",
       "      <td>0</td>\n",
       "      <td>0</td>\n",
       "      <td>8.0500</td>\n",
       "      <td>0</td>\n",
       "    </tr>\n",
       "    <tr>\n",
       "      <th>...</th>\n",
       "      <td>...</td>\n",
       "      <td>...</td>\n",
       "      <td>...</td>\n",
       "      <td>...</td>\n",
       "      <td>...</td>\n",
       "      <td>...</td>\n",
       "      <td>...</td>\n",
       "      <td>...</td>\n",
       "    </tr>\n",
       "    <tr>\n",
       "      <th>886</th>\n",
       "      <td>0</td>\n",
       "      <td>2</td>\n",
       "      <td>0</td>\n",
       "      <td>27.000000</td>\n",
       "      <td>0</td>\n",
       "      <td>0</td>\n",
       "      <td>13.0000</td>\n",
       "      <td>0</td>\n",
       "    </tr>\n",
       "    <tr>\n",
       "      <th>887</th>\n",
       "      <td>1</td>\n",
       "      <td>1</td>\n",
       "      <td>1</td>\n",
       "      <td>19.000000</td>\n",
       "      <td>0</td>\n",
       "      <td>0</td>\n",
       "      <td>30.0000</td>\n",
       "      <td>0</td>\n",
       "    </tr>\n",
       "    <tr>\n",
       "      <th>888</th>\n",
       "      <td>0</td>\n",
       "      <td>3</td>\n",
       "      <td>1</td>\n",
       "      <td>29.699118</td>\n",
       "      <td>1</td>\n",
       "      <td>2</td>\n",
       "      <td>23.4500</td>\n",
       "      <td>0</td>\n",
       "    </tr>\n",
       "    <tr>\n",
       "      <th>889</th>\n",
       "      <td>1</td>\n",
       "      <td>1</td>\n",
       "      <td>0</td>\n",
       "      <td>26.000000</td>\n",
       "      <td>0</td>\n",
       "      <td>0</td>\n",
       "      <td>30.0000</td>\n",
       "      <td>1</td>\n",
       "    </tr>\n",
       "    <tr>\n",
       "      <th>890</th>\n",
       "      <td>0</td>\n",
       "      <td>3</td>\n",
       "      <td>0</td>\n",
       "      <td>32.000000</td>\n",
       "      <td>0</td>\n",
       "      <td>0</td>\n",
       "      <td>7.7500</td>\n",
       "      <td>2</td>\n",
       "    </tr>\n",
       "  </tbody>\n",
       "</table>\n",
       "<p>891 rows × 8 columns</p>\n",
       "</div>"
      ],
      "text/plain": [
       "     Survived  Pclass  Sex        Age  SibSp  Parch     Fare  Embarked\n",
       "0           0       3    0  22.000000      1      0   7.2500         0\n",
       "1           1       1    1  38.000000      1      0  71.2833         1\n",
       "2           1       3    1  26.000000      0      0   7.9250         0\n",
       "3           1       1    1  35.000000      1      0  53.1000         0\n",
       "4           0       3    0  35.000000      0      0   8.0500         0\n",
       "..        ...     ...  ...        ...    ...    ...      ...       ...\n",
       "886         0       2    0  27.000000      0      0  13.0000         0\n",
       "887         1       1    1  19.000000      0      0  30.0000         0\n",
       "888         0       3    1  29.699118      1      2  23.4500         0\n",
       "889         1       1    0  26.000000      0      0  30.0000         1\n",
       "890         0       3    0  32.000000      0      0   7.7500         2\n",
       "\n",
       "[891 rows x 8 columns]"
      ]
     },
     "execution_count": 28,
     "metadata": {},
     "output_type": "execute_result"
    }
   ],
   "source": [
    "df"
   ]
  },
  {
   "cell_type": "code",
   "execution_count": 29,
   "id": "1e6758df",
   "metadata": {},
   "outputs": [
    {
     "name": "stdout",
     "output_type": "stream",
     "text": [
      "Shape before (891, 8)\n",
      "Shape after (820, 8) \n",
      "\n",
      "7.968574635241302 % loss of data\n"
     ]
    }
   ],
   "source": [
    "#Removing of outliers by zscore method\n",
    "print('Shape before',df.shape)\n",
    "from scipy.stats import zscore\n",
    "z=np.abs(zscore(df))\n",
    "df_new = df[(z<3).all(axis=1)]\n",
    "print('Shape after',df_new.shape,'\\n')\n",
    "\n",
    "#Percentage loss of data\n",
    "loss = (df.shape[0]-df_new.shape[0])*100/(df.shape[0])\n",
    "print(loss,'% loss of data')"
   ]
  },
  {
   "cell_type": "code",
   "execution_count": 30,
   "id": "5453b258",
   "metadata": {},
   "outputs": [
    {
     "name": "stdout",
     "output_type": "stream",
     "text": [
      "x shape (820, 7)\n",
      "y shape (820,)\n"
     ]
    }
   ],
   "source": [
    "#Seperate feature and target columns\n",
    "x = df_new.drop('Survived', axis=1)\n",
    "y = df_new['Survived']\n",
    "print('x shape',x.shape)\n",
    "print('y shape',y.shape)"
   ]
  },
  {
   "cell_type": "code",
   "execution_count": 31,
   "id": "81615ab4",
   "metadata": {},
   "outputs": [
    {
     "data": {
      "text/plain": [
       "Age     0.318314\n",
       "Fare    2.318761\n",
       "dtype: float64"
      ]
     },
     "execution_count": 31,
     "metadata": {},
     "output_type": "execute_result"
    }
   ],
   "source": [
    "#Checking skewness of continuous feature data columns\n",
    "x[['Age', 'Fare']].skew()"
   ]
  },
  {
   "cell_type": "markdown",
   "id": "37466a1e",
   "metadata": {},
   "source": [
    "skewness of Fare column is not in permissible range i.e, +-0.5"
   ]
  },
  {
   "cell_type": "code",
   "execution_count": 32,
   "id": "65c40526",
   "metadata": {},
   "outputs": [
    {
     "data": {
      "text/plain": [
       "Age     0.071813\n",
       "Fare   -0.018602\n",
       "dtype: float64"
      ]
     },
     "execution_count": 32,
     "metadata": {},
     "output_type": "execute_result"
    }
   ],
   "source": [
    "#Apply power transform to transform data\n",
    "from sklearn.preprocessing import PowerTransformer\n",
    "po = PowerTransformer()\n",
    "x_new = po.fit_transform(x)\n",
    "x_new = pd.DataFrame(x_new, columns=x.columns)\n",
    "x_new[['Age', 'Fare']].skew()"
   ]
  },
  {
   "cell_type": "markdown",
   "id": "735b2e3c",
   "metadata": {},
   "source": [
    "Skewness of continuous feature column is within limit (+-0.5) so we can proceed"
   ]
  },
  {
   "cell_type": "code",
   "execution_count": 33,
   "id": "b630d2c5",
   "metadata": {},
   "outputs": [],
   "source": [
    "x = x_new"
   ]
  },
  {
   "cell_type": "code",
   "execution_count": 34,
   "id": "96bdb9a6",
   "metadata": {},
   "outputs": [
    {
     "data": {
      "text/plain": [
       "0    500\n",
       "1    320\n",
       "Name: Survived, dtype: int64"
      ]
     },
     "execution_count": 34,
     "metadata": {},
     "output_type": "execute_result"
    }
   ],
   "source": [
    "#Checking whether data is balanced or imbalanced\n",
    "y.value_counts()"
   ]
  },
  {
   "cell_type": "markdown",
   "id": "49a3b502",
   "metadata": {},
   "source": [
    "Target class column is not an imbalanced data (7:3 to be considered as imbalanced data)\n",
    "\n",
    "So no sampling/balancing required"
   ]
  },
  {
   "cell_type": "code",
   "execution_count": 35,
   "id": "d88dd1ee",
   "metadata": {},
   "outputs": [
    {
     "data": {
      "text/plain": [
       "[2.021375294373982,\n",
       " 1.1483084816020754,\n",
       " 1.2314420569162863,\n",
       " 1.3224837583438702,\n",
       " 1.3266018125915537,\n",
       " 2.368589675208563,\n",
       " 1.0386191754126988]"
      ]
     },
     "execution_count": 35,
     "metadata": {},
     "output_type": "execute_result"
    }
   ],
   "source": [
    "#VIF method to check multicollinearity\n",
    "from statsmodels.stats.outliers_influence import variance_inflation_factor\n",
    "\n",
    "vif = pd.DataFrame()\n",
    "vif = [variance_inflation_factor(x.values,i) for i in range(x.shape[1])]\n",
    "vif"
   ]
  },
  {
   "cell_type": "markdown",
   "id": "2b97d22e",
   "metadata": {},
   "source": [
    "VIF values are within limit <5, so no need to handle multicollinearity issue"
   ]
  },
  {
   "cell_type": "code",
   "execution_count": 36,
   "id": "0461724a",
   "metadata": {},
   "outputs": [],
   "source": [
    "#scaling of input feature data\n",
    "from sklearn.preprocessing import StandardScaler\n",
    "scaler = StandardScaler()\n",
    "x = scaler.fit_transform(x)"
   ]
  },
  {
   "cell_type": "code",
   "execution_count": 37,
   "id": "3d75c860",
   "metadata": {},
   "outputs": [],
   "source": [
    "from sklearn.model_selection import train_test_split\n",
    "from sklearn.metrics import confusion_matrix, classification_report, roc_curve, roc_auc_score, accuracy_score"
   ]
  },
  {
   "cell_type": "code",
   "execution_count": 38,
   "id": "20386d4d",
   "metadata": {},
   "outputs": [
    {
     "name": "stdout",
     "output_type": "stream",
     "text": [
      "At Max RS 1 Max Accuracy = 0.8048780487804879\n",
      "At Max RS 4 Max Accuracy = 0.8170731707317073\n",
      "At Max RS 14 Max Accuracy = 0.8658536585365854\n",
      "At Max RS 201 Max Accuracy = 0.8719512195121951\n"
     ]
    }
   ],
   "source": [
    "#Best randm state selection\n",
    "max_acc = 0\n",
    "max_RS = 0\n",
    "\n",
    "from sklearn.linear_model import LogisticRegression\n",
    "lr = LogisticRegression()\n",
    "\n",
    "for i in range(1,300):\n",
    "    xtr, xt, ytr, yt = train_test_split(x,y, random_state=i,test_size=0.2)\n",
    "    lr.fit(xtr, ytr)\n",
    "    predyt = lr.predict(xt)\n",
    "    accuracy = accuracy_score(yt,predyt)\n",
    "    \n",
    "    if accuracy > max_acc:\n",
    "        max_acc = accuracy\n",
    "        max_RS = i\n",
    "        print('At Max RS',i,'Max Accuracy =',accuracy)"
   ]
  },
  {
   "cell_type": "code",
   "execution_count": 189,
   "id": "b18bb88f",
   "metadata": {},
   "outputs": [],
   "source": [
    "#Using best random state for train test split\n",
    "xtr, xt, ytr, yt = train_test_split(x,y, random_state=201,test_size=0.2)"
   ]
  },
  {
   "cell_type": "code",
   "execution_count": 190,
   "id": "991ea17a",
   "metadata": {},
   "outputs": [],
   "source": [
    "def metric_score(model, xtr, xt, ytr, yt, train=True):\n",
    "    if train:\n",
    "        ypr = model.predict(xtr)\n",
    "        print(f\"Accuracy score of train is : {(accuracy_score(ytr, ypr))*100:.2f}%\")\n",
    "        \n",
    "    elif train==False:\n",
    "        ypr = model.predict(xt)\n",
    "        print(f\"Accuracy score of test is : {(accuracy_score(yt, ypr))*100:.2f}%\",'\\n\\nClassification report:')\n",
    "        print(classification_report(yt, ypr))"
   ]
  },
  {
   "cell_type": "code",
   "execution_count": 191,
   "id": "fc9a28ed",
   "metadata": {},
   "outputs": [
    {
     "name": "stdout",
     "output_type": "stream",
     "text": [
      "Accuracy score of train is : 77.44%\n",
      "Accuracy score of test is : 87.20% \n",
      "\n",
      "Classification report:\n",
      "              precision    recall  f1-score   support\n",
      "\n",
      "           0       0.88      0.93      0.90       107\n",
      "           1       0.85      0.77      0.81        57\n",
      "\n",
      "    accuracy                           0.87       164\n",
      "   macro avg       0.87      0.85      0.86       164\n",
      "weighted avg       0.87      0.87      0.87       164\n",
      "\n"
     ]
    }
   ],
   "source": [
    "#Logistic regression\n",
    "from sklearn.linear_model import LogisticRegression\n",
    "model = LogisticRegression()\n",
    "model.fit(xtr,ytr)\n",
    "metric_score(model, xtr, xt, ytr, yt, train=True)\n",
    "metric_score(model, xtr, xt, ytr, yt, train=False)"
   ]
  },
  {
   "cell_type": "code",
   "execution_count": 192,
   "id": "7ee17c78",
   "metadata": {},
   "outputs": [
    {
     "name": "stdout",
     "output_type": "stream",
     "text": [
      "Accuracy score: 0.8719512195121951 \n",
      "\n",
      "At CV = 2\n",
      "CV score = 0.7890243902439025\n",
      "At CV = 3\n",
      "CV score = 0.7926837963334314\n",
      "At CV = 4\n",
      "CV score = 0.7951219512195122\n",
      "At CV = 5\n",
      "CV score = 0.7951219512195122\n",
      "At CV = 6\n",
      "CV score = 0.7890367825962502\n",
      "At CV = 7\n",
      "CV score = 0.7951304815711594\n",
      "At CV = 8\n",
      "CV score = 0.7939153816866553\n",
      "At CV = 9\n",
      "CV score = 0.7939029569464352\n",
      "At CV = 10\n",
      "CV score = 0.7914634146341463\n"
     ]
    }
   ],
   "source": [
    "ypr = model.predict(xt) \n",
    "print('Accuracy score:',accuracy_score(yt, ypr),'\\n')\n",
    "\n",
    "#Cross validation for checking overfitting\n",
    "from sklearn.model_selection import cross_val_score\n",
    "for i in range(2,11):\n",
    "    lsc = cross_val_score(model,x,y,cv=i)\n",
    "    print('At CV =',i)\n",
    "    print('CV score =',lsc.mean())"
   ]
  },
  {
   "cell_type": "markdown",
   "id": "443c9826",
   "metadata": {},
   "source": [
    "At CV = 4, there is huge difference between accuracy score and CV score (0.0768). The model is overfitting."
   ]
  },
  {
   "cell_type": "code",
   "execution_count": 196,
   "id": "709e2831",
   "metadata": {},
   "outputs": [
    {
     "data": {
      "image/png": "[encoded data removed]",
      "text/plain": [
       "<Figure size 432x288 with 1 Axes>"
      ]
     },
     "metadata": {
      "needs_background": "light"
     },
     "output_type": "display_data"
    },
    {
     "name": "stdout",
     "output_type": "stream",
     "text": [
      "Confusion matrix:\n",
      " [[99  8]\n",
      " [13 44]] \n",
      "\n",
      "Area under curve = 0.8650412087912088\n"
     ]
    }
   ],
   "source": [
    "#ROC curve and the AUC value\n",
    "from sklearn.metrics import roc_curve, auc\n",
    "fpr, tpr, thresholds = roc_curve(ypr, yt)\n",
    "roc_auc = auc(fpr,tpr)\n",
    "plt.figure()\n",
    "plt.plot(fpr, tpr,color='darkorange', label='ROC curve (area = %0.2f)'% roc_auc)\n",
    "plt.plot([0,1],[0,1],linestyle='--',color='navy')\n",
    "plt.xlabel('FPR')\n",
    "plt.ylabel('TPR')\n",
    "plt.legend(loc=\"lower right\")\n",
    "plt.show()\n",
    "\n",
    "print(\"Confusion matrix:\\n\",confusion_matrix(yt,ypr),'\\n')\n",
    "print('Area under curve =',roc_auc)"
   ]
  },
  {
   "cell_type": "code",
   "execution_count": 200,
   "id": "a4b4de76",
   "metadata": {},
   "outputs": [
    {
     "name": "stdout",
     "output_type": "stream",
     "text": [
      "Accuracy score of train is : 98.02%\n",
      "Accuracy score of test is : 82.93% \n",
      "\n",
      "Classification report:\n",
      "              precision    recall  f1-score   support\n",
      "\n",
      "           0       0.88      0.86      0.87       107\n",
      "           1       0.75      0.77      0.76        57\n",
      "\n",
      "    accuracy                           0.83       164\n",
      "   macro avg       0.81      0.82      0.81       164\n",
      "weighted avg       0.83      0.83      0.83       164\n",
      "\n"
     ]
    }
   ],
   "source": [
    "#Decision tree classifier\n",
    "from sklearn.tree import DecisionTreeClassifier\n",
    "model = DecisionTreeClassifier()\n",
    "model.fit(xtr,ytr)\n",
    "metric_score(model, xtr, xt, ytr, yt, train=True)\n",
    "metric_score(model, xtr, xt, ytr, yt, train=False)"
   ]
  },
  {
   "cell_type": "markdown",
   "id": "6ff7bf15",
   "metadata": {},
   "source": [
    "There is huge difference between train and test acuuracy\n",
    "\n",
    "Let us check CV for overfitting"
   ]
  },
  {
   "cell_type": "code",
   "execution_count": 201,
   "id": "b7fe7d0c",
   "metadata": {},
   "outputs": [
    {
     "name": "stdout",
     "output_type": "stream",
     "text": [
      "Accuracy score: 0.8292682926829268 \n",
      "\n",
      "At CV = 2\n",
      "CV score = 0.7524390243902439\n",
      "At CV = 3\n",
      "CV score = 0.761004607719936\n",
      "At CV = 4\n",
      "CV score = 0.7585365853658537\n",
      "At CV = 5\n",
      "CV score = 0.7573170731707318\n",
      "At CV = 6\n",
      "CV score = 0.7658508658938028\n",
      "At CV = 7\n",
      "CV score = 0.753719914736864\n",
      "At CV = 8\n",
      "CV score = 0.7622905958499905\n",
      "At CV = 9\n",
      "CV score = 0.7646918299092212\n",
      "At CV = 10\n",
      "CV score = 0.7597560975609756\n"
     ]
    }
   ],
   "source": [
    "ypr = model.predict(xt) \n",
    "print('Accuracy score:',accuracy_score(yt, ypr),'\\n')\n",
    "\n",
    "#Cross validation for checking overfitting\n",
    "from sklearn.model_selection import cross_val_score\n",
    "for i in range(2,11):\n",
    "    lsc = cross_val_score(model,x,y,cv=i)\n",
    "    print('At CV =',i)\n",
    "    print('CV score =',lsc.mean())"
   ]
  },
  {
   "cell_type": "markdown",
   "id": "aa89f9af",
   "metadata": {},
   "source": [
    "At CV = 6, there is difference between accuracy score and CV score (0.0634). But this difference value is lesser compared to Logistic regression. \n",
    "\n",
    "So lets try hyper parameter tuning and check again."
   ]
  },
  {
   "cell_type": "code",
   "execution_count": 206,
   "id": "42e51ece",
   "metadata": {},
   "outputs": [
    {
     "name": "stdout",
     "output_type": "stream",
     "text": [
      "DecisionTreeClassifier(criterion='entropy', max_depth=8, max_features='auto',\n",
      "                       splitter='random')\n"
     ]
    }
   ],
   "source": [
    "# Hyper parameter tuning for decision tree model\n",
    "from sklearn.model_selection import GridSearchCV\n",
    "parameters = {'criterion':[\"gini\", \"entropy\"],\n",
    "              'splitter':[\"best\", \"random\"],\n",
    "              'max_depth':[2,4,6,8],\n",
    "              'max_features':[\"auto\", \"sqrt\", \"log2\"]}\n",
    "gsv = GridSearchCV(model, parameters)\n",
    "gsv.fit(xtr,ytr)\n",
    "print(gsv.best_estimator_)"
   ]
  },
  {
   "cell_type": "code",
   "execution_count": 207,
   "id": "432a995f",
   "metadata": {},
   "outputs": [
    {
     "name": "stdout",
     "output_type": "stream",
     "text": [
      "Accuracy score of train is : 82.93%\n",
      "Accuracy score of test is : 82.32% \n",
      "\n",
      "Classification report:\n",
      "              precision    recall  f1-score   support\n",
      "\n",
      "           0       0.80      0.96      0.88       107\n",
      "           1       0.89      0.56      0.69        57\n",
      "\n",
      "    accuracy                           0.82       164\n",
      "   macro avg       0.85      0.76      0.78       164\n",
      "weighted avg       0.83      0.82      0.81       164\n",
      "\n"
     ]
    }
   ],
   "source": [
    "#Training model as per best parameters\n",
    "model = DecisionTreeClassifier(criterion='entropy', max_depth=8, max_features='auto',splitter='random')\n",
    "model.fit(xtr,ytr)\n",
    "metric_score(model, xtr, xt, ytr, yt, train=True)\n",
    "metric_score(model, xtr, xt, ytr, yt, train=False)"
   ]
  },
  {
   "cell_type": "code",
   "execution_count": 208,
   "id": "79383d7f",
   "metadata": {},
   "outputs": [
    {
     "name": "stdout",
     "output_type": "stream",
     "text": [
      "Accuracy score: 0.823170731707317 \n",
      "\n",
      "At CV = 2\n",
      "CV score = 0.7670731707317073\n",
      "At CV = 3\n",
      "CV score = 0.769507054178587\n",
      "At CV = 4\n",
      "CV score = 0.8048780487804879\n",
      "At CV = 5\n",
      "CV score = 0.7817073170731706\n",
      "At CV = 6\n",
      "CV score = 0.7878470731358237\n",
      "At CV = 7\n",
      "CV score = 0.7708242792988556\n",
      "At CV = 8\n",
      "CV score = 0.7962949743003997\n",
      "At CV = 9\n",
      "CV score = 0.765806657111005\n",
      "At CV = 10\n",
      "CV score = 0.7780487804878049\n"
     ]
    }
   ],
   "source": [
    "ypr = model.predict(xt) \n",
    "print('Accuracy score:',accuracy_score(yt, ypr),'\\n')\n",
    "\n",
    "#Cross validation for checking overfitting\n",
    "from sklearn.model_selection import cross_val_score\n",
    "for i in range(2,11):\n",
    "    lsc = cross_val_score(model,x,y,cv=i)\n",
    "    print('At CV =',i)\n",
    "    print('CV score =',lsc.mean())"
   ]
  },
  {
   "cell_type": "markdown",
   "id": "7bb91c72",
   "metadata": {},
   "source": [
    "At CV = 4, difference between CV score and accuracy score is 0.018\n",
    "\n",
    "Model is not that much overfitting compared to previous LR and untuned DTC model\n",
    "\n",
    "Therefore model performance is good comparitively"
   ]
  },
  {
   "cell_type": "code",
   "execution_count": 209,
   "id": "bf288a6c",
   "metadata": {},
   "outputs": [
    {
     "data": {
      "image/png": "[encoded data removed]",
      "text/plain": [
       "<Figure size 432x288 with 1 Axes>"
      ]
     },
     "metadata": {
      "needs_background": "light"
     },
     "output_type": "display_data"
    },
    {
     "name": "stdout",
     "output_type": "stream",
     "text": [
      "Confusion matrix:\n",
      " [[103   4]\n",
      " [ 25  32]] \n",
      "\n",
      "Area under curve = 0.8467881944444444\n"
     ]
    }
   ],
   "source": [
    "#ROC curve and the AUC value\n",
    "from sklearn.metrics import roc_curve, auc\n",
    "fpr, tpr, thresholds = roc_curve(ypr, yt)\n",
    "roc_auc = auc(fpr,tpr)\n",
    "plt.figure()\n",
    "plt.plot(fpr, tpr,color='darkorange', label='ROC curve (area = %0.2f)'% roc_auc)\n",
    "plt.plot([0,1],[0,1],linestyle='--',color='navy')\n",
    "plt.xlabel('FPR')\n",
    "plt.ylabel('TPR')\n",
    "plt.legend(loc=\"lower right\")\n",
    "plt.show()\n",
    "\n",
    "print(\"Confusion matrix:\\n\",confusion_matrix(yt,ypr),'\\n')\n",
    "print('Area under curve =',roc_auc)"
   ]
  },
  {
   "cell_type": "code",
   "execution_count": 212,
   "id": "df0c1aab",
   "metadata": {},
   "outputs": [
    {
     "name": "stdout",
     "output_type": "stream",
     "text": [
      "Accuracy score of train is : 81.55%\n",
      "Accuracy score of test is : 88.41% \n",
      "\n",
      "Classification report:\n",
      "              precision    recall  f1-score   support\n",
      "\n",
      "           0       0.87      0.97      0.92       107\n",
      "           1       0.93      0.72      0.81        57\n",
      "\n",
      "    accuracy                           0.88       164\n",
      "   macro avg       0.90      0.85      0.86       164\n",
      "weighted avg       0.89      0.88      0.88       164\n",
      "\n"
     ]
    }
   ],
   "source": [
    "#Support vector machine classifier\n",
    "from sklearn.svm import SVC\n",
    "model = SVC()\n",
    "model.fit(xtr,ytr)\n",
    "metric_score(model, xtr, xt, ytr, yt, train=True)\n",
    "metric_score(model, xtr, xt, ytr, yt, train=False)"
   ]
  },
  {
   "cell_type": "code",
   "execution_count": 213,
   "id": "392726ed",
   "metadata": {},
   "outputs": [
    {
     "name": "stdout",
     "output_type": "stream",
     "text": [
      "Accuracy score: 0.8841463414634146 \n",
      "\n",
      "At CV = 2\n",
      "CV score = 0.8134146341463415\n",
      "At CV = 3\n",
      "CV score = 0.8146529058937818\n",
      "At CV = 4\n",
      "CV score = 0.8146341463414635\n",
      "At CV = 5\n",
      "CV score = 0.8170731707317074\n",
      "At CV = 6\n",
      "CV score = 0.8122405896665237\n",
      "At CV = 7\n",
      "CV score = 0.8159081972641294\n",
      "At CV = 8\n",
      "CV score = 0.8097753664572624\n",
      "At CV = 9\n",
      "CV score = 0.8073339703774487\n",
      "At CV = 10\n",
      "CV score = 0.8121951219512196\n"
     ]
    }
   ],
   "source": [
    "ypr = model.predict(xt) \n",
    "print('Accuracy score:',accuracy_score(yt, ypr),'\\n')\n",
    "\n",
    "#Cross validation for checking overfitting\n",
    "from sklearn.model_selection import cross_val_score\n",
    "for i in range(2,11):\n",
    "    lsc = cross_val_score(model,x,y,cv=i)\n",
    "    print('At CV =',i)\n",
    "    print('CV score =',lsc.mean())"
   ]
  },
  {
   "cell_type": "markdown",
   "id": "99bffbb9",
   "metadata": {},
   "source": [
    "At CV = 5, difference between CV score and accuracy score is 0.067"
   ]
  },
  {
   "cell_type": "code",
   "execution_count": 214,
   "id": "324fd0d3",
   "metadata": {},
   "outputs": [
    {
     "name": "stdout",
     "output_type": "stream",
     "text": [
      "SVC(max_iter=130, tol=0.0001)\n"
     ]
    }
   ],
   "source": [
    "# Hyper parameter tuning for svc model\n",
    "from sklearn.model_selection import GridSearchCV\n",
    "parameters = {'gamma':['scale', 'auto'],\n",
    "              'max_iter':range(0,200,10),\n",
    "              'kernel':[\"linear\", \"poly\", \"rbf\"],\n",
    "              'tol':[0.0001,0.001,0.01]}\n",
    "gsv = GridSearchCV(model, parameters)\n",
    "gsv.fit(xtr,ytr)\n",
    "print(gsv.best_estimator_)"
   ]
  },
  {
   "cell_type": "code",
   "execution_count": 215,
   "id": "4a24f916",
   "metadata": {},
   "outputs": [
    {
     "name": "stdout",
     "output_type": "stream",
     "text": [
      "Accuracy score of train is : 82.77%\n",
      "Accuracy score of test is : 85.37% \n",
      "\n",
      "Classification report:\n",
      "              precision    recall  f1-score   support\n",
      "\n",
      "           0       0.85      0.93      0.89       107\n",
      "           1       0.85      0.70      0.77        57\n",
      "\n",
      "    accuracy                           0.85       164\n",
      "   macro avg       0.85      0.82      0.83       164\n",
      "weighted avg       0.85      0.85      0.85       164\n",
      "\n"
     ]
    }
   ],
   "source": [
    "#Training model as per best parameters\n",
    "model = SVC(max_iter=130, tol=0.0001)\n",
    "model.fit(xtr,ytr)\n",
    "metric_score(model, xtr, xt, ytr, yt, train=True)\n",
    "metric_score(model, xtr, xt, ytr, yt, train=False)"
   ]
  },
  {
   "cell_type": "code",
   "execution_count": 216,
   "id": "89c9ca27",
   "metadata": {},
   "outputs": [
    {
     "name": "stdout",
     "output_type": "stream",
     "text": [
      "Accuracy score: 0.8536585365853658 \n",
      "\n",
      "At CV = 2\n",
      "CV score = 0.8121951219512196\n",
      "At CV = 3\n",
      "CV score = 0.8122198158694509\n",
      "At CV = 4\n",
      "CV score = 0.8121951219512196\n",
      "At CV = 5\n",
      "CV score = 0.8085365853658537\n",
      "At CV = 6\n",
      "CV score = 0.7890457277801631\n",
      "At CV = 7\n",
      "CV score = 0.8097928436911487\n",
      "At CV = 8\n",
      "CV score = 0.7951051779935274\n",
      "At CV = 9\n",
      "CV score = 0.7939162286988375\n",
      "At CV = 10\n",
      "CV score = 0.7926829268292683\n"
     ]
    }
   ],
   "source": [
    "ypr = model.predict(xt) \n",
    "print('Accuracy score:',accuracy_score(yt, ypr),'\\n')\n",
    "\n",
    "#Cross validation for checking overfitting\n",
    "from sklearn.model_selection import cross_val_score\n",
    "for i in range(2,11):\n",
    "    lsc = cross_val_score(model,x,y,cv=i)\n",
    "    print('At CV =',i)\n",
    "    print('CV score =',lsc.mean())"
   ]
  },
  {
   "cell_type": "markdown",
   "id": "7e1d8e35",
   "metadata": {},
   "source": [
    "At CV = 3, difference between accuracy score and CV score is 0.041"
   ]
  },
  {
   "cell_type": "code",
   "execution_count": 217,
   "id": "c11f0ae2",
   "metadata": {},
   "outputs": [
    {
     "data": {
      "image/png": "[encoded data removed]",
      "text/plain": [
       "<Figure size 432x288 with 1 Axes>"
      ]
     },
     "metadata": {
      "needs_background": "light"
     },
     "output_type": "display_data"
    },
    {
     "name": "stdout",
     "output_type": "stream",
     "text": [
      "Confusion matrix:\n",
      " [[100   7]\n",
      " [ 17  40]] \n",
      "\n",
      "Area under curve = 0.8528823422440442\n"
     ]
    }
   ],
   "source": [
    "#ROC curve and the AUC value\n",
    "from sklearn.metrics import roc_curve, auc\n",
    "fpr, tpr, thresholds = roc_curve(ypr, yt)\n",
    "roc_auc = auc(fpr,tpr)\n",
    "plt.figure()\n",
    "plt.plot(fpr, tpr,color='darkorange', label='ROC curve (area = %0.2f)'% roc_auc)\n",
    "plt.plot([0,1],[0,1],linestyle='--',color='navy')\n",
    "plt.xlabel('FPR')\n",
    "plt.ylabel('TPR')\n",
    "plt.legend(loc=\"lower right\")\n",
    "plt.show()\n",
    "\n",
    "print(\"Confusion matrix:\\n\",confusion_matrix(yt,ypr),'\\n')\n",
    "print('Area under curve =',roc_auc)"
   ]
  },
  {
   "cell_type": "code",
   "execution_count": 220,
   "id": "2b6b6235",
   "metadata": {},
   "outputs": [
    {
     "name": "stdout",
     "output_type": "stream",
     "text": [
      "Accuracy score of train is : 84.15%\n",
      "Accuracy score of test is : 86.59% \n",
      "\n",
      "Classification report:\n",
      "              precision    recall  f1-score   support\n",
      "\n",
      "           0       0.88      0.93      0.90       107\n",
      "           1       0.84      0.75      0.80        57\n",
      "\n",
      "    accuracy                           0.87       164\n",
      "   macro avg       0.86      0.84      0.85       164\n",
      "weighted avg       0.86      0.87      0.86       164\n",
      "\n"
     ]
    }
   ],
   "source": [
    "#K nearest neighbors classifier\n",
    "from sklearn.neighbors import KNeighborsClassifier\n",
    "model = KNeighborsClassifier()\n",
    "model.fit(xtr,ytr)\n",
    "metric_score(model, xtr, xt, ytr, yt, train=True)\n",
    "metric_score(model, xtr, xt, ytr, yt, train=False)"
   ]
  },
  {
   "cell_type": "code",
   "execution_count": 221,
   "id": "356918e3",
   "metadata": {},
   "outputs": [
    {
     "name": "stdout",
     "output_type": "stream",
     "text": [
      "Accuracy score: 0.8658536585365854 \n",
      "\n",
      "At CV = 2\n",
      "CV score = 0.7804878048780488\n",
      "At CV = 3\n",
      "CV score = 0.7902729873532793\n",
      "At CV = 4\n",
      "CV score = 0.8158536585365854\n",
      "At CV = 5\n",
      "CV score = 0.8146341463414635\n",
      "At CV = 6\n",
      "CV score = 0.8061310290539573\n",
      "At CV = 7\n",
      "CV score = 0.8158978497961549\n",
      "At CV = 8\n",
      "CV score = 0.8134518370454977\n",
      "At CV = 9\n",
      "CV score = 0.8146732494558582\n",
      "At CV = 10\n",
      "CV score = 0.8134146341463415\n"
     ]
    }
   ],
   "source": [
    "ypr = model.predict(xt) \n",
    "print('Accuracy score:',accuracy_score(yt, ypr),'\\n')\n",
    "\n",
    "#Cross validation for checking overfitting\n",
    "from sklearn.model_selection import cross_val_score\n",
    "for i in range(2,11):\n",
    "    lsc = cross_val_score(model,x,y,cv=i)\n",
    "    print('At CV =',i)\n",
    "    print('CV score =',lsc.mean())"
   ]
  },
  {
   "cell_type": "markdown",
   "id": "471b7c0a",
   "metadata": {},
   "source": [
    "At CV = 7, difference between CV score and accuracy score is 0.05"
   ]
  },
  {
   "cell_type": "code",
   "execution_count": 222,
   "id": "c065a487",
   "metadata": {},
   "outputs": [
    {
     "name": "stdout",
     "output_type": "stream",
     "text": [
      "KNeighborsClassifier(leaf_size=25, n_neighbors=6)\n"
     ]
    }
   ],
   "source": [
    "# Hyper parameter tuning for KNN model\n",
    "from sklearn.model_selection import GridSearchCV\n",
    "parameters = { 'n_neighbors':range(5,15), \n",
    "              'weights':['uniform','distance'], \n",
    "              'algorithm' :['auto', 'ball_tree', 'kd_tree', 'brute'], \n",
    "              'leaf_size':[25,30,35]}\n",
    "gsv = GridSearchCV(model, parameters)\n",
    "gsv.fit(xtr,ytr)\n",
    "print(gsv.best_estimator_)"
   ]
  },
  {
   "cell_type": "code",
   "execution_count": 223,
   "id": "e98a4502",
   "metadata": {},
   "outputs": [
    {
     "name": "stdout",
     "output_type": "stream",
     "text": [
      "Accuracy score of train is : 82.93%\n",
      "Accuracy score of test is : 87.80% \n",
      "\n",
      "Classification report:\n",
      "              precision    recall  f1-score   support\n",
      "\n",
      "           0       0.86      0.97      0.91       107\n",
      "           1       0.93      0.70      0.80        57\n",
      "\n",
      "    accuracy                           0.88       164\n",
      "   macro avg       0.89      0.84      0.86       164\n",
      "weighted avg       0.88      0.88      0.87       164\n",
      "\n"
     ]
    }
   ],
   "source": [
    "#Training model as per best parameters\n",
    "model = KNeighborsClassifier(leaf_size=25, n_neighbors=6)\n",
    "model.fit(xtr,ytr)\n",
    "metric_score(model, xtr, xt, ytr, yt, train=True)\n",
    "metric_score(model, xtr, xt, ytr, yt, train=False)"
   ]
  },
  {
   "cell_type": "code",
   "execution_count": 224,
   "id": "117a03ba",
   "metadata": {},
   "outputs": [
    {
     "name": "stdout",
     "output_type": "stream",
     "text": [
      "Accuracy score: 0.8780487804878049 \n",
      "\n",
      "At CV = 2\n",
      "CV score = 0.7878048780487805\n",
      "At CV = 3\n",
      "CV score = 0.7975945384704509\n",
      "At CV = 4\n",
      "CV score = 0.8146341463414634\n",
      "At CV = 5\n",
      "CV score = 0.8134146341463415\n",
      "At CV = 6\n",
      "CV score = 0.8109972091026192\n",
      "At CV = 7\n",
      "CV score = 0.8158771548602056\n",
      "At CV = 8\n",
      "CV score = 0.8159028174376546\n",
      "At CV = 9\n",
      "CV score = 0.8256357169400647\n",
      "At CV = 10\n",
      "CV score = 0.8170731707317074\n"
     ]
    }
   ],
   "source": [
    "ypr = model.predict(xt) \n",
    "print('Accuracy score:',accuracy_score(yt, ypr),'\\n')\n",
    "\n",
    "#Cross validation for checking overfitting\n",
    "from sklearn.model_selection import cross_val_score\n",
    "for i in range(2,11):\n",
    "    lsc = cross_val_score(model,x,y,cv=i)\n",
    "    print('At CV =',i)\n",
    "    print('CV score =',lsc.mean())"
   ]
  },
  {
   "cell_type": "markdown",
   "id": "1daa10e2",
   "metadata": {},
   "source": [
    "At CV = 9, difference between CV score and accuracy score is 0.052"
   ]
  },
  {
   "cell_type": "code",
   "execution_count": 225,
   "id": "1d15a6aa",
   "metadata": {},
   "outputs": [
    {
     "data": {
      "image/png": "[encoded data removed]",
      "text/plain": [
       "<Figure size 432x288 with 1 Axes>"
      ]
     },
     "metadata": {
      "needs_background": "light"
     },
     "output_type": "display_data"
    },
    {
     "name": "stdout",
     "output_type": "stream",
     "text": [
      "Confusion matrix:\n",
      " [[104   3]\n",
      " [ 17  40]] \n",
      "\n",
      "Area under curve = 0.8948683451854699\n"
     ]
    }
   ],
   "source": [
    "#ROC curve and the AUC value\n",
    "from sklearn.metrics import roc_curve, auc\n",
    "fpr, tpr, thresholds = roc_curve(ypr, yt)\n",
    "roc_auc = auc(fpr,tpr)\n",
    "plt.figure()\n",
    "plt.plot(fpr, tpr,color='darkorange', label='ROC curve (area = %0.2f)'% roc_auc)\n",
    "plt.plot([0,1],[0,1],linestyle='--',color='navy')\n",
    "plt.xlabel('FPR')\n",
    "plt.ylabel('TPR')\n",
    "plt.legend(loc=\"lower right\")\n",
    "plt.show()\n",
    "\n",
    "print(\"Confusion matrix:\\n\",confusion_matrix(yt,ypr),'\\n')\n",
    "print('Area under curve =',roc_auc)"
   ]
  },
  {
   "cell_type": "code",
   "execution_count": 227,
   "id": "916b9632",
   "metadata": {},
   "outputs": [
    {
     "name": "stdout",
     "output_type": "stream",
     "text": [
      "Accuracy score of train is : 82.01%\n",
      "Accuracy score of test is : 87.20% \n",
      "\n",
      "Classification report:\n",
      "              precision    recall  f1-score   support\n",
      "\n",
      "           0       0.89      0.92      0.90       107\n",
      "           1       0.83      0.79      0.81        57\n",
      "\n",
      "    accuracy                           0.87       164\n",
      "   macro avg       0.86      0.85      0.86       164\n",
      "weighted avg       0.87      0.87      0.87       164\n",
      "\n"
     ]
    }
   ],
   "source": [
    "#Adaboost classifier\n",
    "from sklearn.ensemble import AdaBoostClassifier\n",
    "model = AdaBoostClassifier()\n",
    "model.fit(xtr,ytr)\n",
    "metric_score(model, xtr, xt, ytr, yt, train=True)\n",
    "metric_score(model, xtr, xt, ytr, yt, train=False)"
   ]
  },
  {
   "cell_type": "code",
   "execution_count": 228,
   "id": "84498e42",
   "metadata": {},
   "outputs": [
    {
     "name": "stdout",
     "output_type": "stream",
     "text": [
      "Accuracy score: 0.8719512195121951 \n",
      "\n",
      "At CV = 2\n",
      "CV score = 0.7865853658536586\n",
      "At CV = 3\n",
      "CV score = 0.7817482598504496\n",
      "At CV = 4\n",
      "CV score = 0.8\n",
      "At CV = 5\n",
      "CV score = 0.7963414634146342\n",
      "At CV = 6\n",
      "CV score = 0.7927400887362244\n",
      "At CV = 7\n",
      "CV score = 0.8085925374060966\n",
      "At CV = 8\n",
      "CV score = 0.8110127546164096\n",
      "At CV = 9\n",
      "CV score = 0.8024765089982482\n",
      "At CV = 10\n",
      "CV score = 0.7951219512195122\n"
     ]
    }
   ],
   "source": [
    "ypr = model.predict(xt) \n",
    "print('Accuracy score:',accuracy_score(yt, ypr),'\\n')\n",
    "\n",
    "#Cross validation for checking overfitting\n",
    "from sklearn.model_selection import cross_val_score\n",
    "for i in range(2,11):\n",
    "    lsc = cross_val_score(model,x,y,cv=i)\n",
    "    print('At CV =',i)\n",
    "    print('CV score =',lsc.mean())"
   ]
  },
  {
   "cell_type": "markdown",
   "id": "50c69eee",
   "metadata": {},
   "source": [
    "At CV = 8, difference between CV score and accuracy score is 0.069"
   ]
  },
  {
   "cell_type": "code",
   "execution_count": 229,
   "id": "df6a6cf2",
   "metadata": {},
   "outputs": [
    {
     "name": "stdout",
     "output_type": "stream",
     "text": [
      "AdaBoostClassifier(algorithm='SAMME', learning_rate=1, n_estimators=25,\n",
      "                   random_state=25)\n"
     ]
    }
   ],
   "source": [
    "# Hyper parameter tuning for adaboost model\n",
    "from sklearn.model_selection import GridSearchCV\n",
    "parameters = { 'algorithm':['SAMME', 'SAMME.R'], \n",
    "              'n_estimators':[25,30,50,60,75], \n",
    "              'learning_rate' :[0.1, 1, 10], \n",
    "              'random_state':[25,30,35,40,45]}\n",
    "gsv = GridSearchCV(model, parameters)\n",
    "gsv.fit(xtr,ytr)\n",
    "print(gsv.best_estimator_)"
   ]
  },
  {
   "cell_type": "code",
   "execution_count": 230,
   "id": "0e0e192e",
   "metadata": {},
   "outputs": [
    {
     "name": "stdout",
     "output_type": "stream",
     "text": [
      "Accuracy score of train is : 78.96%\n",
      "Accuracy score of test is : 87.80% \n",
      "\n",
      "Classification report:\n",
      "              precision    recall  f1-score   support\n",
      "\n",
      "           0       0.87      0.95      0.91       107\n",
      "           1       0.89      0.74      0.81        57\n",
      "\n",
      "    accuracy                           0.88       164\n",
      "   macro avg       0.88      0.85      0.86       164\n",
      "weighted avg       0.88      0.88      0.87       164\n",
      "\n"
     ]
    }
   ],
   "source": [
    "#Training model as per best parameters\n",
    "model = AdaBoostClassifier(algorithm='SAMME', learning_rate=1, n_estimators=25,random_state=25)\n",
    "model.fit(xtr,ytr)\n",
    "metric_score(model, xtr, xt, ytr, yt, train=True)\n",
    "metric_score(model, xtr, xt, ytr, yt, train=False)"
   ]
  },
  {
   "cell_type": "code",
   "execution_count": 231,
   "id": "5e04f0da",
   "metadata": {},
   "outputs": [
    {
     "name": "stdout",
     "output_type": "stream",
     "text": [
      "Accuracy score: 0.8780487804878049 \n",
      "\n",
      "At CV = 2\n",
      "CV score = 0.7658536585365854\n",
      "At CV = 3\n",
      "CV score = 0.7793329946614618\n",
      "At CV = 4\n",
      "CV score = 0.7792682926829269\n",
      "At CV = 5\n",
      "CV score = 0.7890243902439025\n",
      "At CV = 6\n",
      "CV score = 0.7938940174609991\n",
      "At CV = 7\n",
      "CV score = 0.7951201341031849\n",
      "At CV = 8\n",
      "CV score = 0.7926898914905769\n",
      "At CV = 9\n",
      "CV score = 0.7987604183256357\n",
      "At CV = 10\n",
      "CV score = 0.7951219512195122\n"
     ]
    }
   ],
   "source": [
    "ypr = model.predict(xt) \n",
    "print('Accuracy score:',accuracy_score(yt, ypr),'\\n')\n",
    "\n",
    "#Cross validation for checking overfitting\n",
    "from sklearn.model_selection import cross_val_score\n",
    "for i in range(2,11):\n",
    "    lsc = cross_val_score(model,x,y,cv=i)\n",
    "    print('At CV =',i)\n",
    "    print('CV score =',lsc.mean())"
   ]
  },
  {
   "cell_type": "markdown",
   "id": "02679dbd",
   "metadata": {},
   "source": [
    "At CV = 9, difference between CV score and accuracy score is 0.083"
   ]
  },
  {
   "cell_type": "code",
   "execution_count": 232,
   "id": "3204e644",
   "metadata": {},
   "outputs": [
    {
     "data": {
      "image/png": "[encoded data removed]",
      "text/plain": [
       "<Figure size 432x288 with 1 Axes>"
      ]
     },
     "metadata": {
      "needs_background": "light"
     },
     "output_type": "display_data"
    },
    {
     "name": "stdout",
     "output_type": "stream",
     "text": [
      "Confusion matrix:\n",
      " [[102   5]\n",
      " [ 15  42]] \n",
      "\n",
      "Area under curve = 0.8827059465357338\n"
     ]
    }
   ],
   "source": [
    "#ROC curve and the AUC value\n",
    "from sklearn.metrics import roc_curve, auc\n",
    "fpr, tpr, thresholds = roc_curve(ypr, yt)\n",
    "roc_auc = auc(fpr,tpr)\n",
    "plt.figure()\n",
    "plt.plot(fpr, tpr,color='darkorange', label='ROC curve (area = %0.2f)'% roc_auc)\n",
    "plt.plot([0,1],[0,1],linestyle='--',color='navy')\n",
    "plt.xlabel('FPR')\n",
    "plt.ylabel('TPR')\n",
    "plt.legend(loc=\"lower right\")\n",
    "plt.show()\n",
    "\n",
    "print(\"Confusion matrix:\\n\",confusion_matrix(yt,ypr),'\\n')\n",
    "print('Area under curve =',roc_auc)"
   ]
  },
  {
   "cell_type": "code",
   "execution_count": 267,
   "id": "4d57b6d7",
   "metadata": {},
   "outputs": [
    {
     "name": "stdout",
     "output_type": "stream",
     "text": [
      "Accuracy score of train is : 98.02%\n",
      "Accuracy score of test is : 84.76% \n",
      "\n",
      "Classification report:\n",
      "              precision    recall  f1-score   support\n",
      "\n",
      "           0       0.87      0.90      0.88       107\n",
      "           1       0.80      0.75      0.77        57\n",
      "\n",
      "    accuracy                           0.85       164\n",
      "   macro avg       0.83      0.83      0.83       164\n",
      "weighted avg       0.85      0.85      0.85       164\n",
      "\n"
     ]
    }
   ],
   "source": [
    "#Random forest classifier\n",
    "from sklearn.ensemble import RandomForestClassifier\n",
    "model = RandomForestClassifier()\n",
    "model.fit(xtr,ytr)\n",
    "metric_score(model, xtr, xt, ytr, yt, train=True)\n",
    "metric_score(model, xtr, xt, ytr, yt, train=False)"
   ]
  },
  {
   "cell_type": "code",
   "execution_count": 268,
   "id": "95ccacd3",
   "metadata": {},
   "outputs": [
    {
     "name": "stdout",
     "output_type": "stream",
     "text": [
      "Accuracy score: 0.8475609756097561 \n",
      "\n",
      "At CV = 2\n",
      "CV score = 0.7682926829268293\n",
      "At CV = 3\n",
      "CV score = 0.7951614484461199\n",
      "At CV = 4\n",
      "CV score = 0.7963414634146342\n",
      "At CV = 5\n",
      "CV score = 0.7926829268292683\n",
      "At CV = 6\n",
      "CV score = 0.7926774724488336\n",
      "At CV = 7\n",
      "CV score = 0.8061712299000435\n",
      "At CV = 8\n",
      "CV score = 0.8074195697696553\n",
      "At CV = 9\n",
      "CV score = 0.8073870573870573\n",
      "At CV = 10\n",
      "CV score = 0.8048780487804879\n"
     ]
    }
   ],
   "source": [
    "ypr = model.predict(xt) \n",
    "print('Accuracy score:',accuracy_score(yt, ypr),'\\n')\n",
    "\n",
    "#Cross validation for checking overfitting\n",
    "from sklearn.model_selection import cross_val_score\n",
    "for i in range(2,11):\n",
    "    lsc = cross_val_score(model,x,y,cv=i)\n",
    "    print('At CV =',i)\n",
    "    print('CV score =',lsc.mean())"
   ]
  },
  {
   "cell_type": "markdown",
   "id": "b47b0b63",
   "metadata": {},
   "source": [
    "At CV = 8, difference between CV score and accuracy score is 0.04"
   ]
  },
  {
   "cell_type": "code",
   "execution_count": 270,
   "id": "e9aa3d49",
   "metadata": {},
   "outputs": [
    {
     "name": "stdout",
     "output_type": "stream",
     "text": [
      "RandomForestClassifier(max_depth=10, max_features='sqrt', n_estimators=125)\n"
     ]
    }
   ],
   "source": [
    "# Hyper parameter tuning for random forest model\n",
    "from sklearn.model_selection import GridSearchCV\n",
    "parameters = { 'n_estimators':[100,125,150], \n",
    "              'criterion':[\"gini\", \"entropy\"], \n",
    "              'max_depth' :[5, 10, 15], \n",
    "              'max_features':[\"auto\", \"sqrt\", \"log2\"]}\n",
    "gsv = GridSearchCV(model, parameters)\n",
    "gsv.fit(xtr,ytr)\n",
    "print(gsv.best_estimator_)"
   ]
  },
  {
   "cell_type": "code",
   "execution_count": 271,
   "id": "1e96fb88",
   "metadata": {},
   "outputs": [
    {
     "name": "stdout",
     "output_type": "stream",
     "text": [
      "Accuracy score of train is : 93.75%\n",
      "Accuracy score of test is : 88.41% \n",
      "\n",
      "Classification report:\n",
      "              precision    recall  f1-score   support\n",
      "\n",
      "           0       0.88      0.95      0.91       107\n",
      "           1       0.90      0.75      0.82        57\n",
      "\n",
      "    accuracy                           0.88       164\n",
      "   macro avg       0.89      0.85      0.87       164\n",
      "weighted avg       0.89      0.88      0.88       164\n",
      "\n"
     ]
    }
   ],
   "source": [
    "#Training model as per best parameters\n",
    "model = RandomForestClassifier(max_depth=10, max_features='sqrt', n_estimators=125)\n",
    "model.fit(xtr,ytr)\n",
    "metric_score(model, xtr, xt, ytr, yt, train=True)\n",
    "metric_score(model, xtr, xt, ytr, yt, train=False)"
   ]
  },
  {
   "cell_type": "code",
   "execution_count": 272,
   "id": "bb4c8ec6",
   "metadata": {},
   "outputs": [
    {
     "name": "stdout",
     "output_type": "stream",
     "text": [
      "Accuracy score: 0.8841463414634146 \n",
      "\n",
      "At CV = 2\n",
      "CV score = 0.7951219512195122\n",
      "At CV = 3\n",
      "CV score = 0.8110077270661212\n",
      "At CV = 4\n",
      "CV score = 0.8207317073170731\n",
      "At CV = 5\n",
      "CV score = 0.8256097560975612\n",
      "At CV = 6\n",
      "CV score = 0.8182964791756119\n",
      "At CV = 7\n",
      "CV score = 0.8195815483951077\n",
      "At CV = 8\n",
      "CV score = 0.8268608414239482\n",
      "At CV = 9\n",
      "CV score = 0.8268699899134682\n",
      "At CV = 10\n",
      "CV score = 0.8207317073170731\n"
     ]
    }
   ],
   "source": [
    "ypr = model.predict(xt) \n",
    "print('Accuracy score:',accuracy_score(yt, ypr),'\\n')\n",
    "\n",
    "#Cross validation for checking overfitting\n",
    "from sklearn.model_selection import cross_val_score\n",
    "for i in range(2,11):\n",
    "    lsc = cross_val_score(model,x,y,cv=i)\n",
    "    print('At CV =',i)\n",
    "    print('CV score =',lsc.mean())"
   ]
  },
  {
   "cell_type": "markdown",
   "id": "34083bb4",
   "metadata": {},
   "source": [
    "At CV = 7, difference between CV score and accuracy score is 0.057"
   ]
  },
  {
   "cell_type": "code",
   "execution_count": 274,
   "id": "80169f97",
   "metadata": {},
   "outputs": [
    {
     "data": {
      "image/png": "[encoded data removed]",
      "text/plain": [
       "<Figure size 432x288 with 1 Axes>"
      ]
     },
     "metadata": {
      "needs_background": "light"
     },
     "output_type": "display_data"
    },
    {
     "name": "stdout",
     "output_type": "stream",
     "text": [
      "Confusion matrix:\n",
      " [[102   5]\n",
      " [ 14  43]] \n",
      "\n",
      "Area under curve = 0.8875718390804598\n"
     ]
    }
   ],
   "source": [
    "#ROC curve and the AUC value\n",
    "from sklearn.metrics import roc_curve, auc\n",
    "fpr, tpr, thresholds = roc_curve(ypr, yt)\n",
    "roc_auc = auc(fpr,tpr)\n",
    "plt.figure()\n",
    "plt.plot(fpr, tpr,color='darkorange', label='ROC curve (area = %0.2f)'% roc_auc)\n",
    "plt.plot([0,1],[0,1],linestyle='--',color='navy')\n",
    "plt.xlabel('FPR')\n",
    "plt.ylabel('TPR')\n",
    "plt.legend(loc=\"lower right\")\n",
    "plt.show()\n",
    "\n",
    "print(\"Confusion matrix:\\n\",confusion_matrix(yt,ypr),'\\n')\n",
    "print('Area under curve =',roc_auc)"
   ]
  },
  {
   "cell_type": "markdown",
   "id": "de15a730",
   "metadata": {},
   "source": [
    "Conclusion:\n",
    "    \n",
    "1) Logistic Regression:\n",
    "\n",
    "    f1 score: 0.87\n",
    "    diff between CV score and f1 score: 0.0768\n",
    "    AUC: 0.87\n",
    "    \n",
    "2) Decision tree classifier:\n",
    "\n",
    "    f1 score: 0.82\n",
    "    diff between CV score and f1 score: 0.018\n",
    "    AUC: 0.85\n",
    "    \n",
    "3) SVC:\n",
    "\n",
    "    f1 score: 0.85\n",
    "    diff between CV score and f1 score: 0.041\n",
    "    AUC: 0.85\n",
    "    \n",
    "4) KNN classifier:\n",
    "\n",
    "    f1 score: 0.87\n",
    "    diff between CV score and f1 score: 0.052\n",
    "    AUC: 0.895\n",
    "    \n",
    "5) Adaboost classifier:\n",
    "\n",
    "    f1 score: 0.878\n",
    "    diff between CV score and f1 score: 0.088\n",
    "    AUC: 0.88\n",
    "    \n",
    "6) Random forest classifier:\n",
    "\n",
    "    f1 score: 0.88\n",
    "    diff between CV score and f1 score: 0.057\n",
    "    AUC: 0.89\n",
    " \n",
    "Considering difference between CV score and f1 score of testing (accuracy of test): ranges between 0.018 to 0.088\n",
    "\n",
    "Considering better confusion matrix as evaluation metric i.e, AUC : ranges from 0.85 to 0.895\n",
    "\n",
    "Considering both of above 2 factors into account KNN classifier is giving best performance"
   ]
  },
  {
   "cell_type": "code",
   "execution_count": 276,
   "id": "ec3e8f25",
   "metadata": {},
   "outputs": [
    {
     "name": "stdout",
     "output_type": "stream",
     "text": [
      "Accuracy score of train is : 82.93%\n",
      "Accuracy score of test is : 87.80% \n",
      "\n",
      "Classification report:\n",
      "              precision    recall  f1-score   support\n",
      "\n",
      "           0       0.86      0.97      0.91       107\n",
      "           1       0.93      0.70      0.80        57\n",
      "\n",
      "    accuracy                           0.88       164\n",
      "   macro avg       0.89      0.84      0.86       164\n",
      "weighted avg       0.88      0.88      0.87       164\n",
      "\n"
     ]
    }
   ],
   "source": [
    "model = KNeighborsClassifier(leaf_size=25, n_neighbors=6)\n",
    "model.fit(xtr,ytr)\n",
    "metric_score(model, xtr, xt, ytr, yt, train=True)\n",
    "metric_score(model, xtr, xt, ytr, yt, train=False)"
   ]
  },
  {
   "cell_type": "code",
   "execution_count": 277,
   "id": "a510f089",
   "metadata": {},
   "outputs": [
    {
     "name": "stdout",
     "output_type": "stream",
     "text": [
      "Accuracy score: 0.8780487804878049 \n",
      "\n",
      "At CV = 2\n",
      "CV score = 0.7878048780487805\n",
      "At CV = 3\n",
      "CV score = 0.7975945384704509\n",
      "At CV = 4\n",
      "CV score = 0.8146341463414634\n",
      "At CV = 5\n",
      "CV score = 0.8134146341463415\n",
      "At CV = 6\n",
      "CV score = 0.8109972091026192\n",
      "At CV = 7\n",
      "CV score = 0.8158771548602056\n",
      "At CV = 8\n",
      "CV score = 0.8159028174376546\n",
      "At CV = 9\n",
      "CV score = 0.8256357169400647\n",
      "At CV = 10\n",
      "CV score = 0.8170731707317074\n"
     ]
    }
   ],
   "source": [
    "ypr = model.predict(xt) \n",
    "print('Accuracy score:',accuracy_score(yt, ypr),'\\n')\n",
    "\n",
    "#Cross validation for checking overfitting\n",
    "from sklearn.model_selection import cross_val_score\n",
    "for i in range(2,11):\n",
    "    lsc = cross_val_score(model,x,y,cv=i)\n",
    "    print('At CV =',i)\n",
    "    print('CV score =',lsc.mean())"
   ]
  },
  {
   "cell_type": "code",
   "execution_count": 278,
   "id": "2b02826c",
   "metadata": {},
   "outputs": [
    {
     "data": {
      "image/png": "[encoded data removed]",
      "text/plain": [
       "<Figure size 432x288 with 1 Axes>"
      ]
     },
     "metadata": {
      "needs_background": "light"
     },
     "output_type": "display_data"
    },
    {
     "name": "stdout",
     "output_type": "stream",
     "text": [
      "Confusion matrix:\n",
      " [[104   3]\n",
      " [ 17  40]] \n",
      "\n",
      "Area under curve = 0.8948683451854699\n"
     ]
    }
   ],
   "source": [
    "#ROC curve and the AUC value\n",
    "from sklearn.metrics import roc_curve, auc\n",
    "fpr, tpr, thresholds = roc_curve(ypr, yt)\n",
    "roc_auc = auc(fpr,tpr)\n",
    "plt.figure()\n",
    "plt.plot(fpr, tpr,color='darkorange', label='ROC curve (area = %0.2f)'% roc_auc)\n",
    "plt.plot([0,1],[0,1],linestyle='--',color='navy')\n",
    "plt.xlabel('FPR')\n",
    "plt.ylabel('TPR')\n",
    "plt.legend(loc=\"lower right\")\n",
    "plt.show()\n",
    "\n",
    "print(\"Confusion matrix:\\n\",confusion_matrix(yt,ypr),'\\n')\n",
    "print('Area under curve =',roc_auc)"
   ]
  },
  {
   "cell_type": "code",
   "execution_count": 289,
   "id": "66cad945",
   "metadata": {},
   "outputs": [
    {
     "data": {
      "text/html": [
       "<div>\n",
       "<style scoped>\n",
       "    .dataframe tbody tr th:only-of-type {\n",
       "        vertical-align: middle;\n",
       "    }\n",
       "\n",
       "    .dataframe tbody tr th {\n",
       "        vertical-align: top;\n",
       "    }\n",
       "\n",
       "    .dataframe thead th {\n",
       "        text-align: right;\n",
       "    }\n",
       "</style>\n",
       "<table border=\"1\" class=\"dataframe\">\n",
       "  <thead>\n",
       "    <tr style=\"text-align: right;\">\n",
       "      <th></th>\n",
       "      <th>Actually Survival</th>\n",
       "      <th>Predicted Survival</th>\n",
       "    </tr>\n",
       "  </thead>\n",
       "  <tbody>\n",
       "    <tr>\n",
       "      <th>607</th>\n",
       "      <td>1</td>\n",
       "      <td>0</td>\n",
       "    </tr>\n",
       "    <tr>\n",
       "      <th>693</th>\n",
       "      <td>0</td>\n",
       "      <td>0</td>\n",
       "    </tr>\n",
       "    <tr>\n",
       "      <th>210</th>\n",
       "      <td>0</td>\n",
       "      <td>0</td>\n",
       "    </tr>\n",
       "    <tr>\n",
       "      <th>739</th>\n",
       "      <td>0</td>\n",
       "      <td>0</td>\n",
       "    </tr>\n",
       "    <tr>\n",
       "      <th>300</th>\n",
       "      <td>1</td>\n",
       "      <td>1</td>\n",
       "    </tr>\n",
       "    <tr>\n",
       "      <th>353</th>\n",
       "      <td>0</td>\n",
       "      <td>0</td>\n",
       "    </tr>\n",
       "    <tr>\n",
       "      <th>738</th>\n",
       "      <td>0</td>\n",
       "      <td>0</td>\n",
       "    </tr>\n",
       "    <tr>\n",
       "      <th>275</th>\n",
       "      <td>1</td>\n",
       "      <td>1</td>\n",
       "    </tr>\n",
       "    <tr>\n",
       "      <th>806</th>\n",
       "      <td>0</td>\n",
       "      <td>0</td>\n",
       "    </tr>\n",
       "    <tr>\n",
       "      <th>131</th>\n",
       "      <td>0</td>\n",
       "      <td>0</td>\n",
       "    </tr>\n",
       "  </tbody>\n",
       "</table>\n",
       "</div>"
      ],
      "text/plain": [
       "     Actually Survival  Predicted Survival\n",
       "607                  1                   0\n",
       "693                  0                   0\n",
       "210                  0                   0\n",
       "739                  0                   0\n",
       "300                  1                   1\n",
       "353                  0                   0\n",
       "738                  0                   0\n",
       "275                  1                   1\n",
       "806                  0                   0\n",
       "131                  0                   0"
      ]
     },
     "execution_count": 289,
     "metadata": {},
     "output_type": "execute_result"
    }
   ],
   "source": [
    "table = pd.DataFrame()\n",
    "table['Actually Survival'] = yt\n",
    "table['Predicted Survival'] = ypr\n",
    "table.sample(10)"
   ]
  },
  {
   "cell_type": "code",
   "execution_count": 290,
   "id": "76a01c65",
   "metadata": {},
   "outputs": [],
   "source": [
    "import pickle\n",
    "filename='titanic.pkl'\n",
    "pickle.dump(model,open(filename,'wb'))"
   ]
  }
 ],
 "metadata": {
  "kernelspec": {
   "display_name": "Python 3",
   "language": "python",
   "name": "python3"
  },
  "language_info": {
   "codemirror_mode": {
    "name": "ipython",
    "version": 3
   },
   "file_extension": ".py",
   "mimetype": "text/x-python",
   "name": "python",
   "nbconvert_exporter": "python",
   "pygments_lexer": "ipython3",
   "version": "3.8.8"
  }
 },
 "nbformat": 4,
 "nbformat_minor": 5
}
