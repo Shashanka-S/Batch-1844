{
 "cells": [
  {
   "cell_type": "code",
   "execution_count": 2,
   "id": "5ca78d2e",
   "metadata": {},
   "outputs": [],
   "source": [
    "#importing required libraries\n",
    "import pandas as pd\n",
    "import numpy as np\n",
    "import seaborn as sns\n",
    "import matplotlib.pyplot as plt\n",
    "\n",
    "import warnings\n",
    "warnings.filterwarnings('ignore')"
   ]
  },
  {
   "cell_type": "markdown",
   "id": "54c92b53",
   "metadata": {},
   "source": [
    "Problem statement:\n",
    "\n",
    "When a company enters a market, the distribution strategy and channel it uses are keys to its success in the market, as well as market know-how and customer knowledge and understanding. Because an effective distribution strategy under efficient supply-chain management opens doors for attaining competitive advantage and strong brand equity in the market, it is a component of the marketing mix that cannot be ignored . \n",
    "\n",
    "The distribution strategy and the channel design have to be right the first time. The case study of Sales channel includes the detailed study of TV, radio and newspaper channel. The predict the total sales generated from all the sales channel.  "
   ]
  },
  {
   "cell_type": "code",
   "execution_count": 3,
   "id": "f7ca7e1b",
   "metadata": {},
   "outputs": [
    {
     "data": {
      "text/html": [
       "<div>\n",
       "<style scoped>\n",
       "    .dataframe tbody tr th:only-of-type {\n",
       "        vertical-align: middle;\n",
       "    }\n",
       "\n",
       "    .dataframe tbody tr th {\n",
       "        vertical-align: top;\n",
       "    }\n",
       "\n",
       "    .dataframe thead th {\n",
       "        text-align: right;\n",
       "    }\n",
       "</style>\n",
       "<table border=\"1\" class=\"dataframe\">\n",
       "  <thead>\n",
       "    <tr style=\"text-align: right;\">\n",
       "      <th></th>\n",
       "      <th>Unnamed: 0</th>\n",
       "      <th>TV</th>\n",
       "      <th>radio</th>\n",
       "      <th>newspaper</th>\n",
       "      <th>sales</th>\n",
       "    </tr>\n",
       "  </thead>\n",
       "  <tbody>\n",
       "    <tr>\n",
       "      <th>0</th>\n",
       "      <td>1</td>\n",
       "      <td>230.1</td>\n",
       "      <td>37.8</td>\n",
       "      <td>69.2</td>\n",
       "      <td>22.1</td>\n",
       "    </tr>\n",
       "    <tr>\n",
       "      <th>1</th>\n",
       "      <td>2</td>\n",
       "      <td>44.5</td>\n",
       "      <td>39.3</td>\n",
       "      <td>45.1</td>\n",
       "      <td>10.4</td>\n",
       "    </tr>\n",
       "    <tr>\n",
       "      <th>2</th>\n",
       "      <td>3</td>\n",
       "      <td>17.2</td>\n",
       "      <td>45.9</td>\n",
       "      <td>69.3</td>\n",
       "      <td>9.3</td>\n",
       "    </tr>\n",
       "    <tr>\n",
       "      <th>3</th>\n",
       "      <td>4</td>\n",
       "      <td>151.5</td>\n",
       "      <td>41.3</td>\n",
       "      <td>58.5</td>\n",
       "      <td>18.5</td>\n",
       "    </tr>\n",
       "    <tr>\n",
       "      <th>4</th>\n",
       "      <td>5</td>\n",
       "      <td>180.8</td>\n",
       "      <td>10.8</td>\n",
       "      <td>58.4</td>\n",
       "      <td>12.9</td>\n",
       "    </tr>\n",
       "    <tr>\n",
       "      <th>...</th>\n",
       "      <td>...</td>\n",
       "      <td>...</td>\n",
       "      <td>...</td>\n",
       "      <td>...</td>\n",
       "      <td>...</td>\n",
       "    </tr>\n",
       "    <tr>\n",
       "      <th>195</th>\n",
       "      <td>196</td>\n",
       "      <td>38.2</td>\n",
       "      <td>3.7</td>\n",
       "      <td>13.8</td>\n",
       "      <td>7.6</td>\n",
       "    </tr>\n",
       "    <tr>\n",
       "      <th>196</th>\n",
       "      <td>197</td>\n",
       "      <td>94.2</td>\n",
       "      <td>4.9</td>\n",
       "      <td>8.1</td>\n",
       "      <td>9.7</td>\n",
       "    </tr>\n",
       "    <tr>\n",
       "      <th>197</th>\n",
       "      <td>198</td>\n",
       "      <td>177.0</td>\n",
       "      <td>9.3</td>\n",
       "      <td>6.4</td>\n",
       "      <td>12.8</td>\n",
       "    </tr>\n",
       "    <tr>\n",
       "      <th>198</th>\n",
       "      <td>199</td>\n",
       "      <td>283.6</td>\n",
       "      <td>42.0</td>\n",
       "      <td>66.2</td>\n",
       "      <td>25.5</td>\n",
       "    </tr>\n",
       "    <tr>\n",
       "      <th>199</th>\n",
       "      <td>200</td>\n",
       "      <td>232.1</td>\n",
       "      <td>8.6</td>\n",
       "      <td>8.7</td>\n",
       "      <td>13.4</td>\n",
       "    </tr>\n",
       "  </tbody>\n",
       "</table>\n",
       "<p>200 rows × 5 columns</p>\n",
       "</div>"
      ],
      "text/plain": [
       "     Unnamed: 0     TV  radio  newspaper  sales\n",
       "0             1  230.1   37.8       69.2   22.1\n",
       "1             2   44.5   39.3       45.1   10.4\n",
       "2             3   17.2   45.9       69.3    9.3\n",
       "3             4  151.5   41.3       58.5   18.5\n",
       "4             5  180.8   10.8       58.4   12.9\n",
       "..          ...    ...    ...        ...    ...\n",
       "195         196   38.2    3.7       13.8    7.6\n",
       "196         197   94.2    4.9        8.1    9.7\n",
       "197         198  177.0    9.3        6.4   12.8\n",
       "198         199  283.6   42.0       66.2   25.5\n",
       "199         200  232.1    8.6        8.7   13.4\n",
       "\n",
       "[200 rows x 5 columns]"
      ]
     },
     "execution_count": 3,
     "metadata": {},
     "output_type": "execute_result"
    }
   ],
   "source": [
    "#importing or loading the dataset\n",
    "df = pd.read_csv('Advertising.csv')\n",
    "df"
   ]
  },
  {
   "cell_type": "markdown",
   "id": "3e99baac",
   "metadata": {},
   "source": [
    "1) Unnamed: 0 is index columns, so can be dropped\n",
    "    \n",
    "2) TV, radio, newsapaper distribution strategy feature coulmns are continuous in nature\n",
    "\n",
    "3) Target variable sales is also continuous in nature"
   ]
  },
  {
   "cell_type": "code",
   "execution_count": 5,
   "id": "2d9381b3",
   "metadata": {},
   "outputs": [
    {
     "data": {
      "text/html": [
       "<div>\n",
       "<style scoped>\n",
       "    .dataframe tbody tr th:only-of-type {\n",
       "        vertical-align: middle;\n",
       "    }\n",
       "\n",
       "    .dataframe tbody tr th {\n",
       "        vertical-align: top;\n",
       "    }\n",
       "\n",
       "    .dataframe thead th {\n",
       "        text-align: right;\n",
       "    }\n",
       "</style>\n",
       "<table border=\"1\" class=\"dataframe\">\n",
       "  <thead>\n",
       "    <tr style=\"text-align: right;\">\n",
       "      <th></th>\n",
       "      <th>TV</th>\n",
       "      <th>radio</th>\n",
       "      <th>newspaper</th>\n",
       "      <th>sales</th>\n",
       "    </tr>\n",
       "  </thead>\n",
       "  <tbody>\n",
       "    <tr>\n",
       "      <th>0</th>\n",
       "      <td>230.1</td>\n",
       "      <td>37.8</td>\n",
       "      <td>69.2</td>\n",
       "      <td>22.1</td>\n",
       "    </tr>\n",
       "    <tr>\n",
       "      <th>1</th>\n",
       "      <td>44.5</td>\n",
       "      <td>39.3</td>\n",
       "      <td>45.1</td>\n",
       "      <td>10.4</td>\n",
       "    </tr>\n",
       "    <tr>\n",
       "      <th>2</th>\n",
       "      <td>17.2</td>\n",
       "      <td>45.9</td>\n",
       "      <td>69.3</td>\n",
       "      <td>9.3</td>\n",
       "    </tr>\n",
       "    <tr>\n",
       "      <th>3</th>\n",
       "      <td>151.5</td>\n",
       "      <td>41.3</td>\n",
       "      <td>58.5</td>\n",
       "      <td>18.5</td>\n",
       "    </tr>\n",
       "    <tr>\n",
       "      <th>4</th>\n",
       "      <td>180.8</td>\n",
       "      <td>10.8</td>\n",
       "      <td>58.4</td>\n",
       "      <td>12.9</td>\n",
       "    </tr>\n",
       "  </tbody>\n",
       "</table>\n",
       "</div>"
      ],
      "text/plain": [
       "      TV  radio  newspaper  sales\n",
       "0  230.1   37.8       69.2   22.1\n",
       "1   44.5   39.3       45.1   10.4\n",
       "2   17.2   45.9       69.3    9.3\n",
       "3  151.5   41.3       58.5   18.5\n",
       "4  180.8   10.8       58.4   12.9"
      ]
     },
     "execution_count": 5,
     "metadata": {},
     "output_type": "execute_result"
    }
   ],
   "source": [
    "#Dropping of Unnamed: 0 column\n",
    "df = df.drop(['Unnamed: 0'], axis=1)\n",
    "df.head()"
   ]
  },
  {
   "cell_type": "code",
   "execution_count": 6,
   "id": "e9800fe7",
   "metadata": {},
   "outputs": [
    {
     "data": {
      "text/plain": [
       "TV           float64\n",
       "radio        float64\n",
       "newspaper    float64\n",
       "sales        float64\n",
       "dtype: object"
      ]
     },
     "execution_count": 6,
     "metadata": {},
     "output_type": "execute_result"
    }
   ],
   "source": [
    "#Checking data types\n",
    "df.dtypes"
   ]
  },
  {
   "cell_type": "markdown",
   "id": "f5b6c65d",
   "metadata": {},
   "source": [
    "All are float and continuous in nature"
   ]
  },
  {
   "cell_type": "code",
   "execution_count": 7,
   "id": "ab85ced2",
   "metadata": {},
   "outputs": [
    {
     "data": {
      "text/plain": [
       "(200, 4)"
      ]
     },
     "execution_count": 7,
     "metadata": {},
     "output_type": "execute_result"
    }
   ],
   "source": [
    "#Checkin for data shape\n",
    "df.shape"
   ]
  },
  {
   "cell_type": "code",
   "execution_count": 8,
   "id": "ada5e6f5",
   "metadata": {},
   "outputs": [
    {
     "data": {
      "text/plain": [
       "TV           0\n",
       "radio        0\n",
       "newspaper    0\n",
       "sales        0\n",
       "dtype: int64"
      ]
     },
     "execution_count": 8,
     "metadata": {},
     "output_type": "execute_result"
    }
   ],
   "source": [
    "#Checking any null values\n",
    "df.isnull().sum()"
   ]
  },
  {
   "cell_type": "code",
   "execution_count": 9,
   "id": "8414b05c",
   "metadata": {},
   "outputs": [
    {
     "data": {
      "image/png": "[encoded data removed]",
      "text/plain": [
       "<Figure size 432x288 with 1 Axes>"
      ]
     },
     "metadata": {
      "needs_background": "light"
     },
     "output_type": "display_data"
    }
   ],
   "source": [
    "#Checking the distribution of data\n",
    "sns.distplot(x = df['TV'])\n",
    "plt.xlabel('TV')\n",
    "plt.show()"
   ]
  },
  {
   "cell_type": "markdown",
   "id": "e136c791",
   "metadata": {},
   "source": [
    "We observe normal or guassian distribution in data with mean around 150 and litle bit left skewed data\n",
    "\n",
    "This infers more money spent on TV ads (as range goes upto 300)"
   ]
  },
  {
   "cell_type": "code",
   "execution_count": 10,
   "id": "ecf15ef6",
   "metadata": {},
   "outputs": [
    {
     "data": {
      "image/png": "[encoded data removed]",
      "text/plain": [
       "<Figure size 432x288 with 1 Axes>"
      ]
     },
     "metadata": {
      "needs_background": "light"
     },
     "output_type": "display_data"
    }
   ],
   "source": [
    "#Checking the distribution of data\n",
    "sns.distplot(x = df['radio'])\n",
    "plt.xlabel('radio')\n",
    "plt.show()"
   ]
  },
  {
   "cell_type": "markdown",
   "id": "17fa87f1",
   "metadata": {},
   "source": [
    "We observe normal or guassian distribution in data with mean around 25 and litle bit right skewed data\n",
    "\n",
    "This infers moderate money spent on Radio ads (as range goes upto 50)"
   ]
  },
  {
   "cell_type": "code",
   "execution_count": 11,
   "id": "6777e17b",
   "metadata": {},
   "outputs": [
    {
     "data": {
      "image/png": "[encoded data removed]",
      "text/plain": [
       "<Figure size 432x288 with 1 Axes>"
      ]
     },
     "metadata": {
      "needs_background": "light"
     },
     "output_type": "display_data"
    }
   ],
   "source": [
    "#Checking the distribution of data\n",
    "sns.distplot(x = df['newspaper'])\n",
    "plt.xlabel('newspaper')\n",
    "plt.show()"
   ]
  },
  {
   "cell_type": "markdown",
   "id": "93615099",
   "metadata": {},
   "source": [
    "We observe high density of data near zero, which means newspaper is less preferred channel among the 3 for advertising strategy\n",
    "\n",
    "Also density decreases with higher values, which infers that newspaper was least preferred and less money is spent on newspaper ads\n",
    "\n",
    "We observe data is highly right skewed"
   ]
  },
  {
   "cell_type": "code",
   "execution_count": 13,
   "id": "4d90c7ec",
   "metadata": {},
   "outputs": [
    {
     "data": {
      "image/png": "[encoded data removed]",
      "text/plain": [
       "<Figure size 1440x720 with 3 Axes>"
      ]
     },
     "metadata": {
      "needs_background": "light"
     },
     "output_type": "display_data"
    }
   ],
   "source": [
    "#Checking relation with target variable visually(bivariate analysis)\n",
    "fig, axs = plt.subplots(1,3)\n",
    "\n",
    "df.plot(kind='scatter', x='TV', y='sales', ax=axs[0], figsize=(20,10))\n",
    "df.plot(kind='scatter', x='radio', y='sales', ax=axs[1])\n",
    "df.plot(kind='scatter', x='newspaper', y='sales', ax=axs[2])\n",
    "plt.show()"
   ]
  },
  {
   "cell_type": "markdown",
   "id": "84a98999",
   "metadata": {},
   "source": [
    "Above graphs shows that all 3 channels ads have positive impact on sales\n",
    "\n",
    "Among the 3, TV ads show strong relationship followed by radio and newspaper"
   ]
  },
  {
   "cell_type": "code",
   "execution_count": 21,
   "id": "6c3d9280",
   "metadata": {},
   "outputs": [
    {
     "data": {
      "image/png": "[encoded data removed]",
      "text/plain": [
       "<Figure size 432x288 with 3 Axes>"
      ]
     },
     "metadata": {
      "needs_background": "light"
     },
     "output_type": "display_data"
    }
   ],
   "source": [
    "#Checking relation with target variable visually(bivariate analysis)\n",
    "fig, axs = plt.subplots(1,3)\n",
    "sns.regplot(x='TV', y='sales', data=df, ax=axs[0])\n",
    "sns.regplot(x='radio', y='sales', data=df, ax=axs[1])\n",
    "sns.regplot(x='newspaper', y='sales',data=df, ax=axs[2])\n",
    "\n",
    "plt.show()"
   ]
  },
  {
   "cell_type": "markdown",
   "id": "f2bcc534",
   "metadata": {},
   "source": [
    "The above graph shows that positive correlation of 3 feature columns wrt sales is in the order TV > radio > newspaper"
   ]
  },
  {
   "cell_type": "code",
   "execution_count": 23,
   "id": "8adc19ff",
   "metadata": {},
   "outputs": [
    {
     "data": {
      "image/png": "[encoded data removed]",
      "text/plain": [
       "<Figure size 432x288 with 1 Axes>"
      ]
     },
     "metadata": {
      "needs_background": "light"
     },
     "output_type": "display_data"
    }
   ],
   "source": [
    "#Checking the distribution of data of target variable\n",
    "sns.distplot(x = df['sales'])\n",
    "plt.xlabel('sales')\n",
    "plt.show()"
   ]
  },
  {
   "cell_type": "markdown",
   "id": "23c1c84d",
   "metadata": {},
   "source": [
    "We observe normal or guassian distribution in data with mean around 15 and litle bit right skewed data"
   ]
  },
  {
   "cell_type": "code",
   "execution_count": 30,
   "id": "4e898bb0",
   "metadata": {},
   "outputs": [
    {
     "data": {
      "image/png": "[encoded data removed]",
      "text/plain": [
       "<Figure size 432x288 with 1 Axes>"
      ]
     },
     "metadata": {
      "needs_background": "light"
     },
     "output_type": "display_data"
    },
    {
     "data": {
      "image/png": "[encoded data removed]",
      "text/plain": [
       "<Figure size 432x288 with 1 Axes>"
      ]
     },
     "metadata": {
      "needs_background": "light"
     },
     "output_type": "display_data"
    },
    {
     "data": {
      "image/png": "[encoded data removed]",
      "text/plain": [
       "<Figure size 432x288 with 1 Axes>"
      ]
     },
     "metadata": {
      "needs_background": "light"
     },
     "output_type": "display_data"
    }
   ],
   "source": [
    "#Checking outliers in the input data\n",
    "sns.boxplot(df['TV'])\n",
    "plt.xlabel('TV')\n",
    "plt.show()\n",
    "\n",
    "sns.boxplot(df['radio'])\n",
    "plt.xlabel('radio')\n",
    "plt.show()\n",
    "\n",
    "sns.boxplot(df['newspaper'])\n",
    "plt.xlabel('newspaper')\n",
    "plt.show()"
   ]
  },
  {
   "cell_type": "markdown",
   "id": "8c4c56d2",
   "metadata": {},
   "source": [
    "No outliers present in TV and radio column\n",
    "\n",
    "newspaper column has outliers, need to be handled before building or training the model"
   ]
  },
  {
   "cell_type": "code",
   "execution_count": 31,
   "id": "9aded348",
   "metadata": {},
   "outputs": [
    {
     "data": {
      "image/png": "[encoded data removed]",
      "text/plain": [
       "<Figure size 432x288 with 1 Axes>"
      ]
     },
     "metadata": {
      "needs_background": "light"
     },
     "output_type": "display_data"
    }
   ],
   "source": [
    "#Checking outliers in the target\n",
    "sns.boxplot(df['sales'])\n",
    "plt.xlabel('sales')\n",
    "plt.show()"
   ]
  },
  {
   "cell_type": "markdown",
   "id": "3bd208bb",
   "metadata": {},
   "source": [
    "No outliers present in target column"
   ]
  },
  {
   "cell_type": "code",
   "execution_count": 36,
   "id": "49392392",
   "metadata": {},
   "outputs": [
    {
     "data": {
      "image/png": "[encoded data removed]",
      "text/plain": [
       "<Figure size 720x720 with 20 Axes>"
      ]
     },
     "metadata": {
      "needs_background": "light"
     },
     "output_type": "display_data"
    }
   ],
   "source": [
    "#Plotting all possible bivariate plots together\n",
    "sns.pairplot(df)\n",
    "plt.show()"
   ]
  },
  {
   "cell_type": "markdown",
   "id": "9bffb2c5",
   "metadata": {},
   "source": [
    "We can observe from the pairplot that newspaper and radio is having some kind of +ve relationship wrt each other\n",
    "\n",
    "Later we shall observe its mutual corr from correlation data"
   ]
  },
  {
   "cell_type": "code",
   "execution_count": 25,
   "id": "26e51944",
   "metadata": {},
   "outputs": [
    {
     "name": "stdout",
     "output_type": "stream",
     "text": [
      "<class 'pandas.core.frame.DataFrame'>\n",
      "RangeIndex: 200 entries, 0 to 199\n",
      "Data columns (total 4 columns):\n",
      " #   Column     Non-Null Count  Dtype  \n",
      "---  ------     --------------  -----  \n",
      " 0   TV         200 non-null    float64\n",
      " 1   radio      200 non-null    float64\n",
      " 2   newspaper  200 non-null    float64\n",
      " 3   sales      200 non-null    float64\n",
      "dtypes: float64(4)\n",
      "memory usage: 6.4 KB\n"
     ]
    }
   ],
   "source": [
    "#dataset information\n",
    "df.info()"
   ]
  },
  {
   "cell_type": "code",
   "execution_count": 32,
   "id": "b973983e",
   "metadata": {},
   "outputs": [
    {
     "data": {
      "text/html": [
       "<div>\n",
       "<style scoped>\n",
       "    .dataframe tbody tr th:only-of-type {\n",
       "        vertical-align: middle;\n",
       "    }\n",
       "\n",
       "    .dataframe tbody tr th {\n",
       "        vertical-align: top;\n",
       "    }\n",
       "\n",
       "    .dataframe thead th {\n",
       "        text-align: right;\n",
       "    }\n",
       "</style>\n",
       "<table border=\"1\" class=\"dataframe\">\n",
       "  <thead>\n",
       "    <tr style=\"text-align: right;\">\n",
       "      <th></th>\n",
       "      <th>TV</th>\n",
       "      <th>radio</th>\n",
       "      <th>newspaper</th>\n",
       "      <th>sales</th>\n",
       "    </tr>\n",
       "  </thead>\n",
       "  <tbody>\n",
       "    <tr>\n",
       "      <th>count</th>\n",
       "      <td>200.000000</td>\n",
       "      <td>200.000000</td>\n",
       "      <td>200.000000</td>\n",
       "      <td>200.000000</td>\n",
       "    </tr>\n",
       "    <tr>\n",
       "      <th>mean</th>\n",
       "      <td>147.042500</td>\n",
       "      <td>23.264000</td>\n",
       "      <td>30.554000</td>\n",
       "      <td>14.022500</td>\n",
       "    </tr>\n",
       "    <tr>\n",
       "      <th>std</th>\n",
       "      <td>85.854236</td>\n",
       "      <td>14.846809</td>\n",
       "      <td>21.778621</td>\n",
       "      <td>5.217457</td>\n",
       "    </tr>\n",
       "    <tr>\n",
       "      <th>min</th>\n",
       "      <td>0.700000</td>\n",
       "      <td>0.000000</td>\n",
       "      <td>0.300000</td>\n",
       "      <td>1.600000</td>\n",
       "    </tr>\n",
       "    <tr>\n",
       "      <th>25%</th>\n",
       "      <td>74.375000</td>\n",
       "      <td>9.975000</td>\n",
       "      <td>12.750000</td>\n",
       "      <td>10.375000</td>\n",
       "    </tr>\n",
       "    <tr>\n",
       "      <th>50%</th>\n",
       "      <td>149.750000</td>\n",
       "      <td>22.900000</td>\n",
       "      <td>25.750000</td>\n",
       "      <td>12.900000</td>\n",
       "    </tr>\n",
       "    <tr>\n",
       "      <th>75%</th>\n",
       "      <td>218.825000</td>\n",
       "      <td>36.525000</td>\n",
       "      <td>45.100000</td>\n",
       "      <td>17.400000</td>\n",
       "    </tr>\n",
       "    <tr>\n",
       "      <th>max</th>\n",
       "      <td>296.400000</td>\n",
       "      <td>49.600000</td>\n",
       "      <td>114.000000</td>\n",
       "      <td>27.000000</td>\n",
       "    </tr>\n",
       "  </tbody>\n",
       "</table>\n",
       "</div>"
      ],
      "text/plain": [
       "               TV       radio   newspaper       sales\n",
       "count  200.000000  200.000000  200.000000  200.000000\n",
       "mean   147.042500   23.264000   30.554000   14.022500\n",
       "std     85.854236   14.846809   21.778621    5.217457\n",
       "min      0.700000    0.000000    0.300000    1.600000\n",
       "25%     74.375000    9.975000   12.750000   10.375000\n",
       "50%    149.750000   22.900000   25.750000   12.900000\n",
       "75%    218.825000   36.525000   45.100000   17.400000\n",
       "max    296.400000   49.600000  114.000000   27.000000"
      ]
     },
     "execution_count": 32,
     "metadata": {},
     "output_type": "execute_result"
    }
   ],
   "source": [
    "#Statistical summary of the data\n",
    "df.describe()"
   ]
  },
  {
   "cell_type": "markdown",
   "id": "4e01b320",
   "metadata": {},
   "source": [
    "Mean value of money spent on ads for TV > newspaper > radio (147 > 30 > 23)\n",
    "\n",
    "Max value of money spent on ads for TV > newspaper > radio (296 > 114 > 49)\n",
    "    \n",
    "This infers that TV is the most referred advertisement channel, followed by newspaper and then radio"
   ]
  },
  {
   "cell_type": "code",
   "execution_count": 39,
   "id": "59204466",
   "metadata": {},
   "outputs": [
    {
     "name": "stdout",
     "output_type": "stream",
     "text": [
      "                 TV     radio  newspaper     sales\n",
      "TV         1.000000  0.054809   0.056648  0.782224\n",
      "radio      0.054809  1.000000   0.354104  0.576223\n",
      "newspaper  0.056648  0.354104   1.000000  0.228299\n",
      "sales      0.782224  0.576223   0.228299  1.000000\n"
     ]
    },
    {
     "data": {
      "image/png": "[encoded data removed]",
      "text/plain": [
       "<Figure size 720x504 with 2 Axes>"
      ]
     },
     "metadata": {
      "needs_background": "light"
     },
     "output_type": "display_data"
    }
   ],
   "source": [
    "#Coefficient of correlation matrix\n",
    "print(df.corr())\n",
    "\n",
    "#Heatmap to vizualize correlation between different features\n",
    "plt.figure(figsize=(10,7))\n",
    "sns.heatmap(df.corr(), annot=True, linewidths=0.1, linecolor='black', fmt='0.2f')\n",
    "plt.show()"
   ]
  },
  {
   "cell_type": "markdown",
   "id": "fdef2d16",
   "metadata": {},
   "source": [
    "TV is having high +ve corr with sales\n",
    "\n",
    "Also we can observe that no strong relation mutually among 2 input features\n",
    "\n",
    "So not concerned about multicollinearity, we can verify this point with VIF values before modelling"
   ]
  },
  {
   "cell_type": "code",
   "execution_count": 40,
   "id": "9858c190",
   "metadata": {},
   "outputs": [
    {
     "data": {
      "text/plain": [
       "sales        1.000000\n",
       "TV           0.782224\n",
       "radio        0.576223\n",
       "newspaper    0.228299\n",
       "Name: sales, dtype: float64"
      ]
     },
     "execution_count": 40,
     "metadata": {},
     "output_type": "execute_result"
    }
   ],
   "source": [
    "#Sorting descending values of correlation data of target variable\n",
    "df.corr()['sales'].sort_values(ascending=False)"
   ]
  },
  {
   "cell_type": "code",
   "execution_count": 44,
   "id": "6d37e781",
   "metadata": {},
   "outputs": [
    {
     "name": "stdout",
     "output_type": "stream",
     "text": [
      "Shape before (200, 4)\n",
      "Shape after (198, 4)\n"
     ]
    }
   ],
   "source": [
    "#Removing of outliers by zscore method\n",
    "print('Shape before',df.shape)\n",
    "from scipy.stats import zscore\n",
    "z=np.abs(zscore(df))\n",
    "df_new = df[(z<3).all(axis=1)]\n",
    "print('Shape after',df_new.shape)"
   ]
  },
  {
   "cell_type": "code",
   "execution_count": 50,
   "id": "d10b4bec",
   "metadata": {},
   "outputs": [
    {
     "name": "stdout",
     "output_type": "stream",
     "text": [
      "1.0 % loss of data\n"
     ]
    }
   ],
   "source": [
    "#Percentage loss of data\n",
    "loss = (df.shape[0]-df_new.shape[0])*100/(df.shape[0])\n",
    "print(loss,'% loss of data')"
   ]
  },
  {
   "cell_type": "code",
   "execution_count": 58,
   "id": "10ee747d",
   "metadata": {},
   "outputs": [
    {
     "data": {
      "text/plain": [
       "[2.486771835198193, 3.285462100162896, 3.0552445106573853]"
      ]
     },
     "execution_count": 58,
     "metadata": {},
     "output_type": "execute_result"
    }
   ],
   "source": [
    "#VIF method to check multicollinearity\n",
    "from statsmodels.stats.outliers_influence import variance_inflation_factor\n",
    "x = df[['TV','radio','newspaper']]\n",
    "vif = pd.DataFrame()\n",
    "vif = [variance_inflation_factor(x.values,i) for i in range(x.shape[1])]\n",
    "vif"
   ]
  },
  {
   "cell_type": "markdown",
   "id": "99e38635",
   "metadata": {},
   "source": [
    "VIF values are within limit\n",
    "\n",
    "That is VIF < 5 for all feature columns\n",
    "\n",
    "So no concern of multicollinearity"
   ]
  },
  {
   "cell_type": "code",
   "execution_count": 69,
   "id": "c28ca737",
   "metadata": {},
   "outputs": [
    {
     "name": "stdout",
     "output_type": "stream",
     "text": [
      "x shape (198, 3)\n",
      "y shape (198,)\n"
     ]
    }
   ],
   "source": [
    "#Seperate feature and target columns\n",
    "x = df_new.drop(columns=['sales'])\n",
    "y = df_new['sales']\n",
    "print('x shape',x.shape)\n",
    "print('y shape',y.shape)"
   ]
  },
  {
   "cell_type": "code",
   "execution_count": 70,
   "id": "7025fc37",
   "metadata": {},
   "outputs": [
    {
     "data": {
      "text/plain": [
       "TV          -0.082332\n",
       "radio        0.114842\n",
       "newspaper    0.650112\n",
       "dtype: float64"
      ]
     },
     "execution_count": 70,
     "metadata": {},
     "output_type": "execute_result"
    }
   ],
   "source": [
    "#Checking skewness of data\n",
    "x.skew()"
   ]
  },
  {
   "cell_type": "markdown",
   "id": "459d5ccf",
   "metadata": {},
   "source": [
    "skewness of newspaper column is not in permissible range i.e, +-0.5\n",
    "\n",
    "So need to apply transformation to remove skewness"
   ]
  },
  {
   "cell_type": "code",
   "execution_count": 71,
   "id": "d416e867",
   "metadata": {},
   "outputs": [
    {
     "data": {
      "text/plain": [
       "TV          -0.320682\n",
       "radio       -0.236668\n",
       "newspaper   -0.101288\n",
       "dtype: float64"
      ]
     },
     "execution_count": 71,
     "metadata": {},
     "output_type": "execute_result"
    }
   ],
   "source": [
    "#Apply power transform to transform data\n",
    "from sklearn.preprocessing import PowerTransformer\n",
    "po = PowerTransformer()\n",
    "x_new = po.fit_transform(x)\n",
    "x_new = pd.DataFrame(x_new, columns = x.columns)\n",
    "x_new.skew()"
   ]
  },
  {
   "cell_type": "markdown",
   "id": "a257729a",
   "metadata": {},
   "source": [
    "Skewness within +-0.5 range, so we can proceed"
   ]
  },
  {
   "cell_type": "code",
   "execution_count": 73,
   "id": "e763777f",
   "metadata": {},
   "outputs": [],
   "source": [
    "#scaling of input feature data\n",
    "from sklearn.preprocessing import StandardScaler\n",
    "scaler = StandardScaler()\n",
    "x = scaler.fit_transform(x_new)"
   ]
  },
  {
   "cell_type": "markdown",
   "id": "06528237",
   "metadata": {},
   "source": [
    "This scaling step was not necessary as the PowerTransformer.fit_transform() has handled scalin  also"
   ]
  },
  {
   "cell_type": "code",
   "execution_count": 85,
   "id": "eac1d070",
   "metadata": {},
   "outputs": [
    {
     "name": "stdout",
     "output_type": "stream",
     "text": [
      "At RS 112 Model preforms well\n",
      "Train score = 90.17428654220274\n",
      "Test score = 90.1670836495268 \n",
      "\n",
      "At RS 510 Model preforms well\n",
      "Train score = 90.41100608643733\n",
      "Test score = 90.41484328551748 \n",
      "\n"
     ]
    }
   ],
   "source": [
    "# Linear regression model\n",
    "from sklearn.linear_model import LinearRegression\n",
    "lr = LinearRegression()\n",
    "from sklearn.metrics import r2_score, mean_squared_error, mean_absolute_error\n",
    "from sklearn.model_selection import train_test_split\n",
    "\n",
    "for i in range(0,1000):\n",
    "    xtr, xt, ytr, yt = train_test_split(x,y, random_state=i,test_size=0.2)\n",
    "    lr.fit(xtr,ytr)\n",
    "    predytr = lr.predict(xtr)\n",
    "    predyt = lr.predict(xt)\n",
    "    \n",
    "    if round(r2_score(ytr,predytr)*100,2) == round(r2_score(yt,predyt)*100,2):\n",
    "             print('At RS',i,'Model preforms well')\n",
    "             print('Train score =',(r2_score(ytr,predytr)*100))\n",
    "             print('Test score =',(r2_score(yt,predyt)*100),'\\n')"
   ]
  },
  {
   "cell_type": "markdown",
   "id": "b2aa8104",
   "metadata": {},
   "source": [
    "Therefore we train the model at random state 510"
   ]
  },
  {
   "cell_type": "code",
   "execution_count": 98,
   "id": "deccfdcf",
   "metadata": {},
   "outputs": [
    {
     "name": "stdout",
     "output_type": "stream",
     "text": [
      "Test score in percentage = 90.41484328551748 \n",
      "\n",
      "Mean absolute error = 1.2782967281225788 \n",
      "\n",
      "Root mean squared error = 1.687615832981815 \n",
      "\n"
     ]
    }
   ],
   "source": [
    "#Training the model at best random state\n",
    "xtr, xt, ytr, yt = train_test_split(x,y, random_state=510,test_size=0.2)\n",
    "lr.fit(xtr,ytr)\n",
    "predytr = lr.predict(xtr)\n",
    "predyt = lr.predict(xt)\n",
    "\n",
    "print('Test score in percentage =',(r2_score(yt,predyt)*100),'\\n')\n",
    "print('Mean absolute error =',(mean_absolute_error(yt,predyt)),'\\n')\n",
    "print('Root mean squared error =',(np.sqrt(mean_squared_error(yt,predyt))),'\\n')"
   ]
  },
  {
   "cell_type": "code",
   "execution_count": 94,
   "id": "8df6aac0",
   "metadata": {},
   "outputs": [
    {
     "name": "stdout",
     "output_type": "stream",
     "text": [
      "r2_score of test = 0.9028367967872095 \n",
      "\n",
      "At CV = 2\n",
      "CV score = 0.9017064197605746 \n",
      "\n",
      "At CV = 3\n",
      "CV score = 0.8973645562112824 \n",
      "\n",
      "At CV = 4\n",
      "CV score = 0.8986654359289576 \n",
      "\n",
      "At CV = 5\n",
      "CV score = 0.8958270968555071 \n",
      "\n",
      "At CV = 6\n",
      "CV score = 0.8987009469201537 \n",
      "\n",
      "At CV = 7\n",
      "CV score = 0.894944294999198 \n",
      "\n",
      "At CV = 8\n",
      "CV score = 0.8980187277212 \n",
      "\n",
      "At CV = 9\n",
      "CV score = 0.8938982316418994 \n",
      "\n",
      "At CV = 10\n",
      "CV score = 0.8958208927116633 \n",
      "\n"
     ]
    }
   ],
   "source": [
    "#Cross validation to check overfitting\n",
    "from sklearn.model_selection import cross_val_score\n",
    "\n",
    "predyt = lr.predict(xt)\n",
    "lss = r2_score(yt, predyt)\n",
    "print('r2_score of test =',lss,'\\n')\n",
    "\n",
    "for i in range(2,11):\n",
    "    lsc = cross_val_score(lr,x,y,cv=i)\n",
    "    print('At CV =',i)\n",
    "    print('CV score =',lsc.mean(),'\\n')"
   ]
  },
  {
   "cell_type": "markdown",
   "id": "aa0814c1",
   "metadata": {},
   "source": [
    "At CV = 2, R2 score almost equal to CV score. This infers that there is no issue of overfitting"
   ]
  },
  {
   "cell_type": "code",
   "execution_count": 97,
   "id": "34abbf86",
   "metadata": {},
   "outputs": [
    {
     "name": "stdout",
     "output_type": "stream",
     "text": [
      "Test score in percentage = 83.7684778556817 \n",
      "\n",
      "Mean absolute error = 1.60727495709181 \n",
      "\n",
      "Root mean squared error = 2.146427540720342 \n",
      "\n"
     ]
    }
   ],
   "source": [
    "# Lasso regression\n",
    "from sklearn.linear_model import Lasso\n",
    "model = Lasso()\n",
    "model.fit(xtr,ytr)\n",
    "predyt = model.predict(xt)\n",
    "testscore = r2_score(yt, predyt)\n",
    "print('Test score in percentage =',(r2_score(yt,predyt)*100),'\\n')\n",
    "print('Mean absolute error =',(mean_absolute_error(yt,predyt)),'\\n')\n",
    "print('Root mean squared error =',(np.sqrt(mean_squared_error(yt,predyt))),'\\n')"
   ]
  },
  {
   "cell_type": "code",
   "execution_count": 100,
   "id": "48d151ee",
   "metadata": {},
   "outputs": [
    {
     "name": "stdout",
     "output_type": "stream",
     "text": [
      "Lasso(alpha=0.1, random_state=15, selection='random')\n"
     ]
    }
   ],
   "source": [
    "#Hyperparameter tuning of Lasso model\n",
    "from sklearn.model_selection import GridSearchCV\n",
    "model = Lasso()\n",
    "parameters = {'alpha':[0.0001,0.001, 0.01,0.1, 1, 10], 'random_state':list(range(0,20)), 'selection':['cyclic', 'random']}\n",
    "gsv = GridSearchCV(model, parameters)\n",
    "gsv.fit(xtr,ytr)\n",
    "print(gsv.best_estimator_)"
   ]
  },
  {
   "cell_type": "code",
   "execution_count": 101,
   "id": "d056153e",
   "metadata": {},
   "outputs": [
    {
     "name": "stdout",
     "output_type": "stream",
     "text": [
      "Test score in percentage = 90.73440742359924 \n",
      "\n",
      "Mean absolute error = 1.2554733427618345 \n",
      "\n",
      "Root mean squared error = 1.6592452464354188 \n",
      "\n"
     ]
    }
   ],
   "source": [
    "#Trainig model as per best parameters\n",
    "model = Lasso(alpha=0.1, random_state=15, selection='random')\n",
    "model.fit(xtr,ytr)\n",
    "predyt = model.predict(xt)\n",
    "testscore = r2_score(yt, predyt)\n",
    "print('Test score in percentage =',(r2_score(yt,predyt)*100),'\\n')\n",
    "print('Mean absolute error =',(mean_absolute_error(yt,predyt)),'\\n')\n",
    "print('Root mean squared error =',(np.sqrt(mean_squared_error(yt,predyt))),'\\n')"
   ]
  },
  {
   "cell_type": "markdown",
   "id": "f12c52f9",
   "metadata": {},
   "source": [
    "Improved Test r2 score observed in Lasso regression model after parameter tuning. Let us do cross validate for checking of overfitting"
   ]
  },
  {
   "cell_type": "code",
   "execution_count": 104,
   "id": "6e67c304",
   "metadata": {},
   "outputs": [
    {
     "name": "stdout",
     "output_type": "stream",
     "text": [
      "r2_score of test = 0.9073440742359924 \n",
      "\n",
      "At CV = 2\n",
      "CV score = 0.9014616010485529 \n",
      "\n",
      "At CV = 3\n",
      "CV score = 0.8971304617102623 \n",
      "\n",
      "At CV = 4\n",
      "CV score = 0.8980857427860307 \n",
      "\n",
      "At CV = 5\n",
      "CV score = 0.8957805016075945 \n",
      "\n"
     ]
    }
   ],
   "source": [
    "#Cross validation to check overfitting\n",
    "predyt = model.predict(xt)\n",
    "lss = r2_score(yt, predyt)\n",
    "print('r2_score of test =',lss,'\\n')\n",
    "\n",
    "for i in range(2,6):\n",
    "    lsc = cross_val_score(model,x,y,cv=i)\n",
    "    print('At CV =',i)\n",
    "    print('CV score =',lsc.mean(),'\\n')"
   ]
  },
  {
   "cell_type": "markdown",
   "id": "a737ad9f",
   "metadata": {},
   "source": [
    "At CV = 2, R2 score almost equal to CV score (difference 0.006). This infers that there is no issue of overfitting"
   ]
  },
  {
   "cell_type": "code",
   "execution_count": 105,
   "id": "fc07a503",
   "metadata": {},
   "outputs": [
    {
     "name": "stdout",
     "output_type": "stream",
     "text": [
      "Test score in percentage = 98.45314028155933 \n",
      "\n",
      "Mean absolute error = 0.5454250000000005 \n",
      "\n",
      "Root mean squared error = 0.6779527822791183 \n",
      "\n"
     ]
    }
   ],
   "source": [
    "# Random forest regressor\n",
    "from sklearn.ensemble import RandomForestRegressor\n",
    "model = RandomForestRegressor()\n",
    "model.fit(xtr,ytr)\n",
    "predyt = model.predict(xt)\n",
    "testscore = r2_score(yt, predyt)\n",
    "print('Test score in percentage =',(r2_score(yt,predyt)*100),'\\n')\n",
    "print('Mean absolute error =',(mean_absolute_error(yt,predyt)),'\\n')\n",
    "print('Root mean squared error =',(np.sqrt(mean_squared_error(yt,predyt))),'\\n')"
   ]
  },
  {
   "cell_type": "code",
   "execution_count": 107,
   "id": "fdb1a73e",
   "metadata": {},
   "outputs": [
    {
     "name": "stdout",
     "output_type": "stream",
     "text": [
      "r2_score of test = 0.9845314028155933 \n",
      "\n",
      "At CV = 2\n",
      "CV score = 0.9713623828437447 \n",
      "\n",
      "At CV = 3\n",
      "CV score = 0.9734408961751763 \n",
      "\n",
      "At CV = 4\n",
      "CV score = 0.9771417824012166 \n",
      "\n",
      "At CV = 5\n",
      "CV score = 0.9767828883680142 \n",
      "\n",
      "At CV = 6\n",
      "CV score = 0.9768470557365715 \n",
      "\n",
      "At CV = 7\n",
      "CV score = 0.9761461401903446 \n",
      "\n",
      "At CV = 8\n",
      "CV score = 0.9773869142818086 \n",
      "\n",
      "At CV = 9\n",
      "CV score = 0.9773287854637904 \n",
      "\n",
      "At CV = 10\n",
      "CV score = 0.9774962756054826 \n",
      "\n"
     ]
    }
   ],
   "source": [
    "#Cross validation to check overfitting\n",
    "predyt = model.predict(xt)\n",
    "lss = r2_score(yt, predyt)\n",
    "print('r2_score of test =',lss,'\\n')\n",
    "\n",
    "for i in range(2,11):\n",
    "    lsc = cross_val_score(model,x,y,cv=i)\n",
    "    print('At CV =',i)\n",
    "    print('CV score =',lsc.mean(),'\\n')"
   ]
  },
  {
   "cell_type": "markdown",
   "id": "c7794207",
   "metadata": {},
   "source": [
    "At CV = 10, R2 score of model and CV score difference is minimal (0.007). This infers that there is no issue of overfitting"
   ]
  },
  {
   "cell_type": "code",
   "execution_count": 108,
   "id": "0e79fa85",
   "metadata": {},
   "outputs": [
    {
     "name": "stdout",
     "output_type": "stream",
     "text": [
      "RandomForestRegressor(criterion='absolute_error', max_depth=10, n_estimators=50)\n"
     ]
    }
   ],
   "source": [
    "#Hyper parameter tuning for random forest regressor\n",
    "model = RandomForestRegressor()\n",
    "parameters = {'n_estimators':[50,100,150], \n",
    "              'criterion':[\"squared_error\", \"absolute_error\", \"poisson\"], \n",
    "              'max_depth':[2,4,6,8,10], \n",
    "              'max_features' : [\"auto\", \"sqrt\", \"log2\"]}\n",
    "gsv = GridSearchCV(model, parameters)\n",
    "gsv.fit(xtr,ytr)\n",
    "print(gsv.best_estimator_)"
   ]
  },
  {
   "cell_type": "code",
   "execution_count": 109,
   "id": "22755bdf",
   "metadata": {},
   "outputs": [
    {
     "name": "stdout",
     "output_type": "stream",
     "text": [
      "Test score in percentage = 98.48125532172679 \n",
      "\n",
      "Mean absolute error = 0.5250749999999994 \n",
      "\n",
      "Root mean squared error = 0.6717634442272058 \n",
      "\n"
     ]
    }
   ],
   "source": [
    "#Trainig model as per best parameters\n",
    "model = RandomForestRegressor(criterion='absolute_error', max_depth=10, n_estimators=50)\n",
    "model.fit(xtr,ytr)\n",
    "predyt = model.predict(xt)\n",
    "testscore = r2_score(yt, predyt)\n",
    "print('Test score in percentage =',(r2_score(yt,predyt)*100),'\\n')\n",
    "print('Mean absolute error =',(mean_absolute_error(yt,predyt)),'\\n')\n",
    "print('Root mean squared error =',(np.sqrt(mean_squared_error(yt,predyt))),'\\n')"
   ]
  },
  {
   "cell_type": "code",
   "execution_count": 110,
   "id": "3a710659",
   "metadata": {},
   "outputs": [
    {
     "name": "stdout",
     "output_type": "stream",
     "text": [
      "r2_score of test = 0.9848125532172679 \n",
      "\n",
      "At CV = 2\n",
      "CV score = 0.9709623809406274 \n",
      "\n",
      "At CV = 3\n",
      "CV score = 0.9744469251835449 \n",
      "\n",
      "At CV = 4\n",
      "CV score = 0.9773705867580067 \n",
      "\n",
      "At CV = 5\n",
      "CV score = 0.9755353196436716 \n",
      "\n",
      "At CV = 6\n",
      "CV score = 0.9778146634137678 \n",
      "\n",
      "At CV = 7\n",
      "CV score = 0.9775409620804397 \n",
      "\n",
      "At CV = 8\n",
      "CV score = 0.9778801501436125 \n",
      "\n",
      "At CV = 9\n",
      "CV score = 0.9776312211415965 \n",
      "\n",
      "At CV = 10\n",
      "CV score = 0.9794789197765154 \n",
      "\n"
     ]
    }
   ],
   "source": [
    "#Again cross validation to check overfitting\n",
    "predyt = model.predict(xt)\n",
    "lss = r2_score(yt, predyt)\n",
    "print('r2_score of test =',lss,'\\n')\n",
    "\n",
    "for i in range(2,11):\n",
    "    lsc = cross_val_score(model,x,y,cv=i)\n",
    "    print('At CV =',i)\n",
    "    print('CV score =',lsc.mean(),'\\n')"
   ]
  },
  {
   "cell_type": "markdown",
   "id": "12f70e85",
   "metadata": {},
   "source": [
    "At CV = 10, R2 score of model and CV score difference is minimal (0.006). This infers that there is no issue of overfitting"
   ]
  },
  {
   "cell_type": "code",
   "execution_count": 111,
   "id": "cdf536c2",
   "metadata": {},
   "outputs": [
    {
     "name": "stdout",
     "output_type": "stream",
     "text": [
      "Test score in percentage = 95.42205289922627 \n",
      "\n",
      "Mean absolute error = 0.8825 \n",
      "\n",
      "Root mean squared error = 1.166297560659371\n"
     ]
    }
   ],
   "source": [
    "# Decision tree regressor\n",
    "from sklearn.tree import DecisionTreeRegressor\n",
    "model = DecisionTreeRegressor()\n",
    "model.fit(xtr,ytr)\n",
    "predyt = model.predict(xt)\n",
    "print('Test score in percentage =',(r2_score(yt,predyt)*100),'\\n')\n",
    "print('Mean absolute error =',(mean_absolute_error(yt,predyt)),'\\n')\n",
    "print('Root mean squared error =',(np.sqrt(mean_squared_error(yt,predyt))))"
   ]
  },
  {
   "cell_type": "code",
   "execution_count": 112,
   "id": "d4bd4cd0",
   "metadata": {},
   "outputs": [
    {
     "name": "stdout",
     "output_type": "stream",
     "text": [
      "r2_score of test = 0.9542205289922627 \n",
      "\n",
      "At CV = 2\n",
      "CV score = 0.9226696049186223 \n",
      "\n",
      "At CV = 3\n",
      "CV score = 0.9418079542442269 \n",
      "\n",
      "At CV = 4\n",
      "CV score = 0.9370582646851165 \n",
      "\n",
      "At CV = 5\n",
      "CV score = 0.9488147636252352 \n",
      "\n",
      "At CV = 6\n",
      "CV score = 0.9383334600455656 \n",
      "\n",
      "At CV = 7\n",
      "CV score = 0.9443322534398316 \n",
      "\n",
      "At CV = 8\n",
      "CV score = 0.943613443909307 \n",
      "\n",
      "At CV = 9\n",
      "CV score = 0.9336645022473967 \n",
      "\n",
      "At CV = 10\n",
      "CV score = 0.9521640796191818 \n",
      "\n"
     ]
    }
   ],
   "source": [
    "#Cross validation to check overfitting\n",
    "predyt = model.predict(xt)\n",
    "lss = r2_score(yt, predyt)\n",
    "print('r2_score of test =',lss,'\\n')\n",
    "\n",
    "for i in range(2,11):\n",
    "    lsc = cross_val_score(model,x,y,cv=i)\n",
    "    print('At CV =',i)\n",
    "    print('CV score =',lsc.mean(),'\\n')"
   ]
  },
  {
   "cell_type": "markdown",
   "id": "cf528775",
   "metadata": {},
   "source": [
    "At CV = 10, R2 score of model and CV score difference is minimal(i.e, 0.002). This infers that there is no issue of overfitting"
   ]
  },
  {
   "cell_type": "code",
   "execution_count": 123,
   "id": "1835ab55",
   "metadata": {},
   "outputs": [
    {
     "name": "stdout",
     "output_type": "stream",
     "text": [
      "DecisionTreeRegressor(criterion='absolute_error', max_depth=10)\n"
     ]
    }
   ],
   "source": [
    "#Hyper parameter tuning for decesion tree regressor\n",
    "parameters = {'criterion':[\"squared_error\", \"absolute_error\", \"poisson\"], \n",
    "              'max_depth':[2,4,6,8,10], \n",
    "              'splitter' : [\"best\", \"random\"]}\n",
    "gsv = GridSearchCV(model, parameters)\n",
    "gsv.fit(xtr,ytr)\n",
    "print(gsv.best_estimator_)"
   ]
  },
  {
   "cell_type": "code",
   "execution_count": 124,
   "id": "4861deff",
   "metadata": {},
   "outputs": [
    {
     "name": "stdout",
     "output_type": "stream",
     "text": [
      "Test score in percentage = 96.2272532990499 \n",
      "\n",
      "Mean absolute error = 0.8550000000000001 \n",
      "\n",
      "Root mean squared error = 1.058772874605314 \n",
      "\n"
     ]
    }
   ],
   "source": [
    "#Trainig model as per best parameters\n",
    "model = DecisionTreeRegressor(criterion='absolute_error', max_depth=10)\n",
    "model.fit(xtr,ytr)\n",
    "predyt = model.predict(xt)\n",
    "print('Test score in percentage =',(r2_score(yt,predyt)*100),'\\n')\n",
    "print('Mean absolute error =',(mean_absolute_error(yt,predyt)),'\\n')\n",
    "print('Root mean squared error =',(np.sqrt(mean_squared_error(yt,predyt))),'\\n')"
   ]
  },
  {
   "cell_type": "code",
   "execution_count": 125,
   "id": "16b3975c",
   "metadata": {},
   "outputs": [
    {
     "name": "stdout",
     "output_type": "stream",
     "text": [
      "r2_score of test = 0.9622725329904991 \n",
      "\n",
      "At CV = 2\n",
      "CV score = 0.9180663639979634 \n",
      "\n",
      "At CV = 3\n",
      "CV score = 0.9342293745104066 \n",
      "\n",
      "At CV = 4\n",
      "CV score = 0.9509173644257067 \n",
      "\n",
      "At CV = 5\n",
      "CV score = 0.9423963375093631 \n",
      "\n",
      "At CV = 6\n",
      "CV score = 0.9556148313910106 \n",
      "\n",
      "At CV = 7\n",
      "CV score = 0.9464882159071308 \n",
      "\n",
      "At CV = 8\n",
      "CV score = 0.9496753231620177 \n",
      "\n",
      "At CV = 9\n",
      "CV score = 0.9423532312173251 \n",
      "\n",
      "At CV = 10\n",
      "CV score = 0.9563089388581052 \n",
      "\n"
     ]
    }
   ],
   "source": [
    "#Again cross validation to check overfitting\n",
    "predyt = model.predict(xt)\n",
    "lss = r2_score(yt, predyt)\n",
    "print('r2_score of test =',lss,'\\n')\n",
    "\n",
    "for i in range(2,11):\n",
    "    lsc = cross_val_score(model,x,y,cv=i)\n",
    "    print('At CV =',i)\n",
    "    print('CV score =',lsc.mean(),'\\n')"
   ]
  },
  {
   "cell_type": "markdown",
   "id": "96fcd3c0",
   "metadata": {},
   "source": [
    "At CV = 10, R2 score of model and CV score difference is minimal (i.e, 0.006). This infers that there is no issue of overfitting"
   ]
  },
  {
   "cell_type": "code",
   "execution_count": 127,
   "id": "6a514ccf",
   "metadata": {},
   "outputs": [
    {
     "name": "stdout",
     "output_type": "stream",
     "text": [
      "Test score in percentage = 89.99635658040087 \n",
      "\n",
      "Mean absolute error = 1.0426697250154369 \n",
      "\n",
      "Root mean squared error = 1.7240628100243065 \n",
      "\n"
     ]
    }
   ],
   "source": [
    "# Support vector regressor\n",
    "from sklearn.svm import SVR\n",
    "model = SVR()\n",
    "model.fit(xtr,ytr)\n",
    "predyt = model.predict(xt)\n",
    "print('Test score in percentage =',(r2_score(yt,predyt)*100),'\\n')\n",
    "print('Mean absolute error =',(mean_absolute_error(yt,predyt)),'\\n')\n",
    "print('Root mean squared error =',(np.sqrt(mean_squared_error(yt,predyt))),'\\n')"
   ]
  },
  {
   "cell_type": "code",
   "execution_count": 130,
   "id": "62de1648",
   "metadata": {},
   "outputs": [
    {
     "name": "stdout",
     "output_type": "stream",
     "text": [
      "Test score in percentage = 98.79144119246853 \n",
      "\n",
      "Mean absolute error = 0.4553786286505982 \n",
      "\n",
      "Root mean squared error = 0.5992497701631886\n"
     ]
    }
   ],
   "source": [
    "# Gradient boosting regressor\n",
    "from sklearn.ensemble import GradientBoostingRegressor\n",
    "model = GradientBoostingRegressor()\n",
    "model.fit(xtr,ytr)\n",
    "predyt = model.predict(xt)\n",
    "print('Test score in percentage =',(r2_score(yt,predyt)*100),'\\n')\n",
    "print('Mean absolute error =',(mean_absolute_error(yt,predyt)),'\\n')\n",
    "print('Root mean squared error =',(np.sqrt(mean_squared_error(yt,predyt))))"
   ]
  },
  {
   "cell_type": "code",
   "execution_count": 129,
   "id": "45bd19e7",
   "metadata": {},
   "outputs": [
    {
     "name": "stdout",
     "output_type": "stream",
     "text": [
      "r2_score of test = 0.9879680719768894 \n",
      "\n",
      "At CV = 2\n",
      "CV score = 0.9740293542637286 \n",
      "\n",
      "At CV = 3\n",
      "CV score = 0.976985821377114 \n",
      "\n",
      "At CV = 4\n",
      "CV score = 0.9792181275510762 \n",
      "\n",
      "At CV = 5\n",
      "CV score = 0.9782231379184643 \n",
      "\n",
      "At CV = 6\n",
      "CV score = 0.9770155497833127 \n",
      "\n",
      "At CV = 7\n",
      "CV score = 0.9772390867015815 \n",
      "\n",
      "At CV = 8\n",
      "CV score = 0.9790992421406821 \n",
      "\n",
      "At CV = 9\n",
      "CV score = 0.9768292175839037 \n",
      "\n",
      "At CV = 10\n",
      "CV score = 0.9791064258154669 \n",
      "\n"
     ]
    }
   ],
   "source": [
    "#Cross validation to check overfitting\n",
    "predyt = model.predict(xt)\n",
    "lss = r2_score(yt, predyt)\n",
    "print('r2_score of test =',lss,'\\n')\n",
    "\n",
    "for i in range(2,11):\n",
    "    lsc = cross_val_score(model,x,y,cv=i)\n",
    "    print('At CV =',i)\n",
    "    print('CV score =',lsc.mean(),'\\n')"
   ]
  },
  {
   "cell_type": "markdown",
   "id": "b8f638ee",
   "metadata": {},
   "source": [
    "At CV = 4, R2 score of model and CV score difference is minimal (i.e, 0.008). This infers that there is no issue of overfitting"
   ]
  },
  {
   "cell_type": "code",
   "execution_count": 137,
   "id": "e8ae30c2",
   "metadata": {},
   "outputs": [
    {
     "name": "stdout",
     "output_type": "stream",
     "text": [
      "GradientBoostingRegressor(criterion='mae', max_depth=4, n_estimators=200)\n"
     ]
    }
   ],
   "source": [
    "# Hyper parameter tuning of Gradient boosting regressor\n",
    "parameters = {'criterion':['friedman_mse', 'squared_error', 'mae','mse'],\n",
    "              'n_estimators':[100,150,200], \n",
    "              'max_depth' : [4,6,8]}\n",
    "gsv = GridSearchCV(model, parameters)\n",
    "gsv.fit(xtr,ytr)\n",
    "print(gsv.best_estimator_)"
   ]
  },
  {
   "cell_type": "code",
   "execution_count": 141,
   "id": "4dec2e4f",
   "metadata": {},
   "outputs": [
    {
     "name": "stdout",
     "output_type": "stream",
     "text": [
      "Test score in percentage = 98.12003845984401 \n",
      "\n",
      "Mean absolute error = 0.6044994539157375 \n",
      "\n",
      "Root mean squared error = 0.7473920339340577 \n",
      "\n"
     ]
    }
   ],
   "source": [
    "#Trainig model as per best parameters\n",
    "model = GradientBoostingRegressor(criterion='mae', max_depth=4, n_estimators=200)\n",
    "model.fit(xtr,ytr)\n",
    "predyt = model.predict(xt)\n",
    "print('Test score in percentage =',(r2_score(yt,predyt)*100),'\\n')\n",
    "print('Mean absolute error =',(mean_absolute_error(yt,predyt)),'\\n')\n",
    "print('Root mean squared error =',(np.sqrt(mean_squared_error(yt,predyt))),'\\n')"
   ]
  },
  {
   "cell_type": "code",
   "execution_count": 142,
   "id": "2c2de4be",
   "metadata": {},
   "outputs": [
    {
     "name": "stdout",
     "output_type": "stream",
     "text": [
      "r2_score of test = 0.9812003845984402 \n",
      "\n",
      "At CV = 2\n",
      "CV score = 0.9694273477248374 \n",
      "\n",
      "At CV = 3\n",
      "CV score = 0.9751964370753335 \n",
      "\n",
      "At CV = 4\n",
      "CV score = 0.9792843465422437 \n",
      "\n",
      "At CV = 5\n",
      "CV score = 0.9755027891439736 \n",
      "\n",
      "At CV = 6\n",
      "CV score = 0.97668188630088 \n",
      "\n",
      "At CV = 7\n",
      "CV score = 0.9765129003173484 \n",
      "\n",
      "At CV = 8\n",
      "CV score = 0.9781667680613936 \n",
      "\n",
      "At CV = 9\n",
      "CV score = 0.9763568677058702 \n",
      "\n",
      "At CV = 10\n",
      "CV score = 0.9800780499038246 \n",
      "\n"
     ]
    }
   ],
   "source": [
    "#Again cross validation to check overfitting\n",
    "predyt = model.predict(xt)\n",
    "lss = r2_score(yt, predyt)\n",
    "print('r2_score of test =',lss,'\\n')\n",
    "\n",
    "for i in range(2,11):\n",
    "    lsc = cross_val_score(model,x,y,cv=i)\n",
    "    print('At CV =',i)\n",
    "    print('CV score =',lsc.mean(),'\\n')"
   ]
  },
  {
   "cell_type": "markdown",
   "id": "eb648df7",
   "metadata": {},
   "source": [
    "At CV = 10, R2 score of model and CV score difference is minimal (i.e, 0.001). This infers that there is no issue of overfitting"
   ]
  },
  {
   "cell_type": "markdown",
   "id": "762af458",
   "metadata": {},
   "source": [
    "Therefore Gradient boosting regressor model has given best performance\n",
    "\n",
    "Test score in percentage = 98.12003845984401 \n",
    "\n",
    "Mean absolute error = 0.6044994539157375 \n",
    "\n",
    "Root mean squared error = 0.7473920339340577\n",
    "\n",
    "And difference between CV score and R2score of Test data is minimal (0.001) observed after hyperparameter tuning\n",
    "\n",
    "So we shall slect this model for saving"
   ]
  },
  {
   "cell_type": "code",
   "execution_count": 161,
   "id": "806e4ff3",
   "metadata": {},
   "outputs": [
    {
     "data": {
      "image/png": "[encoded data removed]",
      "text/plain": [
       "<Figure size 432x288 with 1 Axes>"
      ]
     },
     "metadata": {
      "needs_background": "light"
     },
     "output_type": "display_data"
    }
   ],
   "source": [
    "#Predicted data vs actual test data\n",
    "predyt = model.predict(xt)\n",
    "actualyt = yt\n",
    "plt.figure()\n",
    "plt.scatter(predyt, actualyt, color = 'k', alpha=0.5)\n",
    "plt.plot([min(predyt),max(actualyt)], [min(predyt),max(actualyt)], 'k-', color = 'r')\n",
    "plt.show()"
   ]
  },
  {
   "cell_type": "code",
   "execution_count": 162,
   "id": "b9e3372b",
   "metadata": {},
   "outputs": [],
   "source": [
    "import pickle\n",
    "filename='advertise.pkl'\n",
    "pickle.dump(model,open(filename,'wb'))"
   ]
  }
 ],
 "metadata": {
  "kernelspec": {
   "display_name": "Python 3",
   "language": "python",
   "name": "python3"
  },
  "language_info": {
   "codemirror_mode": {
    "name": "ipython",
    "version": 3
   },
   "file_extension": ".py",
   "mimetype": "text/x-python",
   "name": "python",
   "nbconvert_exporter": "python",
   "pygments_lexer": "ipython3",
   "version": "3.8.8"
  }
 },
 "nbformat": 4,
 "nbformat_minor": 5
}
