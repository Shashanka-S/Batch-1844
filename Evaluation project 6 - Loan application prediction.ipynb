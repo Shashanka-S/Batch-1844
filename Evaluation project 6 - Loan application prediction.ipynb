{
 "cells": [
  {
   "cell_type": "code",
   "execution_count": 81,
   "id": "c5cfe3af",
   "metadata": {},
   "outputs": [],
   "source": [
    "#importing required libraries\n",
    "import pandas as pd\n",
    "import numpy as np\n",
    "import seaborn as sns\n",
    "import matplotlib.pyplot as plt\n",
    "\n",
    "import warnings\n",
    "warnings.filterwarnings('ignore')"
   ]
  },
  {
   "cell_type": "code",
   "execution_count": 82,
   "id": "3136cad1",
   "metadata": {},
   "outputs": [
    {
     "data": {
      "text/html": [
       "<div>\n",
       "<style scoped>\n",
       "    .dataframe tbody tr th:only-of-type {\n",
       "        vertical-align: middle;\n",
       "    }\n",
       "\n",
       "    .dataframe tbody tr th {\n",
       "        vertical-align: top;\n",
       "    }\n",
       "\n",
       "    .dataframe thead th {\n",
       "        text-align: right;\n",
       "    }\n",
       "</style>\n",
       "<table border=\"1\" class=\"dataframe\">\n",
       "  <thead>\n",
       "    <tr style=\"text-align: right;\">\n",
       "      <th></th>\n",
       "      <th>Loan_ID</th>\n",
       "      <th>Gender</th>\n",
       "      <th>Married</th>\n",
       "      <th>Dependents</th>\n",
       "      <th>Education</th>\n",
       "      <th>Self_Employed</th>\n",
       "      <th>ApplicantIncome</th>\n",
       "      <th>CoapplicantIncome</th>\n",
       "      <th>LoanAmount</th>\n",
       "      <th>Loan_Amount_Term</th>\n",
       "      <th>Credit_History</th>\n",
       "      <th>Property_Area</th>\n",
       "      <th>Loan_Status</th>\n",
       "    </tr>\n",
       "  </thead>\n",
       "  <tbody>\n",
       "    <tr>\n",
       "      <th>0</th>\n",
       "      <td>LP001002</td>\n",
       "      <td>Male</td>\n",
       "      <td>No</td>\n",
       "      <td>0</td>\n",
       "      <td>Graduate</td>\n",
       "      <td>No</td>\n",
       "      <td>5849</td>\n",
       "      <td>0.0</td>\n",
       "      <td>NaN</td>\n",
       "      <td>360.0</td>\n",
       "      <td>1.0</td>\n",
       "      <td>Urban</td>\n",
       "      <td>Y</td>\n",
       "    </tr>\n",
       "    <tr>\n",
       "      <th>1</th>\n",
       "      <td>LP001003</td>\n",
       "      <td>Male</td>\n",
       "      <td>Yes</td>\n",
       "      <td>1</td>\n",
       "      <td>Graduate</td>\n",
       "      <td>No</td>\n",
       "      <td>4583</td>\n",
       "      <td>1508.0</td>\n",
       "      <td>128.0</td>\n",
       "      <td>360.0</td>\n",
       "      <td>1.0</td>\n",
       "      <td>Rural</td>\n",
       "      <td>N</td>\n",
       "    </tr>\n",
       "    <tr>\n",
       "      <th>2</th>\n",
       "      <td>LP001005</td>\n",
       "      <td>Male</td>\n",
       "      <td>Yes</td>\n",
       "      <td>0</td>\n",
       "      <td>Graduate</td>\n",
       "      <td>Yes</td>\n",
       "      <td>3000</td>\n",
       "      <td>0.0</td>\n",
       "      <td>66.0</td>\n",
       "      <td>360.0</td>\n",
       "      <td>1.0</td>\n",
       "      <td>Urban</td>\n",
       "      <td>Y</td>\n",
       "    </tr>\n",
       "    <tr>\n",
       "      <th>3</th>\n",
       "      <td>LP001006</td>\n",
       "      <td>Male</td>\n",
       "      <td>Yes</td>\n",
       "      <td>0</td>\n",
       "      <td>Not Graduate</td>\n",
       "      <td>No</td>\n",
       "      <td>2583</td>\n",
       "      <td>2358.0</td>\n",
       "      <td>120.0</td>\n",
       "      <td>360.0</td>\n",
       "      <td>1.0</td>\n",
       "      <td>Urban</td>\n",
       "      <td>Y</td>\n",
       "    </tr>\n",
       "    <tr>\n",
       "      <th>4</th>\n",
       "      <td>LP001008</td>\n",
       "      <td>Male</td>\n",
       "      <td>No</td>\n",
       "      <td>0</td>\n",
       "      <td>Graduate</td>\n",
       "      <td>No</td>\n",
       "      <td>6000</td>\n",
       "      <td>0.0</td>\n",
       "      <td>141.0</td>\n",
       "      <td>360.0</td>\n",
       "      <td>1.0</td>\n",
       "      <td>Urban</td>\n",
       "      <td>Y</td>\n",
       "    </tr>\n",
       "  </tbody>\n",
       "</table>\n",
       "</div>"
      ],
      "text/plain": [
       "    Loan_ID Gender Married Dependents     Education Self_Employed  \\\n",
       "0  LP001002   Male      No          0      Graduate            No   \n",
       "1  LP001003   Male     Yes          1      Graduate            No   \n",
       "2  LP001005   Male     Yes          0      Graduate           Yes   \n",
       "3  LP001006   Male     Yes          0  Not Graduate            No   \n",
       "4  LP001008   Male      No          0      Graduate            No   \n",
       "\n",
       "   ApplicantIncome  CoapplicantIncome  LoanAmount  Loan_Amount_Term  \\\n",
       "0             5849                0.0         NaN             360.0   \n",
       "1             4583             1508.0       128.0             360.0   \n",
       "2             3000                0.0        66.0             360.0   \n",
       "3             2583             2358.0       120.0             360.0   \n",
       "4             6000                0.0       141.0             360.0   \n",
       "\n",
       "   Credit_History Property_Area Loan_Status  \n",
       "0             1.0         Urban           Y  \n",
       "1             1.0         Rural           N  \n",
       "2             1.0         Urban           Y  \n",
       "3             1.0         Urban           Y  \n",
       "4             1.0         Urban           Y  "
      ]
     },
     "execution_count": 82,
     "metadata": {},
     "output_type": "execute_result"
    }
   ],
   "source": [
    "#importing or loading the dataset\n",
    "df = pd.read_csv('loan.csv')\n",
    "df.head()"
   ]
  },
  {
   "cell_type": "markdown",
   "id": "bdab6ea1",
   "metadata": {},
   "source": [
    "Problem Statement:\n",
    "\n",
    "This dataset includes details of applicants who have applied for loan. The dataset includes details like credit history, loan amount, their income, dependents etc. \n",
    "\n",
    "Independent Variables:\n",
    "\n",
    "- Loan_ID\n",
    "\n",
    "- Gender\n",
    "\n",
    "- Married\n",
    "\n",
    "- Dependents\n",
    "\n",
    "- Education\n",
    "\n",
    "- Self_Employed\n",
    "\n",
    "- ApplicantIncome\n",
    "\n",
    "- CoapplicantIncome\n",
    "\n",
    "- Loan_Amount\n",
    "\n",
    "- Loan_Amount_Term\n",
    "\n",
    "- Credit History\n",
    "\n",
    "- Property_Area\n",
    "\n",
    "Dependent Variable (Target Variable):\n",
    "\n",
    "- Loan_Status\n",
    "\n",
    "You have to build a model that can predict whether the loan of the applicant will be approved or not on the basis of the details provided in the dataset. "
   ]
  },
  {
   "cell_type": "markdown",
   "id": "8d56c603",
   "metadata": {},
   "source": [
    "Explanation:\n",
    "    \n",
    "Loan ID: Nominal/text data the identifier code of each applicant.\n",
    "\n",
    "Gender: Categorical data, Male or Female for each applicant.\n",
    "\n",
    "Married: Categorical data, the maritage state.\n",
    "\n",
    "Dependents: Numerical discrete data, how many dependents does the applicant have\n",
    "\n",
    "Education: Categorical ordinal data, the level of education, graduate or non graduate\n",
    "\n",
    "Self Employed: Categorical data, Yes or No in the case\n",
    "\n",
    "Applicant Income: Continuous numerical data\n",
    "\n",
    "Coapplicant Income: Continuous numerical data\n",
    "\n",
    "Loan Amount: Continuous numerical data\n",
    "\n",
    "Loan Amount Term: Discrete numerical data\n",
    "\n",
    "Credit History: Categorical data, just Yes or No in the case\n",
    "\n",
    "Property Area: Categorical data, urban, semiurban or rural area of the applicant’s property\n",
    "\n",
    "Loan Status: Categorical data, Yes or No ( The target Variable to be predicted)"
   ]
  },
  {
   "cell_type": "code",
   "execution_count": 83,
   "id": "387cc746",
   "metadata": {},
   "outputs": [
    {
     "data": {
      "text/plain": [
       "(614, 13)"
      ]
     },
     "execution_count": 83,
     "metadata": {},
     "output_type": "execute_result"
    }
   ],
   "source": [
    "#Checking for data shape\n",
    "df.shape"
   ]
  },
  {
   "cell_type": "code",
   "execution_count": 84,
   "id": "ed6ffc60",
   "metadata": {},
   "outputs": [
    {
     "data": {
      "text/plain": [
       "Loan_ID               object\n",
       "Gender                object\n",
       "Married               object\n",
       "Dependents            object\n",
       "Education             object\n",
       "Self_Employed         object\n",
       "ApplicantIncome        int64\n",
       "CoapplicantIncome    float64\n",
       "LoanAmount           float64\n",
       "Loan_Amount_Term     float64\n",
       "Credit_History       float64\n",
       "Property_Area         object\n",
       "Loan_Status           object\n",
       "dtype: object"
      ]
     },
     "execution_count": 84,
     "metadata": {},
     "output_type": "execute_result"
    }
   ],
   "source": [
    "#Checking data types\n",
    "df.dtypes"
   ]
  },
  {
   "cell_type": "code",
   "execution_count": 85,
   "id": "34b23508",
   "metadata": {},
   "outputs": [
    {
     "data": {
      "text/plain": [
       "Loan_ID               0\n",
       "Gender               13\n",
       "Married               3\n",
       "Dependents           15\n",
       "Education             0\n",
       "Self_Employed        32\n",
       "ApplicantIncome       0\n",
       "CoapplicantIncome     0\n",
       "LoanAmount           22\n",
       "Loan_Amount_Term     14\n",
       "Credit_History       50\n",
       "Property_Area         0\n",
       "Loan_Status           0\n",
       "dtype: int64"
      ]
     },
     "execution_count": 85,
     "metadata": {},
     "output_type": "execute_result"
    }
   ],
   "source": [
    "#Checking any null values\n",
    "df.isnull().sum()"
   ]
  },
  {
   "cell_type": "markdown",
   "id": "8494be51",
   "metadata": {},
   "source": [
    "We need to handle this NaN values before training the model"
   ]
  },
  {
   "cell_type": "code",
   "execution_count": 86,
   "id": "622d48ff",
   "metadata": {},
   "outputs": [
    {
     "data": {
      "text/plain": [
       "(array([], dtype=int64), array([], dtype=int64))"
      ]
     },
     "execution_count": 86,
     "metadata": {},
     "output_type": "execute_result"
    }
   ],
   "source": [
    "#Checking any blank or white spaces\n",
    "np.where(df.applymap(lambda x: x == ' '))"
   ]
  },
  {
   "cell_type": "code",
   "execution_count": 87,
   "id": "cb0def2c",
   "metadata": {},
   "outputs": [
    {
     "name": "stdout",
     "output_type": "stream",
     "text": [
      "For column of Loan_ID : True\n",
      "For column of Gender : False\n",
      "For column of Married : False\n",
      "For column of Dependents : False\n",
      "For column of Education : False\n",
      "For column of Self_Employed : False\n",
      "For column of ApplicantIncome : False\n",
      "For column of CoapplicantIncome : False\n",
      "For column of LoanAmount : False\n",
      "For column of Loan_Amount_Term : False\n",
      "For column of Credit_History : False\n",
      "For column of Property_Area : False\n",
      "For column of Loan_Status : False\n"
     ]
    }
   ],
   "source": [
    "#Checking if all entries of a column is unique or not\n",
    "for i in df.columns:\n",
    "    print('For column of {} :'.format(i),(len(df[i].unique())==len(df[i])))"
   ]
  },
  {
   "cell_type": "markdown",
   "id": "a200646f",
   "metadata": {},
   "source": [
    "Loan_ID is having all unique entries and act justlike indexing column\n",
    "\n",
    "Lets us drop this column"
   ]
  },
  {
   "cell_type": "code",
   "execution_count": 88,
   "id": "59050483",
   "metadata": {},
   "outputs": [],
   "source": [
    "#Dropping Loan_ID column\n",
    "df = df.drop('Loan_ID', axis=1)"
   ]
  },
  {
   "cell_type": "code",
   "execution_count": 89,
   "id": "a78ed866",
   "metadata": {},
   "outputs": [
    {
     "name": "stdout",
     "output_type": "stream",
     "text": [
      "Size before:  (614, 12)\n",
      "Size after:  (614, 12)\n"
     ]
    }
   ],
   "source": [
    "#Removing duplicate rows if any\n",
    "print('Size before: ',df.shape)\n",
    "df.drop_duplicates()\n",
    "print('Size after: ',df.shape)"
   ]
  },
  {
   "cell_type": "code",
   "execution_count": 90,
   "id": "43441bbb",
   "metadata": {},
   "outputs": [
    {
     "name": "stdout",
     "output_type": "stream",
     "text": [
      "<class 'pandas.core.frame.DataFrame'>\n",
      "RangeIndex: 614 entries, 0 to 613\n",
      "Data columns (total 12 columns):\n",
      " #   Column             Non-Null Count  Dtype  \n",
      "---  ------             --------------  -----  \n",
      " 0   Gender             601 non-null    object \n",
      " 1   Married            611 non-null    object \n",
      " 2   Dependents         599 non-null    object \n",
      " 3   Education          614 non-null    object \n",
      " 4   Self_Employed      582 non-null    object \n",
      " 5   ApplicantIncome    614 non-null    int64  \n",
      " 6   CoapplicantIncome  614 non-null    float64\n",
      " 7   LoanAmount         592 non-null    float64\n",
      " 8   Loan_Amount_Term   600 non-null    float64\n",
      " 9   Credit_History     564 non-null    float64\n",
      " 10  Property_Area      614 non-null    object \n",
      " 11  Loan_Status        614 non-null    object \n",
      "dtypes: float64(4), int64(1), object(7)\n",
      "memory usage: 57.7+ KB\n"
     ]
    }
   ],
   "source": [
    "#General information of dataset\n",
    "df.info()"
   ]
  },
  {
   "cell_type": "code",
   "execution_count": 91,
   "id": "acaa529e",
   "metadata": {},
   "outputs": [],
   "source": [
    "#Seperating categorical and numerical data data columns\n",
    "numerical = ['ApplicantIncome', 'CoapplicantIncome', 'LoanAmount','Loan_Amount_Term']\n",
    "categorical = ['Gender', 'Married', 'Dependents', 'Education', 'Self_Employed','Property_Area','Credit_History']\n",
    "target = ['Loan_Status']"
   ]
  },
  {
   "cell_type": "code",
   "execution_count": 92,
   "id": "faf218ad",
   "metadata": {},
   "outputs": [
    {
     "name": "stdout",
     "output_type": "stream",
     "text": [
      "Male      489\n",
      "Female    112\n",
      "Name: Gender, dtype: int64 \n",
      "\n",
      "Yes    398\n",
      "No     213\n",
      "Name: Married, dtype: int64 \n",
      "\n",
      "0     345\n",
      "1     102\n",
      "2     101\n",
      "3+     51\n",
      "Name: Dependents, dtype: int64 \n",
      "\n",
      "Graduate        480\n",
      "Not Graduate    134\n",
      "Name: Education, dtype: int64 \n",
      "\n",
      "No     500\n",
      "Yes     82\n",
      "Name: Self_Employed, dtype: int64 \n",
      "\n",
      "Semiurban    233\n",
      "Urban        202\n",
      "Rural        179\n",
      "Name: Property_Area, dtype: int64 \n",
      "\n",
      "1.0    475\n",
      "0.0     89\n",
      "Name: Credit_History, dtype: int64 \n",
      "\n"
     ]
    }
   ],
   "source": [
    "#Checking of value counts in each columns categorical data\n",
    "for i in categorical:\n",
    "    print(df[i].value_counts(),'\\n')"
   ]
  },
  {
   "cell_type": "code",
   "execution_count": 93,
   "id": "699c65a8",
   "metadata": {},
   "outputs": [
    {
     "name": "stdout",
     "output_type": "stream",
     "text": [
      "2500    9\n",
      "6000    6\n",
      "2600    6\n",
      "4583    6\n",
      "4166    5\n",
      "       ..\n",
      "5503    1\n",
      "3450    1\n",
      "2425    1\n",
      "2423    1\n",
      "4095    1\n",
      "Name: ApplicantIncome, Length: 505, dtype: int64 \n",
      "\n",
      "0.0       273\n",
      "2500.0      5\n",
      "2083.0      5\n",
      "1666.0      5\n",
      "1625.0      3\n",
      "         ... \n",
      "2365.0      1\n",
      "1695.0      1\n",
      "2466.0      1\n",
      "2375.0      1\n",
      "1700.0      1\n",
      "Name: CoapplicantIncome, Length: 287, dtype: int64 \n",
      "\n",
      "120.0    20\n",
      "110.0    17\n",
      "100.0    15\n",
      "160.0    12\n",
      "187.0    12\n",
      "         ..\n",
      "211.0     1\n",
      "250.0     1\n",
      "62.0      1\n",
      "85.0      1\n",
      "436.0     1\n",
      "Name: LoanAmount, Length: 203, dtype: int64 \n",
      "\n",
      "360.0    512\n",
      "180.0     44\n",
      "480.0     15\n",
      "300.0     13\n",
      "84.0       4\n",
      "240.0      4\n",
      "120.0      3\n",
      "36.0       2\n",
      "60.0       2\n",
      "12.0       1\n",
      "Name: Loan_Amount_Term, dtype: int64 \n",
      "\n"
     ]
    }
   ],
   "source": [
    "#Checking of value counts in each columns of numerical data\n",
    "for i in numerical:\n",
    "    print(df[i].value_counts(),'\\n')"
   ]
  },
  {
   "cell_type": "code",
   "execution_count": 94,
   "id": "16c486ac",
   "metadata": {},
   "outputs": [
    {
     "data": {
      "text/plain": [
       "Gender               0\n",
       "Married              0\n",
       "Dependents           0\n",
       "Education            0\n",
       "Self_Employed        0\n",
       "ApplicantIncome      0\n",
       "CoapplicantIncome    0\n",
       "LoanAmount           0\n",
       "Loan_Amount_Term     0\n",
       "Credit_History       0\n",
       "Property_Area        0\n",
       "Loan_Status          0\n",
       "dtype: int64"
      ]
     },
     "execution_count": 94,
     "metadata": {},
     "output_type": "execute_result"
    }
   ],
   "source": [
    "#NaN handling\n",
    "#replace it by mode for categorical data\n",
    "df['Married'] = df['Married'].fillna(df['Married'].mode()[0])\n",
    "df['Gender'] = df['Gender'].fillna(df['Gender'].mode()[0])\n",
    "df['Dependents'] = df['Dependents'].fillna(df['Dependents'].mode()[0])\n",
    "df['Self_Employed'] = df['Self_Employed'].fillna(df['Self_Employed'].mode()[0])\n",
    "df['Credit_History'] = df['Credit_History'].fillna(df['Credit_History'].mode()[0])\n",
    "\n",
    "#replace it by mean for numerical data\n",
    "df['LoanAmount'] = df['LoanAmount'].fillna(df['LoanAmount'].mean())\n",
    "df['Loan_Amount_Term'] = df['Loan_Amount_Term'].fillna(df['Loan_Amount_Term'].mean())\n",
    "\n",
    "#Check for any null values\n",
    "df.isnull().sum()"
   ]
  },
  {
   "cell_type": "code",
   "execution_count": 95,
   "id": "d1b5067d",
   "metadata": {},
   "outputs": [
    {
     "data": {
      "image/png": "[encoded data removed]",
      "text/plain": [
       "<Figure size 1080x1080 with 4 Axes>"
      ]
     },
     "metadata": {
      "needs_background": "light"
     },
     "output_type": "display_data"
    }
   ],
   "source": [
    "#Checking of histogram each columns having numerical data\n",
    "plt.figure(figsize=(15,15))\n",
    "pltno = 1\n",
    "for columns in numerical:\n",
    "    if pltno <=4:\n",
    "        ax = plt.subplot(2,2,pltno)\n",
    "        sns.histplot(df[columns])\n",
    "        plt.xlabel(columns, fontsize=15)       \n",
    "    pltno += 1\n",
    "plt.show()"
   ]
  },
  {
   "cell_type": "code",
   "execution_count": 96,
   "id": "5bc15cca",
   "metadata": {},
   "outputs": [
    {
     "data": {
      "image/png": "[encoded data removed]",
      "text/plain": [
       "<Figure size 1080x1080 with 4 Axes>"
      ]
     },
     "metadata": {
      "needs_background": "light"
     },
     "output_type": "display_data"
    }
   ],
   "source": [
    "#Checking of distribution plot of each columns having numerical data\n",
    "plt.figure(figsize=(15,15))\n",
    "pltno = 1\n",
    "for columns in numerical:\n",
    "    if pltno <=4:\n",
    "        ax = plt.subplot(2,2,pltno)\n",
    "        sns.distplot(df[columns], kde = True)\n",
    "        plt.xlabel(columns, fontsize=15)       \n",
    "    pltno += 1\n",
    "plt.show()"
   ]
  },
  {
   "cell_type": "markdown",
   "id": "a9a03ac8",
   "metadata": {},
   "source": [
    "Applicant income, Co-applicant income and loan amount are of right skewed data\n",
    "\n",
    "Majority of Loan terms are of 350"
   ]
  },
  {
   "cell_type": "code",
   "execution_count": 97,
   "id": "6cd24f63",
   "metadata": {},
   "outputs": [
    {
     "data": {
      "image/png": "[encoded data removed]",
      "text/plain": [
       "<Figure size 2160x3960 with 7 Axes>"
      ]
     },
     "metadata": {
      "needs_background": "light"
     },
     "output_type": "display_data"
    }
   ],
   "source": [
    "#Categorical\n",
    "#Checking of value counts in each columns having categorical data\n",
    "plt.figure(figsize=(30,55))\n",
    "pltno = 1\n",
    "for columns in categorical:\n",
    "    if pltno <=8:\n",
    "        ax = plt.subplot(4,2,pltno)\n",
    "        sns.countplot(df[columns])\n",
    "        plt.xlabel(columns, fontsize=25) \n",
    "    pltno += 1\n",
    "plt.show()"
   ]
  },
  {
   "cell_type": "markdown",
   "id": "7fc40f1b",
   "metadata": {},
   "source": [
    "Majority of applicants are: Male, married, having 0 dependents, graduates, self employed, living in semi urban area and having previous credit history"
   ]
  },
  {
   "cell_type": "code",
   "execution_count": 98,
   "id": "b3333236",
   "metadata": {},
   "outputs": [
    {
     "data": {
      "image/png": "[encoded data removed]",
      "text/plain": [
       "<Figure size 432x288 with 1 Axes>"
      ]
     },
     "metadata": {
      "needs_background": "light"
     },
     "output_type": "display_data"
    },
    {
     "data": {
      "image/png": "[encoded data removed]",
      "text/plain": [
       "<Figure size 360x360 with 1 Axes>"
      ]
     },
     "metadata": {},
     "output_type": "display_data"
    }
   ],
   "source": [
    "#Checking of value counts in target variable\n",
    "sns.countplot(df['Loan_Status'])\n",
    "plt.show()\n",
    "\n",
    "var = 'Loan_Status'\n",
    "plt.figure(figsize=(5,5))\n",
    "data = list(df[var].value_counts())\n",
    "plt.pie(data, labels= ['Y','N'], autopct='%1.1f%%', explode=[0.1,0.1], shadow=True)\n",
    "plt.axis('equal')\n",
    "plt.title(var)\n",
    "plt.show()"
   ]
  },
  {
   "cell_type": "markdown",
   "id": "eebeeb40",
   "metadata": {},
   "source": [
    "Loan status is in ratio Y:N as 2:1\n",
    "        \n",
    "This can be balanced using oversampling technique for better prediction model performance"
   ]
  },
  {
   "cell_type": "code",
   "execution_count": 99,
   "id": "0ee02ac3",
   "metadata": {},
   "outputs": [
    {
     "data": {
      "image/png": "[encoded data removed]",
      "text/plain": [
       "<Figure size 720x360 with 1 Axes>"
      ]
     },
     "metadata": {
      "needs_background": "light"
     },
     "output_type": "display_data"
    },
    {
     "data": {
      "image/png": "[encoded data removed]",
      "text/plain": [
       "<Figure size 720x360 with 1 Axes>"
      ]
     },
     "metadata": {
      "needs_background": "light"
     },
     "output_type": "display_data"
    },
    {
     "data": {
      "image/png": "[encoded data removed]",
      "text/plain": [
       "<Figure size 720x360 with 1 Axes>"
      ]
     },
     "metadata": {
      "needs_background": "light"
     },
     "output_type": "display_data"
    }
   ],
   "source": [
    "#Loan approval status among different genders\n",
    "plt.figure(figsize=(10, 5))\n",
    "sns.countplot(df['Gender'], hue=df['Loan_Status'])\n",
    "plt.show()\n",
    "\n",
    "#Loan approval status among different marrital status\n",
    "plt.figure(figsize=(10, 5))\n",
    "sns.countplot(df['Married'], hue=df['Loan_Status'])\n",
    "plt.show()\n",
    "\n",
    "#Loan approval status among different marrital status\n",
    "plt.figure(figsize=(10, 5))\n",
    "sns.countplot(df['Education'], hue=df['Loan_Status'])\n",
    "plt.show()"
   ]
  },
  {
   "cell_type": "code",
   "execution_count": 100,
   "id": "e7f919a4",
   "metadata": {},
   "outputs": [
    {
     "data": {
      "image/png": "[encoded data removed]",
      "text/plain": [
       "<Figure size 720x360 with 1 Axes>"
      ]
     },
     "metadata": {
      "needs_background": "light"
     },
     "output_type": "display_data"
    },
    {
     "data": {
      "image/png": "[encoded data removed]",
      "text/plain": [
       "<Figure size 720x360 with 1 Axes>"
      ]
     },
     "metadata": {
      "needs_background": "light"
     },
     "output_type": "display_data"
    }
   ],
   "source": [
    "#Loan approval status based on credit history\n",
    "plt.figure(figsize=(10, 5))\n",
    "sns.countplot(df['Credit_History'], hue=df['Loan_Status'])\n",
    "plt.show()\n",
    "\n",
    "#Loan approval status among different area\n",
    "plt.figure(figsize=(10, 5))\n",
    "sns.countplot(df['Property_Area'], hue=df['Loan_Status'])\n",
    "plt.show()"
   ]
  },
  {
   "cell_type": "code",
   "execution_count": 101,
   "id": "d5f3c2e3",
   "metadata": {},
   "outputs": [],
   "source": [
    "#Encoding the target data\n",
    "df['Loan_Status'] = df['Loan_Status'].replace({\"Y\":1, \"N\":0 })"
   ]
  },
  {
   "cell_type": "code",
   "execution_count": 102,
   "id": "f6b97723",
   "metadata": {},
   "outputs": [
    {
     "data": {
      "image/png": "[encoded data removed]",
      "text/plain": [
       "<Figure size 1080x1080 with 42 Axes>"
      ]
     },
     "metadata": {
      "needs_background": "light"
     },
     "output_type": "display_data"
    }
   ],
   "source": [
    "#Plotting all possible bivariate plots together\n",
    "sns.pairplot(df)\n",
    "plt.show()"
   ]
  },
  {
   "cell_type": "markdown",
   "id": "02b931eb",
   "metadata": {},
   "source": [
    "Applicant income and loan amount exhibiting slight positive correlation"
   ]
  },
  {
   "cell_type": "code",
   "execution_count": 103,
   "id": "a2b0c1fe",
   "metadata": {},
   "outputs": [
    {
     "data": {
      "image/png": "[encoded data removed]",
      "text/plain": [
       "<Figure size 360x360 with 1 Axes>"
      ]
     },
     "metadata": {
      "needs_background": "light"
     },
     "output_type": "display_data"
    },
    {
     "data": {
      "image/png": "[encoded data removed]",
      "text/plain": [
       "<Figure size 360x360 with 1 Axes>"
      ]
     },
     "metadata": {
      "needs_background": "light"
     },
     "output_type": "display_data"
    }
   ],
   "source": [
    "#Vizualization of '4046', '4225', '4770' correlation with total volume\n",
    "plt.figure(figsize=(5,5))\n",
    "sns.regplot(y = df['LoanAmount'], x = df['ApplicantIncome'])\n",
    "plt.show()\n",
    "plt.figure(figsize=(5,5))\n",
    "sns.regplot(y = df['LoanAmount'], x = df['CoapplicantIncome'])\n",
    "plt.show()"
   ]
  },
  {
   "cell_type": "code",
   "execution_count": 104,
   "id": "daa6776c",
   "metadata": {},
   "outputs": [
    {
     "data": {
      "image/png": "[encoded data removed]",
      "text/plain": [
       "<Figure size 1440x720 with 3 Axes>"
      ]
     },
     "metadata": {
      "needs_background": "light"
     },
     "output_type": "display_data"
    }
   ],
   "source": [
    "#Outliers/noise checking for input numerical feature columns\n",
    "plt.figure(figsize=(20,10))\n",
    "pltno = 1\n",
    "for columns in numerical:\n",
    "    if pltno <=3:\n",
    "        ax = plt.subplot(2,2,pltno)\n",
    "        sns.boxplot(x = df[columns])\n",
    "        plt.xlabel(columns, fontsize=15)       \n",
    "    pltno += 1\n",
    "plt.show()"
   ]
  },
  {
   "cell_type": "markdown",
   "id": "d6ccb423",
   "metadata": {},
   "source": [
    "These 3 input feature columns has outliers, need to be handled before training the model"
   ]
  },
  {
   "cell_type": "code",
   "execution_count": 105,
   "id": "bb7f986e",
   "metadata": {},
   "outputs": [
    {
     "data": {
      "text/html": [
       "<div>\n",
       "<style scoped>\n",
       "    .dataframe tbody tr th:only-of-type {\n",
       "        vertical-align: middle;\n",
       "    }\n",
       "\n",
       "    .dataframe tbody tr th {\n",
       "        vertical-align: top;\n",
       "    }\n",
       "\n",
       "    .dataframe thead th {\n",
       "        text-align: right;\n",
       "    }\n",
       "</style>\n",
       "<table border=\"1\" class=\"dataframe\">\n",
       "  <thead>\n",
       "    <tr style=\"text-align: right;\">\n",
       "      <th></th>\n",
       "      <th>ApplicantIncome</th>\n",
       "      <th>CoapplicantIncome</th>\n",
       "      <th>LoanAmount</th>\n",
       "      <th>Loan_Amount_Term</th>\n",
       "      <th>Credit_History</th>\n",
       "      <th>Loan_Status</th>\n",
       "    </tr>\n",
       "  </thead>\n",
       "  <tbody>\n",
       "    <tr>\n",
       "      <th>count</th>\n",
       "      <td>614.000000</td>\n",
       "      <td>614.000000</td>\n",
       "      <td>614.000000</td>\n",
       "      <td>614.000000</td>\n",
       "      <td>614.000000</td>\n",
       "      <td>614.000000</td>\n",
       "    </tr>\n",
       "    <tr>\n",
       "      <th>mean</th>\n",
       "      <td>5403.459283</td>\n",
       "      <td>1621.245798</td>\n",
       "      <td>146.412162</td>\n",
       "      <td>342.000000</td>\n",
       "      <td>0.855049</td>\n",
       "      <td>0.687296</td>\n",
       "    </tr>\n",
       "    <tr>\n",
       "      <th>std</th>\n",
       "      <td>6109.041673</td>\n",
       "      <td>2926.248369</td>\n",
       "      <td>84.037468</td>\n",
       "      <td>64.372489</td>\n",
       "      <td>0.352339</td>\n",
       "      <td>0.463973</td>\n",
       "    </tr>\n",
       "    <tr>\n",
       "      <th>min</th>\n",
       "      <td>150.000000</td>\n",
       "      <td>0.000000</td>\n",
       "      <td>9.000000</td>\n",
       "      <td>12.000000</td>\n",
       "      <td>0.000000</td>\n",
       "      <td>0.000000</td>\n",
       "    </tr>\n",
       "    <tr>\n",
       "      <th>25%</th>\n",
       "      <td>2877.500000</td>\n",
       "      <td>0.000000</td>\n",
       "      <td>100.250000</td>\n",
       "      <td>360.000000</td>\n",
       "      <td>1.000000</td>\n",
       "      <td>0.000000</td>\n",
       "    </tr>\n",
       "    <tr>\n",
       "      <th>50%</th>\n",
       "      <td>3812.500000</td>\n",
       "      <td>1188.500000</td>\n",
       "      <td>129.000000</td>\n",
       "      <td>360.000000</td>\n",
       "      <td>1.000000</td>\n",
       "      <td>1.000000</td>\n",
       "    </tr>\n",
       "    <tr>\n",
       "      <th>75%</th>\n",
       "      <td>5795.000000</td>\n",
       "      <td>2297.250000</td>\n",
       "      <td>164.750000</td>\n",
       "      <td>360.000000</td>\n",
       "      <td>1.000000</td>\n",
       "      <td>1.000000</td>\n",
       "    </tr>\n",
       "    <tr>\n",
       "      <th>max</th>\n",
       "      <td>81000.000000</td>\n",
       "      <td>41667.000000</td>\n",
       "      <td>700.000000</td>\n",
       "      <td>480.000000</td>\n",
       "      <td>1.000000</td>\n",
       "      <td>1.000000</td>\n",
       "    </tr>\n",
       "  </tbody>\n",
       "</table>\n",
       "</div>"
      ],
      "text/plain": [
       "       ApplicantIncome  CoapplicantIncome  LoanAmount  Loan_Amount_Term  \\\n",
       "count       614.000000         614.000000  614.000000        614.000000   \n",
       "mean       5403.459283        1621.245798  146.412162        342.000000   \n",
       "std        6109.041673        2926.248369   84.037468         64.372489   \n",
       "min         150.000000           0.000000    9.000000         12.000000   \n",
       "25%        2877.500000           0.000000  100.250000        360.000000   \n",
       "50%        3812.500000        1188.500000  129.000000        360.000000   \n",
       "75%        5795.000000        2297.250000  164.750000        360.000000   \n",
       "max       81000.000000       41667.000000  700.000000        480.000000   \n",
       "\n",
       "       Credit_History  Loan_Status  \n",
       "count      614.000000   614.000000  \n",
       "mean         0.855049     0.687296  \n",
       "std          0.352339     0.463973  \n",
       "min          0.000000     0.000000  \n",
       "25%          1.000000     0.000000  \n",
       "50%          1.000000     1.000000  \n",
       "75%          1.000000     1.000000  \n",
       "max          1.000000     1.000000  "
      ]
     },
     "execution_count": 105,
     "metadata": {},
     "output_type": "execute_result"
    }
   ],
   "source": [
    "#Statistical summary of the data\n",
    "df.describe()"
   ]
  },
  {
   "cell_type": "code",
   "execution_count": 106,
   "id": "d4df08a1",
   "metadata": {},
   "outputs": [
    {
     "data": {
      "text/html": [
       "<div>\n",
       "<style scoped>\n",
       "    .dataframe tbody tr th:only-of-type {\n",
       "        vertical-align: middle;\n",
       "    }\n",
       "\n",
       "    .dataframe tbody tr th {\n",
       "        vertical-align: top;\n",
       "    }\n",
       "\n",
       "    .dataframe thead th {\n",
       "        text-align: right;\n",
       "    }\n",
       "</style>\n",
       "<table border=\"1\" class=\"dataframe\">\n",
       "  <thead>\n",
       "    <tr style=\"text-align: right;\">\n",
       "      <th></th>\n",
       "      <th>ApplicantIncome</th>\n",
       "      <th>CoapplicantIncome</th>\n",
       "      <th>LoanAmount</th>\n",
       "      <th>Loan_Amount_Term</th>\n",
       "      <th>Credit_History</th>\n",
       "      <th>Loan_Status</th>\n",
       "    </tr>\n",
       "  </thead>\n",
       "  <tbody>\n",
       "    <tr>\n",
       "      <th>ApplicantIncome</th>\n",
       "      <td>1.000000</td>\n",
       "      <td>-0.116605</td>\n",
       "      <td>0.565620</td>\n",
       "      <td>-0.045242</td>\n",
       "      <td>-0.018615</td>\n",
       "      <td>-0.004710</td>\n",
       "    </tr>\n",
       "    <tr>\n",
       "      <th>CoapplicantIncome</th>\n",
       "      <td>-0.116605</td>\n",
       "      <td>1.000000</td>\n",
       "      <td>0.187828</td>\n",
       "      <td>-0.059675</td>\n",
       "      <td>0.011134</td>\n",
       "      <td>-0.059187</td>\n",
       "    </tr>\n",
       "    <tr>\n",
       "      <th>LoanAmount</th>\n",
       "      <td>0.565620</td>\n",
       "      <td>0.187828</td>\n",
       "      <td>1.000000</td>\n",
       "      <td>0.038801</td>\n",
       "      <td>-0.001431</td>\n",
       "      <td>-0.036416</td>\n",
       "    </tr>\n",
       "    <tr>\n",
       "      <th>Loan_Amount_Term</th>\n",
       "      <td>-0.045242</td>\n",
       "      <td>-0.059675</td>\n",
       "      <td>0.038801</td>\n",
       "      <td>1.000000</td>\n",
       "      <td>0.000432</td>\n",
       "      <td>-0.020974</td>\n",
       "    </tr>\n",
       "    <tr>\n",
       "      <th>Credit_History</th>\n",
       "      <td>-0.018615</td>\n",
       "      <td>0.011134</td>\n",
       "      <td>-0.001431</td>\n",
       "      <td>0.000432</td>\n",
       "      <td>1.000000</td>\n",
       "      <td>0.540556</td>\n",
       "    </tr>\n",
       "    <tr>\n",
       "      <th>Loan_Status</th>\n",
       "      <td>-0.004710</td>\n",
       "      <td>-0.059187</td>\n",
       "      <td>-0.036416</td>\n",
       "      <td>-0.020974</td>\n",
       "      <td>0.540556</td>\n",
       "      <td>1.000000</td>\n",
       "    </tr>\n",
       "  </tbody>\n",
       "</table>\n",
       "</div>"
      ],
      "text/plain": [
       "                   ApplicantIncome  CoapplicantIncome  LoanAmount  \\\n",
       "ApplicantIncome           1.000000          -0.116605    0.565620   \n",
       "CoapplicantIncome        -0.116605           1.000000    0.187828   \n",
       "LoanAmount                0.565620           0.187828    1.000000   \n",
       "Loan_Amount_Term         -0.045242          -0.059675    0.038801   \n",
       "Credit_History           -0.018615           0.011134   -0.001431   \n",
       "Loan_Status              -0.004710          -0.059187   -0.036416   \n",
       "\n",
       "                   Loan_Amount_Term  Credit_History  Loan_Status  \n",
       "ApplicantIncome           -0.045242       -0.018615    -0.004710  \n",
       "CoapplicantIncome         -0.059675        0.011134    -0.059187  \n",
       "LoanAmount                 0.038801       -0.001431    -0.036416  \n",
       "Loan_Amount_Term           1.000000        0.000432    -0.020974  \n",
       "Credit_History             0.000432        1.000000     0.540556  \n",
       "Loan_Status               -0.020974        0.540556     1.000000  "
      ]
     },
     "execution_count": 106,
     "metadata": {},
     "output_type": "execute_result"
    }
   ],
   "source": [
    "#Coefficient of correlation matrix\n",
    "df.corr()"
   ]
  },
  {
   "cell_type": "code",
   "execution_count": 107,
   "id": "69e9266d",
   "metadata": {},
   "outputs": [
    {
     "data": {
      "image/png": "[encoded data removed]",
      "text/plain": [
       "<Figure size 1440x720 with 2 Axes>"
      ]
     },
     "metadata": {
      "needs_background": "light"
     },
     "output_type": "display_data"
    }
   ],
   "source": [
    "#Heatmap to vizualize correlation between different features\n",
    "plt.figure(figsize=(20,10))\n",
    "sns.heatmap(df.corr(), annot=True, linewidths=0.1, linecolor='black', fmt='0.2f')\n",
    "plt.show()"
   ]
  },
  {
   "cell_type": "code",
   "execution_count": 108,
   "id": "8aa58f67",
   "metadata": {},
   "outputs": [
    {
     "data": {
      "image/png": "[encoded data removed]",
      "text/plain": [
       "<Figure size 1440x360 with 1 Axes>"
      ]
     },
     "metadata": {
      "needs_background": "light"
     },
     "output_type": "display_data"
    },
    {
     "data": {
      "text/plain": [
       "Loan_Status          1.000000\n",
       "Credit_History       0.540556\n",
       "ApplicantIncome     -0.004710\n",
       "Loan_Amount_Term    -0.020974\n",
       "LoanAmount          -0.036416\n",
       "CoapplicantIncome   -0.059187\n",
       "Name: Loan_Status, dtype: float64"
      ]
     },
     "execution_count": 108,
     "metadata": {},
     "output_type": "execute_result"
    }
   ],
   "source": [
    "#Sorting descending values of correlation data of target variable\n",
    "#Plotting the same for vizualization\n",
    "plt.figure(figsize=(20,5))\n",
    "df.corr()['Loan_Status'].sort_values(ascending=False).plot(kind='bar', color='c')\n",
    "plt.show()\n",
    "df.corr()['Loan_Status'].sort_values(ascending=False)"
   ]
  },
  {
   "cell_type": "code",
   "execution_count": 109,
   "id": "91cbc003",
   "metadata": {},
   "outputs": [
    {
     "name": "stdout",
     "output_type": "stream",
     "text": [
      "Male      502\n",
      "Female    112\n",
      "Name: Gender, dtype: int64 \n",
      "\n",
      "Yes    401\n",
      "No     213\n",
      "Name: Married, dtype: int64 \n",
      "\n",
      "0     360\n",
      "1     102\n",
      "2     101\n",
      "3+     51\n",
      "Name: Dependents, dtype: int64 \n",
      "\n",
      "Graduate        480\n",
      "Not Graduate    134\n",
      "Name: Education, dtype: int64 \n",
      "\n",
      "No     532\n",
      "Yes     82\n",
      "Name: Self_Employed, dtype: int64 \n",
      "\n",
      "Semiurban    233\n",
      "Urban        202\n",
      "Rural        179\n",
      "Name: Property_Area, dtype: int64 \n",
      "\n",
      "1.0    525\n",
      "0.0     89\n",
      "Name: Credit_History, dtype: int64 \n",
      "\n"
     ]
    }
   ],
   "source": [
    "#Checking of value counts in each columns categorical data\n",
    "for i in categorical:\n",
    "    print(df[i].value_counts(),'\\n')"
   ]
  },
  {
   "cell_type": "code",
   "execution_count": 110,
   "id": "d78b4263",
   "metadata": {},
   "outputs": [
    {
     "data": {
      "text/html": [
       "<div>\n",
       "<style scoped>\n",
       "    .dataframe tbody tr th:only-of-type {\n",
       "        vertical-align: middle;\n",
       "    }\n",
       "\n",
       "    .dataframe tbody tr th {\n",
       "        vertical-align: top;\n",
       "    }\n",
       "\n",
       "    .dataframe thead th {\n",
       "        text-align: right;\n",
       "    }\n",
       "</style>\n",
       "<table border=\"1\" class=\"dataframe\">\n",
       "  <thead>\n",
       "    <tr style=\"text-align: right;\">\n",
       "      <th></th>\n",
       "      <th>Gender</th>\n",
       "      <th>Married</th>\n",
       "      <th>Dependents</th>\n",
       "      <th>Education</th>\n",
       "      <th>Self_Employed</th>\n",
       "      <th>ApplicantIncome</th>\n",
       "      <th>CoapplicantIncome</th>\n",
       "      <th>LoanAmount</th>\n",
       "      <th>Loan_Amount_Term</th>\n",
       "      <th>Credit_History</th>\n",
       "      <th>Property_Area</th>\n",
       "      <th>Loan_Status</th>\n",
       "    </tr>\n",
       "  </thead>\n",
       "  <tbody>\n",
       "    <tr>\n",
       "      <th>0</th>\n",
       "      <td>1</td>\n",
       "      <td>0</td>\n",
       "      <td>0</td>\n",
       "      <td>1</td>\n",
       "      <td>0</td>\n",
       "      <td>5849</td>\n",
       "      <td>0.0</td>\n",
       "      <td>146.412162</td>\n",
       "      <td>360.0</td>\n",
       "      <td>1.0</td>\n",
       "      <td>2</td>\n",
       "      <td>1</td>\n",
       "    </tr>\n",
       "    <tr>\n",
       "      <th>1</th>\n",
       "      <td>1</td>\n",
       "      <td>1</td>\n",
       "      <td>1</td>\n",
       "      <td>1</td>\n",
       "      <td>0</td>\n",
       "      <td>4583</td>\n",
       "      <td>1508.0</td>\n",
       "      <td>128.000000</td>\n",
       "      <td>360.0</td>\n",
       "      <td>1.0</td>\n",
       "      <td>0</td>\n",
       "      <td>0</td>\n",
       "    </tr>\n",
       "    <tr>\n",
       "      <th>2</th>\n",
       "      <td>1</td>\n",
       "      <td>1</td>\n",
       "      <td>0</td>\n",
       "      <td>1</td>\n",
       "      <td>1</td>\n",
       "      <td>3000</td>\n",
       "      <td>0.0</td>\n",
       "      <td>66.000000</td>\n",
       "      <td>360.0</td>\n",
       "      <td>1.0</td>\n",
       "      <td>2</td>\n",
       "      <td>1</td>\n",
       "    </tr>\n",
       "    <tr>\n",
       "      <th>3</th>\n",
       "      <td>1</td>\n",
       "      <td>1</td>\n",
       "      <td>0</td>\n",
       "      <td>0</td>\n",
       "      <td>0</td>\n",
       "      <td>2583</td>\n",
       "      <td>2358.0</td>\n",
       "      <td>120.000000</td>\n",
       "      <td>360.0</td>\n",
       "      <td>1.0</td>\n",
       "      <td>2</td>\n",
       "      <td>1</td>\n",
       "    </tr>\n",
       "    <tr>\n",
       "      <th>4</th>\n",
       "      <td>1</td>\n",
       "      <td>0</td>\n",
       "      <td>0</td>\n",
       "      <td>1</td>\n",
       "      <td>0</td>\n",
       "      <td>6000</td>\n",
       "      <td>0.0</td>\n",
       "      <td>141.000000</td>\n",
       "      <td>360.0</td>\n",
       "      <td>1.0</td>\n",
       "      <td>2</td>\n",
       "      <td>1</td>\n",
       "    </tr>\n",
       "  </tbody>\n",
       "</table>\n",
       "</div>"
      ],
      "text/plain": [
       "   Gender  Married  Dependents  Education  Self_Employed  ApplicantIncome  \\\n",
       "0       1        0           0          1              0             5849   \n",
       "1       1        1           1          1              0             4583   \n",
       "2       1        1           0          1              1             3000   \n",
       "3       1        1           0          0              0             2583   \n",
       "4       1        0           0          1              0             6000   \n",
       "\n",
       "   CoapplicantIncome  LoanAmount  Loan_Amount_Term  Credit_History  \\\n",
       "0                0.0  146.412162             360.0             1.0   \n",
       "1             1508.0  128.000000             360.0             1.0   \n",
       "2                0.0   66.000000             360.0             1.0   \n",
       "3             2358.0  120.000000             360.0             1.0   \n",
       "4                0.0  141.000000             360.0             1.0   \n",
       "\n",
       "   Property_Area  Loan_Status  \n",
       "0              2            1  \n",
       "1              0            0  \n",
       "2              2            1  \n",
       "3              2            1  \n",
       "4              2            1  "
      ]
     },
     "execution_count": 110,
     "metadata": {},
     "output_type": "execute_result"
    }
   ],
   "source": [
    "#Encoding the categorical/text type data into numerical form\n",
    "df['Gender'] = df['Gender'].replace({\"Male\":1, \"Female\":0 })\n",
    "df['Married'] = df['Married'].replace({\"Yes\":1, \"No\":0 })\n",
    "df['Dependents'] = df['Dependents'].replace({\"3+\":3, \"2\":2, \"1\":1, \"0\":0})\n",
    "df['Education'] = df['Education'].replace({\"Graduate\":1, \"Not Graduate\":0 })\n",
    "df['Self_Employed'] = df['Self_Employed'].replace({\"Yes\":1, \"No\":0})\n",
    "df['Property_Area'] = df['Property_Area'].replace({\"Urban\":2, \"Semiurban\":1, \"Rural\":0})\n",
    "\n",
    "df.head()"
   ]
  },
  {
   "cell_type": "code",
   "execution_count": 111,
   "id": "4436ebb7",
   "metadata": {},
   "outputs": [
    {
     "name": "stdout",
     "output_type": "stream",
     "text": [
      "Shape before (614, 12)\n",
      "Shape after (589, 12)\n",
      "4.071661237785016 % loss of data\n"
     ]
    }
   ],
   "source": [
    "#Removing of outliers by zscore method\n",
    "print('Shape before',df.shape)\n",
    "from scipy.stats import zscore\n",
    "z=np.abs(zscore(df[['ApplicantIncome', 'CoapplicantIncome', 'LoanAmount']]))\n",
    "df_new = df[(z<3).all(axis=1)]\n",
    "print('Shape after',df_new.shape)\n",
    "\n",
    "#Percentage loss of data\n",
    "loss = (df.shape[0]-df_new.shape[0])*100/(df.shape[0])\n",
    "print(loss,'% loss of data')"
   ]
  },
  {
   "cell_type": "code",
   "execution_count": 112,
   "id": "d4cac390",
   "metadata": {},
   "outputs": [
    {
     "name": "stdout",
     "output_type": "stream",
     "text": [
      "x shape (589, 11)\n",
      "y shape (589,)\n"
     ]
    }
   ],
   "source": [
    "#Seperate feature and target columns\n",
    "x = df_new.drop('Loan_Status', axis=1)\n",
    "y = df_new['Loan_Status']\n",
    "print('x shape',x.shape)\n",
    "print('y shape',y.shape)"
   ]
  },
  {
   "cell_type": "markdown",
   "id": "d6678eef",
   "metadata": {},
   "source": [
    "Feature selection method:\n",
    "\n",
    "Since most of input data is discrete type and categorical type in nature, VIF method cannot be applied for checking multicollinearity\n",
    "\n",
    "And we cannot handle multicollinearity by PCA technique\n",
    "\n",
    "In order to handle feature selection (reduce curse of dimensionality / handling multicollinearity) let us use ExtraTreesClassifier method"
   ]
  },
  {
   "cell_type": "code",
   "execution_count": 113,
   "id": "9789c6ac",
   "metadata": {},
   "outputs": [
    {
     "data": {
      "text/plain": [
       "ExtraTreesClassifier()"
      ]
     },
     "execution_count": 113,
     "metadata": {},
     "output_type": "execute_result"
    }
   ],
   "source": [
    "#Feature selection\n",
    "from sklearn.ensemble import ExtraTreesClassifier\n",
    "fs = ExtraTreesClassifier()\n",
    "fs.fit(x, y)"
   ]
  },
  {
   "cell_type": "code",
   "execution_count": 114,
   "id": "ec0dae12",
   "metadata": {},
   "outputs": [
    {
     "name": "stdout",
     "output_type": "stream",
     "text": [
      "0 2.07\n",
      "1 2.24\n",
      "2 6.05\n",
      "3 2.27\n",
      "4 2.43\n",
      "5 17.88\n",
      "6 10.43\n",
      "7 16.98\n",
      "8 5.03\n",
      "9 29.39\n",
      "10 5.23\n"
     ]
    }
   ],
   "source": [
    "imp = fs.feature_importances_\n",
    "for index, val in enumerate(imp):\n",
    "    print(index, round((val * 100), 2))"
   ]
  },
  {
   "cell_type": "code",
   "execution_count": 115,
   "id": "b0fe542c",
   "metadata": {},
   "outputs": [
    {
     "name": "stdout",
     "output_type": "stream",
     "text": [
      "<class 'pandas.core.frame.DataFrame'>\n",
      "Int64Index: 589 entries, 0 to 613\n",
      "Data columns (total 11 columns):\n",
      " #   Column             Non-Null Count  Dtype  \n",
      "---  ------             --------------  -----  \n",
      " 0   Gender             589 non-null    int64  \n",
      " 1   Married            589 non-null    int64  \n",
      " 2   Dependents         589 non-null    int64  \n",
      " 3   Education          589 non-null    int64  \n",
      " 4   Self_Employed      589 non-null    int64  \n",
      " 5   ApplicantIncome    589 non-null    int64  \n",
      " 6   CoapplicantIncome  589 non-null    float64\n",
      " 7   LoanAmount         589 non-null    float64\n",
      " 8   Loan_Amount_Term   589 non-null    float64\n",
      " 9   Credit_History     589 non-null    float64\n",
      " 10  Property_Area      589 non-null    int64  \n",
      "dtypes: float64(4), int64(7)\n",
      "memory usage: 55.2 KB\n"
     ]
    }
   ],
   "source": [
    "x.info()"
   ]
  },
  {
   "cell_type": "code",
   "execution_count": 116,
   "id": "907d1dc0",
   "metadata": {},
   "outputs": [],
   "source": [
    "#Let us select top 70% important features and drop rest columns\n",
    "#Dropping off less important columns\n",
    "x =  x.drop(['Self_Employed', 'Married', 'Gender'], axis=1)"
   ]
  },
  {
   "cell_type": "code",
   "execution_count": 118,
   "id": "b2a685e7",
   "metadata": {},
   "outputs": [
    {
     "data": {
      "text/plain": [
       "ApplicantIncome      2.164762\n",
       "CoapplicantIncome    1.353191\n",
       "CoapplicantIncome    1.353191\n",
       "dtype: float64"
      ]
     },
     "execution_count": 118,
     "metadata": {},
     "output_type": "execute_result"
    }
   ],
   "source": [
    "lis = ['ApplicantIncome','CoapplicantIncome','CoapplicantIncome']\n",
    "x[lis].skew()"
   ]
  },
  {
   "cell_type": "markdown",
   "id": "2cc0a152",
   "metadata": {},
   "source": [
    "Skewness is not within limit of <0.55"
   ]
  },
  {
   "cell_type": "code",
   "execution_count": 120,
   "id": "c7b7e629",
   "metadata": {},
   "outputs": [
    {
     "data": {
      "text/plain": [
       "ApplicantIncome      0.028063\n",
       "CoapplicantIncome   -0.186195\n",
       "CoapplicantIncome   -0.186195\n",
       "dtype: float64"
      ]
     },
     "execution_count": 120,
     "metadata": {},
     "output_type": "execute_result"
    }
   ],
   "source": [
    "#Apply power transform to reduce skewness\n",
    "from sklearn.preprocessing import PowerTransformer\n",
    "po = PowerTransformer()\n",
    "for col in lis:\n",
    "    if x.skew().loc[col]>0.55:\n",
    "        x[col] = po.fit_transform(x[col].values.reshape(-1,1))\n",
    "        \n",
    "#Again checking skewnessof continuous feature variables\n",
    "x[lis].skew()"
   ]
  },
  {
   "cell_type": "markdown",
   "id": "a517a108",
   "metadata": {},
   "source": [
    "Skewness is within allowable limit"
   ]
  },
  {
   "cell_type": "code",
   "execution_count": 121,
   "id": "ce6f9815",
   "metadata": {},
   "outputs": [
    {
     "name": "stdout",
     "output_type": "stream",
     "text": [
      "Before Counter({1: 407, 0: 182})\n",
      "After Counter({1: 407, 0: 407})\n"
     ]
    }
   ],
   "source": [
    "from imblearn.over_sampling import SMOTE\n",
    "from collections import Counter\n",
    "smt = SMOTE(1.0) #Up sampling to 1:1 ratio of target variable\n",
    "x1, y1 = smt.fit_resample(x, y)\n",
    "\n",
    "print('Before', Counter(y))\n",
    "print('After', Counter(y1))"
   ]
  },
  {
   "cell_type": "code",
   "execution_count": 122,
   "id": "93b50aa4",
   "metadata": {},
   "outputs": [],
   "source": [
    "x = x1\n",
    "y = y1\n",
    "\n",
    "#scaling of input feature data\n",
    "from sklearn.preprocessing import StandardScaler\n",
    "scaler = StandardScaler()\n",
    "x = scaler.fit_transform(x)"
   ]
  },
  {
   "cell_type": "code",
   "execution_count": 123,
   "id": "2baf5c78",
   "metadata": {},
   "outputs": [
    {
     "name": "stdout",
     "output_type": "stream",
     "text": [
      "At Max RS 0 Max Accuracy = 0.7484662576687117\n",
      "At Max RS 1 Max Accuracy = 0.8098159509202454\n",
      "At Max RS 4 Max Accuracy = 0.8343558282208589\n",
      "At Max RS 17 Max Accuracy = 0.8650306748466258\n"
     ]
    }
   ],
   "source": [
    "#Logistic regression\n",
    "#Best randm state selection\n",
    "max_acc = 0\n",
    "max_RS = 0\n",
    "from sklearn.linear_model import LogisticRegression\n",
    "from sklearn.model_selection import train_test_split\n",
    "from sklearn.metrics import confusion_matrix, classification_report, roc_curve, roc_auc_score, accuracy_score\n",
    "lr = LogisticRegression()\n",
    "for i in range(0,200):\n",
    "    xtr, xt, ytr, yt = train_test_split(x,y, random_state=i,test_size=0.2)\n",
    "    lr.fit(xtr, ytr)\n",
    "    predyt = lr.predict(xt)\n",
    "    accuracy = accuracy_score(yt,predyt)  \n",
    "    if accuracy > max_acc:\n",
    "        max_acc = accuracy\n",
    "        max_RS = i\n",
    "        print('At Max RS',i,'Max Accuracy =',accuracy)"
   ]
  },
  {
   "cell_type": "code",
   "execution_count": 124,
   "id": "1c94d809",
   "metadata": {},
   "outputs": [],
   "source": [
    "def metric_score(model, xtr, xt, ytr, yt, train=True):\n",
    "    if train:\n",
    "        ypr = model.predict(xtr)\n",
    "        print(f\"Accuracy score of train is : {(accuracy_score(ytr, ypr))*100:.2f}%\")\n",
    "        \n",
    "    elif train==False:\n",
    "        ypr = model.predict(xt)\n",
    "        print(f\"Accuracy score of test is : {(accuracy_score(yt, ypr))*100:.2f}%\",'\\n\\nClassification report:')\n",
    "        print(classification_report(yt, ypr))"
   ]
  },
  {
   "cell_type": "code",
   "execution_count": 125,
   "id": "8a9c7766",
   "metadata": {},
   "outputs": [
    {
     "name": "stdout",
     "output_type": "stream",
     "text": [
      "Accuracy score of train is : 77.11%\n",
      "Accuracy score of test is : 86.50% \n",
      "\n",
      "Classification report:\n",
      "              precision    recall  f1-score   support\n",
      "\n",
      "           0       0.95      0.76      0.84        78\n",
      "           1       0.81      0.96      0.88        85\n",
      "\n",
      "    accuracy                           0.87       163\n",
      "   macro avg       0.88      0.86      0.86       163\n",
      "weighted avg       0.88      0.87      0.86       163\n",
      "\n"
     ]
    }
   ],
   "source": [
    "#Using best random state for train test split\n",
    "xtr, xt, ytr, yt = train_test_split(x,y, random_state=17,test_size=0.2)\n",
    "#Training the model\n",
    "model = LogisticRegression()\n",
    "model.fit(xtr,ytr)\n",
    "metric_score(model, xtr, xt, ytr, yt, train=True)\n",
    "metric_score(model, xtr, xt, ytr, yt, train=False)"
   ]
  },
  {
   "cell_type": "code",
   "execution_count": 126,
   "id": "a22c4915",
   "metadata": {},
   "outputs": [
    {
     "name": "stdout",
     "output_type": "stream",
     "text": [
      "Accuracy score: 0.8650306748466258\n",
      "CV score at 2 = 0.7764127764127764\n",
      "CV score at 3 = 0.7715659141885537\n",
      "CV score at 4 = 0.7863541968511543\n",
      "CV score at 5 = 0.7936529576611376\n",
      "CV score at 6 = 0.7838507625272332\n",
      "CV score at 7 = 0.7876089427813566\n",
      "CV score at 8 = 0.7862914967967385\n",
      "CV score at 9 = 0.784045584045584\n",
      "CV score at 10 = 0.7901535682023487\n",
      "\n",
      "Least difference of CV score and F1 score of testing is : 0.07137771718548813\n"
     ]
    }
   ],
   "source": [
    "ypr = model.predict(xt) \n",
    "acc = accuracy_score(yt, ypr)\n",
    "print('Accuracy score:',acc)\n",
    "\n",
    "#Cross validation for checking overfitting\n",
    "from sklearn.model_selection import cross_val_score\n",
    "CVS = []\n",
    "for i in range(2,11):\n",
    "    lsc = cross_val_score(model,x,y,cv=i)\n",
    "    CVS.append(lsc.mean())\n",
    "    print('CV score at',i,'=',lsc.mean())\n",
    "least_diff = min(acc - CVS)\n",
    "cvs = max(CVS)\n",
    "print('\\nLeast difference of CV score and F1 score of testing is :', least_diff)"
   ]
  },
  {
   "cell_type": "code",
   "execution_count": 127,
   "id": "38499919",
   "metadata": {},
   "outputs": [
    {
     "data": {
      "image/png": "[encoded data removed]",
      "text/plain": [
       "<Figure size 432x288 with 1 Axes>"
      ]
     },
     "metadata": {
      "needs_background": "light"
     },
     "output_type": "display_data"
    },
    {
     "name": "stdout",
     "output_type": "stream",
     "text": [
      "Confusion matrix:\n",
      " [[25 37]\n",
      " [33 68]] \n",
      "\n",
      "Area under curve = 0.8817470456723092\n"
     ]
    }
   ],
   "source": [
    "#ROC curve and the AUC value\n",
    "from sklearn.metrics import roc_curve, auc\n",
    "fpr, tpr, thresholds = roc_curve(ypr, yt)\n",
    "roc_auc = auc(fpr,tpr)\n",
    "plt.figure()\n",
    "plt.plot(fpr, tpr,color='darkorange', label='ROC curve (area = %0.2f)'% roc_auc)\n",
    "plt.plot([0,1],[0,1],linestyle='--',color='navy')\n",
    "plt.xlabel('FPR')\n",
    "plt.ylabel('TPR')\n",
    "plt.legend(loc=\"lower right\")\n",
    "plt.show()\n",
    "print(\"Confusion matrix:\\n\",confusion_matrix(ypr,predyt),'\\n')\n",
    "print('Area under curve =',roc_auc)"
   ]
  },
  {
   "cell_type": "code",
   "execution_count": 128,
   "id": "3715f8bb",
   "metadata": {},
   "outputs": [
    {
     "data": {
      "text/html": [
       "<div>\n",
       "<style scoped>\n",
       "    .dataframe tbody tr th:only-of-type {\n",
       "        vertical-align: middle;\n",
       "    }\n",
       "\n",
       "    .dataframe tbody tr th {\n",
       "        vertical-align: top;\n",
       "    }\n",
       "\n",
       "    .dataframe thead th {\n",
       "        text-align: right;\n",
       "    }\n",
       "</style>\n",
       "<table border=\"1\" class=\"dataframe\">\n",
       "  <thead>\n",
       "    <tr style=\"text-align: right;\">\n",
       "      <th></th>\n",
       "      <th>Algorithm name</th>\n",
       "      <th>Accuracy f1 score test</th>\n",
       "      <th>CV score</th>\n",
       "      <th>F1-CV score diff</th>\n",
       "      <th>Area under curve</th>\n",
       "    </tr>\n",
       "  </thead>\n",
       "  <tbody>\n",
       "    <tr>\n",
       "      <th>0</th>\n",
       "      <td>Logistic regression</td>\n",
       "      <td>0.865031</td>\n",
       "      <td>0.793653</td>\n",
       "      <td>0.071378</td>\n",
       "      <td>0.881747</td>\n",
       "    </tr>\n",
       "  </tbody>\n",
       "</table>\n",
       "</div>"
      ],
      "text/plain": [
       "        Algorithm name  Accuracy f1 score test  CV score  F1-CV score diff  \\\n",
       "0  Logistic regression                0.865031  0.793653          0.071378   \n",
       "\n",
       "   Area under curve  \n",
       "0          0.881747  "
      ]
     },
     "execution_count": 128,
     "metadata": {},
     "output_type": "execute_result"
    }
   ],
   "source": [
    "#Saving the results of model\n",
    "model_result = pd.DataFrame(columns=['Algorithm name','Accuracy f1 score test' ,'CV score','F1-CV score diff',\"Area under curve\"])\n",
    "model_result.loc[len(model_result.index)] = ['Logistic regression', acc, cvs, least_diff,roc_auc] \n",
    "model_result"
   ]
  },
  {
   "cell_type": "code",
   "execution_count": 143,
   "id": "7ea4f6f9",
   "metadata": {},
   "outputs": [
    {
     "name": "stdout",
     "output_type": "stream",
     "text": [
      "Accuracy score of train is : 100.00%\n",
      "Accuracy score of test is : 82.21% \n",
      "\n",
      "Classification report:\n",
      "              precision    recall  f1-score   support\n",
      "\n",
      "           0       0.78      0.87      0.82        78\n",
      "           1       0.87      0.78      0.82        85\n",
      "\n",
      "    accuracy                           0.82       163\n",
      "   macro avg       0.83      0.82      0.82       163\n",
      "weighted avg       0.83      0.82      0.82       163\n",
      "\n"
     ]
    }
   ],
   "source": [
    "#Decision tree classifier\n",
    "from sklearn.tree import DecisionTreeClassifier\n",
    "model = DecisionTreeClassifier()\n",
    "model.fit(xtr,ytr)\n",
    "metric_score(model, xtr, xt, ytr, yt, train=True)\n",
    "metric_score(model, xtr, xt, ytr, yt, train=False)"
   ]
  },
  {
   "cell_type": "code",
   "execution_count": 144,
   "id": "00649e88",
   "metadata": {},
   "outputs": [
    {
     "name": "stdout",
     "output_type": "stream",
     "text": [
      "Accuracy score: 0.8220858895705522\n",
      "CV score at 2 = 0.7432432432432432\n",
      "CV score at 3 = 0.7568102886911222\n",
      "CV score at 4 = 0.7629914034579349\n",
      "CV score at 5 = 0.7740513519654624\n",
      "CV score at 6 = 0.7580791575889615\n",
      "CV score at 7 = 0.7643467643467644\n",
      "CV score at 8 = 0.7776766647252962\n",
      "CV score at 9 = 0.780369013702347\n",
      "CV score at 10 = 0.7755796446853357\n",
      "\n",
      "Least difference of CV score and F1 score of testing is : 0.04171687586820516\n"
     ]
    }
   ],
   "source": [
    "ypr = model.predict(xt) \n",
    "acc = accuracy_score(yt, ypr)\n",
    "print('Accuracy score:',acc)\n",
    "\n",
    "#Cross validation for checking overfitting\n",
    "from sklearn.model_selection import cross_val_score\n",
    "CVS = []\n",
    "for i in range(2,11):\n",
    "    lsc = cross_val_score(model,x,y,cv=i)\n",
    "    CVS.append(lsc.mean())\n",
    "    print('CV score at',i,'=',lsc.mean())\n",
    "least_diff = min(acc - CVS)\n",
    "cvs = max(CVS)\n",
    "print('\\nLeast difference of CV score and F1 score of testing is :', least_diff)"
   ]
  },
  {
   "cell_type": "code",
   "execution_count": 145,
   "id": "49e634da",
   "metadata": {},
   "outputs": [
    {
     "name": "stdout",
     "output_type": "stream",
     "text": [
      "DecisionTreeClassifier(criterion='entropy', max_depth=6, max_features='log2',\n",
      "                       splitter='random')\n"
     ]
    }
   ],
   "source": [
    "# Hyper parameter tuning for decision tree model\n",
    "from sklearn.model_selection import GridSearchCV\n",
    "parameters = {'criterion':[\"gini\", \"entropy\"],\n",
    "              'splitter':[\"best\", \"random\"],\n",
    "              'max_depth':[4,6,8,10,12],\n",
    "              'max_features':[\"auto\", \"sqrt\", \"log2\"]}\n",
    "gsv = GridSearchCV(model, parameters)\n",
    "gsv.fit(xtr,ytr)\n",
    "print(gsv.best_estimator_)"
   ]
  },
  {
   "cell_type": "code",
   "execution_count": 150,
   "id": "5a57f498",
   "metadata": {},
   "outputs": [
    {
     "name": "stdout",
     "output_type": "stream",
     "text": [
      "Accuracy score of train is : 78.49%\n",
      "Accuracy score of test is : 86.50% \n",
      "\n",
      "Classification report:\n",
      "              precision    recall  f1-score   support\n",
      "\n",
      "           0       0.92      0.78      0.85        78\n",
      "           1       0.82      0.94      0.88        85\n",
      "\n",
      "    accuracy                           0.87       163\n",
      "   macro avg       0.87      0.86      0.86       163\n",
      "weighted avg       0.87      0.87      0.86       163\n",
      "\n"
     ]
    }
   ],
   "source": [
    "#Training model as per best parameters\n",
    "model = DecisionTreeClassifier(criterion='entropy', max_depth=6, max_features='log2', splitter='random')\n",
    "model.fit(xtr,ytr)\n",
    "metric_score(model, xtr, xt, ytr, yt, train=True)\n",
    "metric_score(model, xtr, xt, ytr, yt, train=False)"
   ]
  },
  {
   "cell_type": "code",
   "execution_count": 198,
   "id": "77911f19",
   "metadata": {},
   "outputs": [
    {
     "name": "stdout",
     "output_type": "stream",
     "text": [
      "Accuracy score: 0.8650306748466258\n",
      "CV score at 2 = 0.7321867321867321\n",
      "CV score at 3 = 0.7445237320020258\n",
      "CV score at 4 = 0.732323964068386\n",
      "CV score at 5 = 0.7801560251458002\n",
      "CV score at 6 = 0.7445170660856936\n",
      "CV score at 7 = 0.7691886657403899\n",
      "CV score at 8 = 0.7285721219180741\n",
      "CV score at 9 = 0.7778456111789445\n",
      "CV score at 10 = 0.7692863595302619\n",
      "\n",
      "Least difference of CV score and F1 score of testing is : 0.08487464970082559\n"
     ]
    }
   ],
   "source": [
    "ypr = model.predict(xt) \n",
    "acc = accuracy_score(yt, ypr)\n",
    "print('Accuracy score:',acc)\n",
    "\n",
    "#Cross validation for checking overfitting\n",
    "from sklearn.model_selection import cross_val_score\n",
    "CVS = []\n",
    "for i in range(2,11):\n",
    "    lsc = cross_val_score(model,x,y,cv=i)\n",
    "    CVS.append(lsc.mean())\n",
    "    print('CV score at',i,'=',lsc.mean())\n",
    "least_diff = min(acc - CVS)\n",
    "cvs = max(CVS)\n",
    "print('\\nLeast difference of CV score and F1 score of testing is :', least_diff)"
   ]
  },
  {
   "cell_type": "code",
   "execution_count": 199,
   "id": "24ca54c4",
   "metadata": {},
   "outputs": [
    {
     "data": {
      "image/png": "[encoded data removed]",
      "text/plain": [
       "<Figure size 432x288 with 1 Axes>"
      ]
     },
     "metadata": {
      "needs_background": "light"
     },
     "output_type": "display_data"
    },
    {
     "name": "stdout",
     "output_type": "stream",
     "text": [
      "Confusion matrix:\n",
      " [[61 17]\n",
      " [ 5 80]] \n",
      "\n",
      "Area under curve = 0.8744923461418306\n"
     ]
    }
   ],
   "source": [
    "#ROC curve and the AUC value\n",
    "from sklearn.metrics import roc_curve, auc\n",
    "fpr, tpr, thresholds = roc_curve(ypr, yt)\n",
    "roc_auc = auc(fpr,tpr)\n",
    "plt.figure()\n",
    "plt.plot(fpr, tpr,color='darkorange', label='ROC curve (area = %0.2f)'% roc_auc)\n",
    "plt.plot([0,1],[0,1],linestyle='--',color='navy')\n",
    "plt.xlabel('FPR')\n",
    "plt.ylabel('TPR')\n",
    "plt.legend(loc=\"lower right\")\n",
    "plt.show()\n",
    "print(\"Confusion matrix:\\n\",confusion_matrix(yt,ypr),'\\n')\n",
    "print('Area under curve =',roc_auc)"
   ]
  },
  {
   "cell_type": "code",
   "execution_count": 200,
   "id": "089c0985",
   "metadata": {},
   "outputs": [
    {
     "data": {
      "text/html": [
       "<div>\n",
       "<style scoped>\n",
       "    .dataframe tbody tr th:only-of-type {\n",
       "        vertical-align: middle;\n",
       "    }\n",
       "\n",
       "    .dataframe tbody tr th {\n",
       "        vertical-align: top;\n",
       "    }\n",
       "\n",
       "    .dataframe thead th {\n",
       "        text-align: right;\n",
       "    }\n",
       "</style>\n",
       "<table border=\"1\" class=\"dataframe\">\n",
       "  <thead>\n",
       "    <tr style=\"text-align: right;\">\n",
       "      <th></th>\n",
       "      <th>Algorithm name</th>\n",
       "      <th>Accuracy f1 score test</th>\n",
       "      <th>CV score</th>\n",
       "      <th>F1-CV score diff</th>\n",
       "      <th>Area under curve</th>\n",
       "    </tr>\n",
       "  </thead>\n",
       "  <tbody>\n",
       "    <tr>\n",
       "      <th>0</th>\n",
       "      <td>Logistic regression</td>\n",
       "      <td>0.865031</td>\n",
       "      <td>0.793653</td>\n",
       "      <td>0.071378</td>\n",
       "      <td>0.881747</td>\n",
       "    </tr>\n",
       "    <tr>\n",
       "      <th>1</th>\n",
       "      <td>Decision tree classifier</td>\n",
       "      <td>0.865031</td>\n",
       "      <td>0.780156</td>\n",
       "      <td>0.084875</td>\n",
       "      <td>0.874492</td>\n",
       "    </tr>\n",
       "  </tbody>\n",
       "</table>\n",
       "</div>"
      ],
      "text/plain": [
       "             Algorithm name  Accuracy f1 score test  CV score  \\\n",
       "0       Logistic regression                0.865031  0.793653   \n",
       "1  Decision tree classifier                0.865031  0.780156   \n",
       "\n",
       "   F1-CV score diff  Area under curve  \n",
       "0          0.071378          0.881747  \n",
       "1          0.084875          0.874492  "
      ]
     },
     "execution_count": 200,
     "metadata": {},
     "output_type": "execute_result"
    }
   ],
   "source": [
    "#Saving the results of model\n",
    "model_result.loc[len(model_result.index)] = ['Decision tree classifier', acc, cvs, abs(least_diff), roc_auc] \n",
    "model_result"
   ]
  },
  {
   "cell_type": "code",
   "execution_count": 202,
   "id": "f22983bb",
   "metadata": {},
   "outputs": [
    {
     "name": "stdout",
     "output_type": "stream",
     "text": [
      "Accuracy score of train is : 82.64%\n",
      "Accuracy score of test is : 83.44% \n",
      "\n",
      "Classification report:\n",
      "              precision    recall  f1-score   support\n",
      "\n",
      "           0       0.87      0.77      0.82        78\n",
      "           1       0.81      0.89      0.85        85\n",
      "\n",
      "    accuracy                           0.83       163\n",
      "   macro avg       0.84      0.83      0.83       163\n",
      "weighted avg       0.84      0.83      0.83       163\n",
      "\n"
     ]
    }
   ],
   "source": [
    "#Support vector machine classifier\n",
    "from sklearn.svm import SVC\n",
    "model = SVC()\n",
    "model.fit(xtr,ytr)\n",
    "metric_score(model, xtr, xt, ytr, yt, train=True)\n",
    "metric_score(model, xtr, xt, ytr, yt, train=False)"
   ]
  },
  {
   "cell_type": "code",
   "execution_count": 203,
   "id": "9b871b9d",
   "metadata": {},
   "outputs": [
    {
     "name": "stdout",
     "output_type": "stream",
     "text": [
      "Accuracy score: 0.8343558282208589\n",
      "CV score at 2 = 0.7739557739557739\n",
      "CV score at 3 = 0.7678577888720065\n",
      "CV score at 4 = 0.7838851057664445\n",
      "CV score at 5 = 0.7838294327046883\n",
      "CV score at 6 = 0.7789578794480755\n",
      "CV score at 7 = 0.7839143615005684\n",
      "CV score at 8 = 0.7900286352164628\n",
      "CV score at 9 = 0.7950888617555285\n",
      "CV score at 10 = 0.7828214393255043\n",
      "\n",
      "Least difference of CV score and F1 score of testing is : 0.039266966465330344\n"
     ]
    }
   ],
   "source": [
    "ypr = model.predict(xt) \n",
    "acc = accuracy_score(yt, ypr)\n",
    "print('Accuracy score:',acc)\n",
    "\n",
    "#Cross validation for checking overfitting\n",
    "from sklearn.model_selection import cross_val_score\n",
    "CVS = []\n",
    "for i in range(2,11):\n",
    "    lsc = cross_val_score(model,x,y,cv=i)\n",
    "    CVS.append(lsc.mean())\n",
    "    print('CV score at',i,'=',lsc.mean())\n",
    "least_diff = min(acc - CVS)\n",
    "cvs = max(CVS)\n",
    "print('\\nLeast difference of CV score and F1 score of testing is :', least_diff)"
   ]
  },
  {
   "cell_type": "code",
   "execution_count": 204,
   "id": "6f5f9db1",
   "metadata": {},
   "outputs": [
    {
     "name": "stdout",
     "output_type": "stream",
     "text": [
      "SVC(max_iter=150, tol=0.0001)\n"
     ]
    }
   ],
   "source": [
    "# Hyper parameter tuning for svc model\n",
    "from sklearn.model_selection import GridSearchCV\n",
    "parameters = {'gamma':['scale', 'auto'],\n",
    "              'max_iter':range(50,500,50),\n",
    "              'kernel':[\"linear\", \"poly\", \"rbf\"],\n",
    "              'tol':[0.0001,0.001,0.01]}\n",
    "gsv = GridSearchCV(model, parameters)\n",
    "gsv.fit(xtr,ytr)\n",
    "print(gsv.best_estimator_)"
   ]
  },
  {
   "cell_type": "code",
   "execution_count": 205,
   "id": "5203906a",
   "metadata": {},
   "outputs": [
    {
     "name": "stdout",
     "output_type": "stream",
     "text": [
      "Accuracy score of train is : 82.18%\n",
      "Accuracy score of test is : 85.28% \n",
      "\n",
      "Classification report:\n",
      "              precision    recall  f1-score   support\n",
      "\n",
      "           0       0.91      0.77      0.83        78\n",
      "           1       0.81      0.93      0.87        85\n",
      "\n",
      "    accuracy                           0.85       163\n",
      "   macro avg       0.86      0.85      0.85       163\n",
      "weighted avg       0.86      0.85      0.85       163\n",
      "\n"
     ]
    }
   ],
   "source": [
    "#Training model as per best parameters\n",
    "model = SVC(max_iter=150, tol=0.0001)\n",
    "model.fit(xtr,ytr)\n",
    "metric_score(model, xtr, xt, ytr, yt, train=True)\n",
    "metric_score(model, xtr, xt, ytr, yt, train=False)"
   ]
  },
  {
   "cell_type": "code",
   "execution_count": 206,
   "id": "764da7ec",
   "metadata": {},
   "outputs": [
    {
     "name": "stdout",
     "output_type": "stream",
     "text": [
      "Accuracy score: 0.852760736196319\n",
      "CV score at 2 = 0.7776412776412776\n",
      "CV score at 3 = 0.7715387815642862\n",
      "CV score at 4 = 0.7863059016710132\n",
      "CV score at 5 = 0.7776262970536998\n",
      "CV score at 6 = 0.7752450980392157\n",
      "CV score at 7 = 0.7752410424824218\n",
      "CV score at 8 = 0.7874927198602213\n",
      "CV score at 9 = 0.7655134988468322\n",
      "CV score at 10 = 0.7815115928937068\n",
      "\n",
      "Least difference of CV score and F1 score of testing is : 0.06526801633609769\n"
     ]
    }
   ],
   "source": [
    "ypr = model.predict(xt) \n",
    "acc = accuracy_score(yt, ypr)\n",
    "print('Accuracy score:',acc)\n",
    "\n",
    "#Cross validation for checking overfitting\n",
    "from sklearn.model_selection import cross_val_score\n",
    "CVS = []\n",
    "for i in range(2,11):\n",
    "    lsc = cross_val_score(model,x,y,cv=i)\n",
    "    CVS.append(lsc.mean())\n",
    "    print('CV score at',i,'=',lsc.mean())\n",
    "least_diff = min(acc - CVS)\n",
    "cvs = max(CVS)\n",
    "print('\\nLeast difference of CV score and F1 score of testing is :', least_diff)"
   ]
  },
  {
   "cell_type": "code",
   "execution_count": 207,
   "id": "bebe6f90",
   "metadata": {},
   "outputs": [
    {
     "data": {
      "image/png": "[encoded data removed]",
      "text/plain": [
       "<Figure size 432x288 with 1 Axes>"
      ]
     },
     "metadata": {
      "needs_background": "light"
     },
     "output_type": "display_data"
    },
    {
     "name": "stdout",
     "output_type": "stream",
     "text": [
      "Confusion matrix:\n",
      " [[60 18]\n",
      " [ 6 79]] \n",
      "\n",
      "Area under curve = 0.8617619493908153\n"
     ]
    }
   ],
   "source": [
    "#ROC curve and the AUC value\n",
    "from sklearn.metrics import roc_curve, auc\n",
    "fpr, tpr, thresholds = roc_curve(ypr, yt)\n",
    "roc_auc = auc(fpr,tpr)\n",
    "plt.figure()\n",
    "plt.plot(fpr, tpr,color='darkorange', label='ROC curve (area = %0.2f)'% roc_auc)\n",
    "plt.plot([0,1],[0,1],linestyle='--',color='navy')\n",
    "plt.xlabel('FPR')\n",
    "plt.ylabel('TPR')\n",
    "plt.legend(loc=\"lower right\")\n",
    "plt.show()\n",
    "print(\"Confusion matrix:\\n\",confusion_matrix(yt,ypr),'\\n')\n",
    "print('Area under curve =',roc_auc)"
   ]
  },
  {
   "cell_type": "code",
   "execution_count": 208,
   "id": "2fc46057",
   "metadata": {},
   "outputs": [
    {
     "data": {
      "text/html": [
       "<div>\n",
       "<style scoped>\n",
       "    .dataframe tbody tr th:only-of-type {\n",
       "        vertical-align: middle;\n",
       "    }\n",
       "\n",
       "    .dataframe tbody tr th {\n",
       "        vertical-align: top;\n",
       "    }\n",
       "\n",
       "    .dataframe thead th {\n",
       "        text-align: right;\n",
       "    }\n",
       "</style>\n",
       "<table border=\"1\" class=\"dataframe\">\n",
       "  <thead>\n",
       "    <tr style=\"text-align: right;\">\n",
       "      <th></th>\n",
       "      <th>Algorithm name</th>\n",
       "      <th>Accuracy f1 score test</th>\n",
       "      <th>CV score</th>\n",
       "      <th>F1-CV score diff</th>\n",
       "      <th>Area under curve</th>\n",
       "    </tr>\n",
       "  </thead>\n",
       "  <tbody>\n",
       "    <tr>\n",
       "      <th>0</th>\n",
       "      <td>Logistic regression</td>\n",
       "      <td>0.865031</td>\n",
       "      <td>0.793653</td>\n",
       "      <td>0.071378</td>\n",
       "      <td>0.881747</td>\n",
       "    </tr>\n",
       "    <tr>\n",
       "      <th>1</th>\n",
       "      <td>Decision tree classifier</td>\n",
       "      <td>0.865031</td>\n",
       "      <td>0.780156</td>\n",
       "      <td>0.084875</td>\n",
       "      <td>0.874492</td>\n",
       "    </tr>\n",
       "    <tr>\n",
       "      <th>2</th>\n",
       "      <td>Support vector classifier</td>\n",
       "      <td>0.852761</td>\n",
       "      <td>0.787493</td>\n",
       "      <td>0.065268</td>\n",
       "      <td>0.861762</td>\n",
       "    </tr>\n",
       "  </tbody>\n",
       "</table>\n",
       "</div>"
      ],
      "text/plain": [
       "              Algorithm name  Accuracy f1 score test  CV score  \\\n",
       "0        Logistic regression                0.865031  0.793653   \n",
       "1   Decision tree classifier                0.865031  0.780156   \n",
       "2  Support vector classifier                0.852761  0.787493   \n",
       "\n",
       "   F1-CV score diff  Area under curve  \n",
       "0          0.071378          0.881747  \n",
       "1          0.084875          0.874492  \n",
       "2          0.065268          0.861762  "
      ]
     },
     "execution_count": 208,
     "metadata": {},
     "output_type": "execute_result"
    }
   ],
   "source": [
    "#Saving the results of model\n",
    "model_result.loc[len(model_result.index)] = ['Support vector classifier', acc, cvs, abs(least_diff), roc_auc] \n",
    "model_result"
   ]
  },
  {
   "cell_type": "code",
   "execution_count": 210,
   "id": "ce8a3339",
   "metadata": {},
   "outputs": [
    {
     "name": "stdout",
     "output_type": "stream",
     "text": [
      "Accuracy score of train is : 85.25%\n",
      "Accuracy score of test is : 78.53% \n",
      "\n",
      "Classification report:\n",
      "              precision    recall  f1-score   support\n",
      "\n",
      "           0       0.79      0.74      0.77        78\n",
      "           1       0.78      0.82      0.80        85\n",
      "\n",
      "    accuracy                           0.79       163\n",
      "   macro avg       0.79      0.78      0.78       163\n",
      "weighted avg       0.79      0.79      0.78       163\n",
      "\n"
     ]
    }
   ],
   "source": [
    "#K nearest neighbors classifier\n",
    "from sklearn.neighbors import KNeighborsClassifier\n",
    "model = KNeighborsClassifier()\n",
    "model.fit(xtr,ytr)\n",
    "metric_score(model, xtr, xt, ytr, yt, train=True)\n",
    "metric_score(model, xtr, xt, ytr, yt, train=False)"
   ]
  },
  {
   "cell_type": "code",
   "execution_count": 211,
   "id": "52161ecb",
   "metadata": {},
   "outputs": [
    {
     "name": "stdout",
     "output_type": "stream",
     "text": [
      "Accuracy score: 0.7852760736196319\n",
      "CV score at 2 = 0.7542997542997543\n",
      "CV score at 3 = 0.7383329715650099\n",
      "CV score at 4 = 0.7531029653240606\n",
      "CV score at 5 = 0.7591759448610165\n",
      "CV score at 6 = 0.75439360929557\n",
      "CV score at 7 = 0.7543998147446423\n",
      "CV score at 8 = 0.756697728596389\n",
      "CV score at 9 = 0.7593406593406594\n",
      "CV score at 10 = 0.7556760012044565\n",
      "\n",
      "Least difference of CV score and F1 score of testing is : 0.0259354142789725\n"
     ]
    }
   ],
   "source": [
    "ypr = model.predict(xt) \n",
    "acc = accuracy_score(yt, ypr)\n",
    "print('Accuracy score:',acc)\n",
    "\n",
    "#Cross validation for checking overfitting\n",
    "from sklearn.model_selection import cross_val_score\n",
    "CVS = []\n",
    "for i in range(2,11):\n",
    "    lsc = cross_val_score(model,x,y,cv=i)\n",
    "    CVS.append(lsc.mean())\n",
    "    print('CV score at',i,'=',lsc.mean())\n",
    "least_diff = min(acc - CVS)\n",
    "cvs = max(CVS)\n",
    "print('\\nLeast difference of CV score and F1 score of testing is :', least_diff)"
   ]
  },
  {
   "cell_type": "code",
   "execution_count": 212,
   "id": "8da47956",
   "metadata": {},
   "outputs": [
    {
     "name": "stdout",
     "output_type": "stream",
     "text": [
      "KNeighborsClassifier(leaf_size=15, n_neighbors=4, weights='distance')\n"
     ]
    }
   ],
   "source": [
    "# Hyper parameter tuning for KNN model\n",
    "from sklearn.model_selection import GridSearchCV\n",
    "parameters = { 'n_neighbors':range(4,10), \n",
    "              'weights':['uniform','distance'], \n",
    "              'algorithm' :['auto', 'ball_tree', 'kd_tree', 'brute'], \n",
    "              'leaf_size':[15,25,30,35]}\n",
    "gsv = GridSearchCV(model, parameters)\n",
    "gsv.fit(xtr,ytr)\n",
    "print(gsv.best_estimator_)"
   ]
  },
  {
   "cell_type": "code",
   "execution_count": 213,
   "id": "30f3d536",
   "metadata": {},
   "outputs": [
    {
     "name": "stdout",
     "output_type": "stream",
     "text": [
      "Accuracy score of train is : 100.00%\n",
      "Accuracy score of test is : 82.21% \n",
      "\n",
      "Classification report:\n",
      "              precision    recall  f1-score   support\n",
      "\n",
      "           0       0.81      0.82      0.82        78\n",
      "           1       0.83      0.82      0.83        85\n",
      "\n",
      "    accuracy                           0.82       163\n",
      "   macro avg       0.82      0.82      0.82       163\n",
      "weighted avg       0.82      0.82      0.82       163\n",
      "\n"
     ]
    }
   ],
   "source": [
    "#Training model as per best parameters\n",
    "model = KNeighborsClassifier(leaf_size=15, n_neighbors=4, weights='distance')\n",
    "model.fit(xtr,ytr)\n",
    "metric_score(model, xtr, xt, ytr, yt, train=True)\n",
    "metric_score(model, xtr, xt, ytr, yt, train=False)"
   ]
  },
  {
   "cell_type": "code",
   "execution_count": 214,
   "id": "cb7da38c",
   "metadata": {},
   "outputs": [
    {
     "name": "stdout",
     "output_type": "stream",
     "text": [
      "Accuracy score: 0.8220858895705522\n",
      "CV score at 2 = 0.7678132678132679\n",
      "CV score at 3 = 0.7788962448448015\n",
      "CV score at 4 = 0.7776791751183232\n",
      "CV score at 5 = 0.7812997046125881\n",
      "CV score at 6 = 0.7765068990559186\n",
      "CV score at 7 = 0.7826723085343775\n",
      "CV score at 8 = 0.7875655212580082\n",
      "CV score at 9 = 0.7963098629765297\n",
      "CV score at 10 = 0.7889039445950015\n",
      "\n",
      "Least difference of CV score and F1 score of testing is : 0.02577602659402245\n"
     ]
    }
   ],
   "source": [
    "ypr = model.predict(xt) \n",
    "acc = accuracy_score(yt, ypr)\n",
    "print('Accuracy score:',acc)\n",
    "\n",
    "#Cross validation for checking overfitting\n",
    "from sklearn.model_selection import cross_val_score\n",
    "CVS = []\n",
    "for i in range(2,11):\n",
    "    lsc = cross_val_score(model,x,y,cv=i)\n",
    "    CVS.append(lsc.mean())\n",
    "    print('CV score at',i,'=',lsc.mean())\n",
    "least_diff = min(acc - CVS)\n",
    "cvs = max(CVS)\n",
    "print('\\nLeast difference of CV score and F1 score of testing is :', least_diff)"
   ]
  },
  {
   "cell_type": "code",
   "execution_count": 215,
   "id": "b14fac18",
   "metadata": {},
   "outputs": [
    {
     "data": {
      "image/png": "[encoded data removed]",
      "text/plain": [
       "<Figure size 432x288 with 1 Axes>"
      ]
     },
     "metadata": {
      "needs_background": "light"
     },
     "output_type": "display_data"
    },
    {
     "name": "stdout",
     "output_type": "stream",
     "text": [
      "Confusion matrix:\n",
      " [[64 14]\n",
      " [15 70]] \n",
      "\n",
      "Area under curve = 0.8217299578059072\n"
     ]
    },
    {
     "data": {
      "text/html": [
       "<div>\n",
       "<style scoped>\n",
       "    .dataframe tbody tr th:only-of-type {\n",
       "        vertical-align: middle;\n",
       "    }\n",
       "\n",
       "    .dataframe tbody tr th {\n",
       "        vertical-align: top;\n",
       "    }\n",
       "\n",
       "    .dataframe thead th {\n",
       "        text-align: right;\n",
       "    }\n",
       "</style>\n",
       "<table border=\"1\" class=\"dataframe\">\n",
       "  <thead>\n",
       "    <tr style=\"text-align: right;\">\n",
       "      <th></th>\n",
       "      <th>Algorithm name</th>\n",
       "      <th>Accuracy f1 score test</th>\n",
       "      <th>CV score</th>\n",
       "      <th>F1-CV score diff</th>\n",
       "      <th>Area under curve</th>\n",
       "    </tr>\n",
       "  </thead>\n",
       "  <tbody>\n",
       "    <tr>\n",
       "      <th>0</th>\n",
       "      <td>Logistic regression</td>\n",
       "      <td>0.865031</td>\n",
       "      <td>0.793653</td>\n",
       "      <td>0.071378</td>\n",
       "      <td>0.881747</td>\n",
       "    </tr>\n",
       "    <tr>\n",
       "      <th>1</th>\n",
       "      <td>Decision tree classifier</td>\n",
       "      <td>0.865031</td>\n",
       "      <td>0.780156</td>\n",
       "      <td>0.084875</td>\n",
       "      <td>0.874492</td>\n",
       "    </tr>\n",
       "    <tr>\n",
       "      <th>2</th>\n",
       "      <td>Support vector classifier</td>\n",
       "      <td>0.852761</td>\n",
       "      <td>0.787493</td>\n",
       "      <td>0.065268</td>\n",
       "      <td>0.861762</td>\n",
       "    </tr>\n",
       "    <tr>\n",
       "      <th>3</th>\n",
       "      <td>KNN classifier</td>\n",
       "      <td>0.822086</td>\n",
       "      <td>0.796310</td>\n",
       "      <td>0.025776</td>\n",
       "      <td>0.821730</td>\n",
       "    </tr>\n",
       "  </tbody>\n",
       "</table>\n",
       "</div>"
      ],
      "text/plain": [
       "              Algorithm name  Accuracy f1 score test  CV score  \\\n",
       "0        Logistic regression                0.865031  0.793653   \n",
       "1   Decision tree classifier                0.865031  0.780156   \n",
       "2  Support vector classifier                0.852761  0.787493   \n",
       "3             KNN classifier                0.822086  0.796310   \n",
       "\n",
       "   F1-CV score diff  Area under curve  \n",
       "0          0.071378          0.881747  \n",
       "1          0.084875          0.874492  \n",
       "2          0.065268          0.861762  \n",
       "3          0.025776          0.821730  "
      ]
     },
     "execution_count": 215,
     "metadata": {},
     "output_type": "execute_result"
    }
   ],
   "source": [
    "#ROC curve and the AUC value\n",
    "from sklearn.metrics import roc_curve, auc\n",
    "fpr, tpr, thresholds = roc_curve(ypr, yt)\n",
    "roc_auc = auc(fpr,tpr)\n",
    "plt.figure()\n",
    "plt.plot(fpr, tpr,color='darkorange', label='ROC curve (area = %0.2f)'% roc_auc)\n",
    "plt.plot([0,1],[0,1],linestyle='--',color='navy')\n",
    "plt.xlabel('FPR')\n",
    "plt.ylabel('TPR')\n",
    "plt.legend(loc=\"lower right\")\n",
    "plt.show()\n",
    "print(\"Confusion matrix:\\n\",confusion_matrix(yt,ypr),'\\n')\n",
    "print('Area under curve =',roc_auc)\n",
    "\n",
    "#Saving the results of model\n",
    "model_result.loc[len(model_result.index)] = ['KNN classifier', acc, cvs, abs(least_diff), roc_auc] \n",
    "model_result"
   ]
  },
  {
   "cell_type": "code",
   "execution_count": 218,
   "id": "64c0e466",
   "metadata": {},
   "outputs": [
    {
     "name": "stdout",
     "output_type": "stream",
     "text": [
      "Accuracy score of train is : 83.72%\n",
      "Accuracy score of test is : 85.89% \n",
      "\n",
      "Classification report:\n",
      "              precision    recall  f1-score   support\n",
      "\n",
      "           0       0.88      0.82      0.85        78\n",
      "           1       0.84      0.89      0.87        85\n",
      "\n",
      "    accuracy                           0.86       163\n",
      "   macro avg       0.86      0.86      0.86       163\n",
      "weighted avg       0.86      0.86      0.86       163\n",
      "\n"
     ]
    }
   ],
   "source": [
    "#Adaboost classifier\n",
    "from sklearn.ensemble import AdaBoostClassifier\n",
    "model = AdaBoostClassifier()\n",
    "model.fit(xtr,ytr)\n",
    "metric_score(model, xtr, xt, ytr, yt, train=True)\n",
    "metric_score(model, xtr, xt, ytr, yt, train=False)"
   ]
  },
  {
   "cell_type": "code",
   "execution_count": 219,
   "id": "6c2f9c78",
   "metadata": {},
   "outputs": [
    {
     "name": "stdout",
     "output_type": "stream",
     "text": [
      "Accuracy score: 0.8588957055214724\n",
      "CV score at 2 = 0.7628992628992629\n",
      "CV score at 3 = 0.7642039288039939\n",
      "CV score at 4 = 0.7826958369554718\n",
      "CV score at 5 = 0.7875558585170037\n",
      "CV score at 6 = 0.7850853304284677\n",
      "CV score at 7 = 0.7889667803460908\n",
      "CV score at 8 = 0.7912662589788391\n",
      "CV score at 9 = 0.7903133903133903\n",
      "CV score at 10 = 0.7866004215597713\n",
      "\n",
      "Least difference of CV score and F1 score of testing is : 0.06762944654263336\n"
     ]
    }
   ],
   "source": [
    "ypr = model.predict(xt) \n",
    "acc = accuracy_score(yt, ypr)\n",
    "print('Accuracy score:',acc)\n",
    "\n",
    "#Cross validation for checking overfitting\n",
    "from sklearn.model_selection import cross_val_score\n",
    "CVS = []\n",
    "for i in range(2,11):\n",
    "    lsc = cross_val_score(model,x,y,cv=i)\n",
    "    CVS.append(lsc.mean())\n",
    "    print('CV score at',i,'=',lsc.mean())\n",
    "least_diff = min(acc - CVS)\n",
    "cvs = max(CVS)\n",
    "print('\\nLeast difference of CV score and F1 score of testing is :', least_diff)"
   ]
  },
  {
   "cell_type": "code",
   "execution_count": 220,
   "id": "96a24f04",
   "metadata": {},
   "outputs": [
    {
     "name": "stdout",
     "output_type": "stream",
     "text": [
      "AdaBoostClassifier(learning_rate=1, n_estimators=300, random_state=15)\n"
     ]
    }
   ],
   "source": [
    "# Hyper parameter tuning for adaboost model\n",
    "from sklearn.model_selection import GridSearchCV\n",
    "parameters = { 'algorithm':['SAMME', 'SAMME.R'], \n",
    "              'n_estimators':[100,200,300,400], \n",
    "              'learning_rate' :[0.01, 0.1,1], \n",
    "              'random_state':[15,25,50,75]}\n",
    "gsv = GridSearchCV(model, parameters)\n",
    "gsv.fit(xtr,ytr)\n",
    "print(gsv.best_estimator_)"
   ]
  },
  {
   "cell_type": "code",
   "execution_count": 232,
   "id": "810c7f84",
   "metadata": {},
   "outputs": [
    {
     "name": "stdout",
     "output_type": "stream",
     "text": [
      "Accuracy score of train is : 77.42%\n",
      "Accuracy score of test is : 86.50% \n",
      "\n",
      "Classification report:\n",
      "              precision    recall  f1-score   support\n",
      "\n",
      "           0       0.97      0.74      0.84        78\n",
      "           1       0.81      0.98      0.88        85\n",
      "\n",
      "    accuracy                           0.87       163\n",
      "   macro avg       0.89      0.86      0.86       163\n",
      "weighted avg       0.88      0.87      0.86       163\n",
      "\n"
     ]
    }
   ],
   "source": [
    "#Training model as per best parameters\n",
    "model = AdaBoostClassifier(learning_rate=1, n_estimators=300, random_state=15)\n",
    "model.fit(xtr,ytr)\n",
    "metric_score(model, xtr, xt, ytr, yt, train=True)\n",
    "metric_score(model, xtr, xt, ytr, yt, train=False)"
   ]
  },
  {
   "cell_type": "code",
   "execution_count": 233,
   "id": "aa588c9d",
   "metadata": {},
   "outputs": [
    {
     "name": "stdout",
     "output_type": "stream",
     "text": [
      "Accuracy score: 0.8650306748466258\n",
      "CV score at 2 = 0.7714987714987716\n",
      "CV score at 3 = 0.7752649952970119\n",
      "CV score at 4 = 0.7790193663672365\n",
      "CV score at 5 = 0.7789441793531774\n",
      "CV score at 6 = 0.7802378358750909\n",
      "CV score at 7 = 0.7815670919119195\n",
      "CV score at 8 = 0.7814138031450204\n",
      "CV score at 9 = 0.7779677113010446\n",
      "CV score at 10 = 0.7829268292682927\n",
      "\n",
      "Least difference of CV score and F1 score of testing is : 0.08210384557833306\n"
     ]
    }
   ],
   "source": [
    "ypr = model.predict(xt) \n",
    "acc = accuracy_score(yt, ypr)\n",
    "print('Accuracy score:',acc)\n",
    "\n",
    "#Cross validation for checking overfitting\n",
    "from sklearn.model_selection import cross_val_score\n",
    "CVS = []\n",
    "for i in range(2,11):\n",
    "    lsc = cross_val_score(model,x,y,cv=i)\n",
    "    CVS.append(lsc.mean())\n",
    "    print('CV score at',i,'=',lsc.mean())\n",
    "least_diff = min(acc - CVS)\n",
    "cvs = max(CVS)\n",
    "print('\\nLeast difference of CV score and F1 score of testing is :', least_diff)"
   ]
  },
  {
   "cell_type": "code",
   "execution_count": 234,
   "id": "7d9acc4c",
   "metadata": {},
   "outputs": [
    {
     "data": {
      "image/png": "[encoded data removed]",
      "text/plain": [
       "<Figure size 432x288 with 1 Axes>"
      ]
     },
     "metadata": {
      "needs_background": "light"
     },
     "output_type": "display_data"
    },
    {
     "name": "stdout",
     "output_type": "stream",
     "text": [
      "Confusion matrix:\n",
      " [[58 20]\n",
      " [ 2 83]] \n",
      "\n",
      "Area under curve = 0.8862459546925566\n"
     ]
    },
    {
     "data": {
      "text/html": [
       "<div>\n",
       "<style scoped>\n",
       "    .dataframe tbody tr th:only-of-type {\n",
       "        vertical-align: middle;\n",
       "    }\n",
       "\n",
       "    .dataframe tbody tr th {\n",
       "        vertical-align: top;\n",
       "    }\n",
       "\n",
       "    .dataframe thead th {\n",
       "        text-align: right;\n",
       "    }\n",
       "</style>\n",
       "<table border=\"1\" class=\"dataframe\">\n",
       "  <thead>\n",
       "    <tr style=\"text-align: right;\">\n",
       "      <th></th>\n",
       "      <th>Algorithm name</th>\n",
       "      <th>Accuracy f1 score test</th>\n",
       "      <th>CV score</th>\n",
       "      <th>F1-CV score diff</th>\n",
       "      <th>Area under curve</th>\n",
       "    </tr>\n",
       "  </thead>\n",
       "  <tbody>\n",
       "    <tr>\n",
       "      <th>0</th>\n",
       "      <td>Logistic regression</td>\n",
       "      <td>0.865031</td>\n",
       "      <td>0.793653</td>\n",
       "      <td>0.071378</td>\n",
       "      <td>0.881747</td>\n",
       "    </tr>\n",
       "    <tr>\n",
       "      <th>1</th>\n",
       "      <td>Decision tree classifier</td>\n",
       "      <td>0.865031</td>\n",
       "      <td>0.780156</td>\n",
       "      <td>0.084875</td>\n",
       "      <td>0.874492</td>\n",
       "    </tr>\n",
       "    <tr>\n",
       "      <th>2</th>\n",
       "      <td>Support vector classifier</td>\n",
       "      <td>0.852761</td>\n",
       "      <td>0.787493</td>\n",
       "      <td>0.065268</td>\n",
       "      <td>0.861762</td>\n",
       "    </tr>\n",
       "    <tr>\n",
       "      <th>3</th>\n",
       "      <td>KNN classifier</td>\n",
       "      <td>0.822086</td>\n",
       "      <td>0.796310</td>\n",
       "      <td>0.025776</td>\n",
       "      <td>0.821730</td>\n",
       "    </tr>\n",
       "    <tr>\n",
       "      <th>4</th>\n",
       "      <td>Adaboost classifier</td>\n",
       "      <td>0.865031</td>\n",
       "      <td>0.782927</td>\n",
       "      <td>0.082104</td>\n",
       "      <td>0.886246</td>\n",
       "    </tr>\n",
       "  </tbody>\n",
       "</table>\n",
       "</div>"
      ],
      "text/plain": [
       "              Algorithm name  Accuracy f1 score test  CV score  \\\n",
       "0        Logistic regression                0.865031  0.793653   \n",
       "1   Decision tree classifier                0.865031  0.780156   \n",
       "2  Support vector classifier                0.852761  0.787493   \n",
       "3             KNN classifier                0.822086  0.796310   \n",
       "4        Adaboost classifier                0.865031  0.782927   \n",
       "\n",
       "   F1-CV score diff  Area under curve  \n",
       "0          0.071378          0.881747  \n",
       "1          0.084875          0.874492  \n",
       "2          0.065268          0.861762  \n",
       "3          0.025776          0.821730  \n",
       "4          0.082104          0.886246  "
      ]
     },
     "execution_count": 234,
     "metadata": {},
     "output_type": "execute_result"
    }
   ],
   "source": [
    "#ROC curve and the AUC value\n",
    "from sklearn.metrics import roc_curve, auc\n",
    "fpr, tpr, thresholds = roc_curve(ypr, yt)\n",
    "roc_auc = auc(fpr,tpr)\n",
    "plt.figure()\n",
    "plt.plot(fpr, tpr,color='darkorange', label='ROC curve (area = %0.2f)'% roc_auc)\n",
    "plt.plot([0,1],[0,1],linestyle='--',color='navy')\n",
    "plt.xlabel('FPR')\n",
    "plt.ylabel('TPR')\n",
    "plt.legend(loc=\"lower right\")\n",
    "plt.show()\n",
    "print(\"Confusion matrix:\\n\",confusion_matrix(yt,ypr),'\\n')\n",
    "print('Area under curve =',roc_auc)\n",
    "\n",
    "#Saving the results of model\n",
    "model_result.loc[len(model_result.index)] = ['Adaboost classifier', acc, cvs, abs(least_diff), roc_auc] \n",
    "model_result"
   ]
  },
  {
   "cell_type": "code",
   "execution_count": 264,
   "id": "212a217a",
   "metadata": {},
   "outputs": [
    {
     "name": "stdout",
     "output_type": "stream",
     "text": [
      "Accuracy score of train is : 100.00%\n",
      "Accuracy score of test is : 89.57% \n",
      "\n",
      "Classification report:\n",
      "              precision    recall  f1-score   support\n",
      "\n",
      "           0       0.92      0.86      0.89        78\n",
      "           1       0.88      0.93      0.90        85\n",
      "\n",
      "    accuracy                           0.90       163\n",
      "   macro avg       0.90      0.89      0.90       163\n",
      "weighted avg       0.90      0.90      0.90       163\n",
      "\n"
     ]
    }
   ],
   "source": [
    "#Random forest classifier\n",
    "from sklearn.ensemble import RandomForestClassifier\n",
    "model = RandomForestClassifier()\n",
    "model.fit(xtr,ytr)\n",
    "metric_score(model, xtr, xt, ytr, yt, train=True)\n",
    "metric_score(model, xtr, xt, ytr, yt, train=False)"
   ]
  },
  {
   "cell_type": "code",
   "execution_count": 265,
   "id": "1add4349",
   "metadata": {},
   "outputs": [
    {
     "name": "stdout",
     "output_type": "stream",
     "text": [
      "Accuracy score: 0.8957055214723927\n",
      "CV score at 2 = 0.7923832923832923\n",
      "CV score at 3 = 0.8010681209753274\n",
      "CV score at 4 = 0.8121679706365305\n",
      "CV score at 5 = 0.8194652730440051\n",
      "CV score at 6 = 0.8281862745098039\n",
      "CV score at 7 = 0.8295334933265969\n",
      "CV score at 8 = 0.8343404193360513\n",
      "CV score at 9 = 0.8259937593270927\n",
      "CV score at 10 = 0.8296747967479675\n",
      "\n",
      "Least difference of CV score and F1 score of testing is : 0.06136510213634139\n"
     ]
    }
   ],
   "source": [
    "ypr = model.predict(xt) \n",
    "acc = accuracy_score(yt, ypr)\n",
    "print('Accuracy score:',acc)\n",
    "\n",
    "#Cross validation for checking overfitting\n",
    "from sklearn.model_selection import cross_val_score\n",
    "CVS = []\n",
    "for i in range(2,11):\n",
    "    lsc = cross_val_score(model,x,y,cv=i)\n",
    "    CVS.append(lsc.mean())\n",
    "    print('CV score at',i,'=',lsc.mean())\n",
    "least_diff = min(acc - CVS)\n",
    "cvs = max(CVS)\n",
    "print('\\nLeast difference of CV score and F1 score of testing is :', least_diff)"
   ]
  },
  {
   "cell_type": "code",
   "execution_count": 283,
   "id": "f1c0f49e",
   "metadata": {},
   "outputs": [
    {
     "name": "stdout",
     "output_type": "stream",
     "text": [
      "RandomForestClassifier(criterion='entropy', max_depth=14, max_features='log2')\n"
     ]
    }
   ],
   "source": [
    "# Hyper parameter tuning for random forest model\n",
    "from sklearn.model_selection import GridSearchCV\n",
    "parameters = { 'n_estimators':[100,150,200], \n",
    "              'criterion':[\"entropy\",'gini'], \n",
    "              'max_depth' :[4, 8, 14, 16], \n",
    "              'max_features':[\"auto\", \"sqrt\", \"log2\"]}\n",
    "gsv = GridSearchCV(model, parameters)\n",
    "gsv.fit(xtr,ytr)\n",
    "print(gsv.best_estimator_)"
   ]
  },
  {
   "cell_type": "code",
   "execution_count": 290,
   "id": "aa373ff4",
   "metadata": {},
   "outputs": [
    {
     "name": "stdout",
     "output_type": "stream",
     "text": [
      "Accuracy score of train is : 99.85%\n",
      "Accuracy score of test is : 91.41% \n",
      "\n",
      "Classification report:\n",
      "              precision    recall  f1-score   support\n",
      "\n",
      "           0       0.94      0.87      0.91        78\n",
      "           1       0.89      0.95      0.92        85\n",
      "\n",
      "    accuracy                           0.91       163\n",
      "   macro avg       0.92      0.91      0.91       163\n",
      "weighted avg       0.92      0.91      0.91       163\n",
      "\n"
     ]
    }
   ],
   "source": [
    "#Training model as per best parameters\n",
    "model = RandomForestClassifier(criterion='entropy', max_depth=14, max_features='log2')\n",
    "model.fit(xtr,ytr)\n",
    "metric_score(model, xtr, xt, ytr, yt, train=True)\n",
    "metric_score(model, xtr, xt, ytr, yt, train=False)"
   ]
  },
  {
   "cell_type": "code",
   "execution_count": 292,
   "id": "d7344db4",
   "metadata": {},
   "outputs": [
    {
     "name": "stdout",
     "output_type": "stream",
     "text": [
      "Accuracy score: 0.9141104294478528\n",
      "CV score at 2 = 0.8058968058968059\n",
      "CV score at 3 = 0.810912741480356\n",
      "CV score at 4 = 0.806046556553656\n",
      "CV score at 5 = 0.8317730818753313\n",
      "CV score at 6 = 0.8207970225127088\n",
      "CV score at 7 = 0.8356911287945772\n",
      "CV score at 8 = 0.8330542613084837\n",
      "CV score at 9 = 0.8235653235653236\n",
      "CV score at 10 = 0.8186991869918699\n",
      "\n",
      "Least difference of CV score and F1 score of testing is : 0.07841930065327563\n"
     ]
    }
   ],
   "source": [
    "ypr = model.predict(xt) \n",
    "acc = accuracy_score(yt, ypr)\n",
    "print('Accuracy score:',acc)\n",
    "\n",
    "#Cross validation for checking overfitting\n",
    "from sklearn.model_selection import cross_val_score\n",
    "CVS = []\n",
    "for i in range(2,11):\n",
    "    lsc = cross_val_score(model,x,y,cv=i)\n",
    "    CVS.append(lsc.mean())\n",
    "    print('CV score at',i,'=',lsc.mean())\n",
    "least_diff = min(acc - CVS)\n",
    "cvs = max(CVS)\n",
    "print('\\nLeast difference of CV score and F1 score of testing is :', least_diff)"
   ]
  },
  {
   "cell_type": "code",
   "execution_count": 293,
   "id": "a5b6de9a",
   "metadata": {},
   "outputs": [
    {
     "data": {
      "image/png": "[encoded data removed]",
      "text/plain": [
       "<Figure size 432x288 with 1 Axes>"
      ]
     },
     "metadata": {
      "needs_background": "light"
     },
     "output_type": "display_data"
    },
    {
     "name": "stdout",
     "output_type": "stream",
     "text": [
      "Confusion matrix:\n",
      " [[68 10]\n",
      " [ 4 81]] \n",
      "\n",
      "Area under curve = 0.9172771672771672\n"
     ]
    },
    {
     "data": {
      "text/html": [
       "<div>\n",
       "<style scoped>\n",
       "    .dataframe tbody tr th:only-of-type {\n",
       "        vertical-align: middle;\n",
       "    }\n",
       "\n",
       "    .dataframe tbody tr th {\n",
       "        vertical-align: top;\n",
       "    }\n",
       "\n",
       "    .dataframe thead th {\n",
       "        text-align: right;\n",
       "    }\n",
       "</style>\n",
       "<table border=\"1\" class=\"dataframe\">\n",
       "  <thead>\n",
       "    <tr style=\"text-align: right;\">\n",
       "      <th></th>\n",
       "      <th>Algorithm name</th>\n",
       "      <th>Accuracy f1 score test</th>\n",
       "      <th>CV score</th>\n",
       "      <th>F1-CV score diff</th>\n",
       "      <th>Area under curve</th>\n",
       "    </tr>\n",
       "  </thead>\n",
       "  <tbody>\n",
       "    <tr>\n",
       "      <th>0</th>\n",
       "      <td>Logistic regression</td>\n",
       "      <td>0.865031</td>\n",
       "      <td>0.793653</td>\n",
       "      <td>0.071378</td>\n",
       "      <td>0.881747</td>\n",
       "    </tr>\n",
       "    <tr>\n",
       "      <th>1</th>\n",
       "      <td>Decision tree classifier</td>\n",
       "      <td>0.865031</td>\n",
       "      <td>0.780156</td>\n",
       "      <td>0.084875</td>\n",
       "      <td>0.874492</td>\n",
       "    </tr>\n",
       "    <tr>\n",
       "      <th>2</th>\n",
       "      <td>Support vector classifier</td>\n",
       "      <td>0.852761</td>\n",
       "      <td>0.787493</td>\n",
       "      <td>0.065268</td>\n",
       "      <td>0.861762</td>\n",
       "    </tr>\n",
       "    <tr>\n",
       "      <th>3</th>\n",
       "      <td>KNN classifier</td>\n",
       "      <td>0.822086</td>\n",
       "      <td>0.796310</td>\n",
       "      <td>0.025776</td>\n",
       "      <td>0.821730</td>\n",
       "    </tr>\n",
       "    <tr>\n",
       "      <th>4</th>\n",
       "      <td>Adaboost classifier</td>\n",
       "      <td>0.865031</td>\n",
       "      <td>0.782927</td>\n",
       "      <td>0.082104</td>\n",
       "      <td>0.886246</td>\n",
       "    </tr>\n",
       "    <tr>\n",
       "      <th>5</th>\n",
       "      <td>Random forest classifier</td>\n",
       "      <td>0.914110</td>\n",
       "      <td>0.835691</td>\n",
       "      <td>0.078419</td>\n",
       "      <td>0.917277</td>\n",
       "    </tr>\n",
       "  </tbody>\n",
       "</table>\n",
       "</div>"
      ],
      "text/plain": [
       "              Algorithm name  Accuracy f1 score test  CV score  \\\n",
       "0        Logistic regression                0.865031  0.793653   \n",
       "1   Decision tree classifier                0.865031  0.780156   \n",
       "2  Support vector classifier                0.852761  0.787493   \n",
       "3             KNN classifier                0.822086  0.796310   \n",
       "4        Adaboost classifier                0.865031  0.782927   \n",
       "5   Random forest classifier                0.914110  0.835691   \n",
       "\n",
       "   F1-CV score diff  Area under curve  \n",
       "0          0.071378          0.881747  \n",
       "1          0.084875          0.874492  \n",
       "2          0.065268          0.861762  \n",
       "3          0.025776          0.821730  \n",
       "4          0.082104          0.886246  \n",
       "5          0.078419          0.917277  "
      ]
     },
     "execution_count": 293,
     "metadata": {},
     "output_type": "execute_result"
    }
   ],
   "source": [
    "#ROC curve and the AUC value\n",
    "from sklearn.metrics import roc_curve, auc\n",
    "fpr, tpr, thresholds = roc_curve(ypr, yt)\n",
    "roc_auc = auc(fpr,tpr)\n",
    "plt.figure()\n",
    "plt.plot(fpr, tpr,color='darkorange', label='ROC curve (area = %0.2f)'% roc_auc)\n",
    "plt.plot([0,1],[0,1],linestyle='--',color='navy')\n",
    "plt.xlabel('FPR')\n",
    "plt.ylabel('TPR')\n",
    "plt.legend(loc=\"lower right\")\n",
    "plt.show()\n",
    "print(\"Confusion matrix:\\n\",confusion_matrix(yt,ypr),'\\n')\n",
    "print('Area under curve =',roc_auc)\n",
    "\n",
    "#Saving the results of model\n",
    "model_result.loc[len(model_result.index)] = ['Random forest classifier', acc, cvs, abs(least_diff), roc_auc] \n",
    "model_result"
   ]
  },
  {
   "cell_type": "markdown",
   "id": "27c2c34e",
   "metadata": {},
   "source": [
    "KNN classifier is giving best result if we consider F1-CV score diff, but AUC is minimum there\n",
    "\n",
    "But by considerin both AUC and F1-CVscore as best deciding parameters, we can choose Random forest classifier for our predictions"
   ]
  },
  {
   "cell_type": "code",
   "execution_count": 294,
   "id": "629c5c05",
   "metadata": {},
   "outputs": [],
   "source": [
    "#Prediction using selected best model\n",
    "model = RandomForestClassifier(criterion='entropy', max_depth=14, max_features='log2')\n",
    "model.fit(xtr,ytr)\n",
    "predyt = model.predict(xt)"
   ]
  },
  {
   "cell_type": "code",
   "execution_count": 297,
   "id": "99e01e09",
   "metadata": {},
   "outputs": [
    {
     "data": {
      "text/html": [
       "<div>\n",
       "<style scoped>\n",
       "    .dataframe tbody tr th:only-of-type {\n",
       "        vertical-align: middle;\n",
       "    }\n",
       "\n",
       "    .dataframe tbody tr th {\n",
       "        vertical-align: top;\n",
       "    }\n",
       "\n",
       "    .dataframe thead th {\n",
       "        text-align: right;\n",
       "    }\n",
       "</style>\n",
       "<table border=\"1\" class=\"dataframe\">\n",
       "  <thead>\n",
       "    <tr style=\"text-align: right;\">\n",
       "      <th></th>\n",
       "      <th>Actual Loan approval status</th>\n",
       "      <th>Predicted Loan approval status</th>\n",
       "    </tr>\n",
       "  </thead>\n",
       "  <tbody>\n",
       "    <tr>\n",
       "      <th>135</th>\n",
       "      <td>Yes</td>\n",
       "      <td>Yes</td>\n",
       "    </tr>\n",
       "    <tr>\n",
       "      <th>37</th>\n",
       "      <td>Yes</td>\n",
       "      <td>Yes</td>\n",
       "    </tr>\n",
       "    <tr>\n",
       "      <th>122</th>\n",
       "      <td>No</td>\n",
       "      <td>No</td>\n",
       "    </tr>\n",
       "    <tr>\n",
       "      <th>52</th>\n",
       "      <td>Yes</td>\n",
       "      <td>Yes</td>\n",
       "    </tr>\n",
       "    <tr>\n",
       "      <th>23</th>\n",
       "      <td>No</td>\n",
       "      <td>No</td>\n",
       "    </tr>\n",
       "    <tr>\n",
       "      <th>27</th>\n",
       "      <td>No</td>\n",
       "      <td>No</td>\n",
       "    </tr>\n",
       "    <tr>\n",
       "      <th>155</th>\n",
       "      <td>Yes</td>\n",
       "      <td>No</td>\n",
       "    </tr>\n",
       "    <tr>\n",
       "      <th>29</th>\n",
       "      <td>No</td>\n",
       "      <td>No</td>\n",
       "    </tr>\n",
       "    <tr>\n",
       "      <th>134</th>\n",
       "      <td>No</td>\n",
       "      <td>No</td>\n",
       "    </tr>\n",
       "    <tr>\n",
       "      <th>53</th>\n",
       "      <td>Yes</td>\n",
       "      <td>Yes</td>\n",
       "    </tr>\n",
       "  </tbody>\n",
       "</table>\n",
       "</div>"
      ],
      "text/plain": [
       "    Actual Loan approval status Predicted Loan approval status\n",
       "135                         Yes                            Yes\n",
       "37                          Yes                            Yes\n",
       "122                          No                             No\n",
       "52                          Yes                            Yes\n",
       "23                           No                             No\n",
       "27                           No                             No\n",
       "155                         Yes                             No\n",
       "29                           No                             No\n",
       "134                          No                             No\n",
       "53                          Yes                            Yes"
      ]
     },
     "execution_count": 297,
     "metadata": {},
     "output_type": "execute_result"
    }
   ],
   "source": [
    "table = pd.DataFrame()\n",
    "table['Actual Loan approval status'] = ['No' if i==0 else 'Yes' for i in yt]\n",
    "table['Predicted Loan approval status'] = ['No' if i==0 else 'Yes' for i in predyt]\n",
    "table.sample(10)"
   ]
  },
  {
   "cell_type": "code",
   "execution_count": 298,
   "id": "1c5b3823",
   "metadata": {},
   "outputs": [],
   "source": [
    "#Saving the model\n",
    "import pickle\n",
    "filename='Loan.pkl'\n",
    "pickle.dump(model,open(filename,'wb'))"
   ]
  }
 ],
 "metadata": {
  "kernelspec": {
   "display_name": "Python 3",
   "language": "python",
   "name": "python3"
  },
  "language_info": {
   "codemirror_mode": {
    "name": "ipython",
    "version": 3
   },
   "file_extension": ".py",
   "mimetype": "text/x-python",
   "name": "python",
   "nbconvert_exporter": "python",
   "pygments_lexer": "ipython3",
   "version": "3.8.8"
  }
 },
 "nbformat": 4,
 "nbformat_minor": 5
}
